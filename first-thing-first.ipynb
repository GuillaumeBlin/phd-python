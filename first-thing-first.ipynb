{
 "cells": [
  {
   "cell_type": "markdown",
   "metadata": {},
   "source": [
    "* In order to follow this tutorials, you will need to [register to GitHub](https://github.com/signup). \n",
    "* Once resgistered, [log in](https://github.com/login) and [access to this repository](https://github.com/GuillaumeBlin/phd-python) and go in <button style=\"background-color: #04AA6D;border-radius: 8px;;color:white;padding:8px\"><> Code </button> / <button style=\"background-color: lightgrey;border-radius: 8px;padding:8px\">Codespaces</button> / <button style=\"background-color: #04AA6D;border-radius: 8px;color:white;padding:8px\">Create codespace on main</button>\n",
    "\n",
    "![](image.png)\n",
    "\n",
    "* You will then be able to execute the notebooks in an online version of Visual Studio Code\n",
    "\n",
    "![\n",
    "](image-1.png)\n",
    "* It provides a full running system where one can run easily Python codes.\n",
    "* Let's try a basic program "
   ]
  },
  {
   "cell_type": "code",
   "execution_count": null,
   "metadata": {
    "vscode": {
     "languageId": "plaintext"
    }
   },
   "outputs": [],
   "source": [
    "print(\"Nice job!\")"
   ]
  }
 ],
 "metadata": {
  "language_info": {
   "name": "python"
  }
 },
 "nbformat": 4,
 "nbformat_minor": 2
}
