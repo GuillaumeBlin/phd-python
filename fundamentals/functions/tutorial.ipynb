{
  "cells": [
    {
      "cell_type": "markdown",
      "metadata": {},
      "source": [
        "# Fonctions\n",
        "\n",
        "Dans les précédents tutoriels, nous avons étudié le fonctionnement des\n",
        "tests et des boucles, qui permettent de rédiger des programmes Python\n",
        "qui prennent des décisions automatisées. En pratique, un programme va\n",
        "généralement être constitué de différents blocs, qui exécutent chacun\n",
        "une action ou un groupe d’actions (ex : import des données, nettoyage\n",
        "des données, modélisation statistique, etc.). Par ailleurs, certaines de\n",
        "ces actions sont amenées à être répétées avec une légère différence au\n",
        "fil d’un programme (ex : importer plusieurs jeux de données différents).\n",
        "Il va être utile de modéliser chacune de ces actions par une\n",
        "**fonction**, sorte de mini-programme au sein du programme global.\n",
        "Utiliser des fonctions est une **bonne pratique** de programmation, dans\n",
        "la mesure où elles rendent plus explicite la structure logique du code\n",
        "et permettent de réduire la duplication de code.\n",
        "\n",
        "## Définition\n",
        "\n",
        "Une **fonction** peut être définie comme un bloc de code structuré qui :\n",
        "\n",
        "-   prend un ensemble d’**arguments** (des objets Python) en entrée\n",
        "\n",
        "-   effectue une **action spécifique** via un ensemble d’instructions\n",
        "\n",
        "-   **renvoie** un résultat (un objet Python) en sortie\n",
        "\n",
        "Nous avons déjà vu et utilisé un certains nombres de fonctions dans les\n",
        "tutoriels précédents (`range`, `len`, etc.). Nous avons également\n",
        "utilisé des **méthodes**, qui sont simplement des fonctions *attachées*\n",
        "à un type d’objet particulier. Utilisons une fonction bien connue pour\n",
        "illustrer leur fonctionnement général."
      ],
      "id": "13ee62d2-ba8d-4fa3-8558-d1f7792a5594"
    },
    {
      "cell_type": "code",
      "execution_count": null,
      "metadata": {},
      "outputs": [],
      "source": [
        "len('do re mi fa sol')"
      ],
      "id": "0350a37e"
    },
    {
      "cell_type": "markdown",
      "metadata": {},
      "source": [
        "Dans cet exemple, la fonction `len` :\n",
        "\n",
        "-   prend un argument en entrée (une chaîne de caractères)\n",
        "\n",
        "-   calcule le nombre de caractères présent dans cette chaîne\n",
        "\n",
        "-   renvoie ce nombre en sortie\n",
        "\n",
        "L’“ensemble d’instructions” qui permettent de calculer la longueur de la\n",
        "chaîne n’est pas connu. En tant qu’utilisateur, on a seulement besoin de\n",
        "savoir ce que prend la fonction en entrée et ce qu’elle renvoie en\n",
        "sortie. Cela vaut pour les cas dans lesquels on utilise des fonctions\n",
        "natives de Python ou bien des fonctions issus de librairies Python\n",
        "auxquelles on fait confiance. On parle de “boîtes noires” pour\n",
        "caractériser de telles fonctions.\n",
        "\n",
        "En pratique, on va vouloir définir ses propres fonctions pour structurer\n",
        "son code et le réutiliser dans les analyses.\n",
        "\n",
        "## Syntaxe\n",
        "\n",
        "L’instruction `def` permet de définir une fonction."
      ],
      "id": "ff5ef9d2-8785-4a8c-b7a3-1666224b9f3a"
    },
    {
      "cell_type": "code",
      "execution_count": null,
      "metadata": {},
      "outputs": [],
      "source": [
        "def accueil(prenom):\n",
        "    msg = \"Salutations \" + prenom + \" !\"\n",
        "    return msg"
      ],
      "id": "257513a9"
    },
    {
      "cell_type": "markdown",
      "metadata": {},
      "source": [
        "Analysons la syntaxe de la definition d’une fonction :\n",
        "\n",
        "-   une instruction `def` qui :\n",
        "\n",
        "    -   spécifie le nom de la fonction (ici, `accueil`)\n",
        "\n",
        "    -   spécifie les arguments attendus entre parenthèse (ici, un seul\n",
        "        argument : `prenom`)\n",
        "\n",
        "    -   se termine par `:` comme les différentes instructions que nous\n",
        "        avons vues\n",
        "\n",
        "-   un ensemble d’opérations qui seront effectuées par la fonction, qui\n",
        "    doivent être indentées d’un niveau par rapport à l’instruction `def`\n",
        "\n",
        "-   une instruction `return`, qui spécifie ce que la fonction va\n",
        "    renvoyer lorsqu’elle sera appelée (ici, le contenu de la variable\n",
        "    `msg`).\n",
        "\n",
        "Le fait de **définir** une fonction comme ci-dessus revient à rendre\n",
        "disponible dans l’environnement Python le code de la fonction. Ce n’est\n",
        "que lorsque celle-ci est **appelée** dans le code, avec des arguments,\n",
        "que le code contenu est exécuté et produit un résultat."
      ],
      "id": "957c05a8-53b7-4730-9da3-a8492c49ca83"
    },
    {
      "cell_type": "code",
      "execution_count": null,
      "metadata": {},
      "outputs": [],
      "source": [
        "accueil(\"Miranda\")"
      ],
      "id": "b0041942"
    },
    {
      "cell_type": "markdown",
      "metadata": {},
      "source": [
        "Comme expliqué en introduction, tout l’intérêt d’une fonction est de\n",
        "pouvoir réutiliser du code sans avoir à le dupliquer dans le programme."
      ],
      "id": "7fa15e95-5574-4979-bd4a-9763f8882112"
    },
    {
      "cell_type": "code",
      "execution_count": null,
      "metadata": {},
      "outputs": [],
      "source": [
        "accueil(\"Romuald\")"
      ],
      "id": "beb664d1"
    },
    {
      "cell_type": "markdown",
      "metadata": {},
      "source": [
        "## Passage d’arguments\n",
        "\n",
        "### Principe\n",
        "\n",
        "Lorsqu’on appelle une fonction en lui spécifiant des arguments, on dit\n",
        "qu’on lui “passe” des arguments. Ces arguments deviennent alors des\n",
        "variables qui peuvent être utilisées dans le contexte de la fonction. A\n",
        "l’inverse d’une boucle `for` par exemple, les variables créées ne\n",
        "persistent pas après l’appel de la fonction"
      ],
      "id": "8d6c48a3-a25d-4cf4-a0aa-707945a004c0"
    },
    {
      "cell_type": "code",
      "execution_count": null,
      "metadata": {},
      "outputs": [],
      "source": [
        "def addition(x, y):\n",
        "    return x + y"
      ],
      "id": "3b82b856"
    },
    {
      "cell_type": "code",
      "execution_count": null,
      "metadata": {},
      "outputs": [],
      "source": [
        "addition(5, 3)"
      ],
      "id": "b71b22a6"
    },
    {
      "cell_type": "code",
      "execution_count": null,
      "metadata": {},
      "outputs": [],
      "source": [
        "x  # La variable ne persiste pas en mémoire après l'appel de la fonction"
      ],
      "id": "d920e38f"
    },
    {
      "cell_type": "markdown",
      "metadata": {},
      "source": [
        "NB : on verra plus en détails ce comportement plus loin dans le\n",
        "tutoriel, à travers les concepts de variables globales et de variables\n",
        "locales.\n",
        "\n",
        "### Nombre d’arguments\n",
        "\n",
        "Le nombre d’arguments que l’on peut passer à une fonction est variable.\n",
        "En toute rigueur, il est possible de définir une fonction qui n’a besoin\n",
        "d’aucun argument, même si c’est rarement utile en pratique."
      ],
      "id": "97e78b67-93e0-45a2-99e9-e3af38038da1"
    },
    {
      "cell_type": "code",
      "execution_count": null,
      "metadata": {},
      "outputs": [],
      "source": [
        "def neuf():\n",
        "    return 9"
      ],
      "id": "29051a4e"
    },
    {
      "cell_type": "code",
      "execution_count": null,
      "metadata": {},
      "outputs": [],
      "source": [
        "a = neuf()\n",
        "a"
      ],
      "id": "b2bc4f9b"
    },
    {
      "cell_type": "markdown",
      "metadata": {},
      "source": [
        "### Passage par position et passage par mot-clé\n",
        "\n",
        "En Python, les fonctions admettent deux modes de passage des arguments :\n",
        "\n",
        "-   le **passage par position**, qui correspond à celui que nous avons\n",
        "    vu dans tous les exemples précédents : les arguments sont passés à\n",
        "    la fonction dans l’ordre dans lequel ils ont été définis, sans avoir\n",
        "    à préciser le nom du paramètre.\n",
        "\n",
        "-   le **passage par mot-clé** : on précise le nom du paramètre lors du\n",
        "    passage de l’argument, ce qui permet de ne pas avoir à suivre\n",
        "    l’ordre indiqué lors de la définition.\n",
        "\n",
        "Illustrons cette différence à partir d’une fonction qui réalise\n",
        "simplement une division."
      ],
      "id": "647ea20d-9b88-4f66-b9db-391f6bdd3a5d"
    },
    {
      "cell_type": "code",
      "execution_count": null,
      "metadata": {},
      "outputs": [],
      "source": [
        "def division(x, y):\n",
        "    return x / y"
      ],
      "id": "e99a452a"
    },
    {
      "cell_type": "code",
      "execution_count": null,
      "metadata": {},
      "outputs": [],
      "source": [
        "division(4, 2)  # Passage par position"
      ],
      "id": "c5010278"
    },
    {
      "cell_type": "code",
      "execution_count": null,
      "metadata": {},
      "outputs": [],
      "source": [
        "division(x=4, y=2)  # Passage par mot-clé"
      ],
      "id": "ea1a8060"
    },
    {
      "cell_type": "markdown",
      "metadata": {},
      "source": [
        "Dans le cas du passage par position, le respect de l’ordre est\n",
        "impératif."
      ],
      "id": "9597bb31-51bb-4e61-bb72-7ab43c0b13d0"
    },
    {
      "cell_type": "code",
      "execution_count": null,
      "metadata": {},
      "outputs": [],
      "source": [
        "print(division(0, 5))\n",
        "print(division(5, 0))"
      ],
      "id": "fa177bd9"
    },
    {
      "cell_type": "markdown",
      "metadata": {},
      "source": [
        "Dans le cas du passage par mot-clé, l’ordre n’a plus d’importance."
      ],
      "id": "f2d9fe5f-1f52-4520-a8e2-3e5c1ceab81b"
    },
    {
      "cell_type": "code",
      "execution_count": null,
      "metadata": {},
      "outputs": [],
      "source": [
        "print(division(x=0, y=5))\n",
        "print(division(y=5, x=0))"
      ],
      "id": "86dc4e41"
    },
    {
      "cell_type": "markdown",
      "metadata": {},
      "source": [
        "### Arguments obligatoires et arguments optionnels\n",
        "\n",
        "Lorsqu’on définit une fonction, il est fréquent de vouloir faire\n",
        "cohabiter des arguments que doit absolument spécifier l’utilisateur, et\n",
        "des arguments optionnels qui spécifient un comportement par défaut de la\n",
        "fonction, mais peuvent également être modifiés si nécessaire.\n",
        "\n",
        "Regardons par exemple comment on peut modifier le comportement de la\n",
        "fonction `print` à l’aide d’un argument optionnel."
      ],
      "id": "b437add4-8618-4555-8a51-47dbba674162"
    },
    {
      "cell_type": "code",
      "execution_count": null,
      "metadata": {},
      "outputs": [],
      "source": [
        "print(\"bonjour\")\n",
        "print(\"bonjour\")"
      ],
      "id": "0ebe85c7"
    },
    {
      "cell_type": "code",
      "execution_count": null,
      "metadata": {},
      "outputs": [],
      "source": [
        "print(\"bonjour\", end=' ')\n",
        "print(\"bonjour\")"
      ],
      "id": "b39def84"
    },
    {
      "cell_type": "markdown",
      "metadata": {},
      "source": [
        "On a modifié le comportement du premier appel à `print` via le paramètre\n",
        "optionnel `end`. Par défaut, cette valeur est fixée à `'\\n'`, soit un\n",
        "retour à la ligne. On l’a modifié dans la deuxième cellule à un espace,\n",
        "d’où la différence de résultat.\n",
        "\n",
        "Cet exemple illustre également le lien entre le caractère obligatoire ou\n",
        "non d’un argument et sa modalité de passage :\n",
        "\n",
        "-   en général, les **arguments obligatoires** sont **passés par\n",
        "    position**. Ils peuvent également être passés par mot-clé, mais dans\n",
        "    la mesure où ils sont “attendus”, on les passe généralement par\n",
        "    position pour être plus concis\n",
        "\n",
        "-   les **arguments optionnels** doivent être **passés par mot-clé**,\n",
        "    afin de bien marquer qu’on modifie le comportement par défaut de la\n",
        "    fonction\n",
        "\n",
        "Comment spécifier qu’un argument est optionnel lorsqu’on définit une\n",
        "fonction soi-même ? Simplement en spécifiant une valeur par défaut de\n",
        "l’argument. Par exemple, construisons une fonction qui concatène deux\n",
        "chaînes de caractères, et laisse à l’utilisateur l’option de spécifier\n",
        "un séparateur."
      ],
      "id": "3bf8c214-a227-4645-ad09-26d50e94ab1b"
    },
    {
      "cell_type": "code",
      "execution_count": null,
      "metadata": {},
      "outputs": [],
      "source": [
        "def concat_string(str1, str2, sep=''):\n",
        "    return str1 + sep + str2"
      ],
      "id": "b4c3f570"
    },
    {
      "cell_type": "code",
      "execution_count": null,
      "metadata": {},
      "outputs": [],
      "source": [
        "concat_string('bonjour', 'bonjour')  # Comportement par défaut"
      ],
      "id": "fe858240"
    },
    {
      "cell_type": "code",
      "execution_count": null,
      "metadata": {},
      "outputs": [],
      "source": [
        "concat_string('bonjour', 'bonjour', sep=', ')  # Comportement modifié"
      ],
      "id": "18bd959f"
    },
    {
      "cell_type": "markdown",
      "metadata": {},
      "source": [
        "Cet exemple illustre également la règle lorsqu’on a un mélange\n",
        "d’arguments positionnels et par mot-clé : **les arguments positionnels\n",
        "doivent toujours être placés avant les arguments par mot-clé**.\n",
        "\n",
        "## Renvoi de résultats\n",
        "\n",
        "### Principe\n",
        "\n",
        "On a vu :\n",
        "\n",
        "-   que toute fonction renvoie un résultat en sortie\n",
        "\n",
        "-   que l’instruction `return` permet de spécifier ce résultat\n",
        "\n",
        "Lorsque la fonction est appelée, elle est évaluée à la valeur spécifiée\n",
        "par `return`, et cette valeur peut alors être récupérée dans une\n",
        "variable et utilisée dans des calculs ultérieurs, et ainsi de suite."
      ],
      "id": "9f32a67f-b1a4-45bb-894d-6c5736bb8d06"
    },
    {
      "cell_type": "code",
      "execution_count": null,
      "metadata": {},
      "outputs": [],
      "source": [
        "def division(x, y):\n",
        "    return x / y"
      ],
      "id": "04374119"
    },
    {
      "cell_type": "code",
      "execution_count": null,
      "metadata": {},
      "outputs": [],
      "source": [
        "a = division(4, 2)\n",
        "b = division(9, 3)\n",
        "division(a, b)  # 2 / 3"
      ],
      "id": "4559dee5"
    },
    {
      "cell_type": "markdown",
      "metadata": {},
      "source": [
        "Remarque importante : **lorsqu’une instruction return est atteinte dans\n",
        "une fonction, le reste de la fonction n’est pas exécuté**."
      ],
      "id": "7cc1a798-ed39-4a50-8b82-2c62d33330c6"
    },
    {
      "cell_type": "code",
      "execution_count": null,
      "metadata": {},
      "outputs": [],
      "source": [
        "def test(x):\n",
        "    return x\n",
        "    print(\"vais-je être affiché ?\")\n",
        "    \n",
        "test(3)"
      ],
      "id": "120f73ae"
    },
    {
      "cell_type": "markdown",
      "metadata": {},
      "source": [
        "### La valeur `None`\n",
        "\n",
        "Une fonction renvoie nécessairement un résultat lorsqu’elle est appelée…\n",
        "mais que se passe-t-il si l’on ne spécifie pas d’instruction `return` ?"
      ],
      "id": "007dc5a3-951c-4a5b-806c-fdc9ceff5712"
    },
    {
      "cell_type": "code",
      "execution_count": null,
      "metadata": {},
      "outputs": [],
      "source": [
        "def accueil(prenom):\n",
        "    print(\"Salutations \" + prenom + \" !\")\n",
        "    \n",
        "x = accueil(\"Léontine\")\n",
        "print(x)\n",
        "print(type(x))"
      ],
      "id": "b6e20c5f"
    },
    {
      "cell_type": "markdown",
      "metadata": {},
      "source": [
        "Comme attendu, la fonction a imprimé un message de bienvenue dans la\n",
        "console. Mais on n’a pas spécifié de valeur à retourner. Comme un objet\n",
        "doit malgré tout être retourné par définition, Python renvoie la valeur\n",
        "`None`, qui est un objet particulier, de type `NoneType`, et qui\n",
        "représente l’absence de valeur. Son seul intérêt est de bien marquer la\n",
        "différence entre une valeur réelle et l’absence de valeur.\n",
        "\n",
        "Pour tester si un objet a pour valeur `None`, on utilise une syntaxe\n",
        "particulière :"
      ],
      "id": "48f07198-a140-4512-8c36-d80dff40148c"
    },
    {
      "cell_type": "code",
      "execution_count": null,
      "metadata": {},
      "outputs": [],
      "source": [
        "x is None  # et non pas x == None"
      ],
      "id": "fc6d77c4"
    },
    {
      "cell_type": "markdown",
      "metadata": {},
      "source": [
        "### Renvoyer plusieurs résultats\n",
        "\n",
        "Une fonction renvoie par définition **un** résultat, qui peut être tout\n",
        "objet Python. Comment faire si l’on souhaite renvoyer plusieurs\n",
        "résultats ? On peut simplement enregistrer les différents résultats dans\n",
        "un conteneur (liste, tuple, dictionnaire, etc.), qui peut lui contenir\n",
        "un grand nombre d’objets.\n",
        "\n",
        "En pratique, il est très fréquent de renvoyer un *tuple* lorsque l’on\n",
        "souhaite renvoyer plusieurs objets. En effet, les *tuples* ont la\n",
        "propriété de *tuple unpacking*, que nous avons vues à plusieurs reprises\n",
        "dans les précédents tutoriels. Cette propriété rend possible une syntaxe\n",
        "très pratique et élégante pour l’assignation des résultats d’une\n",
        "fonction à des variables."
      ],
      "id": "e4308c87-9ec1-4e68-baa0-e1807ca5dd13"
    },
    {
      "cell_type": "code",
      "execution_count": null,
      "metadata": {},
      "outputs": [],
      "source": [
        "def puissances(x):\n",
        "    return x**2, x**3, x**4\n",
        "\n",
        "a, b, c = puissances(2)\n",
        "\n",
        "print(a)\n",
        "print(b)\n",
        "print(c)"
      ],
      "id": "c72bf22c"
    },
    {
      "cell_type": "markdown",
      "metadata": {},
      "source": [
        "## Variables locales et variables globales\n",
        "\n",
        "Nous avons vu en introduction que les fonctions pouvaient être vues\n",
        "comme des mini-programmes dans un programme global. Cette interprétation\n",
        "nous donne l’occasion d’aborder rapidement la notion de *scope*\n",
        "(contexte) en Python. Un *scope* est une sorte de conteneur à objets\n",
        "Python, auxquels il est possible d’accéder seulement dans le cadre de ce\n",
        "*scope*.\n",
        "\n",
        "Tous les objets (variables, fonctions, etc.) que l’on définit lors d’une\n",
        "session Python sont enregistrés dans le ***scope* global** de Python.\n",
        "Ces objets peuvent alors être accédés à n’importe quel endroit du\n",
        "programme, y compris au sein d’une fonction. Lorsque c’est le cas, on\n",
        "parle de **variables globales**."
      ],
      "id": "767f5084-0e34-42fd-97af-3275a570cc90"
    },
    {
      "cell_type": "code",
      "execution_count": null,
      "metadata": {},
      "outputs": [],
      "source": [
        "x = 5  # variable globale\n",
        "\n",
        "def ajoute(y):\n",
        "    return x + y\n",
        "\n",
        "ajoute(6)"
      ],
      "id": "ce4a75b0"
    },
    {
      "cell_type": "markdown",
      "metadata": {},
      "source": [
        "La variable `x` n’a pas été passée en argument à la fonction `ajoute` ni\n",
        "été définie dans le cadre de cette fonction. Pourtant, on peut l’appeler\n",
        "au sein de la fonction. Cela permet de partager des éléments entre\n",
        "plusieurs fonctions.\n",
        "\n",
        "En revanche, les arguments passés à une fonction ou bien les variables\n",
        "définies dans le cadre d’une fonction sont des **variables locales** :\n",
        "elles n’existent que dans le contexte spécifique de la fonction, et ne\n",
        "peuvent pas être réutilisées une fois que celle-ci s’est exécutée."
      ],
      "id": "f9bf31fb-c5d4-4f41-bf02-15ee26e45b7b"
    },
    {
      "cell_type": "code",
      "execution_count": null,
      "metadata": {},
      "outputs": [],
      "source": [
        "def ajoute(y):\n",
        "    z = 5  # variable locale\n",
        "    return z + y\n",
        "\n",
        "ajoute(6)\n",
        "print(z)"
      ],
      "id": "ea41bfed"
    },
    {
      "cell_type": "markdown",
      "metadata": {},
      "source": [
        "Au sein d’un contexte donné, chaque variable est unique. En revanche, il\n",
        "est possible d’avoir des variables qui portent le même nom dans des\n",
        "contextes différents. Regardons par exemple ce qui se passe lorsque l’on\n",
        "crée une variable dans le contexte d’une fonction, alors qu’elle existe\n",
        "déjà dans le contexte global."
      ],
      "id": "e25c20d1-86c1-4871-bf82-26b6a95e0499"
    },
    {
      "cell_type": "code",
      "execution_count": null,
      "metadata": {},
      "outputs": [],
      "source": [
        "x = 5  # variable globale\n",
        "\n",
        "def ajoute(y):\n",
        "    x = 10\n",
        "    return x + y\n",
        "\n",
        "ajoute(6)"
      ],
      "id": "2f6283fe"
    },
    {
      "cell_type": "markdown",
      "metadata": {},
      "source": [
        "C’est un bon exemple d’un principe plus général : **c’est toujours le\n",
        "contexte le plus local qui prime**. Lorsque Python effectue l’opération\n",
        "`x + y`, il va chercher les valeurs de `x` et de `y` d’abord dans le\n",
        "contexte local, puis, seulement s’il ne les trouve pas, dans le contexte\n",
        "supérieur – en l’occurence, le contexte global.\n",
        "\n",
        "NB : on verra dans un prochain tutoriel sur les bonnes pratiques qu’**il\n",
        "est préférable de limiter au strict minimum l’utilisation de variables\n",
        "globales**, car elles réduisent la reproductibilité des analyses.\n",
        "\n",
        "## Exercices\n",
        "\n",
        "### Questions de compréhension\n",
        "\n",
        "-   1/ Pourquoi dit-on que l’utilisation de fonctions dans un programme\n",
        "    est une bonne pratique de développement ?\n",
        "\n",
        "-   2/ Quelles sont les trois caractéristiques d’une fonction ?\n",
        "\n",
        "-   3/ Qu’est-ce qu’une fonction “boîte noire” ? A quelles autres\n",
        "    fonctions s’oppose-t-elle ?\n",
        "\n",
        "-   4/ Que se passe-t-il quand on définit une fonction ? Et quand on\n",
        "    l’appelle ?\n",
        "\n",
        "-   5/ Combien d’arguments peut-on passer à une fonction ?\n",
        "\n",
        "-   6/ Quelles sont les deux modalités de passage d’arguments à une\n",
        "    fonction ?\n",
        "\n",
        "-   7/ Quelle est l’utilité de passer des arguments optionnels à une\n",
        "    fonction ?\n",
        "\n",
        "-   8/ Dans quel ordre doivent être passés les arguments d’une fonction\n",
        "    si celle-ci a à la fois des arguments obligatoires et optionnels ?\n",
        "\n",
        "-   9/ Existe-il des fonctions qui ne renvoient rien ?\n",
        "\n",
        "-   10/ Une fonction peut-elle renvoyer plusieurs objets ?\n",
        "\n",
        "-   11/ Que deviennent les variables du *scope* local d’une fonction une\n",
        "    fois que la fonction a été appelée ?"
      ],
      "id": "ae2c8bdf-ae43-4b23-803d-d334b5c46a45"
    },
    {
      "cell_type": "markdown",
      "metadata": {},
      "source": [
        "<details>\n",
        "\n",
        "<summary>\n",
        "\n",
        "Afficher la solution\n",
        "\n",
        "</summary>\n",
        "\n",
        "-   1/ L’utilisation de fonction permet de réduire la duplication du\n",
        "    code et de mieux isoler les différents blocs logiques d’un\n",
        "    programme.\n",
        "\n",
        "-   2/ Une fonction prend en entrée des arguments, réalise une action\n",
        "    donnée via un ensemble d’instructions, et renvoie un résultat en\n",
        "    sortie.\n",
        "\n",
        "-   3/ Les fonctions “boîtes noires” sont les fonctions dont on ne\n",
        "    connaît pas le code lorsqu’on les exécute, comme les fonctions\n",
        "    built-in de Python (len, range..). Elles s’opposent aux fonctions\n",
        "    créées par l’utilisateur.\n",
        "\n",
        "-   4/ Quand on définit une fonction via l’instruction def, on met en\n",
        "    mémoire le code de la fonction. Ce n’est que quand on appelle la\n",
        "    fonction que ce code s’exécute, et renvoie un résultat.\n",
        "\n",
        "-   5/ Autant que l’on souhaite.\n",
        "\n",
        "-   6/ Par position : on passe les arguments dans l’ordre où ils ont été\n",
        "    spécifiés lors de la définition de la fonction. Par mot-clé : on\n",
        "    passe les arguments en les nommant.\n",
        "\n",
        "-   7/ Modifier le comportement par défaut d’une fonction, tel qu’il a\n",
        "    été voulu par son concepteur.\n",
        "\n",
        "-   8/ D’abord les arguments obligatoires, puis les arguments\n",
        "    optionnels.\n",
        "\n",
        "-   9/ Non, une fonction renvoie toujours un objet. Si l’on ne spécifie\n",
        "    pas d’instruction return, la fonction renvoie la valeur None, qui\n",
        "    est un objet de type NoneType.\n",
        "\n",
        "-   10/ Non, une fonction renvoie un seul objet. En revanche, si l’on\n",
        "    veut qu’une fonction renvoie plusieurs résultats, il suffit de les\n",
        "    mettre dans un conteneur (liste, tuple, dictionnaire..).\n",
        "\n",
        "-   11/ Elles disparaissent et ne peuvent donc pas être réutilisées dans\n",
        "    le scope global.\n",
        "\n",
        "</details>"
      ],
      "id": "3d9115d5-ebb0-49a1-93d7-b5ead0941cfd"
    },
    {
      "cell_type": "markdown",
      "metadata": {},
      "source": [
        "### Fonction puissance\n",
        "\n",
        "Créer une fonction `puissance` qui prend en entrée deux nombres `x` et\n",
        "`y` et renvoie la fonction puissance $x^y$."
      ],
      "id": "46d8ccca-6ec7-4919-9a3b-746c0f100666"
    },
    {
      "cell_type": "code",
      "execution_count": null,
      "metadata": {},
      "outputs": [],
      "source": [
        "# Testez votre réponse dans cette cellule"
      ],
      "id": "c96dd9dd"
    },
    {
      "cell_type": "markdown",
      "metadata": {},
      "source": [
        "<details>\n",
        "\n",
        "<summary>\n",
        "\n",
        "Afficher la solution\n",
        "\n",
        "</summary>\n",
        "\n",
        "``` python\n",
        "def puissance(x, y):\n",
        "    return x**y\n",
        "\n",
        "puissance(2, 3)\n",
        "```\n",
        "\n",
        "</details>"
      ],
      "id": "2d753675-40e8-491f-9192-70455d73284a"
    },
    {
      "cell_type": "markdown",
      "metadata": {},
      "source": [
        "### Prédiction de valeurs retournées par des fonctions\n",
        "\n",
        "Soit `x = 5` et `y = 3` des arguments que l’on passe à chacune des\n",
        "fonctions définies dans la cellule suivante. Prédire ce que vont\n",
        "retourner les fonctions (valeur et `type` de l’objet), et vérifier vos\n",
        "réponses."
      ],
      "id": "6a8ea423-caf0-41e9-b04b-fb086acc2850"
    },
    {
      "cell_type": "code",
      "execution_count": null,
      "metadata": {},
      "outputs": [],
      "source": [
        "def f1(x):\n",
        "    return x\n",
        "\n",
        "def f2(x):\n",
        "    return ''\n",
        "\n",
        "def f3(x):\n",
        "    print(\"Hello World\")\n",
        "    \n",
        "def f4(x, y):\n",
        "    print(x + y)\n",
        "    \n",
        "def f5(x, y):\n",
        "    x + y\n",
        "    \n",
        "def f6(x, y):\n",
        "    if x >= 3 and y < 9:\n",
        "        return 'test ok'\n",
        "    else:\n",
        "        return 'test not ok'\n",
        "    \n",
        "def f7(x, y):\n",
        "    return f6(2, 8)\n",
        "\n",
        "def f8(x, y, z):\n",
        "    return x + y + z\n",
        "\n",
        "def f9(x, y, z=5):\n",
        "    return x + y + z"
      ],
      "id": "4f9bcaaa"
    },
    {
      "cell_type": "code",
      "execution_count": null,
      "metadata": {},
      "outputs": [],
      "source": [
        "# Testez votre réponse dans cette cellule"
      ],
      "id": "4f46ffb3"
    },
    {
      "cell_type": "markdown",
      "metadata": {},
      "source": [
        "<details>\n",
        "\n",
        "<summary>\n",
        "\n",
        "Afficher la solution\n",
        "\n",
        "</summary>\n",
        "\n",
        "``` python\n",
        "- f1. Valeur : 5 ; Type : int\n",
        "\n",
        "- f2. Valeur : '' ; Type : str\n",
        "\n",
        "- f3. Valeur : None ; Type : NoneType\n",
        "\n",
        "- f4. Valeur : None ; Type : NoneType\n",
        "\n",
        "- f5. Valeur : None ; Type : NoneType\n",
        "\n",
        "- f6. Valeur : 'test ok' ; Type : str\n",
        "\n",
        "- f7. Valeur : 'test not ok' ; Type : str\n",
        "\n",
        "- f8. Erreur : z n'est pas défini\n",
        "\n",
        "- f9. Valeur : 13 ; Type : int\n",
        "```\n",
        "\n",
        "</details>"
      ],
      "id": "9fa3f148-aa49-4070-b8ca-53b4ce850697"
    },
    {
      "cell_type": "markdown",
      "metadata": {},
      "source": [
        "### Variables globales et variables locales\n",
        "\n",
        "Que vaut la variable `total` dans le programme suivant ?"
      ],
      "id": "f05f53ba-ea6e-4c5f-89f8-a8c0a42ca754"
    },
    {
      "cell_type": "code",
      "execution_count": null,
      "metadata": {},
      "outputs": [],
      "source": [
        "z = 3\n",
        "\n",
        "def f1(x, y):\n",
        "    z = 5\n",
        "    return x + y + z\n",
        "\n",
        "def f2(x, y, z=1):\n",
        "    return x + y + z\n",
        "\n",
        "def f3(x, y):\n",
        "    return x + y + z\n",
        "\n",
        "total = f1(2, 3) + f2(3, 1) + f3(1, 0)\n",
        "print(total)"
      ],
      "id": "2e74e213"
    },
    {
      "cell_type": "code",
      "execution_count": null,
      "metadata": {},
      "outputs": [],
      "source": [
        "# Testez votre réponse dans cette cellule"
      ],
      "id": "82a3c724"
    },
    {
      "cell_type": "markdown",
      "metadata": {},
      "source": [
        "<details>\n",
        "\n",
        "<summary>\n",
        "\n",
        "Afficher la solution\n",
        "\n",
        "</summary>\n",
        "\n",
        "``` python\n",
        "z = 3\n",
        "\n",
        "def f1(x, y):\n",
        "    z = 5\n",
        "    return x + y + z\n",
        "\n",
        "def f2(x, y, z=1):\n",
        "    return x + y + z\n",
        "\n",
        "def f3(x, y):\n",
        "    return x + y + z\n",
        "\n",
        "total = f1(2, 3) + f2(3, 1) + f3(1, 0)\n",
        "\n",
        "print(f1(2, 3))  \n",
        "# c'est la variable z locale à f1 qui est utilisée -> f1 renvoie 10\n",
        "\n",
        "print(f2(3, 1))  \n",
        "# c'est la variable z locale à f1 qui est utilisée\n",
        "# sa valeur par défaut est 1 -> f2 renvoie 5\n",
        "\n",
        "print(f3(1, 0)) \n",
        "# c'est la variable z globale qui est utilisée -> f3 renvoie 4\n",
        "\n",
        "print(total)\n",
        "```\n",
        "\n",
        "</details>"
      ],
      "id": "a6683602-2600-4f81-850e-a744bb002c68"
    },
    {
      "cell_type": "markdown",
      "metadata": {},
      "source": [
        "### Calculatrice\n",
        "\n",
        "Ecrire une fonction `calculatrice` qui :\n",
        "\n",
        "-   prend deux nombres en entrée\n",
        "\n",
        "-   renvoie l’addition, la soustraction, la multiplication et la\n",
        "    division de ces deux nombres en sortie\n",
        "\n",
        "Utiliser la propriété de *tuple unpacking* pour assigner les résultats à\n",
        "des variables en une seule ligne."
      ],
      "id": "331490d0-79ac-43f2-97cf-d3241c67dc96"
    },
    {
      "cell_type": "code",
      "execution_count": null,
      "metadata": {},
      "outputs": [],
      "source": [
        "# Testez votre réponse dans cette cellule"
      ],
      "id": "2954151a"
    },
    {
      "cell_type": "markdown",
      "metadata": {},
      "source": [
        "<details>\n",
        "\n",
        "<summary>\n",
        "\n",
        "Afficher la solution\n",
        "\n",
        "</summary>\n",
        "\n",
        "``` python\n",
        "def calculatrice(a, b):\n",
        "    return a+b, a-b, a*b, a/b\n",
        "\n",
        "add, sub, mult, div = calculatrice(5, 3)\n",
        "print(add, sub, mult, div)\n",
        "```\n",
        "\n",
        "</details>"
      ],
      "id": "22a637a2-a6bc-4389-825a-554da7b55fdd"
    },
    {
      "cell_type": "markdown",
      "metadata": {},
      "source": [
        "### Dédupliquer une liste\n",
        "\n",
        "Ecrire une fonction qui :\n",
        "\n",
        "-   prend en entrée une liste d’éléments quelconques\n",
        "\n",
        "-   renvoie une nouvelle liste constituée des éléments uniques de la\n",
        "    liste initiale\n",
        "\n",
        "-   permet via un paramètre optionnel de trier ou non la liste finale\n",
        "    par ordre alphanumérique. Le comportement par défaut doit être de ne\n",
        "    pas trier.\n",
        "\n",
        "Indice : la procédure a été abordée dans le tutoriel sur les\n",
        "dictionnaires et les sets."
      ],
      "id": "669afd62-3886-4d74-a0c7-a675048083d7"
    },
    {
      "cell_type": "code",
      "execution_count": null,
      "metadata": {},
      "outputs": [],
      "source": [
        "# Testez votre réponse dans cette cellule"
      ],
      "id": "9078f979"
    },
    {
      "cell_type": "markdown",
      "metadata": {},
      "source": [
        "<details>\n",
        "\n",
        "<summary>\n",
        "\n",
        "Afficher la solution\n",
        "\n",
        "</summary>\n",
        "\n",
        "``` python\n",
        "def dedup(l, sort=False):\n",
        "    l_dedup = list(set(l))\n",
        "    if sort:\n",
        "        l_dedup.sort()\n",
        "    return l_dedup\n",
        "\n",
        "l = [\"a\", \"a\", \"b\", \"c\"]\n",
        "print(dedup(l))  # Comportement par défaut : pas de tri\n",
        "print(dedup(l, sort=True))  # Comportement modifié : tri\n",
        "```\n",
        "\n",
        "</details>"
      ],
      "id": "270528dd-19ed-4c6a-b821-bbd2d936a6f2"
    },
    {
      "cell_type": "markdown",
      "metadata": {},
      "source": [
        "### Multiplier les éléments d’une liste\n",
        "\n",
        "Ecrire une fonction qui :\n",
        "\n",
        "-   prend en entrée une liste de nombres\n",
        "\n",
        "-   imprime : “Il y a $n$ nombres dans la liste.” avec $n$ le nombre\n",
        "    effectif\n",
        "\n",
        "-   multiplie tous les éléments de la liste (sans utiliser de fonction\n",
        "    pré-codée)\n",
        "\n",
        "-   retourne le résultat"
      ],
      "id": "c4f1b0ee-2e01-4c54-ac33-08c4a2df9771"
    },
    {
      "cell_type": "code",
      "execution_count": null,
      "metadata": {},
      "outputs": [],
      "source": [
        "# Testez votre réponse dans cette cellule"
      ],
      "id": "5cd9a0bf"
    },
    {
      "cell_type": "markdown",
      "metadata": {},
      "source": [
        "<details>\n",
        "\n",
        "<summary>\n",
        "\n",
        "Afficher la solution\n",
        "\n",
        "</summary>\n",
        "\n",
        "``` python\n",
        "def multiplier(l):\n",
        "    print(\"Il y a \" + str(len(l)) + \" nombres dans la liste.\")\n",
        "    c = 1\n",
        "    for x in l:\n",
        "        c *= x  # Equivalent à : c = c * x\n",
        "    return c\n",
        "\n",
        "l = [2, 8, 3]\n",
        "multiplier(l)\n",
        "```\n",
        "\n",
        "</details>"
      ],
      "id": "7e197592-a9ec-414a-877b-0f1a8cb59f0e"
    },
    {
      "cell_type": "markdown",
      "metadata": {},
      "source": [
        "### Variance dans une population et variance dans un échantillon\n",
        "\n",
        "Dans un exercice du précédent tutoriel, nous avons codé “à la main” le\n",
        "calcul de la variance d’une liste de nombres, à partir de la formule :\n",
        "$$\\sigma^2 = {\\frac {1}{n}}\\sum_{i=1}^{n} (x_{i}-\\bar{x})^2$$\n",
        "\n",
        "En toute rigueur, cette formule est valide lorsqu’on calcule la\n",
        "**variance en population complète**. Si l’on n’observe qu’un échantillon\n",
        "de la population, on ne calcule pas la variance mais on l’estime, et il\n",
        "faut alors utiliser la formule suivante pour obtenir un **estimateur\n",
        "sans biais de la vraie variance** :\n",
        "$$s^2 = {\\frac {1}{n-1}}\\sum_{i=1}^{n} (x_{i}-\\bar{x})^2$$.\n",
        "\n",
        "Pour tenir compte de cette distinction :\n",
        "\n",
        "-   coder une fonction `mean` qui calcule la moyenne comme dans\n",
        "    l’exercice du tutoriel précédent\n",
        "\n",
        "-   coder une fonction `var` qui calcule la variance comme dans\n",
        "    l’exercice du tutoriel précédent (en appelant la fonction `mean`\n",
        "    pour calculer la moyenne)\n",
        "\n",
        "-   modifier la fonction `var` afin de permettre à l’utilisateur de\n",
        "    choisir la méthode de calcul via un paramètre optionnel `mode`\n",
        "    (valeur par défaut : ‘population’ pour le calcul via la formule en\n",
        "    population ; valeur alternative : ‘sample’ pour le calcul via la\n",
        "    formule en échantillon)\n",
        "\n",
        "Comparer les valeurs obtenues dans les deux cas avec ce que renvoie la\n",
        "fonction *black box* `var` de la librarie `numpy` (cf. corrigé de\n",
        "l’exercice du tutoriel précédent pour la syntaxe, et voir la\n",
        "[doc](https://numpy.org/doc/stable/reference/generated/numpy.var.html)\n",
        "de la fonction et en particulier le paramètre `ddof` pour faire varier\n",
        "la méthode de calcul)."
      ],
      "id": "fe49dc84-b5e3-463e-ac75-a941c18432bb"
    },
    {
      "cell_type": "code",
      "execution_count": null,
      "metadata": {},
      "outputs": [],
      "source": [
        "# Testez votre réponse dans cette cellule"
      ],
      "id": "827a6fe6"
    },
    {
      "cell_type": "markdown",
      "metadata": {},
      "source": [
        "<details>\n",
        "\n",
        "<summary>\n",
        "\n",
        "Afficher la solution\n",
        "\n",
        "</summary>\n",
        "\n",
        "``` python\n",
        "def mean(x):\n",
        "    n = len(x)\n",
        "    somme_moy = 0\n",
        "    for x_i in x:\n",
        "        somme_moy += x_i\n",
        "    moyenne = somme_moy / n\n",
        "    return moyenne\n",
        "\n",
        "def var(x, mode=\"population\"):\n",
        "    n = len(x)\n",
        "    moyenne = mean(x)\n",
        "    somme_var = 0\n",
        "    for x_i in x:\n",
        "        somme_var += (x_i - moyenne)**2\n",
        "    if mode == \"population\":\n",
        "        variance = somme_var / n\n",
        "    elif mode == \"sample\":\n",
        "        variance = somme_var / (n-1)\n",
        "    return variance\n",
        "\n",
        "x = [8, 18, 6, 0, 15, 17.5, 9, 1]\n",
        "print(mean(x))\n",
        "print(var(x))  # population\n",
        "print(var(x, mode=\"sample\"))  # échantillon\n",
        "\n",
        "# Vérification avec les fonctions de la librairie numpy\n",
        "import numpy as np\n",
        "print(np.mean(x))\n",
        "print(np.var(x))  # population\n",
        "print(np.var(x, ddof=1))  # sample\n",
        "```\n",
        "\n",
        "</details>"
      ],
      "id": "df504430-bf4c-4b49-8bdc-5763f49782ea"
    },
    {
      "cell_type": "markdown",
      "metadata": {},
      "source": [
        "### Fonctions récursives : factorielle\n",
        "\n",
        "Les fonctions récursives sont des fonctions qui s’appellent elles-mêmes\n",
        "dans le corps de la fonction, ce qui entraîne des appels infinis jusqu’à\n",
        "atteindre un critère d’arrêt.\n",
        "\n",
        "Un bon exemple de fonction récursive est la fonction qui calcule la\n",
        "factorielle d’un entier. La factorielle d’un entier naturel $n$ est le\n",
        "produit des nombres entiers strictement positifs inférieurs ou égaux à\n",
        "n. Par exemple : $5! = 5*4*3*2*1 = 120$.\n",
        "\n",
        "Coder cette fonction et vérifier qu’elle fonctionne correctement."
      ],
      "id": "5409490f-8529-417a-8d24-585aa87c2102"
    },
    {
      "cell_type": "code",
      "execution_count": null,
      "metadata": {},
      "outputs": [],
      "source": [
        "# Testez votre réponse dans cette cellule"
      ],
      "id": "5144c219"
    },
    {
      "cell_type": "markdown",
      "metadata": {},
      "source": [
        "<details>\n",
        "\n",
        "<summary>\n",
        "\n",
        "Afficher la solution\n",
        "\n",
        "</summary>\n",
        "\n",
        "``` python\n",
        "def factorielle(n):\n",
        "    if n == 0:\n",
        "        # Critère d'arrêt\n",
        "        return 1\n",
        "    else:\n",
        "        return n * factorielle(n-1)\n",
        "\n",
        "factorielle(5)\n",
        "```\n",
        "\n",
        "</details>"
      ],
      "id": "b83bc345-d57c-4816-ab08-219f5dac18c9"
    }
  ],
  "nbformat": 4,
  "nbformat_minor": 5,
  "metadata": {
    "kernelspec": {
      "name": "python3",
      "display_name": "Python 3 (ipykernel)",
      "language": "python",
      "path": "/Users/gblin/opt/anaconda3/share/jupyter/kernels/python3"
    }
  }
}
