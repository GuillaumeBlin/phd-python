{
  "cells": [
    {
      "cell_type": "markdown",
      "metadata": {},
      "source": [
        "# Boucles\n",
        "\n",
        "Dans le tutoriel précédent, nous avons étudié les tests, qui permettent\n",
        "à un ordinateur de prendre des décisions selon des conditions spécifiées\n",
        "dans un programme. Nous allons à présent aller encore plus loin dans\n",
        "l’automatisation des opérations, grâce à la notion de **boucle**. Les\n",
        "boucles vont permettre de répéter plusieurs fois une instruction\n",
        "semblable sans avoir à réécrire le même code à chaque fois.\n",
        "\n",
        "Pour illustrer cette idée, imaginons que l’on souhaite afficher chaque\n",
        "élément d’une liste. Pour l’instant, on ferait :"
      ],
      "id": "aea01720-73f8-4d35-b630-0e58e9fb968b"
    },
    {
      "cell_type": "code",
      "execution_count": null,
      "metadata": {},
      "outputs": [],
      "source": [
        "gamme = ['do', 're', 'mi', 'fa', 'sol', 'la', 'si']\n",
        "\n",
        "print(gamme[0])\n",
        "print(gamme[1])\n",
        "print(gamme[2])"
      ],
      "id": "f3a0c9bc"
    },
    {
      "cell_type": "markdown",
      "metadata": {},
      "source": [
        "Et ainsi de suite. On voit tout de suite qu’une telle opération serait\n",
        "impraticable pour une liste contenant des centaines d’éléments. Les\n",
        "boucles vont résoudre ce problème de manière élégante et efficiente.\n",
        "\n",
        "## Boucles `for`\n",
        "\n",
        "### Définition\n",
        "\n",
        "Le premier type de boucles auquel nous allons nous intéresser est la\n",
        "boucle `for`. Une boucle `for` permet de parcourir les différents\n",
        "éléments contenus dans un objet dit **itérable**, et de réaliser des\n",
        "opérations avec ces éléments. Les objets itérables incluent notamment\n",
        "tous les objets séquentiels que nous avons vus jusqu’à présent : chaînes\n",
        "de caractères, listes, tuples, etc.\n",
        "\n",
        "Illustrons le fonctionnement d’une boucle `for` en résolvant le problème\n",
        "exposé précédemment."
      ],
      "id": "11018198-701a-48e6-a0de-31a6bf138255"
    },
    {
      "cell_type": "code",
      "execution_count": null,
      "metadata": {},
      "outputs": [],
      "source": [
        "for note in gamme:\n",
        "    print(note)"
      ],
      "id": "9796e4d3"
    },
    {
      "cell_type": "markdown",
      "metadata": {},
      "source": [
        "### Syntaxe\n",
        "\n",
        "Analysons la structure d’une boucle `for` :\n",
        "\n",
        "-   La première ligne spécifie une **instruction `for`**, et comme toute\n",
        "    instruction en Python se termine par `:`.\n",
        "\n",
        "-   Vient ensuite un **bloc d’instructions**, i.e. une suite\n",
        "    d’opérations (une seule dans notre exemple) qui sera exécutée à\n",
        "    chaque itération de la boucle. Ce bloc est visible par son **niveau\n",
        "    d’indentation**, incrémenté de 1 par rapport à l’instruction. Le\n",
        "    bloc s’arrête dès lors que l’indentation revient à son niveau\n",
        "    initial.\n",
        "\n",
        "Comme pour les instructions conditionnelles de type `if`/`else`,\n",
        "l’indentation est donc capitale. Si on l’oublie, Python renvoie une\n",
        "erreur."
      ],
      "id": "f0febbd2-556d-4a91-a39d-1fc70414314c"
    },
    {
      "cell_type": "code",
      "execution_count": null,
      "metadata": {},
      "outputs": [],
      "source": [
        "for note in gamme:\n",
        "    print(note)"
      ],
      "id": "0302ca47"
    },
    {
      "cell_type": "markdown",
      "metadata": {},
      "source": [
        "### Fonctionnement\n",
        "\n",
        "Regardons maintenant plus en détail ce que fait l’instruction `for`.\n",
        "Elle définit une **variable d’itération** (appelée `note` dans notre\n",
        "exemple), qui va parcourir les éléments de l’**itérateur** spécifié\n",
        "après le `in` (la liste `gamme` dans notre exemple). La syntaxe d’une\n",
        "boucle en Python se prête bien à une description littérale ; dans notre\n",
        "cas : “pour chaque note contenue dans la liste gamme, imprime la note”.\n",
        "\n",
        "Insistons sur le fait qu’une boucle définit une variable, sans que l’on\n",
        "ait besoin de passer par la syntaxe traditionnelle d’assignation\n",
        "`variable = valeur`. De plus, cette variable n’est pas supprimée une\n",
        "fois la boucle terminée, elle prend alors la valeur du dernier élément\n",
        "de l’itérateur."
      ],
      "id": "83291187-3a7d-4dee-8706-8e9c4bcb33f7"
    },
    {
      "cell_type": "code",
      "execution_count": null,
      "metadata": {},
      "outputs": [],
      "source": [
        "note"
      ],
      "id": "5587137a"
    },
    {
      "cell_type": "markdown",
      "metadata": {},
      "source": [
        "L’itérateur n’est pas nécessairement une liste, il peut être tout objet\n",
        "itérable. Cela inclut notamment tous les objets séquentiels que nous\n",
        "avons vu."
      ],
      "id": "afacfb28-c364-4ca4-b06e-6849f5f38697"
    },
    {
      "cell_type": "code",
      "execution_count": null,
      "metadata": {},
      "outputs": [],
      "source": [
        "for char in \"YMCA\":\n",
        "    print(char)\n",
        "    \n",
        "print()  # Saut de ligne\n",
        "    \n",
        "t = (1, 2, 3, 4, 5)\n",
        "for i in t:\n",
        "    print(i*9)"
      ],
      "id": "22d99452"
    },
    {
      "cell_type": "markdown",
      "metadata": {},
      "source": [
        "La classe des objets itérables est cependant bien plus grande que les\n",
        "seuls objets séquentiels. Par exemple, on peut itérer sur les clés d’un\n",
        "dictionnaire, alors que l’on a vu dans un tutoriel précédent que ce\n",
        "n’était pas un objet séquentiel, puisqu’il n’y a pas de notion d’ordre\n",
        "dans un dictionnaire."
      ],
      "id": "6f7366c7-bcf6-43f4-a684-32639c44c974"
    },
    {
      "cell_type": "code",
      "execution_count": null,
      "metadata": {},
      "outputs": [],
      "source": [
        "inventaire = {'cafe': '500g', 'lait': '1,5L', 'cereales': '1kg'}\n",
        "for key in inventaire:\n",
        "    print(key)\n",
        "    print(inventaire[key])\n",
        "    print()  # Saut de ligne"
      ],
      "id": "891f3214"
    },
    {
      "cell_type": "markdown",
      "metadata": {},
      "source": [
        "### Itération sur des entiers avec la fonction `range`\n",
        "\n",
        "En programmation, il est courant de vouloir itérer sur une suite\n",
        "d’entiers. Plutôt que de spécifier cette suite dans une liste, ce qui\n",
        "n’est pas très pratique si la suite est longue, on utilise pour ce faire\n",
        "la fonction `range(n)`. Celle-ci crée un objet itérable qui contient\n",
        "tous les entiers compris entre $0$ et $n-1$, et qui peut être utilisé\n",
        "dans le cadre d’une boucle.\n",
        "\n",
        "Regardons par exemple comment on peut très simplement afficher une table\n",
        "de multiplication à l’aide de cette fonction."
      ],
      "id": "862bc4b9-2175-4c6e-b383-7f117186fa60"
    },
    {
      "cell_type": "code",
      "execution_count": null,
      "metadata": {},
      "outputs": [],
      "source": [
        "table = 9\n",
        "\n",
        "for i in range(11):\n",
        "    print(i, i*9)"
      ],
      "id": "0be4c0af"
    },
    {
      "cell_type": "markdown",
      "metadata": {},
      "source": [
        "### Itération sur les indices\n",
        "\n",
        "On a vu qu’une boucle `for` avait pour principe d’itérer sur les\n",
        "*éléments* d’un itérable. Cependant, dans le cas d’un objet séquentiel\n",
        "comme une liste, on peut parfois vouloir itérer sur les *indices* de\n",
        "l’objet, afin de pouvoir manipuler à la fois les indices et les éléments\n",
        "contenus dans l’objet. Dans ce cas, la fonction `range` peut être\n",
        "utilisée en combinaison avec la fonction `len` pour créer un objet\n",
        "itérable qui contient exactement les indices de la liste initiale."
      ],
      "id": "70c4a0c7-b387-44ab-8f90-8bdf5d05e314"
    },
    {
      "cell_type": "code",
      "execution_count": null,
      "metadata": {},
      "outputs": [],
      "source": [
        "gamme = ['do', 're', 'mi', 'fa', 'sol', 'la', 'si']\n",
        "\n",
        "for i in range(len(gamme)):\n",
        "    print(\"La note numéro \" + str(i) + \" de la gamme de do majeur est \" + gamme[i])"
      ],
      "id": "68ed2cec"
    },
    {
      "cell_type": "markdown",
      "metadata": {},
      "source": [
        "Comme ce besoin est fréquent mais que le code ci-dessus n’est pas très\n",
        "lisible, il existe une fonction *built-in* de Python appelée `enumerate`\n",
        "qui permet d’itérer à la fois sur les objets et les indices. Il est donc\n",
        "préférable d’utiliser cette syntaxe, plus claire, et qui permet d’éviter\n",
        "certaines erreurs.\n",
        "\n",
        "La fonction `enumerate` appliquée à un objet itérable renvoie un nouvel\n",
        "objet itérable qui contient l’ensemble des couples `(indice, élément)`\n",
        "contenus dans l’objet, sous forme de tuples. Comme c’est un objet de\n",
        "type particulier – un générateur, que nous verrons dans un tutoriel plus\n",
        "avancé – il faut lui appliquer la fonction `list` pour afficher son\n",
        "contenu."
      ],
      "id": "fca3ba84-3796-41cb-ad2f-d7e56f8c7b16"
    },
    {
      "cell_type": "code",
      "execution_count": null,
      "metadata": {},
      "outputs": [],
      "source": [
        "list(enumerate(gamme))"
      ],
      "id": "b945aa99"
    },
    {
      "cell_type": "markdown",
      "metadata": {},
      "source": [
        "Regardons comment réécrire la boucle précédente avec cette nouvelle\n",
        "syntaxe."
      ],
      "id": "a4b4470c-3d56-4f70-b9b5-567c2e296b16"
    },
    {
      "cell_type": "code",
      "execution_count": null,
      "metadata": {},
      "outputs": [],
      "source": [
        "for i, note in enumerate(gamme):\n",
        "    print(\"La note numéro \" + str(i) + \" de la gamme de do majeur est \" + note)"
      ],
      "id": "e5ba759e"
    },
    {
      "cell_type": "markdown",
      "metadata": {},
      "source": [
        "NB : pour faire l’assignation de variables dans l’instruction `if`, on a\n",
        "utilisé une technique bien pratique que l’on avait déjà évoquée dans un\n",
        "exercice du tutoriel sur les listes et les tuples : le *tuple\n",
        "unpacking*. Illustrons le par un exemple :"
      ],
      "id": "a78070e1-88a8-400c-bd05-9137ae59b03c"
    },
    {
      "cell_type": "code",
      "execution_count": null,
      "metadata": {},
      "outputs": [],
      "source": [
        "t = (1, 2, 3)\n",
        "a, b, c = t\n",
        "print(a)\n",
        "print(b)\n",
        "print(c)"
      ],
      "id": "f12ea660"
    },
    {
      "cell_type": "markdown",
      "metadata": {},
      "source": [
        "## Boucles `while`\n",
        "\n",
        "### Définition\n",
        "\n",
        "Les boucles `while` fournissent une manière alternative de spécifier des\n",
        "procédures répétitives. L’idée n’est plus d’itérer sur un nombre\n",
        "d’objets fixé à l’avance, mais d’**itérer tant qu’une condition (test\n",
        "logique) est remplie**."
      ],
      "id": "14fccd36-60a5-43e1-ab45-304338ed4862"
    },
    {
      "cell_type": "code",
      "execution_count": null,
      "metadata": {},
      "outputs": [],
      "source": [
        "i = 1\n",
        "while i <= 5:\n",
        "    print(i)\n",
        "    i = i + 1"
      ],
      "id": "07f825a6"
    },
    {
      "cell_type": "markdown",
      "metadata": {},
      "source": [
        "### Syntaxe\n",
        "\n",
        "La différence essentielle avec la boucle `for` est l’instruction : c’est\n",
        "désormais une instruction `while`, suivie d’une condition (test), et\n",
        "comme toute instruction de `:`.\n",
        "\n",
        "Pour le reste, le principe est le même : l’instruction `while` est suivi\n",
        "d’un bloc d’instructions, indenté d’un niveau, et qui s’exécute\n",
        "séquentiellement à chaque itération de la boucle.\n",
        "\n",
        "### Critère d’arrêt\n",
        "\n",
        "Une différence essentielle des boucles `while` par rapport aux boucles\n",
        "`for` tient au critère d’arrêt. Dans une boucle `for`, ce critère est\n",
        "clair : la boucle itère sur les éléments d’un objet itérable,\n",
        "nécessairement de taille finie. La boucle s’arrête donc lorsque chaque\n",
        "élément de l’itérable a été parcouru.\n",
        "\n",
        "Dans une boucle `while` au contraire, le critère d’arrêt est donné par\n",
        "une condition logique, c’est donc l’utilisateur qui doit fixer le\n",
        "critère d’arrêt. Dans l’exemple, pour que la boucle s’arrête, il faut\n",
        "que la condition `i <= 5` devienne `False`, c’est à dire que `i`\n",
        "devienne strictement supérieur à $5$. On s’est assuré de cela en\n",
        "initialisant `i` à $1$ avant le début de la boucle, puis en incrémentant\n",
        "`i` d’une unité à chaque itération.\n",
        "\n",
        "Que se passe-t-il si l’on oublie d’incrémenter `i` ? Le critère d’arrêt\n",
        "n’est jamais atteint, la boucle est donc infinie, et il faut utiliser le\n",
        "bouton “Stop” (carré noir) de Jupyter pour arrêter le programme en\n",
        "cours. Vérifions cela en incrémentant la mauvaise variable."
      ],
      "id": "03afdfc8-23c2-4f4f-981a-ab8938c363cf"
    },
    {
      "cell_type": "code",
      "execution_count": null,
      "metadata": {},
      "outputs": [],
      "source": [
        "i = 1\n",
        "j = 1\n",
        "while i <= 5:\n",
        "    j = j + 1"
      ],
      "id": "f1d74e71"
    },
    {
      "cell_type": "markdown",
      "metadata": {},
      "source": [
        "Ainsi, lorsqu’on pressent qu’une boucle `while` met trop longtemps à\n",
        "tourner, il faut considérer l’hypothèse que l’on soit tombé dans une\n",
        "boucle infinie, et bien vérifier que le critère d’arrêt est atteignable.\n",
        "\n",
        "### L’instruction `break`\n",
        "\n",
        "Une manière alternative de spécifier un critère d’arrêt est d’utiliser\n",
        "l’instruction `break`. Lorsque cette instruction est atteinte et\n",
        "exécutée, la boucle est immédiatement interrompue.\n",
        "\n",
        "Illustrons son fonctionnement à l’aide d’un exemple. La première ligne\n",
        "crée une boucle infinie, dans la mesure où, par définition, `True` est\n",
        "toujours évalué à `True`. Le programme demande ensuite à l’utilisateur\n",
        "de taper un prénom, et ce infiniment jusqu’à que l’utilisateur tape le\n",
        "prénom attendu. Dans ce cas seulement, l’instruction `break` est\n",
        "atteinte et la boucle s’arrête. Le message “Bienvenue <votre_prenom>”\n",
        "s’affiche enfin, dans la mesure où le deuxième `print` n’est pas inclus\n",
        "dans la boucle."
      ],
      "id": "18e6e772-5d04-47b8-a689-97e1dca8a3e6"
    },
    {
      "cell_type": "code",
      "execution_count": null,
      "metadata": {},
      "outputs": [],
      "source": [
        "votre_prenom = \"Romain\"\n",
        "\n",
        "while True:\n",
        "    print(\"Veuillez entrer votre prénom.\")\n",
        "    prenom = input()\n",
        "    if prenom == votre_prenom:\n",
        "        break\n",
        "print(\"Bienvenue \" + votre_prenom)"
      ],
      "id": "a4d93153"
    },
    {
      "cell_type": "markdown",
      "metadata": {},
      "source": [
        "Il est important de noter qu’une instruction `break` ne met fin qu’à la\n",
        "boucle de niveau directement supérieur à elle. Dans le cas d’une boucle\n",
        "à plusieurs niveaux, il est tout à fait possible que les opérations\n",
        "continuent même lorsqu’une instruction `break` a été atteinte.\n",
        "\n",
        "Illustrons ce principe avec un exemple."
      ],
      "id": "5aaafc8a-a7ad-4d23-b85a-6f320d512ffa"
    },
    {
      "cell_type": "code",
      "execution_count": null,
      "metadata": {},
      "outputs": [],
      "source": [
        "i = 0\n",
        "while i <= 5:\n",
        "    for j in range(5):\n",
        "        if j == 2:\n",
        "            print(\"Break.\")\n",
        "            break\n",
        "    i += 1"
      ],
      "id": "520f1f26"
    },
    {
      "cell_type": "markdown",
      "metadata": {},
      "source": [
        "A chaque itération de la boucle `while`, une boucle `for` est lancée,\n",
        "qui atteint une instruction `break` à la troisième itération (lorsque\n",
        "`j` vaut 2). Cela a pour effet de mettre fin à la boucle `for`, mais pas\n",
        "à la boucle `while`, qui exécute la suite de ses instructions\n",
        "(l’incrémentation de `i` d’une unité) avant de passer à l’itération\n",
        "suivante.\n",
        "\n",
        "### L’instruction `continue`\n",
        "\n",
        "L’instruction `continue` permet de passer à l’itération suivante de la\n",
        "boucle.\n",
        "\n",
        "Agrémentons l’exemple précédent pour illustrer son fonctionnement. Tant\n",
        "qu’un prénom différent de celui attendu est rentré, l’instruction\n",
        "`continue` est évaluée, et le programme continue à demander un prénom à\n",
        "l’utilisateur. Lorsque le bon prénom est rentré, le programme demande à\n",
        "l’utilisateur de rentrer un mot de passe. Si le mot de passe est celui\n",
        "attendu, l’instruction `break` est atteinte et exécutée, la boucle\n",
        "s’arrête. En cas de mauvais mot de passe en revanche, la boucle\n",
        "redémarre au début du bloc d’exécution, il faut donc de nouveau rentrer\n",
        "un prénom avant le mot de passe."
      ],
      "id": "e5a2c3d3-05d2-4210-a801-4a1f1abfc519"
    },
    {
      "cell_type": "code",
      "execution_count": null,
      "metadata": {},
      "outputs": [],
      "source": [
        "votre_prenom = \"\"\n",
        "\n",
        "while True:\n",
        "    print(\"Veuillez entrer votre prénom.\")\n",
        "    prenom = input()\n",
        "    if prenom != votre_prenom:\n",
        "        continue\n",
        "    print(\"Veuillez entrer votre mot de passe.\")\n",
        "    mdp = input()\n",
        "    if mdp == \"insee2021\":\n",
        "        break\n",
        "print(\"Bienvenue \" + votre_prenom)"
      ],
      "id": "d1f86929"
    },
    {
      "cell_type": "markdown",
      "metadata": {},
      "source": [
        "NB : le code ci-dessus à seulement valeur d’exemple. Comme on le verra\n",
        "dans un prochain tutoriel sur les bonnes pratiques de code, il ne faut\n",
        "**jamais écrire de secrets (mots de passe, tokens..) en clair dans son\n",
        "code.**\n",
        "\n",
        "## Exercices\n",
        "\n",
        "### Questions de compréhension\n",
        "\n",
        "-   1/ Comment fonctionne une boucle `for` ?\n",
        "\n",
        "-   2/ La variable d’itération définie lors d’une boucle `for`\n",
        "    persiste-t-elle en mémoire une fois la boucle terminée ?\n",
        "\n",
        "-   3/ Que fait la fonction `range` ? Pourquoi est-elle particulièrement\n",
        "    utile dans le cadre des boucles `for` ?\n",
        "\n",
        "-   4/ Que fait la fonction `enumerate` ? Pourquoi est-elle\n",
        "    particulièrement utile dans le cadre des boucles `for` ?\n",
        "\n",
        "-   5/ Comment fonctionne une boucle `while` ?\n",
        "\n",
        "-   6/ Quand s’arrête une boucle `while` ? En quoi cela diffère-t-il des\n",
        "    boucles `for` ?\n",
        "\n",
        "-   7/ Que fait l’instruction `break` ?\n",
        "\n",
        "-   8/ Que fait l’instruction `continue` ?"
      ],
      "id": "a48b4422-c0f1-4ac3-98ef-e97116c47cc1"
    },
    {
      "cell_type": "markdown",
      "metadata": {},
      "source": [
        "<details>\n",
        "\n",
        "<summary>\n",
        "\n",
        "Afficher la solution\n",
        "\n",
        "</summary>\n",
        "\n",
        "1/ Une boucle `for` définit une variable d’itération qui va parcourir\n",
        "chaque élément d’un objet itérable. A chaque itération, une série\n",
        "d’instructions est effectuée.\n",
        "\n",
        "2/ Oui, et sa valeur finale est égale à la dernière valeur de l’objet\n",
        "itérable.\n",
        "\n",
        "3/ La fonction `range(n)` crée un objet itérable qui contient tous les\n",
        "entiers compris entre 0 et n-1. Elle est très utilisée comme itérable\n",
        "dans les boucles `for` car elle permet d’itérer sur une séquence\n",
        "d’entiers sans avoir à mettre celle-ci dans une liste à la main.\n",
        "\n",
        "4/ La fonction `enumerate` appliquée à un objet itérable renvoie un\n",
        "nouvel objet itérable qui contient l’ensemble des couples (indice,\n",
        "élément) associés à l’objet initial, sous forme de tuples. Dans le cadre\n",
        "d’une boucle `for`, elle permet d’itérer à la fois sur les éléments d’un\n",
        "itérable et sur les positions de ces éléments.\n",
        "\n",
        "5/ Une boucle `while` exécute une série d’instructions de manière\n",
        "répétée tant que la condition logique spécifiée évalue à True.\n",
        "\n",
        "6/ Une boucle `while` s’arrête dès lors que la condition logique\n",
        "spécifiée évalue à False. Si ce cas ne se produit jamais, une boucle\n",
        "`while` peut donc être infinie. A l’inverse, une boucle `for` peut être\n",
        "très longue mais jamais infinie, dans la mesure où elle s’arrête dès\n",
        "lors qu’elle a terminé de parcourir l’objet.\n",
        "\n",
        "7/ L’instruction `break` force la boucle de niveau directement supérieur\n",
        "à se terminer.\n",
        "\n",
        "8/ L’instruction `continue` force la boucle de niveau directement\n",
        "supérieur à passer à l’itération suivante.\n",
        "\n",
        "</details>"
      ],
      "id": "e8fe37c6-a11f-4d60-9835-ba2fdcaf0264"
    },
    {
      "cell_type": "markdown",
      "metadata": {},
      "source": [
        "### Prédiction de résultats de boucles `while`\n",
        "\n",
        "Essayer de prédire ce que vont produire les boucles `while` suivantes,\n",
        "et vérifiez vos résultats."
      ],
      "id": "49e9c490-2ec9-42c5-9f55-95e168d621c2"
    },
    {
      "cell_type": "code",
      "execution_count": null,
      "metadata": {},
      "outputs": [],
      "source": [
        "# 1.\n",
        "i = 0\n",
        "while i <= 10:\n",
        "    print(i)\n",
        "    \n",
        "# 2.\n",
        "a = 1\n",
        "while (a < 10):\n",
        "    a += 1\n",
        "    if a == 5:\n",
        "        break\n",
        "    print(\"Condition d'arrêt atteinte.\")\n",
        "    \n",
        "# 3.\n",
        "while False:\n",
        "    print(\"hello world\")\n",
        "\n",
        "# 4.\n",
        "while True:\n",
        "    print(\"hello world\")\n",
        "    break\n",
        "\n",
        "# 5.\n",
        "while 5 >= 3:\n",
        "    continue\n",
        "    print(\"hello world\")"
      ],
      "id": "090850f4"
    },
    {
      "cell_type": "code",
      "execution_count": null,
      "metadata": {},
      "outputs": [],
      "source": [
        "# Testez votre réponse dans cette cellule"
      ],
      "id": "9056a0b7"
    },
    {
      "cell_type": "markdown",
      "metadata": {},
      "source": [
        "<details>\n",
        "\n",
        "<summary>\n",
        "\n",
        "Afficher la solution\n",
        "\n",
        "</summary>\n",
        "\n",
        "-   1.  Boucle infinie car le i n’est jamais incrémenté, la condition\n",
        "        est donc toujours vérifiée. 0 va s’imprimer à l’infini.\n",
        "-   1.  La boucle va s’arrêter à la 4ème itération, lorsque a vaut 5.\n",
        "        Cependant, le print est mal indenté =\\> il va s’imprimer 3 fois\n",
        "        au lieu d’1.\n",
        "-   1.  False évalue à False =\\> la boucle ne s’exécute pas du tout.\n",
        "        Aucun output.\n",
        "-   1.  True évalue à True =\\> la boucle est théoriquement infinie, mais\n",
        "        il y a un break. Il va donc y avoir une seule itération, soit un\n",
        "        seul print de “hello world”\n",
        "-   1.  5 \\>= 3 évalue à True =\\> la boucle est infinie. Le continue est\n",
        "        exécuté à chaque itération avant que le print ne puisse\n",
        "        s’exécuter. La boucle tourne à l’infini, mais sans output.\n",
        "\n",
        "</details>"
      ],
      "id": "441b5687-6177-4ed7-a72f-068871ed629b"
    },
    {
      "cell_type": "markdown",
      "metadata": {},
      "source": [
        "### Effet d’une erreur d’indentation\n",
        "\n",
        "Source :\n",
        "[python.sdv.univ-paris-diderot.fr](https://python.sdv.univ-paris-diderot.fr/06_tests/)\n",
        "\n",
        "Afin de visualiser l’importance de l’indentation dans les blocs\n",
        "d’instruction, essayez de prédire ce que vont respectivement retourner\n",
        "les deux programmes suivants. Lequel a l’effet attendu ?"
      ],
      "id": "e2782e02-56f1-43de-9ca3-9e89db1c7b3f"
    },
    {
      "cell_type": "code",
      "execution_count": null,
      "metadata": {},
      "outputs": [],
      "source": [
        "nombres = [4, 5, 6]\n",
        "for nb in nombres:\n",
        "    if nb == 5:\n",
        "        print(\"Le test est vrai\")\n",
        "        print(f\"car la variable nb vaut {nb}\")"
      ],
      "id": "a0d316d8"
    },
    {
      "cell_type": "code",
      "execution_count": null,
      "metadata": {},
      "outputs": [],
      "source": [
        "nombres = [4, 5, 6]\n",
        "for nb in nombres:\n",
        "    if nb == 5:\n",
        "        print(\"Le test est vrai\")\n",
        "    print(f\"car la variable nb vaut {nb}\")"
      ],
      "id": "5757b30d"
    },
    {
      "cell_type": "code",
      "execution_count": null,
      "metadata": {},
      "outputs": [],
      "source": [
        "# Testez votre réponse dans cette cellule"
      ],
      "id": "81395522"
    },
    {
      "cell_type": "markdown",
      "metadata": {},
      "source": [
        "<details>\n",
        "\n",
        "<summary>\n",
        "\n",
        "Afficher la solution\n",
        "\n",
        "</summary>\n",
        "\n",
        "Le premier programme est correct. Dans le second, le second `print`\n",
        "n’est pas correctement indenté. En conséquence, il s’exécute à chaque\n",
        "itération et non pas juste lorsque `nb == 5`.\n",
        "\n",
        "</details>"
      ],
      "id": "c92bb84d-61ae-4660-adce-d312d8835b59"
    },
    {
      "cell_type": "markdown",
      "metadata": {},
      "source": [
        "### Convertir une boucle `for` en boucle `while`\n",
        "\n",
        "Réécrivez la boucle `for` suivante à l’aide d’une boucle `while`."
      ],
      "id": "69c9fa6d-6033-48e9-aad2-440c8f5b1dc9"
    },
    {
      "cell_type": "code",
      "execution_count": null,
      "metadata": {},
      "outputs": [],
      "source": [
        "gamme = ['do', 're', 'mi', 'fa', 'sol', 'la', 'si']\n",
        "\n",
        "for i, note in enumerate(gamme):\n",
        "    print(\"La note numéro \" + str(i) + \" de la gamme de do majeur est \" + note)"
      ],
      "id": "c505ac2f"
    },
    {
      "cell_type": "code",
      "execution_count": null,
      "metadata": {},
      "outputs": [],
      "source": [
        "# Testez votre réponse dans cette cellule"
      ],
      "id": "7a55a039"
    },
    {
      "cell_type": "markdown",
      "metadata": {},
      "source": [
        "<details>\n",
        "\n",
        "<summary>\n",
        "\n",
        "Afficher la solution\n",
        "\n",
        "</summary>\n",
        "\n",
        "``` python\n",
        "gamme = ['do', 're', 'mi', 'fa', 'sol', 'la', 'si']\n",
        "\n",
        "i = 0\n",
        "while i <= (len(gamme) - 1):\n",
        "    # On soustrait 1 à la longueur de `gamme` car l'index maximal est 6\n",
        "    print(\"La note numéro \" + str(i) + \" de la gamme de do majeur est \" + gamme[i])\n",
        "    i += 1\n",
        "```\n",
        "\n",
        "</details>"
      ],
      "id": "c1274874-b0a1-4efa-aef3-2bbaff971474"
    },
    {
      "cell_type": "markdown",
      "metadata": {},
      "source": [
        "### Recherche d’un élément dans une liste\n",
        "\n",
        "Soit un entier cible `n_cible` et une liste d’entiers `l` tels que\n",
        "définis dans la cellule suivante. A l’aide d’une boucle `for` et de la\n",
        "fonction `enumerate` :\n",
        "\n",
        "-   vérifier si l’entier cible est présent dans la liste `l`.\n",
        "\n",
        "-   si oui, afficher le message ‘Le nombre `n_cible` est à la position\n",
        "    `i` de la liste’, et mettre fin à la boucle."
      ],
      "id": "bc76075a-af14-490a-aa97-ddcacc433579"
    },
    {
      "cell_type": "code",
      "execution_count": null,
      "metadata": {},
      "outputs": [],
      "source": [
        "n_cible = 78\n",
        "\n",
        "l = [12, 98, 65, 39, 78, 55, 119, 27, 33]"
      ],
      "id": "6cb9918f"
    },
    {
      "cell_type": "code",
      "execution_count": null,
      "metadata": {},
      "outputs": [],
      "source": [
        "# Testez votre réponse dans cette cellule"
      ],
      "id": "b192ef64"
    },
    {
      "cell_type": "markdown",
      "metadata": {},
      "source": [
        "<details>\n",
        "\n",
        "<summary>\n",
        "\n",
        "Afficher la solution\n",
        "\n",
        "</summary>\n",
        "\n",
        "``` python\n",
        "n_cible = 78\n",
        "\n",
        "l = [12, 98, 65, 39, 78, 55, 119, 27, 33]\n",
        "\n",
        "for i, n in enumerate(l):\n",
        "    if n == n_cible:\n",
        "        print(\"Le nombre \" + str(n) + \" est à la position \" + str(i) + \" de la liste.\")\n",
        "        break\n",
        "\n",
        "# NB : version plus efficiente sans boucle\n",
        "if n_cible in l:\n",
        "    pos = l.index(n_cible)\n",
        "    print(\"Le nombre \" + str(n_cible) + \" est à la position \" + str(pos) + \" de la liste.\")\n",
        "```\n",
        "\n",
        "</details>"
      ],
      "id": "b16f0242-e1f0-4319-80ce-fb3338472e20"
    },
    {
      "cell_type": "markdown",
      "metadata": {},
      "source": [
        "### Suite de Fibonacci\n",
        "\n",
        "La suite de Fibonacci se définit de la manière suivante :\n",
        "\n",
        "-   les deux premiers nombres sont 0 et 1\n",
        "\n",
        "-   chaque autre nombre de la suite s’obtient en additionnant les deux\n",
        "    nombres qui le précèdent\n",
        "\n",
        "Ecrire un programme permettant de calculer les $n$ premiers termes de la\n",
        "suite à l’aide d’une boucle `for`."
      ],
      "id": "ac98ffd3-94fe-4358-8d41-237056b794d1"
    },
    {
      "cell_type": "code",
      "execution_count": null,
      "metadata": {},
      "outputs": [],
      "source": [
        "# Testez votre réponse dans cette cellule"
      ],
      "id": "2bb651b3"
    },
    {
      "cell_type": "markdown",
      "metadata": {},
      "source": [
        "<details>\n",
        "\n",
        "<summary>\n",
        "\n",
        "Afficher la solution\n",
        "\n",
        "</summary>\n",
        "\n",
        "``` python\n",
        "n_termes = 20\n",
        "num1 = 0\n",
        "num2 = 1\n",
        "\n",
        "for i in range(n_termes):\n",
        "    print(num1)\n",
        "    num3 = num1 + num2\n",
        "    num1 = num2\n",
        "    num2 = num3\n",
        "```\n",
        "\n",
        "</details>"
      ],
      "id": "7661e3e7-18b3-4b2b-93d9-dae6f2bd2a92"
    },
    {
      "cell_type": "markdown",
      "metadata": {},
      "source": [
        "### Dictionnaire des tables de multiplication\n",
        "\n",
        "A l’aide de deux boucles `for` imbriquées, construire un dictionnaire\n",
        "`tables` permettant de réaliser les tables de multiplication jusqu’à la\n",
        "table de 12. Requêtez votre dictionnaire pour vérifier sa pertinence.\n",
        "\n",
        "Voici quelques exemples de requête que doit renvoyer votre dictionnaire\n",
        ":\n",
        "\n",
        "-   tables\\[2\\]\\[3\\] -\\> 6\n",
        "\n",
        "-   tables\\[9\\]\\[5\\] -\\> 45\n",
        "\n",
        "-   tables\\[12\\]\\[7\\] -\\> 84"
      ],
      "id": "57b7f3be-0d53-47e6-8b76-8a2b79fe753a"
    },
    {
      "cell_type": "code",
      "execution_count": null,
      "metadata": {},
      "outputs": [],
      "source": [
        "# Testez votre réponse dans cette cellule"
      ],
      "id": "3e755b84"
    },
    {
      "cell_type": "markdown",
      "metadata": {},
      "source": [
        "<details>\n",
        "\n",
        "<summary>\n",
        "\n",
        "Afficher la solution\n",
        "\n",
        "</summary>\n",
        "\n",
        "``` python\n",
        "tables = {}\n",
        "\n",
        "for i in range(13):\n",
        "    tables[i] = {}\n",
        "    for j in range(13):\n",
        "        tables[i][j] = i*j\n",
        "\n",
        "print(tables[2][3])\n",
        "print(tables[9][5])\n",
        "print(tables[12][7])\n",
        "```\n",
        "\n",
        "</details>"
      ],
      "id": "3410b434-aa75-4387-9446-9523de428201"
    },
    {
      "cell_type": "markdown",
      "metadata": {},
      "source": [
        "### Calcul du minimum et du maximum d’une série “à la main”\n",
        "\n",
        "Calculer le minimum et le maximum de la série de valeurs suivantes, sans\n",
        "utiliser les fonctions `min` et `max` de Python.\n",
        "\n",
        "x = \\[8, 18, 6, 0, 15, 17.5, 9, 1\\]"
      ],
      "id": "7fe997ff-769e-4721-b1b3-11856e9b4abc"
    },
    {
      "cell_type": "code",
      "execution_count": null,
      "metadata": {},
      "outputs": [],
      "source": [
        "# Testez votre réponse dans cette cellule"
      ],
      "id": "818bc857"
    },
    {
      "cell_type": "markdown",
      "metadata": {},
      "source": [
        "<details>\n",
        "\n",
        "<summary>\n",
        "\n",
        "Afficher la solution\n",
        "\n",
        "</summary>\n",
        "\n",
        "``` python\n",
        "x = [8, 18, 6, 0, 15, 17.5, 9, 1]\n",
        "\n",
        "current_min = x[0]\n",
        "current_max = x[0]\n",
        "for n in x[1:]:\n",
        "    if n <= current_min:\n",
        "        current_min = n\n",
        "    if n >= current_max:\n",
        "        current_max = n\n",
        "\n",
        "print(current_min == min(x))\n",
        "print(current_max == max(x))\n",
        "```\n",
        "\n",
        "</details>"
      ],
      "id": "abeadaed-9f9c-4b9a-a527-9bd0f69beb41"
    },
    {
      "cell_type": "markdown",
      "metadata": {},
      "source": [
        "### Calcul de moyenne et de variance “à la main”\n",
        "\n",
        "Calculer la moyenne et la variance de la série de valeurs suivantes,\n",
        "sans utiliser des fonctions déjà codées :\n",
        "\n",
        "x = \\[8, 18, 6, 0, 15, 17.5, 9, 1\\]\n",
        "\n",
        "Pour rappel, les formules sont :\n",
        "\n",
        "-   moyenne : $$\\bar{x} = {\\frac {1}{n}}\\sum_{i=1}^{n}x_{i}$$\n",
        "\n",
        "-   variance :\n",
        "    $$\\sigma^2 = {\\frac {1}{n}}\\sum_{i=1}^{n} (x_{i}-\\bar{x})^2$$\n",
        "\n",
        "NB :\n",
        "\n",
        "-   n à la puissance k s’écrit en Python `n**k`\n",
        "\n",
        "-   en pratique, il ne faut surtout pas essayer de recoder soi-même ce\n",
        "    genre de fonctions, mais utiliser des fonctions issues de packages\n",
        "    adaptés, comme `numpy`."
      ],
      "id": "c88967f8-8992-4c36-938f-d0dd536c4d6e"
    },
    {
      "cell_type": "code",
      "execution_count": null,
      "metadata": {},
      "outputs": [],
      "source": [
        "# Testez votre réponse dans cette cellule"
      ],
      "id": "02dd07d1"
    },
    {
      "cell_type": "markdown",
      "metadata": {},
      "source": [
        "<details>\n",
        "\n",
        "<summary>\n",
        "\n",
        "Afficher la solution\n",
        "\n",
        "</summary>\n",
        "\n",
        "``` python\n",
        "x = [8, 18, 6, 0, 15, 17.5, 9, 1]\n",
        "n = len(x)\n",
        "\n",
        "somme_moy = 0\n",
        "for x_i in x:\n",
        "    somme_moy += x_i\n",
        "moyenne = somme_moy / n\n",
        "\n",
        "somme_var = 0\n",
        "for x_i in x:\n",
        "    somme_var += (x_i - moyenne)**2\n",
        "variance = somme_var / n\n",
        "\n",
        "print(moyenne)\n",
        "print(variance)\n",
        "\n",
        "# Vérification avec les fonctions du package numpy\n",
        "import numpy as np\n",
        "print(np.mean(x))\n",
        "print(np.var(x))\n",
        "```\n",
        "\n",
        "</details>"
      ],
      "id": "eda7bfd6-263c-4f50-86b3-6f0e8e9c3e7c"
    },
    {
      "cell_type": "markdown",
      "metadata": {},
      "source": [
        "### Usage avancé de la fonction `range`\n",
        "\n",
        "Nous avons vu plus haut l’usage basique de la fonction `range` :\n",
        "`range(n)` crée un objet itérable qui contient l’ensemble des entiers de\n",
        "$0$ à $n-1$. Les usages possibles de cette fonction sont cependant plus\n",
        "complets, et parfois utiles dans le cadre de problèmes précis.\n",
        "\n",
        "La syntaxe complète de la fonction est `range(start, stop, step)` où :\n",
        "\n",
        "-   `start` est l’entier à partir duquel commence la séquence d’entiers\n",
        "\n",
        "-   `stop` est l’entier avant lequel se termine la séquence d’entiers\n",
        "\n",
        "-   `step` est le pas, i.e. la valeur de l’incrément entre chaque entier\n",
        "    de la séquence.\n",
        "\n",
        "Seul le paramètre `stop` est obligatoire, c’est celui qui est utilisé\n",
        "lorsqu’on appelle `range(n)`.\n",
        "\n",
        "En utilisant la fonction `range`, afficher :\n",
        "\n",
        "-   l’ensemble des entiers de 0 à 10 (10 exclu)\n",
        "\n",
        "-   l’ensemble des entiers de 10 à 20 (20 inclus)\n",
        "\n",
        "-   l’ensemble des nombres pairs compris entre 30 et 40 (40 inclus)\n",
        "\n",
        "-   l’ensemble des multiples de 10 entre 1 et 100 (100 exclu)\n",
        "\n",
        "-   l’ensemble des entiers de 10 à 20 (20 inclus), dans l’ordre inverse\n",
        "    (de 20 à 10)"
      ],
      "id": "87434359-a50b-40f9-a3d0-a854e789aea7"
    },
    {
      "cell_type": "code",
      "execution_count": null,
      "metadata": {},
      "outputs": [],
      "source": [
        "# Testez votre réponse dans cette cellule"
      ],
      "id": "2c52a0c8"
    },
    {
      "cell_type": "markdown",
      "metadata": {},
      "source": [
        "<details>\n",
        "\n",
        "<summary>\n",
        "\n",
        "Afficher la solution\n",
        "\n",
        "</summary>\n",
        "\n",
        "``` python\n",
        "print(list(range(10)))\n",
        "\n",
        "print(list(range(10, 21)))\n",
        "\n",
        "print(list(range(30, 41, 2)))\n",
        "\n",
        "print(list(range(10, 100, 10)))\n",
        "\n",
        "print(list(range(20, 9, -1)))\n",
        "```\n",
        "\n",
        "</details>"
      ],
      "id": "c0b125a6-bbc8-4c11-ba2a-bfd3e9622037"
    },
    {
      "cell_type": "markdown",
      "metadata": {},
      "source": [
        "### Le juste prix, version améliorée\n",
        "\n",
        "Dans le précédent tutoriel, nous avons codé un jeu du juste prix. Mais\n",
        "il était un peu limité, puisqu’il fallait réexécuter le code à chaque\n",
        "étape du jeu. A l’aide de boucles, réécrivez le jeu de manière\n",
        "complètement automatique.\n",
        "\n",
        "Rappel des règles :\n",
        "\n",
        "**En utilisant `input` et les instructions `if`, `elif` et `else`**,\n",
        "coder le programme suivant :\n",
        "\n",
        "-   demander une valeur à l’utilisateur, qui sera stockée dans une\n",
        "    variable `p`\n",
        "\n",
        "-   si `p` est strictement inférieur à $15$, imprimer (avec la fonction\n",
        "    `print`) le message “trop bas !”.\n",
        "\n",
        "-   si `p` est strictement supérieur à $15$, imprimer le message “trop\n",
        "    haut !”.\n",
        "\n",
        "-   si `p` est égal à $15$, imprimer le message “dans le mille !”\n",
        "\n",
        "Attention, `input` renvoie par défaut une chaîne de caractère. Il faut\n",
        "donc convertir la valeur de `p` au format entier (via la fonction `int`)\n",
        "pour que le jeu fonctionne."
      ],
      "id": "3996525e-06af-40d3-a215-702e53bb3b5d"
    },
    {
      "cell_type": "code",
      "execution_count": null,
      "metadata": {},
      "outputs": [],
      "source": [
        "# Testez votre réponse dans cette cellule"
      ],
      "id": "69b3ed12"
    },
    {
      "cell_type": "markdown",
      "metadata": {},
      "source": [
        "<details>\n",
        "\n",
        "<summary>\n",
        "\n",
        "Afficher la solution\n",
        "\n",
        "</summary>\n",
        "\n",
        "``` python\n",
        "juste_prix = 15\n",
        "\n",
        "while True:\n",
        "    print(\"Proposer un nombre entre 1 et 50.\")\n",
        "    p = input()\n",
        "    p = int(p)\n",
        "    if p < juste_prix:\n",
        "        print(\"trop bas !\")\n",
        "    elif p > juste_prix:\n",
        "        print(\"trop haut !\")\n",
        "    else:\n",
        "        break\n",
        "\n",
        "print(\"dans le mille !\")\n",
        "```\n",
        "\n",
        "</details>"
      ],
      "id": "3d8912fd-dbca-4334-b870-b24fe363c9e6"
    }
  ],
  "nbformat": 4,
  "nbformat_minor": 5,
  "metadata": {
    "kernelspec": {
      "name": "python3",
      "display_name": "Python 3 (ipykernel)",
      "language": "python",
      "path": "/Users/gblin/opt/anaconda3/share/jupyter/kernels/python3"
    }
  }
}
