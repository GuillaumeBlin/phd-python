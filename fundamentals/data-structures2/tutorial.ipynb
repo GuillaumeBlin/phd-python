{
  "cells": [
    {
      "cell_type": "markdown",
      "metadata": {},
      "source": [
        "# Structures de données 2 : dictionnaires et sets\n",
        "\n",
        "Dans le tutoriel précédent, nous avons manipulé des structures de\n",
        "données de type séquentielles : les listes et les tuples. A présent,\n",
        "nous allons découvrir les dictionnaires et les sets, qui sont des\n",
        "structures de données non-ordonnées : les objets ne sont plus stockés\n",
        "par position (ou index) mais par **clé**, c’est à dire un identifiant\n",
        "unique.\n",
        "\n",
        "## Dictionnaires\n",
        "\n",
        "### Définition\n",
        "\n",
        "Les dictionnaires sont des **collections non-ordonnées de couples\n",
        "clé-valeur**. Un dictionnaire se définit selon la syntaxe suivante :\n",
        "`d = {'cle1': 'valeur1', 'cle2': 'valeur2'}`."
      ],
      "id": "4223169f-1584-4585-8392-033fbc34f6a1"
    },
    {
      "cell_type": "code",
      "execution_count": null,
      "metadata": {},
      "outputs": [],
      "source": [
        "inventaire = {'cafe': '500g', 'lait': '1,5L'}\n",
        "inventaire"
      ],
      "id": "1ab0af45"
    },
    {
      "cell_type": "code",
      "execution_count": null,
      "metadata": {},
      "outputs": [],
      "source": [
        "type(inventaire)"
      ],
      "id": "a9e2abff"
    },
    {
      "cell_type": "markdown",
      "metadata": {},
      "source": [
        "Il est possible de mettre autant de clés que l’on souhaite dans un\n",
        "dictionnaire. En revanche, **les clés sont uniques**, afin d’identifier\n",
        "de manière certaine la valeur associée. Si l’on essaye de définir un\n",
        "dictionnaire avec une clé dupliquée, Python ne renvoie pas d’erreur,\n",
        "mais seule la dernière clé dupliquée est prise en compte."
      ],
      "id": "186e0cb6-0c2a-491a-9a53-675691c4605a"
    },
    {
      "cell_type": "code",
      "execution_count": null,
      "metadata": {},
      "outputs": [],
      "source": [
        "inventaire = {'cafe': '500g', 'lait': '1,5L', 'cafe': '300g'}\n",
        "inventaire"
      ],
      "id": "8f33b970"
    },
    {
      "cell_type": "markdown",
      "metadata": {},
      "source": [
        "Que peut contenir un dictionnaire ? Les clés peuvent être de différents\n",
        "types, mais on n’utilise en général que les chaînes de caractères ou\n",
        "bien les entiers. Les valeurs d’un dictionnaire peuvent quant à elles\n",
        "être n’importe quel type d’objet Python.\n",
        "\n",
        "### Utilisation\n",
        "\n",
        "Comme les dictionnaires sont **non-ordonnés**, il n’y a pas de notion de\n",
        "position : on accède à une valeur par sa clé associée. Par exemple, pour\n",
        "récupérer la valeur (`'1,5L'`) associée à la clé `'lait'` :"
      ],
      "id": "84a5a247-d8a5-4461-9fab-4ca860aa9548"
    },
    {
      "cell_type": "code",
      "execution_count": null,
      "metadata": {},
      "outputs": [],
      "source": [
        "inventaire['lait']"
      ],
      "id": "f2583159"
    },
    {
      "cell_type": "markdown",
      "metadata": {},
      "source": [
        "Des couples clé-valeur supplémentaires peuvent être ajoutés à un\n",
        "dictionnaire déjà existant, en utilisant la syntaxe de l’assignation de\n",
        "variable."
      ],
      "id": "2327d35b-3aaa-42fc-943b-f26e7b5e5330"
    },
    {
      "cell_type": "code",
      "execution_count": null,
      "metadata": {},
      "outputs": [],
      "source": [
        "inventaire[\"céréales\"] = \"250g\"\n",
        "inventaire"
      ],
      "id": "77fd68fc"
    },
    {
      "cell_type": "markdown",
      "metadata": {},
      "source": [
        "A l’inverse des listes, les clés ne doivent pas nécessairement commencer\n",
        "à 0 et peuvent être n’importe quel nombre."
      ],
      "id": "647f7a1a-21ff-4b5b-811f-4d9aa8094db0"
    },
    {
      "cell_type": "code",
      "execution_count": null,
      "metadata": {},
      "outputs": [],
      "source": [
        "dic1 = {12: \"Averyon\", 33: \"Gironde\"}\n",
        "\n",
        "print(\"Le département 33 est la \" + dic1[33])  # Concaténation de strings !"
      ],
      "id": "c791fc5b"
    },
    {
      "cell_type": "markdown",
      "metadata": {},
      "source": [
        "De même, les valeurs peuvent être de différentes natures, y compris des\n",
        "conteneurs de données."
      ],
      "id": "b010b868-f227-4eb1-adc0-f7804d577fd8"
    },
    {
      "cell_type": "code",
      "execution_count": null,
      "metadata": {},
      "outputs": [],
      "source": [
        "dic2 = {\"gamme\" : \"do majeur\",\n",
        "        \"notes\": [\"do\", \"re\", \"mi\", \"fa\", \"sol\", \"la\", \"si\"]}\n",
        "\n",
        "dic2[\"notes\"]"
      ],
      "id": "17bc3886"
    },
    {
      "cell_type": "markdown",
      "metadata": {},
      "source": [
        "Les dictionnaires peuvent notamment contenir d’autres dictionnaires.\n",
        "Cela les rend particulièrement adaptés pour représenter des structures\n",
        "hiérarchiques de données."
      ],
      "id": "a1f56991-7ecc-45a4-9b06-7c848b755610"
    },
    {
      "cell_type": "code",
      "execution_count": null,
      "metadata": {},
      "outputs": [],
      "source": [
        "cv = {\n",
        "    \"marc\": {\"poste\": \"manager\", \"experience\": 7, \"hobbies\": [\"couture\", \"frisbee\"]},\n",
        "    \"mirande\": {\"poste\": \"ingénieure\", \"experience\": 5, \"hobbies\": [\"trekking\"]}\n",
        "}\n",
        "\n",
        "print(cv[\"marc\"])\n",
        "print(cv[\"marc\"][\"hobbies\"][0])"
      ],
      "id": "6293ff95"
    },
    {
      "cell_type": "markdown",
      "metadata": {},
      "source": [
        "Répétons-le : les dictionnaires n’ont pas de notion d’ordre. Ainsi, il\n",
        "n’y a pas de sens à requêter l’élément de position `0` d’un dictionnaire\n",
        "(sauf si la clé `0` existe..). Requêter une clé inexistante renvoie une\n",
        "erreur."
      ],
      "id": "663b29a5-5f22-4617-98d8-2919f8993707"
    },
    {
      "cell_type": "code",
      "execution_count": null,
      "metadata": {},
      "outputs": [],
      "source": [
        "dic1 = {12: \"Averyon\", 33: \"Gironde\"}\n",
        "\n",
        "dic1[0]"
      ],
      "id": "5e264023"
    },
    {
      "cell_type": "markdown",
      "metadata": {},
      "source": [
        "### Modification d’éléments\n",
        "\n",
        "Il est possible de modifier une valeur associée à une clé existante dans\n",
        "le dictionnaire. La nouvelle valeur peut être de type différent de\n",
        "l’originale."
      ],
      "id": "8ff8b89a-249d-4fe5-95e9-4cbcb1226d8f"
    },
    {
      "cell_type": "code",
      "execution_count": null,
      "metadata": {},
      "outputs": [],
      "source": [
        "inventaire = {'cafe': '500g', 'lait': '1,5L'}\n",
        "inventaire['cafe'] = {'arabica': '250g', 'robusta': '400g'}\n",
        "inventaire"
      ],
      "id": "2253ca5c"
    },
    {
      "cell_type": "markdown",
      "metadata": {},
      "source": [
        "### Suppression d’éléments\n",
        "\n",
        "Pour supprimer une clé (et la valeur associée), les mêmes opérations que\n",
        "celles qui permettent de supprimer des éléments dans une liste peuvent\n",
        "être utilisées."
      ],
      "id": "1522977a-2fcc-482a-b038-ac1a94483cd3"
    },
    {
      "cell_type": "code",
      "execution_count": null,
      "metadata": {},
      "outputs": [],
      "source": [
        "# Avec l'opérateur `del`\n",
        "inventaire = {'cafe': '500g', 'lait': '1,5L'}\n",
        "del inventaire['lait']\n",
        "inventaire"
      ],
      "id": "25f4b917"
    },
    {
      "cell_type": "code",
      "execution_count": null,
      "metadata": {},
      "outputs": [],
      "source": [
        "# Avec la méthode `pop`\n",
        "inventaire = {'cafe': '500g', 'lait': '1,5L'}\n",
        "inventaire.pop('lait')\n",
        "inventaire"
      ],
      "id": "20f8b828"
    },
    {
      "cell_type": "markdown",
      "metadata": {},
      "source": [
        "### Quelques méthodes utiles\n",
        "\n",
        "Nous avons vu précédemment que le fait de requêter une clé qui n’existe\n",
        "pas renvoyait une erreur. La méthode `.get()` permet de requêter une clé\n",
        "sans être sûr de son existence, puisqu’elle ne renvoie aucune erreur\n",
        "dans ce cas, mais l’objet `None`, que nous verrons dans un prochain\n",
        "tutoriel."
      ],
      "id": "29f08d51-0e0b-44d7-ac2a-a2a3dbf1b401"
    },
    {
      "cell_type": "code",
      "execution_count": null,
      "metadata": {},
      "outputs": [],
      "source": [
        "inventaire = {'cafe': '500g', 'lait': '1,5L'}\n",
        "inventaire.get('miel')"
      ],
      "id": "a5a5b0d4"
    },
    {
      "cell_type": "markdown",
      "metadata": {},
      "source": [
        "On peut d’ailleurs spécifier une valeur par défaut lorsque la clé\n",
        "n’existe pas."
      ],
      "id": "2b2eda4e-3e51-4451-9ad5-5b8dcf4163b9"
    },
    {
      "cell_type": "code",
      "execution_count": null,
      "metadata": {},
      "outputs": [],
      "source": [
        "inventaire.get('miel', 'introuvable')"
      ],
      "id": "10434a1f"
    },
    {
      "cell_type": "markdown",
      "metadata": {},
      "source": [
        "Les méthodes `.keys()`, `.values()` et `.items()` renvoient\n",
        "respectivement les clés, les valeurs, et les couples clés-valeurs d’un\n",
        "dictionnaire. Les objets retournés par ces méthodes sont un peu\n",
        "complexes, mais il est possible de les transformer en liste avec la\n",
        "fonction `list` pour pouvoir les requêter par position."
      ],
      "id": "79260898-5913-4f6d-9317-9b85ac5de4e1"
    },
    {
      "cell_type": "code",
      "execution_count": null,
      "metadata": {},
      "outputs": [],
      "source": [
        "cv = {\n",
        "    \"marc\": {\"poste\": \"manager\", \"experience\": 7, \"hobbies\": [\"couture\", \"frisbee\"]},\n",
        "    \"mirande\": {\"poste\": \"ingénieure\", \"experience\": 5, \"hobbies\": [\"triathlon\"]}\n",
        "}\n",
        "\n",
        "list(cv.keys())"
      ],
      "id": "0d15e96d"
    },
    {
      "cell_type": "code",
      "execution_count": null,
      "metadata": {},
      "outputs": [],
      "source": [
        "list(cv.values())"
      ],
      "id": "495e613b"
    },
    {
      "cell_type": "code",
      "execution_count": null,
      "metadata": {},
      "outputs": [],
      "source": [
        "list(cv.items())"
      ],
      "id": "04b34453"
    },
    {
      "cell_type": "markdown",
      "metadata": {},
      "source": [
        "## Sets\n",
        "\n",
        "### Définition\n",
        "\n",
        "Les sets sont des **collections non-ordonnées d’éléments uniques**. En\n",
        "cela, ils peuvent être vus comme des dictionnaires sans valeurs, dont on\n",
        "n’aurait conservé que les clés (uniques par définition dans un\n",
        "dictionnaire). Une autre analogie est celle des ensembles mathématiques,\n",
        "dont les éléments sont également non-ordonnés et uniques.\n",
        "\n",
        "Du fait de leur proximité avec les dictionnaires, les sets sont\n",
        "également définis par des accolades `{}`."
      ],
      "id": "6186500d-1955-43d3-8d16-13ab01396748"
    },
    {
      "cell_type": "code",
      "execution_count": null,
      "metadata": {},
      "outputs": [],
      "source": [
        "x = {3, 2, 1}\n",
        "x"
      ],
      "id": "7790c021"
    },
    {
      "cell_type": "code",
      "execution_count": null,
      "metadata": {},
      "outputs": [],
      "source": [
        "type(x)"
      ],
      "id": "d48f11c3"
    },
    {
      "cell_type": "markdown",
      "metadata": {},
      "source": [
        "De la même manière que les dictionnaires, les sets sont\n",
        "**non-ordonnés**, il n’y a donc pas de notion de position. Demander\n",
        "l’élément de position `i`, comme dans une liste, renvoie une erreur."
      ],
      "id": "79b213e4-775f-427d-8366-f839eb981fb7"
    },
    {
      "cell_type": "code",
      "execution_count": null,
      "metadata": {},
      "outputs": [],
      "source": [
        "x = {3, 2, 1}\n",
        "x[0]"
      ],
      "id": "f85f7171"
    },
    {
      "cell_type": "markdown",
      "metadata": {},
      "source": [
        "### Modification d’éléments\n",
        "\n",
        "Il est possible d’ajouter un élément à un set via la méthode `add`."
      ],
      "id": "0ae5725b-aa90-4e7b-a6f2-cce4cd927dda"
    },
    {
      "cell_type": "code",
      "execution_count": null,
      "metadata": {},
      "outputs": [],
      "source": [
        "x = {3, 2, 1}\n",
        "x.add(\"4\")\n",
        "x"
      ],
      "id": "cf06e3f1"
    },
    {
      "cell_type": "markdown",
      "metadata": {},
      "source": [
        "Ajouter un élément déjà existant ne change rien par définition."
      ],
      "id": "77c907be-a4f9-424e-81f1-ebb3ea32c89e"
    },
    {
      "cell_type": "code",
      "execution_count": null,
      "metadata": {},
      "outputs": [],
      "source": [
        "x = {3, 2, 1}\n",
        "x.add(2)\n",
        "x"
      ],
      "id": "ba1d0151"
    },
    {
      "cell_type": "markdown",
      "metadata": {},
      "source": [
        "Il est possible de retirer un élément d’un set via la méthode `remove`."
      ],
      "id": "746797dc-4d4c-4980-ac37-9cfab7cd52c6"
    },
    {
      "cell_type": "code",
      "execution_count": null,
      "metadata": {},
      "outputs": [],
      "source": [
        "x = {3, 2, 1}\n",
        "x.remove(2)\n",
        "x"
      ],
      "id": "d780f401"
    },
    {
      "cell_type": "markdown",
      "metadata": {},
      "source": [
        "### Utilisation\n",
        "\n",
        "Les sets ne sont pas très souvent utilisés en pratique, mais ils\n",
        "s’avèrent bien utiles dans certaines situations précises. Du fait de\n",
        "l’unicité des éléments qu’ils contiennent, les sets permettent\n",
        "simplement et efficacement de supprimer les doublons dans un conteneur\n",
        "séquentiel, comme une liste.\n",
        "\n",
        "**Déduplication**\n",
        "\n",
        "Supposons que l’on veut supprimer les doublons dans une liste donnée.\n",
        "Par définition, le fait de transformer une liste en set supprime les\n",
        "doublons. Cependant, on a généralement envie de revenir à une liste,\n",
        "dans la mesure où les sets n’offrent pas la même flexibilité que les\n",
        "listes (par exemple, la possibilité de trouver un élément par position).\n",
        "Il est donc fréquent de faire la chaîne d’opération\n",
        "`list -> set -> list` pour dédupliquer une liste."
      ],
      "id": "2dddf112-d756-47df-ba41-e9c831686073"
    },
    {
      "cell_type": "code",
      "execution_count": null,
      "metadata": {},
      "outputs": [],
      "source": [
        "l = [1, 2, 3, 3, 2, 1]\n",
        "l_dedup = list(set(l))\n",
        "l_dedup"
      ],
      "id": "aefc0a5a"
    },
    {
      "cell_type": "markdown",
      "metadata": {},
      "source": [
        "**Opérations ensemblistes**\n",
        "\n",
        "Comme les sets représentent programmatiquement les ensembles\n",
        "mathématiques, il n’est pas étonnant qu’ils permettent de réaliser des\n",
        "opérations ensemblistes élémentaires. Par exemple, l’union et\n",
        "l’intersection."
      ],
      "id": "32b061b0-8d1d-463b-a742-f927049805f0"
    },
    {
      "cell_type": "code",
      "execution_count": null,
      "metadata": {},
      "outputs": [],
      "source": [
        "l1 = [5, 3, 2, 3, 3, 5, 8, 9]\n",
        "l2 = [3, 7, 0, 0, 1, 9, 4, 6]"
      ],
      "id": "12469a8c"
    },
    {
      "cell_type": "code",
      "execution_count": null,
      "metadata": {},
      "outputs": [],
      "source": [
        "# Union : éléments soit dans l1, soit dans l2, soit dans les deux\n",
        "l_union = list(set(l1) | set(l2))\n",
        "l_union"
      ],
      "id": "220137ec"
    },
    {
      "cell_type": "code",
      "execution_count": null,
      "metadata": {},
      "outputs": [],
      "source": [
        "# Intersection : éléments à la fois dans l1 et dans l2\n",
        "l_inter = list(set(l1) & set(l2))\n",
        "l_inter"
      ],
      "id": "4bc4b342"
    },
    {
      "cell_type": "markdown",
      "metadata": {},
      "source": [
        "**Tests d’appartenance**\n",
        "\n",
        "Les sets sont également très utilisés pour réaliser des tests\n",
        "d’appartenance, dans la mesure où ils offrent de bien meilleures\n",
        "performances que les listes pour ce type de test.\n",
        "\n",
        "La notion de test fera l’objet d’un prochain tutoriel. Pour l’heure,\n",
        "retenons qu’un test d’appartenance du type “est-ce que l’élément `a` est\n",
        "dans la liste `l`” s’écrit en Python `a in l` et renvoie `True` ou\n",
        "`False` selon que `a` est effectivement présent dans la liste `l` ou\n",
        "non."
      ],
      "id": "932cee35-6fa8-44ad-9999-f8f1198ab277"
    },
    {
      "cell_type": "code",
      "execution_count": null,
      "metadata": {},
      "outputs": [],
      "source": [
        "l = [1, 2, 3]\n",
        "2 in l"
      ],
      "id": "871c369b"
    },
    {
      "cell_type": "code",
      "execution_count": null,
      "metadata": {},
      "outputs": [],
      "source": [
        "4 in l"
      ],
      "id": "6af06051"
    },
    {
      "cell_type": "markdown",
      "metadata": {},
      "source": [
        "Maintenant, imaginons que nous réalisions ce test sur une liste\n",
        "contenant des millions d’éléments. En exagérant, l’interpréteur Python\n",
        "devrait alors parcourir tous les éléments de la liste un à un jusqu’à\n",
        "trouver l’élément en question, ce qui peut prendre très longtemps.\n",
        "\n",
        "A l’inverse, comme les éléments d’un set sont uniques, Python peut\n",
        "facilement garder en mémoire la liste des éléments uniques contenus dans\n",
        "le set, et donc conclure très rapidement le test. Nous verrons une\n",
        "comparaison des performances dans un exercice de fin de tutoriel.\n",
        "\n",
        "NB : l’implémentation informatique des notions évoquées ci-dessus\n",
        "s’appelle une “table de hachage” (*hash table*). Le lecteur intéressé\n",
        "pourra trouver plus d’informations à propos de cette structure de\n",
        "données [ici](http://mpechaud.fr/scripts/donnees/tablesdehachage.html).\n",
        "\n",
        "## Exercices\n",
        "\n",
        "### Questions de compréhension\n",
        "\n",
        "-   1/ Peut-on accéder au `i`ième élément d’un dictionnaire ? d’un set ?\n",
        "\n",
        "-   2/ Quels types d’objets peuvent être utilisés comme clés d’un\n",
        "    dictionnaire ? Comme valeurs ?\n",
        "\n",
        "-   3/ Pour quels types de données a-t-on intérêt à utiliser un\n",
        "    dictionnaire ?\n",
        "\n",
        "-   4/ Un dictionnaire peut-il avoir des doublons dans ses clés ?\n",
        "\n",
        "-   5/ Pourquoi peut-on dire qu’un set est un dictionnaire particulier ?\n",
        "\n",
        "-   6/ Pourquoi les sets sont-ils utilisés pour dédupliquer des listes ?\n",
        "\n",
        "-   7/ Pourquoi les sets sont-ils plus pertinents que les listes pour\n",
        "    réaliser des tests d’appartenance ?"
      ],
      "id": "9e1ec7c7-637e-489a-bbe6-41509bbb33b0"
    },
    {
      "cell_type": "markdown",
      "metadata": {},
      "source": [
        "<details>\n",
        "\n",
        "<summary>\n",
        "\n",
        "Afficher la solution\n",
        "\n",
        "</summary>\n",
        "\n",
        "1/ Non, les dictionnaires et les sets sont des collections non-ordonnées\n",
        "d’objet.\n",
        "\n",
        "2/ Pour les valeurs : n’importe quel type d’objet. Pour les clés, on se\n",
        "restreint généralement aux chaînes de caractères et/ou entiers.\n",
        "\n",
        "3/ Des données de type hiérarchique.\n",
        "\n",
        "4/ Non, les clés sont uniques.\n",
        "\n",
        "5/ Un set ne comporte que des éléments uniques et s’écrit avec des\n",
        "accolades. Il peut donc être vu comme un dictionnaire particulier ne\n",
        "contenant que des clés.\n",
        "\n",
        "6/ Par définition, les éléments d’un set sont uniques. Transformer une\n",
        "liste en set supprime donc les doublons.\n",
        "\n",
        "7/ Du fait de l’unicité des éléments, Python peut garder en mémoire la\n",
        "position des différents éléments. Les tests d’appartenance sont donc\n",
        "fortement optimisés par rapport à lorsqu’on les effectue avec une liste.\n",
        "\n",
        "</details>"
      ],
      "id": "ee24a25d-6953-45f5-b4be-f77e3dbe3bc1"
    },
    {
      "cell_type": "markdown",
      "metadata": {},
      "source": [
        "### Requêtage d’un dictionnaire\n",
        "\n",
        "Soit le dictionnaire défini dans la cellule ci-dessous.\n",
        "\n",
        "Affichez à l’aide d’opérations `print` :\n",
        "\n",
        "-   la liste des noms des différentes classes\n",
        "\n",
        "-   la note de Miranda en histoire\n",
        "\n",
        "-   la liste des notes obtenues par Hypolyte\n",
        "\n",
        "-   la liste des noms des élèves de la 6emeB\n",
        "\n",
        "-   la liste des matières enseignées en 6eme A\n",
        "\n",
        "-   la liste de toutes les matières enseignées\n",
        "\n",
        "-   la liste des notes obtenues par les filles des deux classes"
      ],
      "id": "9cc92d84-03cf-472d-b1f5-5ba92b218c82"
    },
    {
      "cell_type": "code",
      "execution_count": null,
      "metadata": {},
      "outputs": [],
      "source": [
        "resultats = {\n",
        "    \"6emeA\": {\"Miranda\" : {\"notes\": {\"physique\": 16, \"histoire\": 12}},\n",
        "              \"Celestin\": {\"notes\": {\"physique\": \"absent\", \"histoire\": 18}}\n",
        "             },\n",
        "    \"6emeB\": {\"Hypolyte\": {\"notes\": {\"maths\": 11, \"anglais\": 0}},\n",
        "              \"Josephine\": {\"notes\": {\"maths\": 16, \"anglais\": 20}}\n",
        "             }\n",
        "}"
      ],
      "id": "9e811cc2"
    },
    {
      "cell_type": "code",
      "execution_count": null,
      "metadata": {},
      "outputs": [],
      "source": [
        "# Testez votre réponse dans cette cellule"
      ],
      "id": "f240f921"
    },
    {
      "cell_type": "markdown",
      "metadata": {},
      "source": [
        "<details>\n",
        "\n",
        "<summary>\n",
        "\n",
        "Afficher la solution\n",
        "\n",
        "</summary>\n",
        "\n",
        "``` python\n",
        "print(list(resultats.keys()))\n",
        "\n",
        "print(resultats[\"6emeA\"][\"Miranda\"][\"notes\"][\"histoire\"])\n",
        "\n",
        "print(list(resultats[\"6emeB\"][\"Hypolyte\"][\"notes\"].values()))\n",
        "\n",
        "print(list(resultats[\"6emeB\"].keys()))\n",
        "\n",
        "print(list(resultats[\"6emeA\"][\"Miranda\"][\"notes\"].keys()))\n",
        "\n",
        "print(list(resultats[\"6emeA\"][\"Miranda\"][\"notes\"].keys()) \n",
        "      + list(resultats[\"6emeB\"][\"Josephine\"][\"notes\"].keys()))\n",
        "\n",
        "print(list(resultats[\"6emeA\"][\"Miranda\"][\"notes\"].values()) \n",
        "      + list(resultats[\"6emeB\"][\"Josephine\"][\"notes\"].values()))\n",
        "```\n",
        "\n",
        "</details>"
      ],
      "id": "594424b2-876e-428f-81ad-a6f670163a6b"
    },
    {
      "cell_type": "markdown",
      "metadata": {},
      "source": [
        "### Longueur d’un dictionnaire\n",
        "\n",
        "Dans les tutoriels précédents, nous avons vu la fonction `len`, qui\n",
        "permet de compter le nombre d’éléments d’une séquence. Est-ce que cette\n",
        "fonction fonctionne avec les dictionnaires ? Que compte-t-elle alors ?"
      ],
      "id": "f21c5cd9-08ac-4676-8d95-94032b5dcd38"
    },
    {
      "cell_type": "code",
      "execution_count": null,
      "metadata": {},
      "outputs": [],
      "source": [
        "# Testez votre réponse dans cette cellule"
      ],
      "id": "dde0e866"
    },
    {
      "cell_type": "markdown",
      "metadata": {},
      "source": [
        "<details>\n",
        "\n",
        "<summary>\n",
        "\n",
        "Afficher la solution\n",
        "\n",
        "</summary>\n",
        "\n",
        "``` python\n",
        "cv = {\n",
        "    \"marc\": {\"poste\": \"manager\", \"experience\": 7, \"hobbies\": [\"couture\", \"frisbee\"]},\n",
        "    \"miranda\": {\"poste\": \"ingénieure\", \"experience\": 5, \"hobbies\": [\"trekking\"]}\n",
        "}\n",
        "\n",
        "print(len(cv))\n",
        "print(len(cv[\"marc\"]))\n",
        "```\n",
        "\n",
        "La fonction len appliquée à un dictionnaire compte le nombre de clés.\n",
        "\n",
        "</details>"
      ],
      "id": "3b55f2ea-fe11-4027-9775-d7fd32a3d9c4"
    },
    {
      "cell_type": "markdown",
      "metadata": {},
      "source": [
        "### Suppression d’éléments de dictionnaire\n",
        "\n",
        "Nous avons vu qu’on pouvait supprimer une clé d’un dictionnaire de deux\n",
        "manières différentes :\n",
        "\n",
        "-   avec l’opérateur `del` : `del mon_dict[clé]`\n",
        "\n",
        "-   avec la méthode `pop` : `mon_dict.pop(clé)`\n",
        "\n",
        "Au-delà de la syntaxe, quelles sont les deux différences majeures entre\n",
        "ces deux manières de supprimer une clé d’un dictionnaire ? N’hésitez pas\n",
        "à expérimenter avec des exemples de votre choix."
      ],
      "id": "b1dcffc6-1336-40e6-b8bc-854267c1b8fd"
    },
    {
      "cell_type": "code",
      "execution_count": null,
      "metadata": {},
      "outputs": [],
      "source": [
        "# Testez votre réponse dans cette cellule"
      ],
      "id": "a280a828"
    },
    {
      "cell_type": "markdown",
      "metadata": {},
      "source": [
        "<details>\n",
        "\n",
        "<summary>\n",
        "\n",
        "Afficher la solution\n",
        "\n",
        "</summary>\n",
        "\n",
        "``` python\n",
        "inventaire = {'cafe': '500g', 'lait': '1,5L'}\n",
        "\n",
        "print(inventaire.pop('cafe'))\n",
        "print(inventaire.pop('orange', 'indisponible'))\n",
        "```\n",
        "\n",
        "1ère différence : lorsqu’on supprime une clé existante avec la méthode\n",
        "pop, la valeur associée à la clé est retournée. L’opération del ne\n",
        "retourne rien (en fait, un objet de type None)\n",
        "\n",
        "2ème différence : la méthode pop permet de spécifier une valeur par\n",
        "défaut en cas de non-existence de la clé, et donc ne retourne pas\n",
        "d’erreur dans ce cas. L’opération del retourne nécessairement une erreur\n",
        "lorsque la clé n’existe pas.\n",
        "\n",
        "</details>"
      ],
      "id": "fb876955-93b9-45c6-9bfa-c1d5742cb02a"
    },
    {
      "cell_type": "markdown",
      "metadata": {},
      "source": [
        "### Renommage d’une clé de dictionnaire\n",
        "\n",
        "En exploitant le fait que la méthode `pop` utilisée pour supprimer une\n",
        "clé d’un dictionnaire renvoie la valeur associée à cette clé, proposez\n",
        "une méthode pour renommer une clé d’un dictionnaire en une seule\n",
        "opération."
      ],
      "id": "ae7b5ff7-64ee-49b8-8df6-b64a001906a0"
    },
    {
      "cell_type": "code",
      "execution_count": null,
      "metadata": {},
      "outputs": [],
      "source": [
        "# Testez votre réponse dans cette cellule"
      ],
      "id": "9b1c7179"
    },
    {
      "cell_type": "markdown",
      "metadata": {},
      "source": [
        "<details>\n",
        "\n",
        "<summary>\n",
        "\n",
        "Afficher la solution\n",
        "\n",
        "</summary>\n",
        "\n",
        "``` python\n",
        "inventaire = {'cafe': '500g', 'lait': '1,5L'}\n",
        "\n",
        "inventaire['eau'] = inventaire.pop('lait')\n",
        "\n",
        "inventaire\n",
        "```\n",
        "\n",
        "</details>"
      ],
      "id": "e141350d-14c4-4b59-9e31-1f90b3761346"
    },
    {
      "cell_type": "markdown",
      "metadata": {},
      "source": [
        "### Tests d’appartenance à un dictionnaire\n",
        "\n",
        "Soit le dictionnaire suivant :\n",
        "\n",
        "`animaux = {'chats': 5, 'chiens': 12}`\n",
        "\n",
        "Que vont retourner les tests d’appartenance suivants ? Vérifiez vos\n",
        "prédictions.\n",
        "\n",
        "-   `'chats' in animaux.keys()`\n",
        "\n",
        "-   `'chats' in animaux.values()`\n",
        "\n",
        "-   `'chats' in animaux`"
      ],
      "id": "f30a15a8-57d7-48c1-8d9b-bdd1c2cf9c57"
    },
    {
      "cell_type": "code",
      "execution_count": null,
      "metadata": {},
      "outputs": [],
      "source": [
        "# Testez votre réponse dans cette cellule"
      ],
      "id": "26e18d4a"
    },
    {
      "cell_type": "markdown",
      "metadata": {},
      "source": [
        "<details>\n",
        "\n",
        "<summary>\n",
        "\n",
        "Afficher la solution\n",
        "\n",
        "</summary>\n",
        "\n",
        "``` python\n",
        "animaux = {'chats': 5, 'chiens': 12}\n",
        "\n",
        "print(animaux.keys())\n",
        "print('chats' in animaux.keys()) \n",
        "# True : 'chats' est bien dans les clés de `animaux`\n",
        "\n",
        "print()\n",
        "print(animaux.values())\n",
        "print('chats' in animaux.values()) \n",
        "# False : 'chats' n'est pas une valeur de `animaux`\n",
        "\n",
        "print()\n",
        "print(animaux)\n",
        "print('chats' in animaux) \n",
        "# True : ce test est strictement équivalent à 'chats' in animaux.keys()\n",
        "```\n",
        "\n",
        "</details>"
      ],
      "id": "91a5f507-b1b4-4c78-95b9-da6e8416440e"
    },
    {
      "cell_type": "markdown",
      "metadata": {},
      "source": [
        "### Suppression d’une clé inexistante\n",
        "\n",
        "Nous avons vu que l’opération `del` renvoyait une erreur lorsqu’on\n",
        "l’utilisait pour supprimer une clé inexistante d’un dictionnaire. A\n",
        "l’aide de vos nouvelles connaissances sur les tests d’appartenance,\n",
        "pouvez-vous imaginer une méthode (sans nécessairement l’implémenter) qui\n",
        "permettrait de traiter ce cas sans erreur ?"
      ],
      "id": "c978177a-885d-42b5-be89-7e00da02ef0b"
    },
    {
      "cell_type": "code",
      "execution_count": null,
      "metadata": {},
      "outputs": [],
      "source": [
        "# Testez votre réponse dans cette cellule"
      ],
      "id": "f457c64e"
    },
    {
      "cell_type": "markdown",
      "metadata": {},
      "source": [
        "<details>\n",
        "\n",
        "<summary>\n",
        "\n",
        "Afficher la solution\n",
        "\n",
        "</summary>\n",
        "\n",
        "``` python\n",
        "inventaire = {'cafe': '500g', 'lait': '1,5L'}\n",
        "\n",
        "cle = 'chocolat'\n",
        "\n",
        "if cle in inventaire.keys():\n",
        "    del inventaire[cle]\n",
        "```\n",
        "\n",
        "On utilise un test d’appartenance : si la clé existe dans les clés du\n",
        "dictionnaire, elle est supprimée. Sinon, il ne se passe rien. Cette\n",
        "syntaxe deviendra plus claire avec le prochain tutoriel.\n",
        "\n",
        "</details>"
      ],
      "id": "a783ea54-595d-46c9-8e32-417f82855840"
    },
    {
      "cell_type": "markdown",
      "metadata": {},
      "source": [
        "### Déduplication\n",
        "\n",
        "Soit la chaîne de caractères avec répétition suivante :\n",
        "\n",
        "`x = \"cdabcdabcdabcdabcdabcdabcdabcdabcdab\"`\n",
        "\n",
        "Construisez une liste des caractères uniques se trouvant dans cette\n",
        "chaîne, classée par ordre alphabétique, soit :\n",
        "\n",
        "`l = ['a', 'b', 'c', 'd']`\n",
        "\n",
        "Indice : la procédure est semblable au fait de supprimer les doublons\n",
        "d’une liste."
      ],
      "id": "8b588558-e110-462d-a037-61c36d966a3e"
    },
    {
      "cell_type": "code",
      "execution_count": null,
      "metadata": {},
      "outputs": [],
      "source": [
        "# Testez votre réponse dans cette cellule"
      ],
      "id": "860d543e"
    },
    {
      "cell_type": "markdown",
      "metadata": {},
      "source": [
        "<details>\n",
        "\n",
        "<summary>\n",
        "\n",
        "Afficher la solution\n",
        "\n",
        "</summary>\n",
        "\n",
        "``` python\n",
        "x = \"cdabcdabcdabcdabcdabcdabcdabcdabcdab\"\n",
        "l = list(set(x))\n",
        "l.sort()\n",
        "l\n",
        "```\n",
        "\n",
        "</details>"
      ],
      "id": "8dc29621-1c30-4ee1-a58b-c87e74b805a0"
    },
    {
      "cell_type": "markdown",
      "metadata": {},
      "source": [
        "### Intersections et unions de chaînes de caractères\n",
        "\n",
        "Soit les deux chaînes de caractères suivantes.\n",
        "\n",
        "`cyrano1 = 'C’est un roc ! … c’est un pic ! … c’est un cap !'`\n",
        "\n",
        "`cyrano2 = 'Que dis-je, c’est un cap ? … C’est une péninsule !'`\n",
        "\n",
        "Question 1 : trouvez les caractères qui apparaissent à la fois dans les\n",
        "deux chaînes.\n",
        "\n",
        "Question 2 : trouvez les caractères qui apparaissent dans au moins un\n",
        "des deux textes."
      ],
      "id": "e68e3dd6-77c3-4571-b451-f8938184b15e"
    },
    {
      "cell_type": "code",
      "execution_count": null,
      "metadata": {},
      "outputs": [],
      "source": [
        "# Testez votre réponse dans cette cellule"
      ],
      "id": "4713e2a1"
    },
    {
      "cell_type": "markdown",
      "metadata": {},
      "source": [
        "<details>\n",
        "\n",
        "<summary>\n",
        "\n",
        "Afficher la solution\n",
        "\n",
        "</summary>\n",
        "\n",
        "``` python\n",
        "cyrano1 = 'C’est un roc ! … c’est un pic ! … c’est un cap !'\n",
        "cyrano2 = 'Que dis-je, c’est un cap ? … C’est une péninsule !'\n",
        "\n",
        "# Question 1\n",
        "\n",
        "inter = list(set(cyrano1) & set(cyrano2))\n",
        "print(inter)\n",
        "\n",
        "# Question 2\n",
        "\n",
        "union = list(set(cyrano1) | set(cyrano2))\n",
        "print(union)\n",
        "```\n",
        "\n",
        "</details>"
      ],
      "id": "3846e419-ff96-481c-86b4-f13cc26a26df"
    },
    {
      "cell_type": "markdown",
      "metadata": {},
      "source": [
        "### De l’intérêt des sets pour les tests d’appartenance\n",
        "\n",
        "Le code ci-dessous génère une liste avec les lettres a, b, c et d\n",
        "répétées 1 million de fois. Ensuite, il réalise un test d’appartenance\n",
        "d’une lettre qui n’existe pas dans la liste, et calcule le temps mis par\n",
        "l’interpréteur Python pour réaliser le test.\n",
        "\n",
        "En reprenant cette syntaxe, comparez le temps mis par le même test\n",
        "d’appartenance lorsqu’on transforme la liste en set au préalable."
      ],
      "id": "e168bf1a-a530-4490-abdb-641d74524d1c"
    },
    {
      "cell_type": "code",
      "execution_count": null,
      "metadata": {},
      "outputs": [],
      "source": [
        "x = ['a', 'b', 'c', 'd'] * 1000000\n",
        "print(x[:10])\n",
        "\n",
        "%time 'e' in x"
      ],
      "id": "50f9a357"
    },
    {
      "cell_type": "code",
      "execution_count": null,
      "metadata": {},
      "outputs": [],
      "source": [
        "# Testez votre réponse dans cette cellule"
      ],
      "id": "94793681"
    },
    {
      "cell_type": "markdown",
      "metadata": {},
      "source": [
        "<details>\n",
        "\n",
        "<summary>\n",
        "\n",
        "Afficher la solution\n",
        "\n",
        "</summary>\n",
        "\n",
        "``` python\n",
        "x = ['a', 'b', 'c', 'd'] * 1000000\n",
        "print(x[:10])\n",
        "\n",
        "x_set = set(x)\n",
        "print(x_set)\n",
        "\n",
        "%time 'e' in x\n",
        "%time 'e' in x_set\n",
        "```\n",
        "\n",
        "Le test d’appartenance initial se chiffre en millisecondes. Celui\n",
        "réalisé sur le set se chiffre en microsecondes. Le test est beaucoup\n",
        "plus rapide lorsqu’on convertit en set au préalable.\n",
        "\n",
        "</details>"
      ],
      "id": "d5b9c151-59cf-4d2e-b043-f4d8fddd90fb"
    }
  ],
  "nbformat": 4,
  "nbformat_minor": 5,
  "metadata": {
    "kernelspec": {
      "name": "python3",
      "display_name": "Python 3 (ipykernel)",
      "language": "python",
      "path": "/Users/gblin/opt/anaconda3/share/jupyter/kernels/python3"
    }
  }
}
