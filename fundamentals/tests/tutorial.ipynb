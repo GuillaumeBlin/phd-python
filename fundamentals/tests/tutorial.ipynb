{
  "cells": [
    {
      "cell_type": "markdown",
      "metadata": {},
      "source": [
        "# Tests logiques\n",
        "\n",
        "Dans le tutoriel précédent, nous avons évoqué – sans l’expliciter – la\n",
        "notion de **test**, à travers l’exemple des tests d’appartenance. A\n",
        "présent, nous allons entrer dans le détail du fonctionnement des tests\n",
        "logiques en Python. Ces derniers sont un outil essentiel dans la\n",
        "création de programmes permettant d’automatiser des opérations, dans la\n",
        "mesure où ils permettent d’**exécuter – ou non – du code selon certaines\n",
        "conditions**. Ils permettent donc à l’ordinateur de prendre des\n",
        "décisions selon des critères fixés par l’utilisateur.\n",
        "\n",
        "## Le type Booléen\n",
        "\n",
        "Dans sa plus simple forme, un test en Python est une expression qui\n",
        "évalue à “vrai” ou “faux”. Par exemple, l’expression $3 > 2$ est vraie,\n",
        "le test associé renverra donc “vrai”. Pour ce type d’évaluation, Python\n",
        "dispose d’un type d’objets particulier : les **Booléens**. Contrairement\n",
        "aux types d’objet que nous avons déjà vus (`int`, `float`, `str`..), les\n",
        "Booléens ne peuvent prendre que deux valeurs : `True` et `False`."
      ],
      "id": "2d8b730e-fa82-49a2-8ce9-a7df538d449c"
    },
    {
      "cell_type": "code",
      "execution_count": null,
      "metadata": {},
      "outputs": [],
      "source": [
        "type(True)"
      ],
      "id": "7bba8103"
    },
    {
      "cell_type": "markdown",
      "metadata": {},
      "source": [
        "Comme n’importe quel objet, les Booléens peuvent être assignés à des\n",
        "variables."
      ],
      "id": "b27b07f9-4d33-49cd-afdd-902ccc8a81dd"
    },
    {
      "cell_type": "code",
      "execution_count": null,
      "metadata": {},
      "outputs": [],
      "source": [
        "a = False\n",
        "print(a)\n",
        "print(type(a))"
      ],
      "id": "c30dc3ef"
    },
    {
      "cell_type": "markdown",
      "metadata": {},
      "source": [
        "Les valeurs `True` et `False` doivent être écrites de cette manière\n",
        "précisément (première lettre en majuscule, pas de guillemets). Elles ne\n",
        "peuvent par ailleurs pas être utilisées comme noms de variable afin de\n",
        "limiter les ambiguïtés."
      ],
      "id": "c9c03e37-8d41-4a8b-b417-0b68b5d3d15b"
    },
    {
      "cell_type": "code",
      "execution_count": null,
      "metadata": {},
      "outputs": [],
      "source": [
        "a = true  # Python chercher la variable `true` mais elle n'existe pas"
      ],
      "id": "5e55ffc6"
    },
    {
      "cell_type": "code",
      "execution_count": null,
      "metadata": {},
      "outputs": [],
      "source": [
        "True = 3"
      ],
      "id": "71c68ff5"
    },
    {
      "cell_type": "markdown",
      "metadata": {},
      "source": [
        "## Opérateurs de comparaison\n",
        "\n",
        "Les opérateurs de comparaison formalisent les opérations mathématiques\n",
        "de comparaison (égalité, non-égalité, inégalités). Ils **comparent deux\n",
        "valeurs et renvoient une valeur booléenne**.\n",
        "\n",
        "| Opérateur | Signification           |\n",
        "|-----------|-------------------------|\n",
        "| ==        | Egal à                  |\n",
        "| !=        | Non égal à              |\n",
        "| \\<        | Strictement inférieur à |\n",
        "| \\>        | Strictement supérieur à |\n",
        "| \\<=       | Inférieur ou égal à     |\n",
        "| \\>=       | Supérieur ou égal à     |\n",
        "\n",
        "Illustrons ces opérateurs à l’aide de quelques exemples."
      ],
      "id": "b7d5876e-6ee8-438c-b633-a91abd7e1ec5"
    },
    {
      "cell_type": "code",
      "execution_count": null,
      "metadata": {},
      "outputs": [],
      "source": [
        "3 == 3"
      ],
      "id": "8440da52"
    },
    {
      "cell_type": "code",
      "execution_count": null,
      "metadata": {},
      "outputs": [],
      "source": [
        "63 == 36"
      ],
      "id": "4a1b0e2b"
    },
    {
      "cell_type": "code",
      "execution_count": null,
      "metadata": {},
      "outputs": [],
      "source": [
        "2 != 3"
      ],
      "id": "91dce8bf"
    },
    {
      "cell_type": "code",
      "execution_count": null,
      "metadata": {},
      "outputs": [],
      "source": [
        "2 != 2"
      ],
      "id": "714f007b"
    },
    {
      "cell_type": "code",
      "execution_count": null,
      "metadata": {},
      "outputs": [],
      "source": [
        "3 > 2"
      ],
      "id": "ef31f43b"
    },
    {
      "cell_type": "code",
      "execution_count": null,
      "metadata": {},
      "outputs": [],
      "source": [
        "a = 36\n",
        "a <= a"
      ],
      "id": "028bca04"
    },
    {
      "cell_type": "code",
      "execution_count": null,
      "metadata": {},
      "outputs": [],
      "source": [
        "a < a"
      ],
      "id": "4778e9e8"
    },
    {
      "cell_type": "markdown",
      "metadata": {},
      "source": [
        "Tout semble fonctionner correctement pour des opérations mathématiques\n",
        "usuelles. Mais ces opérateurs fonctionnent en réalité sur n’importe quel\n",
        "type d’objet."
      ],
      "id": "4443a0f7-3f6b-4402-8eda-e8a964954d27"
    },
    {
      "cell_type": "code",
      "execution_count": null,
      "metadata": {},
      "outputs": [],
      "source": [
        "'do re mi fa sol' == 'do re mi fa sol'"
      ],
      "id": "950845db"
    },
    {
      "cell_type": "code",
      "execution_count": null,
      "metadata": {},
      "outputs": [],
      "source": [
        "'do re mi fa sol' == 'Do Re Mi Fa Sol'"
      ],
      "id": "320be6f8"
    },
    {
      "cell_type": "code",
      "execution_count": null,
      "metadata": {},
      "outputs": [],
      "source": [
        "'canard' != 'abeille'"
      ],
      "id": "f1c50cd0"
    },
    {
      "cell_type": "code",
      "execution_count": null,
      "metadata": {},
      "outputs": [],
      "source": [
        "True == True"
      ],
      "id": "d9e93b12"
    },
    {
      "cell_type": "code",
      "execution_count": null,
      "metadata": {},
      "outputs": [],
      "source": [
        "True == False"
      ],
      "id": "c9d603c1"
    },
    {
      "cell_type": "code",
      "execution_count": null,
      "metadata": {},
      "outputs": [],
      "source": [
        "[1, 2, 3] == [1, 2, 3]"
      ],
      "id": "84066bfb"
    },
    {
      "cell_type": "code",
      "execution_count": null,
      "metadata": {},
      "outputs": [],
      "source": [
        "[1, 2] != [3, 4]"
      ],
      "id": "bf84004b"
    },
    {
      "cell_type": "markdown",
      "metadata": {},
      "source": [
        "Enfin, il est possible de réaliser des comparaisons en chaîne.\n",
        "L’expression renvoie `True` à condition que chacune des comparaisons\n",
        "soit vraie."
      ],
      "id": "626878f9-1123-4759-ae1f-fd06bb2987ea"
    },
    {
      "cell_type": "code",
      "execution_count": null,
      "metadata": {},
      "outputs": [],
      "source": [
        "5 < 7 <= 8"
      ],
      "id": "23b690c9"
    },
    {
      "cell_type": "code",
      "execution_count": null,
      "metadata": {},
      "outputs": [],
      "source": [
        "5 < 7 <= 6"
      ],
      "id": "75a90b0f"
    },
    {
      "cell_type": "markdown",
      "metadata": {},
      "source": [
        "## Opérateurs booléens\n",
        "\n",
        "Les opérateurs booléens permettent de **tester simultanément plusieurs\n",
        "expressions logiques**. Fondamentalement, ces opérateurs prennent en\n",
        "entrée deux valeurs booléennes, et renvoient une unique valeur booléenne\n",
        "selon des règles de logique fixées. Ces règles sont énoncées dans des\n",
        "**tables de vérité**.\n",
        "\n",
        "### Opérateur `and`\n",
        "\n",
        "Le premier opérateur booléen est `and`. Regardons sa table de vérité :\n",
        "\n",
        "| Expression        | Evaluation |\n",
        "|-------------------|------------|\n",
        "| `True and True`   | `True`     |\n",
        "| `True and False`  | `False`    |\n",
        "| `False and True`  | `False`    |\n",
        "| `False and False` | `False`    |\n",
        "\n",
        "Vérifions ces règles en pratique à l’aide de quelques exemples."
      ],
      "id": "382415af-7c25-4edb-914a-fa33209a44d4"
    },
    {
      "cell_type": "code",
      "execution_count": null,
      "metadata": {},
      "outputs": [],
      "source": [
        "True and True"
      ],
      "id": "81348eb3"
    },
    {
      "cell_type": "code",
      "execution_count": null,
      "metadata": {},
      "outputs": [],
      "source": [
        "False and True"
      ],
      "id": "960d137d"
    },
    {
      "cell_type": "markdown",
      "metadata": {},
      "source": [
        "Les règles ont l’air de fonctionner sur les valeurs booléennes. Bien\n",
        "entendu, en pratique, on s’intéresse plutôt à évaluer de vraies\n",
        "expressions logiques. On peut donc utiliser ces opérateurs pour tester\n",
        "des expressions qui *renvoient* une valeur booléenne."
      ],
      "id": "77091d1e-d2d7-4eb1-9784-956aca68421a"
    },
    {
      "cell_type": "code",
      "execution_count": null,
      "metadata": {},
      "outputs": [],
      "source": [
        "(3 > 2) and (5 <= 9)"
      ],
      "id": "3aa63688"
    },
    {
      "cell_type": "code",
      "execution_count": null,
      "metadata": {},
      "outputs": [],
      "source": [
        "a = (\"x\" != \"z\")\n",
        "b = (\"x\" == \"y\")\n",
        "a and b"
      ],
      "id": "5f4260f6"
    },
    {
      "cell_type": "markdown",
      "metadata": {},
      "source": [
        "Notez l’usage des parenthèses pour délimiter les tests : elles ne sont\n",
        "pas obligatoires, mais fortement recommandées dans la mesure où elles\n",
        "améliorent grandement la lisibilité tes tests.\n",
        "\n",
        "### L’opérateur `or`\n",
        "\n",
        "Le second opérateur booléen est `or`. Sa table de vérité est la suivante\n",
        ":\n",
        "\n",
        "| Expression       | Evaluation |\n",
        "|------------------|------------|\n",
        "| `True or True`   | `True`     |\n",
        "| `True or False`  | `True`     |\n",
        "| `False or True`  | `True`     |\n",
        "| `False or False` | `False`    |"
      ],
      "id": "eeec85af-b89c-42c7-b9e6-0c7217bc6146"
    },
    {
      "cell_type": "code",
      "execution_count": null,
      "metadata": {},
      "outputs": [],
      "source": [
        "True or True"
      ],
      "id": "4d3b9cda"
    },
    {
      "cell_type": "code",
      "execution_count": null,
      "metadata": {},
      "outputs": [],
      "source": [
        "False or True"
      ],
      "id": "fc1c69d5"
    },
    {
      "cell_type": "code",
      "execution_count": null,
      "metadata": {},
      "outputs": [],
      "source": [
        "(3 > 2) or (5 <= 9)"
      ],
      "id": "34976138"
    },
    {
      "cell_type": "code",
      "execution_count": null,
      "metadata": {},
      "outputs": [],
      "source": [
        "a = (\"x\" != \"z\")\n",
        "b = (\"x\" == \"y\")\n",
        "a or b"
      ],
      "id": "c6ce484c"
    },
    {
      "cell_type": "markdown",
      "metadata": {},
      "source": [
        "### L’opérateur `not`\n",
        "\n",
        "Le dernier opérateur booléen est `not`. Sa table de vérité est la\n",
        "suivante :\n",
        "\n",
        "| Expression  | Evaluation |\n",
        "|-------------|------------|\n",
        "| `not True`  | `False`    |\n",
        "| `not False` | `True`     |"
      ],
      "id": "7a68cd8f-9e46-4f51-b8eb-cfb800fb9a43"
    },
    {
      "cell_type": "code",
      "execution_count": null,
      "metadata": {},
      "outputs": [],
      "source": [
        "not True"
      ],
      "id": "4288345f"
    },
    {
      "cell_type": "code",
      "execution_count": null,
      "metadata": {},
      "outputs": [],
      "source": [
        "not False"
      ],
      "id": "cd4962ba"
    },
    {
      "cell_type": "code",
      "execution_count": null,
      "metadata": {},
      "outputs": [],
      "source": [
        "not (3 + 3 == 6)"
      ],
      "id": "7200b45c"
    },
    {
      "cell_type": "code",
      "execution_count": null,
      "metadata": {},
      "outputs": [],
      "source": [
        "not (7 < 7)"
      ],
      "id": "1f3dd5f8"
    },
    {
      "cell_type": "markdown",
      "metadata": {},
      "source": [
        "## Structures conditionnelles\n",
        "\n",
        "Toutes les expressions que nous avons vues précédemment sont des\n",
        "expressions booléennes : un test est effectué, et l’opération renvoie\n",
        "`True` or `False` selon que l’expression évaluée est vraie ou non. Dans\n",
        "le cadre d’un programme informatique qui réalise des opérations\n",
        "automatisées, on va vouloir les utiliser comme des **conditions** : *si*\n",
        "l’expression est vraie, alors l’ordinateur doit effectuer telle ou telle\n",
        "opération. Les **structures conditionnelles** permettent précisément cet\n",
        "usage.\n",
        "\n",
        "Illustrons ce principe en implémentant le programme suivant :\n",
        "\n",
        "-   Soit une variable `x`.\n",
        "\n",
        "-   Si `x` est supérieur à $5$, alors imprimer dans la console le\n",
        "    message “L’expression est vraie.”\n",
        "\n",
        "-   Dans le cas contraire, imprimer dans la console le message\n",
        "    “L’expression est fausse.”\n",
        "\n",
        "Faîtes varier la valeur de `x` pour vérifier le bon fonctionnement du\n",
        "test."
      ],
      "id": "a8d3c6a6-fec5-4a54-90d5-859787ecd4e8"
    },
    {
      "cell_type": "code",
      "execution_count": null,
      "metadata": {},
      "outputs": [],
      "source": [
        "x = 7\n",
        "\n",
        "if x >= 5:\n",
        "    print(\"L'expression est vraie.\")\n",
        "else:\n",
        "    print(\"L'expression est fausse.\")"
      ],
      "id": "19d67fab"
    },
    {
      "cell_type": "markdown",
      "metadata": {},
      "source": [
        "### Blocs d’instruction et indentation\n",
        "\n",
        "L’exemple précédent illustre la syntaxe des structures conditionnelles\n",
        "en Python. Ces structures sont basées sur des *blocs d’instructions*,\n",
        "qui délimitent l’ensemble des instructions qui doivent être exécutées\n",
        "lorsqu’un test est vrai. Les structures conditionnelles ont trois règles\n",
        ":\n",
        "\n",
        "-   la ligne qui spécifie le test se termine par `:`\n",
        "\n",
        "-   toutes les instructions qui doivent être exécutées si le test est\n",
        "    vrai se situent à un même niveau d’indentation ;\n",
        "\n",
        "-   la structure conditionnelle se termine lorsque l’indentation revient\n",
        "    à son niveau d’origine.\n",
        "\n",
        "Notons que les structures conditionnelles peuvent tout à fait être\n",
        "imbriquées, ce qu’illustre l’exemple suivant."
      ],
      "id": "4f68a92b-f049-4aac-b14d-fab9819d05a4"
    },
    {
      "cell_type": "code",
      "execution_count": null,
      "metadata": {},
      "outputs": [],
      "source": [
        "x = 7\n",
        "\n",
        "if x >= 5:\n",
        "    print(\"L'expression 1 est vraie.\")\n",
        "    if x >= 12:\n",
        "        print(\"L'expression 2 est vraie.\")"
      ],
      "id": "41aff72f"
    },
    {
      "cell_type": "markdown",
      "metadata": {},
      "source": [
        "Lorsque `x = 7`, le premier test renvoie `True`, le bloc d’instructions\n",
        "au niveau d’indentation 1 est donc exécuté ligne par ligne. Le second\n",
        "test renvoie quant à lui `False`, le bloc d’instructions au niveau\n",
        "d’indentation 2 n’est pas exécuté.\n",
        "\n",
        "Faîtes varier la valeur de `x` pour que les deux blocs soient exécutés.\n",
        "\n",
        "### Instructions `if`, `else` et `elif`\n",
        "\n",
        "Dans les structures conditionnelles, les tests peuvent être spécifiés à\n",
        "l’aide de trois instructions : `if`, `else` et `elif`. Les exemples\n",
        "précédents ont déjà illustré le fonctionnement des deux premières (et\n",
        "plus fréquentes) instructions.\n",
        "\n",
        "En cas d’un test simple (une seule condition), on n’utilisera qu’une\n",
        "instruction `if`, dont le fonctionnement est simple : si la condition\n",
        "(test) renvoie `True`, alors le bloc d’instructions (indenté) qui suit\n",
        "est exécuté. Si la condition renvoie `False`, il ne se passe rien.\n",
        "Illustrons cela avec un test d’appartenance, dont nous avons vu des\n",
        "exemples dans le tutoriel précédent."
      ],
      "id": "6ed7521a-bb9c-4a5f-bd85-c3fa28769f38"
    },
    {
      "cell_type": "code",
      "execution_count": null,
      "metadata": {},
      "outputs": [],
      "source": [
        "client = \"Isidore\"\n",
        "\n",
        "if client in [\"Alexandrine\", \"Achille\", \"Colette\"]:\n",
        "    print(\"Client connu.\")"
      ],
      "id": "522576f5"
    },
    {
      "cell_type": "markdown",
      "metadata": {},
      "source": [
        "En pratique, on souhaite souvent spécifier une alternative, lorsque la\n",
        "condition de l’instruction `if` renvoie `False`. L’instruction `else`\n",
        "permet de spécifier un bloc d’instructions alternatif."
      ],
      "id": "b33fad77-b405-4097-8996-7e5bd6c6fc99"
    },
    {
      "cell_type": "code",
      "execution_count": null,
      "metadata": {},
      "outputs": [],
      "source": [
        "client = \"Isidore\"\n",
        "\n",
        "if client in [\"Alexandrine\", \"Achille\", \"Colette\"]:\n",
        "    print(\"Client connu.\")\n",
        "else:\n",
        "    print(\"Client inconnu.\")"
      ],
      "id": "4875f472"
    },
    {
      "cell_type": "markdown",
      "metadata": {},
      "source": [
        "Enfin, on peut vouloir spécifier plusieurs alternatives. Dans ce cas, on\n",
        "va utiliser des instructions `elif`. La première instruction `elif` ne\n",
        "va s’éxécuter que si le test de l’instruction `if` renvoie False. La\n",
        "seconde instruction `elif` ne va s’exécuter que si le test de la\n",
        "première instruction `elif` renvoie `False`, et ainsi de suite. Là\n",
        "encore, on peut spécifier une instruction finale `else`, qui ne\n",
        "s’exécute que si aucun des tests précédents n’a renvoyé `True`."
      ],
      "id": "88ccdf06-ce43-4921-a55c-35421e7c4be7"
    },
    {
      "cell_type": "code",
      "execution_count": null,
      "metadata": {},
      "outputs": [],
      "source": [
        "client = \"Isidore\"\n",
        "\n",
        "if client == \"Alexandrine\":\n",
        "    print(\"Bonjour Alexandrine.\")\n",
        "elif client == \"Achille\":\n",
        "    print(\"Bonjour Achille.\")\n",
        "elif client == \"Colette\":\n",
        "    print(\"Bonjour Colette.\")\n",
        "else:\n",
        "    print(\"Bonjour cher inconnu.\")"
      ],
      "id": "de2a99c0"
    },
    {
      "cell_type": "markdown",
      "metadata": {},
      "source": [
        "NB : les instructions précédentes ont seulement valeur d’exemple. En\n",
        "pratique, il y a des manières beaucoup plus concises de coder un\n",
        "programme qui effectue les mêmes opérations.\n",
        "\n",
        "## Exercices\n",
        "\n",
        "### Questions de compréhension\n",
        "\n",
        "-   1/ Quelle est la particularité des Booléens par rapport aux autres\n",
        "    types d’objets de base en Python ?\n",
        "\n",
        "-   2/ Quels sont les inputs et les outputs d’un opérateur de\n",
        "    comparaison ?\n",
        "\n",
        "-   3/ Quels types d’objets peut-on comparer à l’aide d’un opérateur de\n",
        "    comparaison ?\n",
        "\n",
        "-   4/ Quelle est la différence entre l’opérateur `=` et l’opérateur\n",
        "    `==` ?\n",
        "\n",
        "-   5/ Quels sont les inputs et les outputs d’un opérateur booléen ?\n",
        "\n",
        "-   6/ Expliquer en français le principe de l’opérateur booléen `and`.\n",
        "    Mêmes questions pour `or` et `not`.\n",
        "\n",
        "-   7/ Quelle est la différence entre expression booléenne et condition\n",
        "    ?\n",
        "\n",
        "-   8/ Quelle est la structure d’une instruction conditionnelle ?\n",
        "\n",
        "-   9/ Peut-on imbriquer les instructions conditionnelles ?\n",
        "\n",
        "-   10/ Parmi les instructions `if`, `else`, et `elif`, lesquelles sont\n",
        "    obligatoires et lesquelles sont facultatives ?"
      ],
      "id": "41eeb487-9999-4498-90b1-7aa88fea0a79"
    },
    {
      "cell_type": "markdown",
      "metadata": {},
      "source": [
        "<details>\n",
        "\n",
        "<summary>\n",
        "\n",
        "Afficher la solution\n",
        "\n",
        "</summary>\n",
        "\n",
        "1/ Ils n’ont que deux valeurs : True et False. Les autres types ont une\n",
        "infinité de valeurs possibles.\n",
        "\n",
        "2/ Inputs : deux valeurs. Output : valeur booléenne.\n",
        "\n",
        "3/ Tous types d’objets. En pratique cependant, il n’y a pas beaucoup de\n",
        "sens à comparer des objets de type différent, le résultat sera\n",
        "généralement `False`.\n",
        "\n",
        "4/ L’opérateur `=` assigne une valeur à une variable. L’opérateur `==`\n",
        "teste l’égalité de deux objets.\n",
        "\n",
        "5/ Inputs : deux valeurs booléennes, ou deux expressions qui renvoient\n",
        "des booléens. Output : valeur booléenne.\n",
        "\n",
        "6/ L’opérateur `and` renvoie `True` si ses deux inputs valent `True`, et\n",
        "`False` dans tous les autres cas. L’opérateur `or` renvoie `True` si au\n",
        "moins un de ses deux inputs vaut `True`, et `False` dans le cas où ils\n",
        "valent tous les deux `False`. L’opérateur `not` renvoie `False` si son\n",
        "input est `True`, et `True` sinon.\n",
        "\n",
        "7/ Dans les deux cas, il s’agit de tests. On parle de condition lorsque\n",
        "les expressions sont utilisées dans le cadre des structures\n",
        "conditionnelles.\n",
        "\n",
        "8/ L’instruction conditionnelle commence par une instruction `if`,\n",
        "`else` ou `elif`, qui se termine par `:`. Vient ensuite, indenté de un\n",
        "niveau, un bloc d’opérations qui ne s’exécutent que si l’instruction\n",
        "vaut `True`. Le bloc se termine lorsque l’indentation revient à son\n",
        "niveau initial.\n",
        "\n",
        "9/ Oui, les instructions conditionnelles peuvent s’imbriquer à l’infini\n",
        "(en théorie) Il faut simplement faire attention à respecter les niveaux\n",
        "d’indentation.\n",
        "\n",
        "10/ Seule l’instruction `if` est obligatoire.\n",
        "\n",
        "</details>"
      ],
      "id": "134fc7fe-ac27-450d-8eb7-157b319a8fa3"
    },
    {
      "cell_type": "markdown",
      "metadata": {},
      "source": [
        "### Prédiction de résultats de tests\n",
        "\n",
        "Prédire le résultats des tests suivants, et vérifier vos prédictions :\n",
        "\n",
        "-   `'Simon' in ['simon', 'oceane', 'veronique']`\n",
        "\n",
        "-   `[1, 2, 3] == ['1', '2', '3']`\n",
        "\n",
        "-   `'x' != 'x'`\n",
        "\n",
        "-   `(9 > 5) and (3 == 5)`\n",
        "\n",
        "-   `(3 > 2 and 5 >= 1) or (5 <= 9 and 6 > 12)`\n",
        "\n",
        "-   `not (9 > 2*3)`\n",
        "\n",
        "-   `not (9 > (2*3))`\n",
        "\n",
        "-   `not ((7 > 8) or (5 <= 5))`\n",
        "\n",
        "-   `(True and True) or (True == False)`\n",
        "\n",
        "-   `(not False) or (not True)`"
      ],
      "id": "85bfdee1-096c-4dec-8a24-89aa69bb1967"
    },
    {
      "cell_type": "code",
      "execution_count": null,
      "metadata": {},
      "outputs": [],
      "source": [
        "# Testez votre réponse dans cette cellule"
      ],
      "id": "75ec3ebf"
    },
    {
      "cell_type": "markdown",
      "metadata": {},
      "source": [
        "<details>\n",
        "\n",
        "<summary>\n",
        "\n",
        "Afficher la solution\n",
        "\n",
        "</summary>\n",
        "\n",
        "-   `'Simon' in ['simon', 'oceane', 'veronique']` : False\n",
        "\n",
        "-   `[1, 2, 3] == ['1', '2', '3']` : False\n",
        "\n",
        "-   `'x' != 'x'` : False\n",
        "\n",
        "-   `(9 > 5) and (3 == 5)` : False\n",
        "\n",
        "-   `(3 > 2 and 5 >= 1) or (5 <= 9 and 6 > 12)` : True\n",
        "\n",
        "-   `not (9 > 2*3)` : False\n",
        "\n",
        "-   `not (9 > (2*3))` : False\n",
        "\n",
        "-   `not ((7 > 8) or (5 <= 5))` : False\n",
        "\n",
        "-   `(True and True) or (True == False)` : True\n",
        "\n",
        "-   `(not False) or (not True)` : True\n",
        "\n",
        "</details>"
      ],
      "id": "5ca70026-7a83-4746-bc2c-ae19f42ae080"
    },
    {
      "cell_type": "markdown",
      "metadata": {},
      "source": [
        "### Prédiction de test imbriqué\n",
        "\n",
        "Considérons le programme écrit dans la cellule suivante."
      ],
      "id": "d8597dd5-7de1-4d4f-ab8e-0029bb91a1fd"
    },
    {
      "cell_type": "code",
      "execution_count": null,
      "metadata": {},
      "outputs": [],
      "source": [
        "x = 10\n",
        "\n",
        "if True:\n",
        "    print(\"Initialisation.\")\n",
        "    l = []\n",
        "    if x > 8:\n",
        "        l.append(\"a\")\n",
        "    elif x >= 2:\n",
        "        l.append(\"b\")\n",
        "    else:\n",
        "        l.append(\"c\")\n",
        "    if x - 6 < 0:\n",
        "        print(\"Négatif.\")\n",
        "        \n",
        "print(l)"
      ],
      "id": "d1f23427"
    },
    {
      "cell_type": "markdown",
      "metadata": {},
      "source": [
        "Pour les valeurs suivantes :\n",
        "\n",
        "-   x = 1\n",
        "\n",
        "-   x = 5\n",
        "\n",
        "-   x = 10\n",
        "\n",
        "prédire les résultats du programme :\n",
        "\n",
        "-   que vaut `l` à la fin du programme ?\n",
        "\n",
        "-   qu’est ce qui est imprimé dans la console au fil du programme ?\n",
        "\n",
        "Vérifiez vos résultats."
      ],
      "id": "4990da0c-ddb1-4f85-9b75-1fdd55cffdf4"
    },
    {
      "cell_type": "code",
      "execution_count": null,
      "metadata": {},
      "outputs": [],
      "source": [
        "# Testez votre réponse dans cette cellule"
      ],
      "id": "0281ffd9"
    },
    {
      "cell_type": "markdown",
      "metadata": {},
      "source": [
        "<details>\n",
        "\n",
        "<summary>\n",
        "\n",
        "Afficher la solution\n",
        "\n",
        "</summary>\n",
        "\n",
        "-   `x = 1` : `l = ['c']` et messages imprimés : ‘Initialisation’ et\n",
        "    ‘Négatif’\n",
        "\n",
        "-   `x = 5` : `l = ['b']` et messages imprimés : ‘Initialisation’ et\n",
        "    ‘Négatif’\n",
        "\n",
        "-   `x = 10` : `l = ['a']` et messages imprimés : ‘Initialisation’\n",
        "\n",
        "</details>"
      ],
      "id": "0f418ca5-6c69-4ab0-9995-83e768d0d19d"
    },
    {
      "cell_type": "markdown",
      "metadata": {},
      "source": [
        "### Trois et pas plus\n",
        "\n",
        "Ecrire un programme qui réalise les opérations suivantes :\n",
        "\n",
        "-   Définir une liste qui contient 4 prénoms\n",
        "\n",
        "-   Ecrire un test qui affiche le message (‘Trop de monde.’) si la liste\n",
        "    contient plus de trois personnes\n",
        "\n",
        "-   Supprimer une personne de la liste (en utilisant la fonction `del`\n",
        "    ou la méthode `pop` vues dans un tutoriel précédent)\n",
        "\n",
        "-   Réaliser le test à nouveau, il ne devrait plus y avoir d’output."
      ],
      "id": "d920d228-2c1e-4ad9-b676-0fcee8510876"
    },
    {
      "cell_type": "code",
      "execution_count": null,
      "metadata": {},
      "outputs": [],
      "source": [
        "# Testez votre réponse dans cette cellule"
      ],
      "id": "303fdb1c"
    },
    {
      "cell_type": "markdown",
      "metadata": {},
      "source": [
        "<details>\n",
        "\n",
        "<summary>\n",
        "\n",
        "Afficher la solution\n",
        "\n",
        "</summary>\n",
        "\n",
        "``` python\n",
        "people = [\"Romuald\", \"Ursula\", \"Jean-Vincent\", \"Philomène\"]\n",
        "\n",
        "if len(people) > 3:\n",
        "    print('Trop de monde.')\n",
        "\n",
        "print(people)    \n",
        "people.remove(\"Jean-Vincent\")\n",
        "print(people)\n",
        "\n",
        "if len(people) > 3:\n",
        "    print('Trop de monde.')\n",
        "```\n",
        "\n",
        "</details>"
      ],
      "id": "af67c731-fe3d-4703-aa63-745bf93a3887"
    },
    {
      "cell_type": "markdown",
      "metadata": {},
      "source": [
        "### Le juste prix\n",
        "\n",
        "La fonction `input` permet de demander à l’utilisateur d’entrer une\n",
        "valeur dans le cadre d’un programme Python. La syntaxe est la suivante :\n",
        "`x = input()`. Lorsque cette commande est exécutée, l’utilisateur doit\n",
        "rentrer une valeur, qui est alors assignée à la variable x.\n",
        "\n",
        "**En utilisant `input` et les instructions `if`, `elif` et `else`**,\n",
        "coder le programme suivant :\n",
        "\n",
        "-   demander une valeur à l’utilisateur, qui sera stockée dans une\n",
        "    variable `p`\n",
        "\n",
        "-   si `p` est strictement inférieur à $15$, imprimer (avec la fonction\n",
        "    `print`) le message “trop bas !”.\n",
        "\n",
        "-   si `p` est strictement supérieur à $15$, imprimer le message “trop\n",
        "    haut !”.\n",
        "\n",
        "-   si `p` est égal à $15$, imprimer le message “dans le mille !”\n",
        "\n",
        "Attention, `input` renvoie par défaut une chaîne de caractère. Il faut\n",
        "donc convertir la valeur de `p` au format entier (via la fonction `int`)\n",
        "pour que le jeu fonctionne."
      ],
      "id": "1b36d20a-4755-4e1b-b468-a244ebda3d56"
    },
    {
      "cell_type": "code",
      "execution_count": null,
      "metadata": {},
      "outputs": [],
      "source": [
        "# Testez votre réponse dans cette cellule"
      ],
      "id": "d9db8b4b"
    },
    {
      "cell_type": "markdown",
      "metadata": {},
      "source": [
        "<details>\n",
        "\n",
        "<summary>\n",
        "\n",
        "Afficher la solution\n",
        "\n",
        "</summary>\n",
        "\n",
        "``` python\n",
        "p = input()\n",
        "p = int(p)\n",
        "\n",
        "if p < 15:\n",
        "    print(\"trop bas !\")\n",
        "elif p > 15:\n",
        "    print(\"trop haut !\")\n",
        "else:\n",
        "    print(\"dans le mille !\")\n",
        "```\n",
        "\n",
        "</details>"
      ],
      "id": "c1c6136f-4d20-4553-9a5c-0c73f68392f4"
    },
    {
      "cell_type": "markdown",
      "metadata": {},
      "source": [
        "### Evaluation booléenne d’objets divers\n",
        "\n",
        "En Python, tous les objets s’évaluent à `True` or `False` dans le cadre\n",
        "d’un test conditionnel (`if`/`else`). La règle générale est que les\n",
        "objets qui sont zéro ou vides (ex : une liste vide, un dictionnaire\n",
        "vide) s’évaluent à `False`, et inversement. Mais il n’y a pas besoin de\n",
        "connaître ces règles par coeur : elles se retrouvent facilement en\n",
        "pratique ! Par exemple, on peut utiliser le test conditionnel suivant :"
      ],
      "id": "e2ca927b-e46c-4a54-8c63-0d5a48ebeb00"
    },
    {
      "cell_type": "code",
      "execution_count": null,
      "metadata": {},
      "outputs": [],
      "source": [
        "if \"test\":\n",
        "    print(\"True.\")\n",
        "else:\n",
        "    print(\"False.\")"
      ],
      "id": "c7e3316a"
    },
    {
      "cell_type": "markdown",
      "metadata": {},
      "source": [
        "Prédire à quelle valeur booléenne vont s’évaluer les objets suivants, et\n",
        "vérifier à l’aide de la syntaxe précédente.\n",
        "\n",
        "-   `0`\n",
        "\n",
        "-   `1`\n",
        "\n",
        "-   `12`\n",
        "\n",
        "-   `-1`\n",
        "\n",
        "-   ’’ (*string* vide)\n",
        "\n",
        "-   ’ ’ (*string* contenant seulement un espace)\n",
        "\n",
        "-   `[]` (liste vide)\n",
        "\n",
        "-   `['']` (liste contenant seulement un *string* vide)\n",
        "\n",
        "-   `{}`\n",
        "\n",
        "-   `{-1}`"
      ],
      "id": "a5c3b1c3-9f95-4fbe-b952-8dae9c47c651"
    },
    {
      "cell_type": "code",
      "execution_count": null,
      "metadata": {},
      "outputs": [],
      "source": [
        "# Testez votre réponse dans cette cellule"
      ],
      "id": "a04a3ccd"
    },
    {
      "cell_type": "markdown",
      "metadata": {},
      "source": [
        "<details>\n",
        "\n",
        "<summary>\n",
        "\n",
        "Afficher la solution\n",
        "\n",
        "</summary>\n",
        "\n",
        "-   `0` : False\n",
        "\n",
        "-   `1` : True\n",
        "\n",
        "-   `12` : True\n",
        "\n",
        "-   `-1`: True\n",
        "\n",
        "-   `''` (*string* vide): False\n",
        "\n",
        "-   `' '` (*string* contenant seulement un espace): True\n",
        "\n",
        "-   `[]` (liste vide): False\n",
        "\n",
        "-   `['']` (liste contenant seulement un *string* vide): True\n",
        "\n",
        "-   `{}`: False\n",
        "\n",
        "-   `{-1}`: True\n",
        "\n",
        "</details>"
      ],
      "id": "0ca6c332-dbdc-4f03-92fa-7469f2715402"
    },
    {
      "cell_type": "markdown",
      "metadata": {},
      "source": [
        "### Comparaisons en chaîne\n",
        "\n",
        "Nous avons vu qu’il était possible de réaliser des comparaisons en\n",
        "chaîne, qui renvoient `True` à condition que chacune des comparaisons\n",
        "inclues soit vraie. Trouvez une manière de réécrire la comparaison en\n",
        "chaîne suivante à l’aide d’opérateurs booléens.\n",
        "\n",
        "`5 < 7 <= 8 < 18`"
      ],
      "id": "da4b1993-fddd-44d4-8bb6-2c7b0671ff36"
    },
    {
      "cell_type": "code",
      "execution_count": null,
      "metadata": {},
      "outputs": [],
      "source": [
        "# Testez votre réponse dans cette cellule"
      ],
      "id": "7590f689"
    },
    {
      "cell_type": "markdown",
      "metadata": {},
      "source": [
        "<details>\n",
        "\n",
        "<summary>\n",
        "\n",
        "Afficher la solution\n",
        "\n",
        "</summary>\n",
        "\n",
        "``` python\n",
        "print(5 < 7 <= 8 < 18)\n",
        "\n",
        "print(5 < 7 and 7 <= 8 and 8 < 18)\n",
        "```\n",
        "\n",
        "Une comparaison en chaîne peut se réécrire avec des opérateurs `and`.\n",
        "Logique : il faut que chaque comparaison soit vraie pour que l’ensemble\n",
        "le soit aussi. En pratique, la version avec les `and` est sans doute\n",
        "préférable pour la lisibilité.\n",
        "\n",
        "</details>"
      ],
      "id": "075427b6-52e8-4de3-9f58-c3a84d87392c"
    },
    {
      "cell_type": "markdown",
      "metadata": {},
      "source": [
        "### Booléens et langage binaire\n",
        "\n",
        "Les Booléens sont fortement liés au langage binaire, dans lequel le `1`\n",
        "correspond à “vrai” et le `0` à “faux”. On va vérifier si ce lien existe\n",
        "dans le contexte de Python. Pour ce faire :\n",
        "\n",
        "-   calculer la “représentation en entier” de la valeur booléenne de\n",
        "    votre choix à l’aide de la fonction `int` ;\n",
        "\n",
        "-   utiliser des booléens dans le cadre de calculs mathématiques pour\n",
        "    vérifier leur comportement dans ce contexte."
      ],
      "id": "db8f47b3-eb75-4f79-830d-43b21fdcd923"
    },
    {
      "cell_type": "code",
      "execution_count": null,
      "metadata": {},
      "outputs": [],
      "source": [
        "# Testez votre réponse dans cette cellule"
      ],
      "id": "5a54aa0e"
    },
    {
      "cell_type": "markdown",
      "metadata": {},
      "source": [
        "<details>\n",
        "\n",
        "<summary>\n",
        "\n",
        "Afficher la solution\n",
        "\n",
        "</summary>\n",
        "\n",
        "``` python\n",
        "print(int(True))  \n",
        "```\n",
        "\n",
        "Un Booléen évalué comme entier donne bien la valeur binaire associée.\n",
        "\n",
        "``` python\n",
        "print(True + 3)  \n",
        "```\n",
        "\n",
        "Les Booléens se comportent comme leur valeur entière associée dans les\n",
        "calculs.\n",
        "\n",
        "</details>"
      ],
      "id": "ee5f49f7-4bc6-4f92-a4b6-fe135ca37d05"
    },
    {
      "cell_type": "markdown",
      "metadata": {},
      "source": [
        "### Comparaisons de *strings*\n",
        "\n",
        "Que renvoient les tests de comparaison de type inégalités appliqués à\n",
        "des chaînes de caractères ? Produire quelques exemples pour tester le\n",
        "comportement."
      ],
      "id": "d3dd5c45-5b31-45f1-9829-668728513f3c"
    },
    {
      "cell_type": "code",
      "execution_count": null,
      "metadata": {},
      "outputs": [],
      "source": [
        "# Testez votre réponse dans cette cellule"
      ],
      "id": "82656e8b"
    },
    {
      "cell_type": "markdown",
      "metadata": {},
      "source": [
        "<details>\n",
        "\n",
        "<summary>\n",
        "\n",
        "Afficher la solution\n",
        "\n",
        "</summary>\n",
        "\n",
        "``` python\n",
        "print(\"a\" > \"b\")\n",
        "print(\"a\" < \"b\")\n",
        "print(\"abricot\" > \"avocat\")\n",
        "print(\"abricot\" < \"avocat\")\n",
        "print(\"1\" > \"2\")\n",
        "print(\"1\" < \"2\")\n",
        "print(\"A1\" < \"A2\")\n",
        "```\n",
        "\n",
        "</details>"
      ],
      "id": "b21104a0-7886-4ca5-9240-d9a7d68dfb91"
    },
    {
      "cell_type": "markdown",
      "metadata": {},
      "source": [
        "La relation d’ordre utilisée est l’ordre alphanumérique : chaque\n",
        "caractère est pris individuellement, et les ordres sont A \\< Z et 1 \\<\n",
        "9.\n",
        "\n",
        "### Tests d’égalité sur les *floats*\n",
        "\n",
        "Les tests d’égalité entre nombres réels (type `float` en Python) peuvent\n",
        "être trompeurs. Pour vous en convaincre, effectuez le test suivant :\n",
        "`(6 - 5.8) == 0.2`\n",
        "\n",
        "Pour comprendre le résultat du test, effectuer le calcul du membre de\n",
        "gauche du test seul. Que remarquez-vous ?\n",
        "\n",
        "Imaginez (sans forcément l’implémenter) un autre test, basé sur des\n",
        "inégalités, qui permettrait de tester l’égalité approchée."
      ],
      "id": "79de8760-c97c-4344-be1e-690269303101"
    },
    {
      "cell_type": "code",
      "execution_count": null,
      "metadata": {},
      "outputs": [],
      "source": [
        "# Testez votre réponse dans cette cellule"
      ],
      "id": "5a4ac3cb"
    },
    {
      "cell_type": "markdown",
      "metadata": {},
      "source": [
        "<details>\n",
        "\n",
        "<summary>\n",
        "\n",
        "Afficher la solution\n",
        "\n",
        "</summary>\n",
        "\n",
        "``` python\n",
        "diff = 3 - 2.7\n",
        "\n",
        "print(diff == 0.3)\n",
        "\n",
        "print(diff)\n",
        "```\n",
        "\n",
        "En Python, les nombres flottants sont toujours des valeurs approchées.\n",
        "On peut donc avoir ce genre de surprise dans les calculs.\n",
        "\n",
        "``` python\n",
        "tolerance = 0.0001\n",
        "new_test = (0.3 - tolerance) < diff < (0.3 + tolerance)\n",
        "print(new_test)\n",
        "```\n",
        "\n",
        "Ce dernier test permet de tester l’égalité entre diff et 0.3 de manière\n",
        "approchée, en permettant une certaine tolérance dans la comparaison.\n",
        "\n",
        "</details>"
      ],
      "id": "64b4078e-9249-4809-917f-44a427499772"
    }
  ],
  "nbformat": 4,
  "nbformat_minor": 5,
  "metadata": {
    "kernelspec": {
      "name": "python3",
      "display_name": "Python 3 (ipykernel)",
      "language": "python",
      "path": "/Users/gblin/opt/anaconda3/share/jupyter/kernels/python3"
    }
  }
}
