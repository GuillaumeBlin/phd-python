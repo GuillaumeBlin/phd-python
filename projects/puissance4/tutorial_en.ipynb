{
  "cells": [
    {
      "cell_type": "markdown",
      "metadata": {},
      "source": [
        "# Project 1 - Connect 4\n",
        "\n",
        "In this project we will implement a power 4 with an interface\n",
        "fairly basic graph. To achieve this, we will use the\n",
        "fundamental objects of Python."
      ],
      "id": "75425fdc-870e-4502-96c4-e44a48155ed5"
    },
    {
      "cell_type": "code",
      "execution_count": null,
      "metadata": {},
      "outputs": [],
      "source": [
        "import copy\n",
        "\n",
        "import solutions"
      ],
      "id": "05ed3cdc"
    },
    {
      "cell_type": "markdown",
      "metadata": {},
      "source": [
        "## Rules of the game\n",
        "\n",
        "The aim of the Connect 4 game is to line up a sequence of 4 pieces of the same\n",
        "color on a grid with 6 rows and 7 columns. Each player\n",
        "has 21 pawns of one color (by convention, generally yellow or\n",
        "In turn, both players place a pawn in the column of\n",
        "their choice, the pawn then slides to the lowest position\n",
        "possible in the said column after which it is up to the opponent to\n",
        "play. The winner is the player who first makes a lineup\n",
        "(horizontal, vertical or diagonal) consecutive of at least four pawns of\n",
        "its color. If, while all the squares on the game grid are\n",
        "fulfilled, neither player has made such an alignment, the\n",
        "part is declared void.\n",
        "\n",
        "In order to simplify the code of this project, we will assume that the\n",
        "Victorious alignments can only be horizontal or vertical.\n",
        "diagonals will therefore not be considered (but constitute an exercise\n",
        "interesting to go further!).\n",
        "\n",
        "## Project Plan\n",
        "\n",
        "We're going to break down the game build into different parts:\n",
        "\n",
        "- grid initialization\n",
        "\n",
        "- grid representation\n",
        "\n",
        "- game function\n",
        "\n",
        "- detection of a victory (horizontal)\n",
        "\n",
        "- detection of a victory (vertical)\n",
        "\n",
        "- end of game\n",
        "\n",
        "## Grid initialization\n",
        "\n",
        "The goal of this part is to initialize a Python object that\n",
        "represents a grid of power 4. The choice we are going to make is\n",
        "to **represent the grid as a list of lists**. This will be a\n",
        "6x7 matrix: we will therefore have a **list of 6 elements** (which\n",
        "will represent the lines of the grid), each of the elements of which will be\n",
        "a **list containing 7 elements** (which will represent the pawns).\n",
        "\n",
        "Each element of the grid will be represented by a *string*, which can\n",
        "take three values:\n",
        "\n",
        "- ’ ’ : if it is an empty box\n",
        "\n",
        "- ‘R’: if it is a red pawn.\n",
        "\n",
        "- ‘Y’: if it is a yellow pawn.\n",
        "\n",
        "In the grid initialization function, each element will therefore be\n",
        "initialized as a ***string* containing a space**.\n",
        "\n",
        "**Warning**: Be careful that the lines are\n",
        "independent objects, in other words, modifying one of the lists\n",
        "does not affect others.\n",
        "\n",
        "### Expected result"
      ],
      "id": "12ce22e9-7dac-472c-8160-18f191739746"
    },
    {
      "cell_type": "code",
      "execution_count": null,
      "metadata": {},
      "outputs": [],
      "source": [
        "grid_solution = solutions.initialize_grid()\n",
        "grid_solution"
      ],
      "id": "fd47b838"
    },
    {
      "cell_type": "code",
      "execution_count": null,
      "metadata": {},
      "outputs": [],
      "source": [
        "print(f\"Number of rows: {len(grid_solution)}\")\n",
        "print(f\"Number of columns: {len(grid_solution[0])}\")"
      ],
      "id": "da913469"
    },
    {
      "cell_type": "markdown",
      "metadata": {},
      "source": [
        "### Up to you !"
      ],
      "id": "76fde4da-7928-4012-bd5d-b7eb4927be10"
    },
    {
      "cell_type": "code",
      "execution_count": null,
      "metadata": {},
      "outputs": [],
      "source": [
        "def initialize_grid():\n",
        "    # Your code here\n",
        "    return grid"
      ],
      "id": "e53aee6b"
    },
    {
      "cell_type": "code",
      "execution_count": null,
      "metadata": {},
      "outputs": [],
      "source": [
        "# Checking the result\n",
        "grid = initialize_grid()\n",
        "grid"
      ],
      "id": "e730680f"
    },
    {
      "cell_type": "code",
      "execution_count": null,
      "metadata": {},
      "outputs": [],
      "source": [
        "# Checking the result\n",
        "print(f\"Number of rows: {len(grid)}\")\n",
        "print(f\"Number of columns: {len(grid[0])}\")"
      ],
      "id": "dab8703d"
    },
    {
      "cell_type": "markdown",
      "metadata": {},
      "source": [
        "## Grid representation\n",
        "\n",
        "Our grid is initialized, but its display is quite basic.\n",
        "The idea of ​​this part is to offer a more visual representation of the\n",
        "game during a game.\n",
        "\n",
        "To do this, we will create a function that takes as input the\n",
        "previously initialized grid and returns its representation** (via the\n",
        "`print` function). Columns will be separated by the \\| character.\n",
        "(vertical bar).\n",
        "\n",
        "**Hint**: A possible solution involves two concepts that we\n",
        "we saw in the previous TP: the concatenation of *strings* and the\n",
        "`join` function which “joins” the elements of a list by separating them with\n",
        "a certain character. As a reminder, here is an example that uses these two\n",
        "concepts:"
      ],
      "id": "87c157e1-45f8-4e76-9ed5-2e863b4e2a22"
    },
    {
      "cell_type": "code",
      "execution_count": null,
      "metadata": {},
      "outputs": [],
      "source": [
        "l = [\"a\", \"b\", \"c\", \"d\", \"e\"]\n",
        "l_join = \"DEBUT \" + \", \".join(l) + \" FIN\"\n",
        "print(l_join)"
      ],
      "id": "1b904e8b"
    },
    {
      "cell_type": "markdown",
      "metadata": {},
      "source": [
        "### Expected result"
      ],
      "id": "8ff5f44f-fbbe-4ab2-94f6-30253bd3a31e"
    },
    {
      "cell_type": "code",
      "execution_count": null,
      "metadata": {},
      "outputs": [],
      "source": [
        "solutions.display_grid(grid_solution)"
      ],
      "id": "8260d16e"
    },
    {
      "cell_type": "markdown",
      "metadata": {},
      "source": [
        "### Up to you !"
      ],
      "id": "68f39146-9d5d-47ff-b3de-1e85ac7f6c53"
    },
    {
      "cell_type": "code",
      "execution_count": null,
      "metadata": {},
      "outputs": [],
      "source": [
        "def display_grid():\n",
        "    # Your code here"
      ],
      "id": "c194347f"
    },
    {
      "cell_type": "code",
      "execution_count": null,
      "metadata": {},
      "outputs": [],
      "source": [
        "# Checking the result\n",
        "display_grid(grid)"
      ],
      "id": "1fe551d0"
    },
    {
      "cell_type": "markdown",
      "metadata": {},
      "source": [
        "## Game function\n",
        "\n",
        "Now that we can represent our grid, let's take a look\n",
        "at the heart of Connect 4: the game. The objective of this game is to\n",
        "**code a `make_move` function that will modify the grid when a\n",
        "player takes his turn**.\n",
        "\n",
        "This function takes as input:\n",
        "\n",
        "- the grid\n",
        "\n",
        "- the column chosen by the player\n",
        "\n",
        "- the color of the pawn (‘R’ for the red pawn, and ‘Y’ for the\n",
        "YELLOW)\n",
        "\n",
        "and returns as output the grid updated following the player's turn.\n",
        "\n",
        "If the chosen column is already complete, return an error message.\n",
        "\n",
        "**Warning**: In Python, numbering starts at 0. The first\n",
        "column therefore corresponds to column 0 from an indexing point of view.\n",
        "\n",
        "Optional: Return an error message if a player tries to play\n",
        "in a non-existent column or with an unauthorized color.\n",
        "\n",
        "### Expected result"
      ],
      "id": "723d5a67-9b2a-4e06-9084-8b89bc9fbaa6"
    },
    {
      "cell_type": "code",
      "execution_count": null,
      "metadata": {},
      "outputs": [],
      "source": [
        "grid_solution = solutions.initialize_grid()  # Initialization\n",
        "grid_solution = solutions.make_move(grid=grid_solution, column_to_play=2, disc_color=\"R\")  # 1st round of play\n",
        "grid_solution = solutions.make_move(grid=grid_solution, column_to_play=5, disc_color=\"J\")  # 2nd round of play\n",
        "grid_solution = solutions.make_move(grid=grid_solution, column_to_play=2, disc_color=\"R\")  # 3rd round of play\n",
        "solutions.display_grid(grid_solution)"
      ],
      "id": "b8170fc2"
    },
    {
      "cell_type": "markdown",
      "metadata": {},
      "source": [
        "### Up to you !"
      ],
      "id": "67fb4a8f-c4f6-47d2-bc9a-b0e0aa01e19e"
    },
    {
      "cell_type": "code",
      "execution_count": null,
      "metadata": {},
      "outputs": [],
      "source": [
        "def make_move(grid, column_to_play, disc_color):\n",
        "    new_grid = copy.deepcopy(grid)  # Avoids modifying the initial grid\n",
        "    # Your code here\n",
        "    return new_grid"
      ],
      "id": "000241a1"
    },
    {
      "cell_type": "code",
      "execution_count": null,
      "metadata": {},
      "outputs": [],
      "source": [
        "# Checking the result\n",
        "grid = initialize_grid()  # Initialization\n",
        "grid = make_move(grid=grid, column_to_play=2, disc_color=\"R\")  # 1st round of play\n",
        "grid = make_move(grid=grid, column_to_play=5, disc_color=\"J\")  # 2nd round of play\n",
        "grid = make_move(grid=grid, column_to_play=2, disc_color=\"R\")  # 3rd round of play\n",
        "display_grid(grid)"
      ],
      "id": "cef38d4a"
    },
    {
      "cell_type": "markdown",
      "metadata": {},
      "source": [
        "## Detecting a win (horizontal)\n",
        "\n",
        "Now that it is possible to actually play to our power\n",
        "4, you must be able to detect a victory to end the game in\n",
        "course. To do this, we will simplify the problem by breaking it down into\n",
        "maximum.\n",
        "\n",
        "First, we are interested in detecting a victory\n",
        "horizontal. To do this, we will use two functions:\n",
        "\n",
        "- a `check_row_victory` function which takes as input a row of the\n",
        "power of 4 (i.e. a list of size 7) and returns `True` if\n",
        "never 4 consecutive pawns of the same color are on the line,\n",
        "and `False` otherwise\n",
        "\n",
        "- a function `check_horizontal_victory` which takes as input a\n",
        "full grid and returns `True` if ever a grid line\n",
        "meets the previous condition, and `False` otherwise\n",
        "\n",
        "### Expected result"
      ],
      "id": "6c12de3e-24a2-48f0-a2d3-a1c4442aae05"
    },
    {
      "cell_type": "code",
      "execution_count": null,
      "metadata": {},
      "outputs": [],
      "source": [
        "# Detecting a (horizontal) win on a line\n",
        "ligne1 = [\" \", \"R\", \"R\", \"R\", \"J\", \"J\", \" \"]\n",
        "ligne2 = [\" \", \"R\", \"R\", \"R\", \"R\", \"J\", \" \"]\n",
        "\n",
        "print(solutions.check_row_victory(ligne1))  # Returns False\n",
        "print()  # Return to line\n",
        "print(solutions.check_row_victory(ligne2))  # Returns True"
      ],
      "id": "4a913460"
    },
    {
      "cell_type": "code",
      "execution_count": null,
      "metadata": {},
      "outputs": [],
      "source": [
        "# Detecting a (horizontal) win on a grid\n",
        "grid_solution = solutions.initialize_grid()  # Initialization\n",
        "print(solutions.check_horizontal_victory(grid_solution))  # Returns False\n",
        "print()  # Return to line\n",
        "\n",
        "grid_solution = solutions.make_move(grid=grid_solution, column_to_play=2, disc_color=\"R\")\n",
        "grid_solution = solutions.make_move(grid=grid_solution, column_to_play=3, disc_color=\"R\")\n",
        "grid_solution = solutions.make_move(grid=grid_solution, column_to_play=4, disc_color=\"R\")\n",
        "grid_solution = solutions.make_move(grid=grid_solution, column_to_play=5, disc_color=\"R\")\n",
        "solutions.display_grid(grid_solution)\n",
        "print()  # Return to line\n",
        "\n",
        "print(solutions.check_horizontal_victory(grid_solution))  # Returns True"
      ],
      "id": "037a72e5"
    },
    {
      "cell_type": "markdown",
      "metadata": {},
      "source": [
        "### Up to you !"
      ],
      "id": "1845691c-daf1-4c8f-beb6-f4f3c5071337"
    },
    {
      "cell_type": "code",
      "execution_count": null,
      "metadata": {},
      "outputs": [],
      "source": [
        "def check_row_victory(ligne):\n",
        "    # Your code here"
      ],
      "id": "8a24e20d"
    },
    {
      "cell_type": "code",
      "execution_count": null,
      "metadata": {},
      "outputs": [],
      "source": [
        "# Checking the result\n",
        "row1 = [\" \", \"R\", \"R\", \"R\", \"J\", \"R\", \" \"]\n",
        "row2 = [\" \", \"R\", \"R\", \"R\", \"R\", \"J\", \" \"]\n",
        "\n",
        "print(check_row_victory(row1))  # Returns False\n",
        "print(check_row_victory(row2))  # Returns True"
      ],
      "id": "8b2b2b7b"
    },
    {
      "cell_type": "code",
      "execution_count": null,
      "metadata": {},
      "outputs": [],
      "source": [
        "def check_horizontal_victory(grid):\n",
        "    # Your code here"
      ],
      "id": "2a6dd3f8"
    },
    {
      "cell_type": "code",
      "execution_count": null,
      "metadata": {},
      "outputs": [],
      "source": [
        "# Checking the result\n",
        "grid = initialize_grid()  # Initialization\n",
        "print(check_horizontal_victory(grid))  # Returns False\n",
        "\n",
        "grid = make_move(grid=grid, column_to_play=2, disc_color=\"R\")\n",
        "grid = make_move(grid=grid, column_to_play=3, disc_color=\"R\")\n",
        "grid = make_move(grid=grid, column_to_play=4, disc_color=\"R\")\n",
        "grid = make_move(grid=grid, column_to_play=5, disc_color=\"R\")\n",
        "display_grid(grid)\n",
        "print(check_horizontal_victory(grid))  # Returns True"
      ],
      "id": "4b8761b2"
    },
    {
      "cell_type": "markdown",
      "metadata": {},
      "source": [
        "## Detecting a win (vertical)\n",
        "\n",
        "Now we are interested in detecting a vertical victory. By\n",
        "Compared to the previous situation, the difficulty is that we cannot\n",
        "not directly loop over the columns. So we will build a\n",
        "function `check_vertical_victory` which, for each column:\n",
        "\n",
        "- retrieves the elements of the column into a list\n",
        "\n",
        "- applies the `check_row_victory` function to this list to check\n",
        "the presence of 4 consecutive pawns of the same color in the column\n",
        "considered\n",
        "\n",
        "### Expected result"
      ],
      "id": "a7ae3f37-269b-48e3-a936-bc342e8076c1"
    },
    {
      "cell_type": "code",
      "execution_count": null,
      "metadata": {},
      "outputs": [],
      "source": [
        "# Detecting a (vertical) win on a grid\n",
        "grid_solution = solutions.initialize_grid()  # Initialization\n",
        "print(solutions.check_vertical_victory(grid_solution))  # Returns False\n",
        "print()  # Return to line\n",
        "\n",
        "grid_solution = solutions.make_move(grid=grid_solution, column_to_play=2, disc_color=\"J\")\n",
        "grid_solution = solutions.make_move(grid=grid_solution, column_to_play=2, disc_color=\"J\")\n",
        "grid_solution = solutions.make_move(grid=grid_solution, column_to_play=2, disc_color=\"J\")\n",
        "grid_solution = solutions.make_move(grid=grid_solution, column_to_play=2, disc_color=\"J\")\n",
        "solutions.display_grid(grid_solution)\n",
        "print()  # Return to line\n",
        "\n",
        "print(solutions.check_vertical_victory(grid_solution))  # Returns True"
      ],
      "id": "55615e61"
    },
    {
      "cell_type": "markdown",
      "metadata": {},
      "source": [
        "### Up to you !"
      ],
      "id": "d4f23587-6648-4711-8481-38599dade2bf"
    },
    {
      "cell_type": "code",
      "execution_count": null,
      "metadata": {},
      "outputs": [],
      "source": [
        "def check_vertical_victory(grid):\n",
        "    # Your code here"
      ],
      "id": "dd8010fc"
    },
    {
      "cell_type": "code",
      "execution_count": null,
      "metadata": {},
      "outputs": [],
      "source": [
        "# Checking the result\n",
        "grid = initialize_grid()  # Initialization\n",
        "print(check_vertical_victory(grid))  # Returns False\n",
        "print()  # Return to line\n",
        "\n",
        "grid = make_move(grid=grid, column_to_play=2, disc_color=\"J\")\n",
        "grid = make_move(grid=grid, column_to_play=2, disc_color=\"J\")\n",
        "grid = make_move(grid=grid, column_to_play=2, disc_color=\"J\")\n",
        "grid = make_move(grid=grid, column_to_play=2, disc_color=\"J\")\n",
        "display_grid(grid)\n",
        "print()  # Return to line\n",
        "\n",
        "print(check_vertical_victory(grid))  # Returns True"
      ],
      "id": "81fa97a7"
    },
    {
      "cell_type": "markdown",
      "metadata": {},
      "source": [
        "## End of game\n",
        "\n",
        "In our simplified version of Connect 4, we can now declare\n",
        "**the end of the game: as soon as a horizontal or vertical victory\n",
        "is detected**.\n",
        "\n",
        "So we will start by creating a `victory` function which takes the\n",
        "grid as input and returns `True` if a horizontal win **or**\n",
        "vertical is detected, and `False` otherwise.\n",
        "\n",
        "Ideally, we would like to not have to manually test afterwards\n",
        "each move if the game is over in order to limit duplication of\n",
        "code. We will then create a function\n",
        "`make_move_and_check_victory` which:\n",
        "\n",
        "- takes the same *inputs* as the `tour` function\n",
        "\n",
        "- will call the `turn` function to perform the game turn\n",
        "\n",
        "- will test after the game round if a victory is detected via the\n",
        "`win` function. If a win is detected, the function\n",
        "prints “END GAME”.\n",
        "\n",
        "### Expected result"
      ],
      "id": "7ed7b703-6929-4715-94ac-33df58ddb313"
    },
    {
      "cell_type": "code",
      "execution_count": null,
      "metadata": {},
      "outputs": [],
      "source": [
        "grid_solution = solutions.initialize_grid()  # Initialization\n",
        "print(\"Tour 1\")\n",
        "grid_solution = solutions.make_move_and_check_victory(grid=grid_solution, column_to_play=2, disc_color=\"J\")\n",
        "print(\"Tour 2\")\n",
        "grid_solution = solutions.make_move_and_check_victory(grid=grid_solution, column_to_play=2, disc_color=\"J\")\n",
        "print(\"Tour 3\")\n",
        "grid_solution = solutions.make_move_and_check_victory(grid=grid_solution, column_to_play=2, disc_color=\"J\")\n",
        "print(\"Tour 4\")\n",
        "grid_solution = solutions.make_move_and_check_victory(grid=grid_solution, column_to_play=2, disc_color=\"J\")"
      ],
      "id": "9607f667"
    },
    {
      "cell_type": "markdown",
      "metadata": {},
      "source": [
        "### Up to you !"
      ],
      "id": "930c1032-ecf3-49bd-adce-1cd4284b0a3f"
    },
    {
      "cell_type": "code",
      "execution_count": null,
      "metadata": {},
      "outputs": [],
      "source": [
        "def check_victory(grid):\n",
        "    # Your code here"
      ],
      "id": "1023101b"
    },
    {
      "cell_type": "code",
      "execution_count": null,
      "metadata": {},
      "outputs": [],
      "source": [
        "def make_move_and_check_victory(grille, column_to_play, disc_color):\n",
        "    grid = copy.deepcopy(grid)\n",
        "    # Your code here\n",
        "    return grid"
      ],
      "id": "03f2ad43"
    },
    {
      "cell_type": "code",
      "execution_count": null,
      "metadata": {},
      "outputs": [],
      "source": [
        "# Checking the result\n",
        "grid = initialize_grid()  # Initialization\n",
        "print(\"Tour 1\")\n",
        "grid = make_move_and_check_victory(grid=grid, column_to_play=2, disc_color=\"J\")\n",
        "print(\"Tour 2\")\n",
        "grid = make_move_and_check_victory(grid=grid, column_to_play=2, disc_color=\"J\")\n",
        "print(\"Tour 3\")\n",
        "grid = make_move_and_check_victory(grid=grid, column_to_play=2, disc_color=\"J\")\n",
        "print(\"Tour 4\")\n",
        "grid = make_move_and_check_victory(grid=grid, column_to_play=2, disc_color=\"J\")"
      ],
      "id": "aaebc553"
    }
  ],
  "nbformat": 4,
  "nbformat_minor": 5,
  "metadata": {
    "kernelspec": {
      "name": "python3",
      "display_name": "Python 3 (ipykernel)",
      "language": "python",
      "path": "/Users/gblin/opt/anaconda3/share/jupyter/kernels/python3"
    }
  }
}