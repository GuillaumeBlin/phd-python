{
  "cells": [
    {
      "cell_type": "markdown",
      "metadata": {},
      "source": [
        "# Projet 1 - Puissance 4\n",
        "\n",
        "Dans ce projet nous allons implémenter un puissance 4 avec une interface\n",
        "graphique assez sommaire. Pour y arriver, nous allons utiliser les\n",
        "objets fondamentaux de Python."
      ],
      "id": "75425fdc-870e-4502-96c4-e44a48155ed5"
    },
    {
      "cell_type": "code",
      "execution_count": null,
      "metadata": {},
      "outputs": [],
      "source": [
        "import copy\n",
        "\n",
        "import solutions"
      ],
      "id": "05ed3cdc"
    },
    {
      "cell_type": "markdown",
      "metadata": {},
      "source": [
        "## Règles du jeu\n",
        "\n",
        "Le but du jeu de Puissance 4 est d’aligner une suite de 4 pions de même\n",
        "couleur sur une grille comptant 6 rangées et 7 colonnes. Chaque joueur\n",
        "dispose de 21 pions d’une couleur (par convention, en général jaune ou\n",
        "rouge). Tour à tour, les deux joueurs placent un pion dans la colonne de\n",
        "leur choix, le pion coulisse alors jusqu’à la position la plus basse\n",
        "possible dans la dite colonne à la suite de quoi c’est à l’adversaire de\n",
        "jouer. Le vainqueur est le joueur qui réalise le premier un alignement\n",
        "(horizontal, vertical ou diagonal) consécutif d’au moins quatre pions de\n",
        "sa couleur. Si, alors que toutes les cases de la grille de jeu sont\n",
        "remplies, aucun des deux joueurs n’a réalisé un tel alignement, la\n",
        "partie est déclarée nulle.\n",
        "\n",
        "Afin de simplifier le code de ce projet, on partira du principe que les\n",
        "alignements victorieux ne peuvent être qu’horizontaux ou verticaux. Les\n",
        "diagonales ne seront donc pas considérées (mais constituent un exercice\n",
        "intéressant pour aller plus loin !).\n",
        "\n",
        "## Plan du projet\n",
        "\n",
        "Nous allons décomposer la construction du jeu en différentes parties :\n",
        "\n",
        "-   initialisation de la grille\n",
        "\n",
        "-   représentation de la grille\n",
        "\n",
        "-   fonction de jeu\n",
        "\n",
        "-   détection d’une victoire (horizontale)\n",
        "\n",
        "-   détection d’une victoire (verticale)\n",
        "\n",
        "-   fin de partie\n",
        "\n",
        "## Initialisation de la grille\n",
        "\n",
        "L’objectif de cette partie est d’initialiser un objet Python qui\n",
        "représente une grille de puissance 4. Le choix que nous allons faire est\n",
        "de **représenter la grille comme une liste de listes**. Il s’agira d’une\n",
        "matrice 6x7 : on aura par conséquent une **liste de 6 élements** (qui\n",
        "représenteront les lignes de la grille), dont chacun des éléments sera\n",
        "une **liste contenant 7 éléments** (qui représenterons les pions).\n",
        "\n",
        "Chaque élément de la grille sera représenté par un *string*, qui pourra\n",
        "prendre trois valeurs :\n",
        "\n",
        "-   ’ ’ : s’il s’agit d’une case vide\n",
        "\n",
        "-   ‘R’ : s’il s’agit d’un pion rouge.\n",
        "\n",
        "-   ‘Y’ : s’il s’agit d’un pion jaune (yellow).\n",
        "\n",
        "Dans la fonction d’initialisation de la grille, chaque élément sera donc\n",
        "initialisé comme un ***string* contenant un espace**.\n",
        "\n",
        "**Attention** : Bien faire attention à ce que les lignes soient des\n",
        "objets indépendants, autrement dit que modifier l’une des listes\n",
        "n’affecte pas les autres.\n",
        "\n",
        "### Résultat attendu"
      ],
      "id": "12ce22e9-7dac-472c-8160-18f191739746"
    },
    {
      "cell_type": "code",
      "execution_count": null,
      "metadata": {},
      "outputs": [],
      "source": [
        "grid_solution = solutions.initialize_grid()\n",
        "grid_solution"
      ],
      "id": "fd47b838"
    },
    {
      "cell_type": "code",
      "execution_count": null,
      "metadata": {},
      "outputs": [],
      "source": [
        "print(f'Nombre de lignes : {len(grid_solution)}')\n",
        "print(f'Nombre de colonnes : {len(grid_solution[0])}')"
      ],
      "id": "da913469"
    },
    {
      "cell_type": "markdown",
      "metadata": {},
      "source": [
        "### A vous de jouer !"
      ],
      "id": "76fde4da-7928-4012-bd5d-b7eb4927be10"
    },
    {
      "cell_type": "code",
      "execution_count": null,
      "metadata": {},
      "outputs": [],
      "source": [
        "def initialize_grid():\n",
        "    # Votre code ici\n",
        "    return grid"
      ],
      "id": "e53aee6b"
    },
    {
      "cell_type": "code",
      "execution_count": null,
      "metadata": {},
      "outputs": [],
      "source": [
        "# Vérification du résultat\n",
        "grid = initialize_grid()\n",
        "grid"
      ],
      "id": "e730680f"
    },
    {
      "cell_type": "code",
      "execution_count": null,
      "metadata": {},
      "outputs": [],
      "source": [
        "# Vérification du résultat\n",
        "print(f'Nombre de lignes : {len(grid)}')\n",
        "print(f'Nombre de colonnes : {len(grid[0])}')"
      ],
      "id": "dab8703d"
    },
    {
      "cell_type": "markdown",
      "metadata": {},
      "source": [
        "## Représentation de la grille\n",
        "\n",
        "Notre grille est initialisée, mais son affichage est assez sommaire.\n",
        "L’idée de cette partie est d’offrir une représentation plus visuelle du\n",
        "jeu pendant une partie.\n",
        "\n",
        "Pour cela, nous allons créer **une fonction qui prend en entrée la\n",
        "grille précédemment initialisée et renvoie sa représentation** (via la\n",
        "fonction `print`). Les colonnes seront séparées par le caractère \\|\n",
        "(barre verticale).\n",
        "\n",
        "**Indice** : une solution possible fait intervenir deux notions que nous\n",
        "avons vues dans les TP précédents : la concaténation de *strings* et la\n",
        "fonction `join` qui “joint” les éléments d’une liste en les séparant par\n",
        "un certain caractère. Pour rappel, voici un exemple qui utilise ces deux\n",
        "concepts :"
      ],
      "id": "87c157e1-45f8-4e76-9ed5-2e863b4e2a22"
    },
    {
      "cell_type": "code",
      "execution_count": null,
      "metadata": {},
      "outputs": [],
      "source": [
        "l = [\"a\", \"b\", \"c\", \"d\", \"e\"]\n",
        "l_join = \"DEBUT \" + \", \".join(l) + \" FIN\"\n",
        "print(l_join)"
      ],
      "id": "1b904e8b"
    },
    {
      "cell_type": "markdown",
      "metadata": {},
      "source": [
        "### Résultat attendu"
      ],
      "id": "8ff5f44f-fbbe-4ab2-94f6-30253bd3a31e"
    },
    {
      "cell_type": "code",
      "execution_count": null,
      "metadata": {},
      "outputs": [],
      "source": [
        "solutions.display_grid(grid_solution)"
      ],
      "id": "8260d16e"
    },
    {
      "cell_type": "markdown",
      "metadata": {},
      "source": [
        "### A vous de jouer !"
      ],
      "id": "68f39146-9d5d-47ff-b3de-1e85ac7f6c53"
    },
    {
      "cell_type": "code",
      "execution_count": null,
      "metadata": {},
      "outputs": [],
      "source": [
        "def display_grid():\n",
        "    # Votre code ici"
      ],
      "id": "c194347f"
    },
    {
      "cell_type": "code",
      "execution_count": null,
      "metadata": {},
      "outputs": [],
      "source": [
        "# Vérification du résultat\n",
        "display_grid(grid)"
      ],
      "id": "1fe551d0"
    },
    {
      "cell_type": "markdown",
      "metadata": {},
      "source": [
        "## Fonction de jeu\n",
        "\n",
        "Maintenant que nous pouvons représenter notre grille, intéressons-nous\n",
        "au coeur du puissance 4 : le jeu. L’objectif de cette partie est de\n",
        "**coder une fonction `make_move` qui va modifier la grille lorsqu’un\n",
        "joueur joue son tour**.\n",
        "\n",
        "Cette fonction prend en entrée :\n",
        "\n",
        "-   la grille\n",
        "\n",
        "-   la colonne choisie par le joueur\n",
        "\n",
        "-   la couleur du pion (‘R’ pour le pion rouge, et ‘Y’ pour le pion\n",
        "    jaune)\n",
        "\n",
        "et renvoie en sortie la grille actualisée suite au tour du joueur.\n",
        "\n",
        "Si la colonne choisie est déjà complète, renvoyer un message d’erreur.\n",
        "\n",
        "**Attention** : en Python, la numérotation commence à 0. La première\n",
        "colonne correspond donc à la colonne 0 du point de vue de l’indexation.\n",
        "\n",
        "Optionnel : Renvoyer un message d’erreur si un joueur essaie de jouer\n",
        "dans une colonne inexistante ou bien avec une couleur non autorisée.\n",
        "\n",
        "### Résultat attendu"
      ],
      "id": "723d5a67-9b2a-4e06-9084-8b89bc9fbaa6"
    },
    {
      "cell_type": "code",
      "execution_count": null,
      "metadata": {},
      "outputs": [],
      "source": [
        "grid_solution = solutions.initialize_grid()  # Initialisation\n",
        "grid_solution = solutions.make_move(grid=grid_solution, column_to_play=2, disc_color=\"R\")  # 1er tour de jeu\n",
        "grid_solution = solutions.make_move(grid=grid_solution, column_to_play=5, disc_color=\"J\")  # 2ème tour de jeu\n",
        "grid_solution = solutions.make_move(grid=grid_solution, column_to_play=2, disc_color=\"R\")  # 3ème tour de jeu\n",
        "solutions.display_grid(grid_solution)"
      ],
      "id": "b8170fc2"
    },
    {
      "cell_type": "markdown",
      "metadata": {},
      "source": [
        "### A vous de jouer !"
      ],
      "id": "67fb4a8f-c4f6-47d2-bc9a-b0e0aa01e19e"
    },
    {
      "cell_type": "code",
      "execution_count": null,
      "metadata": {},
      "outputs": [],
      "source": [
        "def make_move(grid, column_to_play, disc_color):\n",
        "    new_grid = copy.deepcopy(grid)  # Evite la modification de la grille initiale\n",
        "    # Votre code ici\n",
        "    return new_grid"
      ],
      "id": "000241a1"
    },
    {
      "cell_type": "code",
      "execution_count": null,
      "metadata": {},
      "outputs": [],
      "source": [
        "# Vérification du résultat\n",
        "grid = initialize_grid()  # Initialisation\n",
        "grid = make_move(grid=grid, column_to_play=2, disc_color=\"R\")  # 1er tour de jeu\n",
        "grid = make_move(grid=grid, column_to_play=5, disc_color=\"J\")  # 2ème tour de jeu\n",
        "grid = make_move(grid=grid, column_to_play=2, disc_color=\"R\")  # 3ème tour de jeu\n",
        "display_grid(grid)"
      ],
      "id": "cef38d4a"
    },
    {
      "cell_type": "markdown",
      "metadata": {},
      "source": [
        "## Détection d’une victoire (horizontale)\n",
        "\n",
        "Maintenant qu’il est possible de jouer effectivement à notre puissance\n",
        "4, il faut pouvoir détecter une victoire pour mettre fin à la partie en\n",
        "cours. Pour se faire, on va simplifier le problème en le décomposant au\n",
        "maximum.\n",
        "\n",
        "Dans un premier temps, on s’intéresse à la détection d’une victoire\n",
        "horizontale. Pour cela, on va s’aider de deux fonctions :\n",
        "\n",
        "-   une fonction `check_row_victory` qui prend en entrée une ligne du\n",
        "    puissance 4 (i.e. une liste de taille 7) et retourne `True` si\n",
        "    jamais 4 pions consécutifs de même couleur se trouvent sur la ligne,\n",
        "    et `False` sinon\n",
        "\n",
        "-   une fonction `check_horizontal_victory` qui prend en entrée une\n",
        "    grille complète et retourne `True` si jamais une ligne de la grille\n",
        "    remplit la condition précédente, et `False` sinon\n",
        "\n",
        "### Résultat attendu"
      ],
      "id": "6c12de3e-24a2-48f0-a2d3-a1c4442aae05"
    },
    {
      "cell_type": "code",
      "execution_count": null,
      "metadata": {},
      "outputs": [],
      "source": [
        "# Détection d'une victoire (horizontale) sur une ligne\n",
        "ligne1 = [\" \", \"R\", \"R\", \"R\", \"J\", \"J\", \" \"]\n",
        "ligne2 = [\" \", \"R\", \"R\", \"R\", \"R\", \"J\", \" \"]\n",
        "\n",
        "print(solutions.check_row_victory(ligne1))  # Renvoie False\n",
        "print()  # Retour à la ligne\n",
        "print(solutions.check_row_victory(ligne2))  # Renvoie True"
      ],
      "id": "4a913460"
    },
    {
      "cell_type": "code",
      "execution_count": null,
      "metadata": {},
      "outputs": [],
      "source": [
        "# Détection d'une victoire (horizontale) sur une grille\n",
        "grid_solution = solutions.initialize_grid()  # Initialisation\n",
        "print(solutions.check_horizontal_victory(grid_solution))  # Renvoie False\n",
        "print()  # Retour à la ligne\n",
        "\n",
        "grid_solution = solutions.make_move(grid=grid_solution, column_to_play=2, disc_color=\"R\")\n",
        "grid_solution = solutions.make_move(grid=grid_solution, column_to_play=3, disc_color=\"R\")\n",
        "grid_solution = solutions.make_move(grid=grid_solution, column_to_play=4, disc_color=\"R\")\n",
        "grid_solution = solutions.make_move(grid=grid_solution, column_to_play=5, disc_color=\"R\")\n",
        "solutions.display_grid(grid_solution)\n",
        "print()  # Retour à la ligne\n",
        "\n",
        "print(solutions.check_horizontal_victory(grid_solution))  # Renvoie True"
      ],
      "id": "037a72e5"
    },
    {
      "cell_type": "markdown",
      "metadata": {},
      "source": [
        "### A vous de jouer !"
      ],
      "id": "1845691c-daf1-4c8f-beb6-f4f3c5071337"
    },
    {
      "cell_type": "code",
      "execution_count": null,
      "metadata": {},
      "outputs": [],
      "source": [
        "def check_row_victory(ligne):\n",
        "    # Votre code ici"
      ],
      "id": "8a24e20d"
    },
    {
      "cell_type": "code",
      "execution_count": null,
      "metadata": {},
      "outputs": [],
      "source": [
        "# Vérification du résultat\n",
        "row1 = [\" \", \"R\", \"R\", \"R\", \"J\", \"R\", \" \"]\n",
        "row2 = [\" \", \"R\", \"R\", \"R\", \"R\", \"J\", \" \"]\n",
        "\n",
        "print(check_row_victory(row1))  # Renvoie False\n",
        "print(check_row_victory(row2))  # Renvoie True"
      ],
      "id": "8b2b2b7b"
    },
    {
      "cell_type": "code",
      "execution_count": null,
      "metadata": {},
      "outputs": [],
      "source": [
        "def check_horizontal_victory(grid):\n",
        "    # Votre code ici"
      ],
      "id": "2a6dd3f8"
    },
    {
      "cell_type": "code",
      "execution_count": null,
      "metadata": {},
      "outputs": [],
      "source": [
        "# Vérification du résultat\n",
        "grid = initialize_grid()  # Initialisation\n",
        "print(check_horizontal_victory(grid))  # Renvoie False\n",
        "\n",
        "grid = make_move(grid=grid, column_to_play=2, disc_color=\"R\")\n",
        "grid = make_move(grid=grid, column_to_play=3, disc_color=\"R\")\n",
        "grid = make_move(grid=grid, column_to_play=4, disc_color=\"R\")\n",
        "grid = make_move(grid=grid, column_to_play=5, disc_color=\"R\")\n",
        "display_grid(grid)\n",
        "print(check_horizontal_victory(grid))  # Renvoie True"
      ],
      "id": "4b8761b2"
    },
    {
      "cell_type": "markdown",
      "metadata": {},
      "source": [
        "## Détection d’une victoire (verticale)\n",
        "\n",
        "A présent, on s’intéresse à la détection d’une victoire verticale. Par\n",
        "rapport à la situation précédente, la difficulté est que l’on ne peut\n",
        "pas directement boucler sur les colonnes. On va donc construire une\n",
        "fonction `check_vertical_victory` qui, pour chaque colonne :\n",
        "\n",
        "-   récupère les éléments de la colonne dans une liste\n",
        "\n",
        "-   applique à cette liste la fonction `check_row_victory` pour vérifier\n",
        "    la présence de 4 pions consécutifs de même couleur dans la colonne\n",
        "    considérée\n",
        "\n",
        "### Résultat attendu"
      ],
      "id": "a7ae3f37-269b-48e3-a936-bc342e8076c1"
    },
    {
      "cell_type": "code",
      "execution_count": null,
      "metadata": {},
      "outputs": [],
      "source": [
        "# Détection d'une victoire (verticale) sur une grille\n",
        "grid_solution = solutions.initialize_grid()  # Initialisation\n",
        "print(solutions.check_vertical_victory(grid_solution))  # Renvoie False\n",
        "print()  # Retour à la ligne\n",
        "\n",
        "grid_solution = solutions.make_move(grid=grid_solution, column_to_play=2, disc_color=\"J\")\n",
        "grid_solution = solutions.make_move(grid=grid_solution, column_to_play=2, disc_color=\"J\")\n",
        "grid_solution = solutions.make_move(grid=grid_solution, column_to_play=2, disc_color=\"J\")\n",
        "grid_solution = solutions.make_move(grid=grid_solution, column_to_play=2, disc_color=\"J\")\n",
        "solutions.display_grid(grid_solution)\n",
        "print()  # Retour à la ligne\n",
        "\n",
        "print(solutions.check_vertical_victory(grid_solution))  # Renvoie True"
      ],
      "id": "55615e61"
    },
    {
      "cell_type": "markdown",
      "metadata": {},
      "source": [
        "### A vous de jouer !"
      ],
      "id": "d4f23587-6648-4711-8481-38599dade2bf"
    },
    {
      "cell_type": "code",
      "execution_count": null,
      "metadata": {},
      "outputs": [],
      "source": [
        "def check_vertical_victory(grid):\n",
        "    # Votre code ici"
      ],
      "id": "dd8010fc"
    },
    {
      "cell_type": "code",
      "execution_count": null,
      "metadata": {},
      "outputs": [],
      "source": [
        "# Vérification du résultat\n",
        "grid = initialize_grid()  # Initialisation\n",
        "print(check_vertical_victory(grid))  # Renvoie False\n",
        "print()  # Retour à la ligne\n",
        "\n",
        "grid = make_move(grid=grid, column_to_play=2, disc_color=\"J\")\n",
        "grid = make_move(grid=grid, column_to_play=2, disc_color=\"J\")\n",
        "grid = make_move(grid=grid, column_to_play=2, disc_color=\"J\")\n",
        "grid = make_move(grid=grid, column_to_play=2, disc_color=\"J\")\n",
        "display_grid(grid)\n",
        "print()  # Retour à la ligne\n",
        "\n",
        "print(check_vertical_victory(grid))  # Renvoie True"
      ],
      "id": "81fa97a7"
    },
    {
      "cell_type": "markdown",
      "metadata": {},
      "source": [
        "## Fin de partie\n",
        "\n",
        "Dans notre version simplifiée du puissance 4, on peut à présent déclarer\n",
        "la **fin de partie : dès lors qu’une victoire horizontale ou verticale\n",
        "est détectée**.\n",
        "\n",
        "On va donc pour commencer créer une fonction `victoire` qui prend la\n",
        "grille en entrée et renvoie `True` si une victoire horizontale **ou**\n",
        "verticale est détectée, et `False` sinon.\n",
        "\n",
        "Dans l’idéal, on voudrait ne pas avoir à tester manuellement après\n",
        "chaque coup si la partie est terminée afin de limiter la duplication de\n",
        "code. On va donc ensuite créer une fonction\n",
        "`make_move_and_check_victory` qui :\n",
        "\n",
        "-   prend en entrée les mêmes *inputs* que la fonction `tour`\n",
        "\n",
        "-   va appeler la fonction `tour` pour réaliser le tour de jeu\n",
        "\n",
        "-   va tester après le tour de jeu si une victoire est détectée via la\n",
        "    fonction `victoire`. Si une victoire est détectée, la fonction\n",
        "    imprime “FIN DE PARTIE”.\n",
        "\n",
        "### Résultat attendu"
      ],
      "id": "7ed7b703-6929-4715-94ac-33df58ddb313"
    },
    {
      "cell_type": "code",
      "execution_count": null,
      "metadata": {},
      "outputs": [],
      "source": [
        "grid_solution = solutions.initialize_grid()  # Initialisation\n",
        "print(\"Tour 1\")\n",
        "grid_solution = solutions.make_move_and_check_victory(grid=grid_solution, column_to_play=2, disc_color=\"J\")\n",
        "print(\"Tour 2\")\n",
        "grid_solution = solutions.make_move_and_check_victory(grid=grid_solution, column_to_play=2, disc_color=\"J\")\n",
        "print(\"Tour 3\")\n",
        "grid_solution = solutions.make_move_and_check_victory(grid=grid_solution, column_to_play=2, disc_color=\"J\")\n",
        "print(\"Tour 4\")\n",
        "grid_solution = solutions.make_move_and_check_victory(grid=grid_solution, column_to_play=2, disc_color=\"J\")"
      ],
      "id": "9607f667"
    },
    {
      "cell_type": "markdown",
      "metadata": {},
      "source": [
        "### A vous de jouer !"
      ],
      "id": "930c1032-ecf3-49bd-adce-1cd4284b0a3f"
    },
    {
      "cell_type": "code",
      "execution_count": null,
      "metadata": {},
      "outputs": [],
      "source": [
        "def check_victory(grid):\n",
        "    # Votre code ici"
      ],
      "id": "1023101b"
    },
    {
      "cell_type": "code",
      "execution_count": null,
      "metadata": {},
      "outputs": [],
      "source": [
        "def make_move_and_check_victory(grille, column_to_play, disc_color):\n",
        "    grid = copy.deepcopy(grid)\n",
        "    # Votre code ici\n",
        "    return grid"
      ],
      "id": "03f2ad43"
    },
    {
      "cell_type": "code",
      "execution_count": null,
      "metadata": {},
      "outputs": [],
      "source": [
        "# Vérification du résultat\n",
        "grid = initialize_grid()  # Initialisation\n",
        "print(\"Tour 1\")\n",
        "grid = make_move_and_check_victory(grid=grid, column_to_play=2, disc_color=\"J\")\n",
        "print(\"Tour 2\")\n",
        "grid = make_move_and_check_victory(grid=grid, column_to_play=2, disc_color=\"J\")\n",
        "print(\"Tour 3\")\n",
        "grid = make_move_and_check_victory(grid=grid, column_to_play=2, disc_color=\"J\")\n",
        "print(\"Tour 4\")\n",
        "grid = make_move_and_check_victory(grid=grid, column_to_play=2, disc_color=\"J\")"
      ],
      "id": "aaebc553"
    }
  ],
  "nbformat": 4,
  "nbformat_minor": 5,
  "metadata": {
    "kernelspec": {
      "name": "python3",
      "display_name": "Python 3 (ipykernel)",
      "language": "python",
      "path": "/Users/gblin/opt/anaconda3/share/jupyter/kernels/python3"
    }
  }
}
