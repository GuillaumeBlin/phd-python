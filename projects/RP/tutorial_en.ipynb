{
  "cells": [
    {
      "cell_type": "markdown",
      "metadata": {},
      "source": [
        "# Project 3 - Population estimates from the census\n",
        "\n",
        "The aim of this project is to perform a rapid statistical analysis of a\n",
        "dataset whose format is not directly optimized for a\n",
        "analysis in python. We will use exclusively the library\n",
        "`pandas` for data analysis. To best reproduce a\n",
        "situation you may be facing, we invite you\n",
        "strongly recommend consulting the library documentation\n",
        "([docs](https://pandas.pydata.org/docs/user_guide/index.html#user-guide)).\n",
        "\n",
        "We will focus on the population estimate on the 1st\n",
        "January of each year, this estimate being made from the\n",
        "censuses and population change models. The data\n",
        "are available on the INSEE website at the following address:\n",
        "<https://www.insee.fr/fr/statistiques/1893198>. The file that we\n",
        "will used can be downloaded directly via this url:\n",
        "<https://www.insee.fr/fr/statistiques/fichier/1893198/estim-pop-dep-sexe-aq-1975-2023.xls>."
      ],
      "id": "c25c00f1-a772-4d04-aaae-5f9b09c3836e"
    },
    {
      "cell_type": "code",
      "execution_count": null,
      "metadata": {},
      "outputs": [],
      "source": [
        "import copy\n",
        "import pandas as pd\n",
        "import matplotlib.pyplot as plt\n",
        "import geopandas as gpd\n",
        "import seaborn as sns\n",
        "\n",
        "import solutions"
      ],
      "id": "3bcf845e"
    },
    {
      "cell_type": "markdown",
      "metadata": {},
      "source": [
        "Before performing the data download with python it is\n",
        "necessary to know the format of our data. In our case, it\n",
        "This is the Excel format (`.xlsx`). Additionally, it may be useful to\n",
        "look at what the data you want to import looks like,\n",
        "especially when their format is not standard. Thus, before\n",
        "To begin, take the time to look at the data.\n",
        "\n",
        "### Question 0\n",
        "\n",
        "Download the data by clicking on this\n",
        "[lien](https://www.insee.fr/fr/statistiques/fichier/1893198/estim-pop-dep-sexe-aq-1975-2023.xls)\n",
        "and open it with your favorite spreadsheet software. Analyze the structure\n",
        "data.\n",
        "\n",
        "### Question 1\n",
        "\n",
        "Define the function `load_data()` which has no parameters and returns a\n",
        "`Dict` where the **keys** correspond to the names of the tabs in our\n",
        "file and the **values** correspond to the data of the different\n",
        "spreadsheets. To do this, use a function from the library\n",
        "`pandas` by specifying the correct parameters.\n",
        "\n",
        "#### Expected result"
      ],
      "id": "ae552329-118f-494d-a0d5-f53737d5b707"
    },
    {
      "cell_type": "code",
      "execution_count": null,
      "metadata": {},
      "outputs": [],
      "source": [
        "data = solutions.load_data()\n",
        "data[\"2022\"]"
      ],
      "id": "d1ab9744"
    },
    {
      "cell_type": "markdown",
      "metadata": {},
      "source": [
        "#### Up to you !"
      ],
      "id": "86edbace-06c2-42c2-a120-d25c7f7fdfda"
    },
    {
      "cell_type": "code",
      "execution_count": null,
      "metadata": {},
      "outputs": [],
      "source": [
        "def load_data():\n",
        "    # Your code here\n",
        "    return data"
      ],
      "id": "ac1ee49a"
    },
    {
      "cell_type": "markdown",
      "metadata": {},
      "source": [
        "### Question 2\n",
        "\n",
        "Now that the data is imported we will put it under the\n",
        "form of a single `DataFrame` whose columns are:\n",
        "\n",
        "- `gender` ;\n",
        "\n",
        "- `age` ;\n",
        "\n",
        "- `population` ;\n",
        "\n",
        "- `dep_code` ;\n",
        "\n",
        "- `dep` ;\n",
        "\n",
        "- `year`.\n",
        "\n",
        "2.1 - To do this create a function `reshape_data_by_year(df, year)`\n",
        "which takes as argument a DataFrame from your Dict `data` and a\n",
        "given year.\n",
        "\n",
        "#### Expected result"
      ],
      "id": "bccb2d49-b704-440f-98f6-f1897d73bd6e"
    },
    {
      "cell_type": "code",
      "execution_count": null,
      "metadata": {},
      "outputs": [],
      "source": [
        "annee = 2022\n",
        "df = solutions.reshape_table_by_year(data[f\"{annee}\"], annee)\n",
        "df"
      ],
      "id": "1bccfa69"
    },
    {
      "cell_type": "markdown",
      "metadata": {},
      "source": [
        "#### Up to you !"
      ],
      "id": "c2a49e2b-f787-4ae2-b300-8d4973c95639"
    },
    {
      "cell_type": "code",
      "execution_count": null,
      "metadata": {},
      "outputs": [],
      "source": [
        "def reshape_table_by_year(df, year):\n",
        "    # Your code here\n",
        "    return df"
      ],
      "id": "e21bd53d"
    },
    {
      "cell_type": "markdown",
      "metadata": {},
      "source": [
        "2.2 - Create a function `reshape_data(data)` that produces a `DataFrame`\n",
        "with data for all years between 1975 and 2022.\n",
        "\n",
        "#### Expected result"
      ],
      "id": "bd64f8a5-daf4-476a-99c2-9fe63bf4de51"
    },
    {
      "cell_type": "code",
      "execution_count": null,
      "metadata": {},
      "outputs": [],
      "source": [
        "df = solutions.reshape_data(data)\n",
        "df"
      ],
      "id": "e56f8cf8"
    },
    {
      "cell_type": "markdown",
      "metadata": {},
      "source": [
        "#### Up to you !"
      ],
      "id": "38de85ed-2dab-430b-9763-49b57d9cbd4f"
    },
    {
      "cell_type": "code",
      "execution_count": null,
      "metadata": {},
      "outputs": [],
      "source": [
        "def reshape_data(data):\n",
        "    # Your code here\n",
        "    return df"
      ],
      "id": "0c834cee"
    },
    {
      "cell_type": "markdown",
      "metadata": {},
      "source": [
        "## Part 2: Data Visualization\n",
        "\n",
        "We now have a dataset ready to be analyzed! Let's get started\n",
        "first of all by visualizing the evolution of the population for different\n",
        "departments.\n",
        "\n",
        "### Question 3\n",
        "\n",
        "Write a function\n",
        "`plot_population_by_gender_per_department(df, department_code)` which\n",
        "returns a graph representing the evolution of the population in a\n",
        "given department. Use the `matplotlib` library. You can\n",
        "look at the data from Haute Garonne (31), Loir-et-Cher (41) and\n",
        "from Reunion (974) to note disparities in developments.\n",
        "\n",
        "#### Expected result"
      ],
      "id": "67723414-6f5a-4811-b70c-fb745c81ff68"
    },
    {
      "cell_type": "code",
      "execution_count": null,
      "metadata": {},
      "outputs": [],
      "source": [
        "solutions.plot_population_by_gender_per_department(df, \"31\")"
      ],
      "id": "019b757f"
    },
    {
      "cell_type": "markdown",
      "metadata": {},
      "source": [
        "#### Up to you !"
      ],
      "id": "7fabc935-261a-4cbd-8ef9-ae0176a76af9"
    },
    {
      "cell_type": "code",
      "execution_count": null,
      "metadata": {},
      "outputs": [],
      "source": [
        "def plot_population_by_gender_per_department(data, department_code):\n",
        "    # Your code here"
      ],
      "id": "272ed6fa"
    },
    {
      "cell_type": "markdown",
      "metadata": {},
      "source": [
        "### Question 4\n",
        "\n",
        "In order to compare 2 graphs it is sometimes useful to display them side by side.\n",
        "side by side. Thanks to the `subplots()` method of `matplotlib` this is very\n",
        "easy to achieve in python. To see this, we will represent\n",
        "the age pyramid of France in 1975 and in 2022.\n",
        "\n",
        "4.1- Define the function `get_age_pyramid_data(df, year)` which, at\n",
        "from the DataFrame generated by the `reshape_data()` function, returns a\n",
        "DataFrame with columns `age`, `Female`, `Male`. The `age` column\n",
        "must contain all age groups present in the game.\n",
        "data, the `Women/Men` columns correspond to the population\n",
        "feminine/masculine for a given age group. In order to\n",
        "aesthetics, the `Men` column will first be multiplied by -1.\n",
        "\n",
        "#### Expected result"
      ],
      "id": "a5b2d88a-5bad-44fc-b526-d37af9931241"
    },
    {
      "cell_type": "code",
      "execution_count": null,
      "metadata": {},
      "outputs": [],
      "source": [
        "pyramide_data = solutions.get_age_pyramid_data(df, 2022)\n",
        "pyramide_data"
      ],
      "id": "aa0ccbfb"
    },
    {
      "cell_type": "markdown",
      "metadata": {},
      "source": [
        "#### Up to you !"
      ],
      "id": "f9d0b5b9-e806-482b-840e-f7c3d8b6db3e"
    },
    {
      "cell_type": "code",
      "execution_count": null,
      "metadata": {},
      "outputs": [],
      "source": [
        "def get_age_pyramid_data(df, year):\n",
        "    # Your code here\n",
        "    return pyramide_data"
      ],
      "id": "902ceb89"
    },
    {
      "cell_type": "markdown",
      "metadata": {},
      "source": [
        "4.2- Define the function `plot_age_pyramid(df, year, ax=None)` which\n",
        "represents the age pyramid of France for a given year. You\n",
        "can you take inspiration from what has been done in this\n",
        "[blog](https://maciejtarsa.medium.com/plotting-a-population-pyramid-in-python-52be034968b0).\n",
        "\n",
        "#### Expected result"
      ],
      "id": "7fba3ae8-03a6-4fc7-873e-cf9d3d5a7a2f"
    },
    {
      "cell_type": "code",
      "execution_count": null,
      "metadata": {},
      "outputs": [],
      "source": [
        "fig,(ax1,ax2) = plt.subplots(1,2,figsize=(15,6))\n",
        "\n",
        "solutions.plot_age_pyramid(df, 1975, ax=ax1)\n",
        "solutions.plot_age_pyramid(df, 2022, ax=ax2)"
      ],
      "id": "12904453"
    },
    {
      "cell_type": "markdown",
      "metadata": {},
      "source": [
        "#### Up to you !"
      ],
      "id": "62a6c2b7-1293-443a-92fe-ca69be4a67f1"
    },
    {
      "cell_type": "code",
      "execution_count": null,
      "metadata": {},
      "outputs": [],
      "source": [
        "def plot_age_pyramid(df, year, ax=None):\n",
        "    if ax is None:\n",
        "        ax = plt.gca()\n",
        "    # Your code here\n",
        "    return df"
      ],
      "id": "1bc8f271"
    },
    {
      "cell_type": "markdown",
      "metadata": {},
      "source": [
        "## Part 3: An Introduction to Geographic Data\n",
        "\n",
        "Geographic data is very useful because it allows us to\n",
        "visualize and analyze location-related information\n",
        "specific on the earth. Geographic data can be\n",
        "used to create maps, 3D visualizations and\n",
        "spatial analyses to understand trends, patterns and\n",
        "relationships in data. Using Python libraries such as\n",
        "than `Geopandas` or `Folium`, you can easily manipulate and\n",
        "visualize geographic data to meet your needs\n",
        "analytical.\n",
        "\n",
        "In order to graphically represent geographic data it is\n",
        "necessary to obtain the contour data (*shapefile*) of the areas\n",
        "that we want to represent. The goal of this part is to create\n",
        "a choropleth map of regions based on their population\n",
        "respective.\n",
        "\n",
        "The data we currently have contains the information by\n",
        "department and not by region. First of all it is necessary\n",
        "to assign each department its corresponding region. To do this,\n",
        "you can use the `.json` file available at the following address:\n",
        "<https://static.data.gouv.fr/resources/departements-et-leurs-regions/20190815-175403/departements-region.json>.\n",
        "\n",
        "### Question 5\n",
        "\n",
        "Create a DataFrame from the departments `.json` file and\n",
        "regions of France previously mentioned. Make sure that the columns\n",
        "are in the correct format.\n",
        "\n",
        "#### Expected result"
      ],
      "id": "bb354b97-647b-45c0-9bf8-17e7643fea54"
    },
    {
      "cell_type": "code",
      "execution_count": null,
      "metadata": {},
      "outputs": [],
      "source": [
        "df_matching = solutions.load_departements_regions(\"https://static.data.gouv.fr/resources/departements-et-leurs-regions/20190815-175403/departements-region.json\")\n",
        "df_matching"
      ],
      "id": "74819de5"
    },
    {
      "cell_type": "markdown",
      "metadata": {},
      "source": [
        "#### Up to you !"
      ],
      "id": "c55f70a0-e246-41f9-94c4-2efd22680f26"
    },
    {
      "cell_type": "code",
      "execution_count": null,
      "metadata": {},
      "outputs": [],
      "source": [
        "def load_departements_regions(url):\n",
        "    # Your code here\n",
        "    return df_matching"
      ],
      "id": "af639927"
    },
    {
      "cell_type": "markdown",
      "metadata": {},
      "source": [
        "### Question 6\n",
        "\n",
        "Match the DataFrame containing the population data by\n",
        "department with the DataFrame of the regions of France.\n",
        "\n",
        "#### Expected result"
      ],
      "id": "4d0f32ad-5a75-477c-ad02-19c9b014a026"
    },
    {
      "cell_type": "code",
      "execution_count": null,
      "metadata": {},
      "outputs": [],
      "source": [
        "df_regions = solutions.match_department_regions(df, df_matching)\n",
        "df_regions"
      ],
      "id": "059c5466"
    },
    {
      "cell_type": "markdown",
      "metadata": {},
      "source": [
        "#### Up to you !"
      ],
      "id": "df7c7c94-e500-41f7-8ebb-bd6123e0d588"
    },
    {
      "cell_type": "code",
      "execution_count": null,
      "metadata": {},
      "outputs": [],
      "source": [
        "def match_department_regions(df, df_matching):\n",
        "    # Your code here\n",
        "    return df_regions"
      ],
      "id": "02dfd065"
    },
    {
      "cell_type": "markdown",
      "metadata": {},
      "source": [
        "### Question 7\n",
        "\n",
        "Download the geographic contour data of the regions in\n",
        "using the `cartiflette` package and the `geopandas` library. The\n",
        "data is accessible at [this\n",
        "address](https://minio.lab.sspcloud.fr/projet-cartiflette/diffusion/shapefiles-test1/year=2022/administrative_level=REGION/crs=4326/FRANCE_ENTIERE=metropole/vectorfile_format='geojson'/provider='IGN'/source='EXPRESS-COG-CARTO-TERRITOIRE'/raw.geojson).\n",
        "\n",
        "#### Expected result"
      ],
      "id": "f8a32cbb-25fa-4831-9d07-5938abc56d17"
    },
    {
      "cell_type": "code",
      "execution_count": null,
      "metadata": {},
      "outputs": [],
      "source": [
        "geo = solutions.load_geo_data(\"https://minio.lab.sspcloud.fr/projet-cartiflette/diffusion/shapefiles-test1/year=2022/administrative_level=REGION/crs=4326/FRANCE_ENTIERE=metropole/vectorfile_format='geojson'/provider='IGN'/source='EXPRESS-COG-CARTO-TERRITOIRE'/raw.geojson\")\n",
        "geo"
      ],
      "id": "2d234246"
    },
    {
      "cell_type": "markdown",
      "metadata": {},
      "source": [
        "#### Up to you !"
      ],
      "id": "bfb56f80-d58b-4b75-b0e9-3ed0b502b3ea"
    },
    {
      "cell_type": "code",
      "execution_count": null,
      "metadata": {},
      "outputs": [],
      "source": [
        "def load_geo_data(url):\n",
        "    # Your code here\n",
        "    return geo"
      ],
      "id": "74c3901d"
    },
    {
      "cell_type": "markdown",
      "metadata": {},
      "source": [
        "### Question 8\n",
        "\n",
        "Produce a choropleth map of the population in 2022 of the regions of\n",
        "France. You can consult the documentation of `geopandas`\n",
        "[ici](https://geopandas.org/en/stable/docs/user_guide/mapping.html).\n",
        "\n",
        "#### Expected result"
      ],
      "id": "1e1cb449-8e82-4246-a750-fe38998d9c55"
    },
    {
      "cell_type": "code",
      "execution_count": null,
      "metadata": {},
      "outputs": [],
      "source": [
        "solutions.plot_population_by_regions(df_regions, geo, 2022)"
      ],
      "id": "f8193303"
    },
    {
      "cell_type": "markdown",
      "metadata": {},
      "source": [
        "#### Up to you !"
      ],
      "id": "f54b32ea-c8f5-4570-963f-d7075ae5b0a7"
    },
    {
      "cell_type": "code",
      "execution_count": null,
      "metadata": {},
      "outputs": [],
      "source": [
        "def plot_population_by_regions(df, geo, year):\n",
        "    # Your code here"
      ],
      "id": "87c9f297"
    },
    {
      "cell_type": "markdown",
      "metadata": {},
      "source": [
        "### Question 9\n",
        "\n",
        "The total population of a region is not sufficient to analyze the\n",
        "demographics of a region. It may be interesting to look at the\n",
        "population growth.\n",
        "\n",
        "9.1- Write a function `compute_population_growth_per_region(df)` which\n",
        "calculates the population growth in percentage per year for each\n",
        "region.\n",
        "\n",
        "#### Expected result"
      ],
      "id": "00dbd557-df88-4632-aff0-2a376e8c2ead"
    },
    {
      "cell_type": "code",
      "execution_count": null,
      "metadata": {},
      "outputs": [],
      "source": [
        "df_croissance = solutions.compute_population_growth_per_region(df_regions)\n",
        "df_croissance"
      ],
      "id": "6d7fe67f"
    },
    {
      "cell_type": "markdown",
      "metadata": {},
      "source": [
        "#### Up to you !"
      ],
      "id": "1251af5d-3d1a-40b0-bd91-f4652dc68a19"
    },
    {
      "cell_type": "code",
      "execution_count": null,
      "metadata": {},
      "outputs": [],
      "source": [
        "def compute_population_growth_per_region(df_regions):\n",
        "    # Your code here\n",
        "    return df_croissance"
      ],
      "id": "fed6248e"
    },
    {
      "cell_type": "markdown",
      "metadata": {},
      "source": [
        "9.2- Write a function\n",
        "`compute_mean_population_growth_per_region(df, min_year, max_year)` which\n",
        "calculates the average population growth between two years\n",
        "data.\n",
        "\n",
        "#### Expected result"
      ],
      "id": "f37acc79-3595-4d98-a5b3-515059707961"
    },
    {
      "cell_type": "code",
      "execution_count": null,
      "metadata": {},
      "outputs": [],
      "source": [
        "df_croissance = solutions.compute_mean_population_growth_per_region(df_regions, 2015, 2022)\n",
        "df_croissance"
      ],
      "id": "405002f3"
    },
    {
      "cell_type": "markdown",
      "metadata": {},
      "source": [
        "#### Up to you !"
      ],
      "id": "3ad00d9f-3e98-474e-8b8b-574fed8c0469"
    },
    {
      "cell_type": "code",
      "execution_count": null,
      "metadata": {},
      "outputs": [],
      "source": [
        "def compute_mean_population_growth_per_region(df, geo, year):\n",
        "    # Your code here\n",
        "    return df_croissance"
      ],
      "id": "c0ec664c"
    },
    {
      "cell_type": "markdown",
      "metadata": {},
      "source": [
        "9.3- Write a function\n",
        "`plot_growth_population_by_regions(df, geo, min_year, max_year)` which\n",
        "represents the average population growth between two years\n",
        "data for all regions of France on a choropleth map.\n",
        "\n",
        "#### Expected result"
      ],
      "id": "4cd33be7-5a5c-46ad-8666-74a8ff9629f7"
    },
    {
      "cell_type": "code",
      "execution_count": null,
      "metadata": {},
      "outputs": [],
      "source": [
        "solutions.plot_growth_population_by_regions(df_regions, geo, 2015, 2022)"
      ],
      "id": "b2959ac5"
    },
    {
      "cell_type": "markdown",
      "metadata": {},
      "source": [
        "#### Up to you !"
      ],
      "id": "67b5ffe8-b7f4-4df5-b4be-eb75b5c6f770"
    },
    {
      "cell_type": "code",
      "execution_count": null,
      "metadata": {},
      "outputs": [],
      "source": [
        "def plot_growth_population_by_regions(df, geo, min_year, max_year):\n",
        "    # Your code here"
      ],
      "id": "96191541"
    }
  ],
  "nbformat": 4,
  "nbformat_minor": 5,
  "metadata": {
    "kernelspec": {
      "name": "python3",
      "display_name": "Python 3 (ipykernel)",
      "language": "python",
      "path": "/Users/gblin/opt/anaconda3/share/jupyter/kernels/python3"
    }
  }
}