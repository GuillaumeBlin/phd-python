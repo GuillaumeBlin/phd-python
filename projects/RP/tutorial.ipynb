{
  "cells": [
    {
      "cell_type": "markdown",
      "metadata": {},
      "source": [
        "# Projet 3 - Estimations de population à partir du recensement\n",
        "\n",
        "Le but de ce projet est de réaliser une analyse statistique rapide d’un\n",
        "jeu de données dont le format n’est pas directement optimisé pour une\n",
        "analyse en python. Nous allons utiliser exclusivement la librairie\n",
        "`pandas` pour l’analyse de données. Pour reproduire au mieux une\n",
        "situation à laquelle vous pouvez être confrontés, nous vous invitons\n",
        "vivement à consulter la documentation de la librairie\n",
        "([docs](https://pandas.pydata.org/docs/user_guide/index.html#user-guide)).\n",
        "\n",
        "Nous allons nous intéresser à l’estimation de la population au 1er\n",
        "janvier de chaque année, cette estimation étant effectuée à partir des\n",
        "recensements et des modèles d’évolution de la population. Les données\n",
        "sont accessibles sur le site de l’Insee à l’adresse suivante :\n",
        "<https://www.insee.fr/fr/statistiques/1893198>. Le fichier que nous\n",
        "allons utilisé peut être téléchargé directement via cet url :\n",
        "<https://www.insee.fr/fr/statistiques/fichier/1893198/estim-pop-dep-sexe-aq-1975-2023.xls>."
      ],
      "id": "c25c00f1-a772-4d04-aaae-5f9b09c3836e"
    },
    {
      "cell_type": "code",
      "execution_count": null,
      "metadata": {},
      "outputs": [],
      "source": [
        "import copy\n",
        "import pandas as pd\n",
        "import matplotlib.pyplot as plt\n",
        "import geopandas as gpd\n",
        "import seaborn as sns\n",
        "\n",
        "import solutions"
      ],
      "id": "3bcf845e"
    },
    {
      "cell_type": "markdown",
      "metadata": {},
      "source": [
        "Avant d’effectuer le téléchargement des données avec python il est\n",
        "nécessaire de connaître le format de nos données. Dans notre cas, il\n",
        "s’agit du format Excel (`.xlsx`). De plus, il peut être utile de\n",
        "regarder à quoi ressemble les données que l’on souhaite importer,\n",
        "notamment lorsque leur format n’est pas standard. Ainsi, avant de\n",
        "commencer, prenez le temps de jeter un œil aux données.\n",
        "\n",
        "### Question 0\n",
        "\n",
        "Téléchargez les données en cliquant sur ce\n",
        "[lien](https://www.insee.fr/fr/statistiques/fichier/1893198/estim-pop-dep-sexe-aq-1975-2023.xls)\n",
        "et ouvrez-le avec votre logiciel tableur préféré. Analysez la structure\n",
        "des données.\n",
        "\n",
        "### Question 1\n",
        "\n",
        "Définir la fonction `load_data()` qui n’a pas de paramètre et renvoie un\n",
        "`Dict` où les **clés** correspondent aux noms des onglets de notre\n",
        "fichier et les **valeurs** correspondent aux données des différentes\n",
        "feuilles de calcul. Pour cela, utilisez une fonction de la librairie\n",
        "`pandas` en spécifiant les bons paramètres.\n",
        "\n",
        "#### Résultat attendu"
      ],
      "id": "ae552329-118f-494d-a0d5-f53737d5b707"
    },
    {
      "cell_type": "code",
      "execution_count": null,
      "metadata": {},
      "outputs": [],
      "source": [
        "data = solutions.load_data()\n",
        "data[\"2022\"]"
      ],
      "id": "d1ab9744"
    },
    {
      "cell_type": "markdown",
      "metadata": {},
      "source": [
        "#### À vous de jouer !"
      ],
      "id": "86edbace-06c2-42c2-a120-d25c7f7fdfda"
    },
    {
      "cell_type": "code",
      "execution_count": null,
      "metadata": {},
      "outputs": [],
      "source": [
        "def load_data():\n",
        "    # Votre code ici\n",
        "    return data"
      ],
      "id": "ac1ee49a"
    },
    {
      "cell_type": "markdown",
      "metadata": {},
      "source": [
        "### Question 2\n",
        "\n",
        "Maintenant que les données sont importées nous allons les mettre sous la\n",
        "forme d’un seul `DataFrame` dont les colonnes sont :\n",
        "\n",
        "-   `genre` ;\n",
        "\n",
        "-   `age` ;\n",
        "\n",
        "-   `population` ;\n",
        "\n",
        "-   `dep_code` ;\n",
        "\n",
        "-   `dep` ;\n",
        "\n",
        "-   `annee`.\n",
        "\n",
        "2.1 - Pour ce faire créez une fonction `reshape_data_by_year(df, year)`\n",
        "qui prend en argument un DataFrame issu de votre Dict `data` et une\n",
        "année donnée.\n",
        "\n",
        "#### Résultat attendu"
      ],
      "id": "bccb2d49-b704-440f-98f6-f1897d73bd6e"
    },
    {
      "cell_type": "code",
      "execution_count": null,
      "metadata": {},
      "outputs": [],
      "source": [
        "annee = 2022\n",
        "df = solutions.reshape_table_by_year(data[f\"{annee}\"], annee)\n",
        "df"
      ],
      "id": "1bccfa69"
    },
    {
      "cell_type": "markdown",
      "metadata": {},
      "source": [
        "#### À vous de jouer !"
      ],
      "id": "c2a49e2b-f787-4ae2-b300-8d4973c95639"
    },
    {
      "cell_type": "code",
      "execution_count": null,
      "metadata": {},
      "outputs": [],
      "source": [
        "def reshape_table_by_year(df, year):\n",
        "    # Votre code ici\n",
        "    return df"
      ],
      "id": "e21bd53d"
    },
    {
      "cell_type": "markdown",
      "metadata": {},
      "source": [
        "2.2 - Créer une fonction `reshape_data(data)` qui produit un `DataFrame`\n",
        "avec les données pour toutes les années entre 1975 et 2022.\n",
        "\n",
        "#### Résultat attendu"
      ],
      "id": "bd64f8a5-daf4-476a-99c2-9fe63bf4de51"
    },
    {
      "cell_type": "code",
      "execution_count": null,
      "metadata": {},
      "outputs": [],
      "source": [
        "df = solutions.reshape_data(data)\n",
        "df"
      ],
      "id": "e56f8cf8"
    },
    {
      "cell_type": "markdown",
      "metadata": {},
      "source": [
        "#### À vous de jouer !"
      ],
      "id": "38de85ed-2dab-430b-9763-49b57d9cbd4f"
    },
    {
      "cell_type": "code",
      "execution_count": null,
      "metadata": {},
      "outputs": [],
      "source": [
        "def reshape_data(data):\n",
        "    # Votre code ici\n",
        "    return df"
      ],
      "id": "0c834cee"
    },
    {
      "cell_type": "markdown",
      "metadata": {},
      "source": [
        "## Partie 2 : Visualisation des données\n",
        "\n",
        "Nous avons maintenant un jeu de données prêt à être analysé ! Commençons\n",
        "tout d’abord par visualiser l’évolution de la population pour différents\n",
        "départements.\n",
        "\n",
        "### Question 3\n",
        "\n",
        "Ecrire une fonction\n",
        "`plot_population_by_gender_per_department(df, department_code)` qui\n",
        "renvoie un graphique représentant l’évolution de la population dans un\n",
        "département donné. Utilisez la librairie `matplotlib`. Vous pouvez\n",
        "regarder les données de la Haute Garonne (31), du Loir-et-Cher (41) et\n",
        "de la Réunion (974) pour constater des disparités d’évolutions.\n",
        "\n",
        "#### Résultat attendu"
      ],
      "id": "67723414-6f5a-4811-b70c-fb745c81ff68"
    },
    {
      "cell_type": "code",
      "execution_count": null,
      "metadata": {},
      "outputs": [],
      "source": [
        "solutions.plot_population_by_gender_per_department(df, \"31\")"
      ],
      "id": "019b757f"
    },
    {
      "cell_type": "markdown",
      "metadata": {},
      "source": [
        "#### À vous de jouer !"
      ],
      "id": "7fabc935-261a-4cbd-8ef9-ae0176a76af9"
    },
    {
      "cell_type": "code",
      "execution_count": null,
      "metadata": {},
      "outputs": [],
      "source": [
        "def plot_population_by_gender_per_department(data, department_code):\n",
        "    # Votre code ici"
      ],
      "id": "272ed6fa"
    },
    {
      "cell_type": "markdown",
      "metadata": {},
      "source": [
        "### Question 4\n",
        "\n",
        "Afin de comparer 2 graphiques il est parfois utile de les afficher côte\n",
        "à côte. Grâce à la méthode `subplots()` de `matplotlib` cela est très\n",
        "facile à réaliser en python. Pour le constater, nous allons représenter\n",
        "la pyramide des âges de la France en 1975 et en 2022.\n",
        "\n",
        "4.1- Définissez la fonction `get_age_pyramid_data(df, year)` qui, à\n",
        "partir du DataFrame généré par la fonction `reshape_data()`, renvoie un\n",
        "DataFrame avec les colonnes `age`, `Femmes`, `Hommes`. La colonne `age`\n",
        "doit contenir toutes les tranches d’âges présentes dans le jeu de\n",
        "données, les colonnes `Femmes/Hommes` correspond à la population\n",
        "féminine/masculine pour une tranche d’âge donnée. Dans un souci\n",
        "d’esthétique, la colonne `Hommes` sera au préalable multipliée par -1.\n",
        "\n",
        "#### Résultat attendu"
      ],
      "id": "a5b2d88a-5bad-44fc-b526-d37af9931241"
    },
    {
      "cell_type": "code",
      "execution_count": null,
      "metadata": {},
      "outputs": [],
      "source": [
        "pyramide_data = solutions.get_age_pyramid_data(df, 2022)\n",
        "pyramide_data"
      ],
      "id": "aa0ccbfb"
    },
    {
      "cell_type": "markdown",
      "metadata": {},
      "source": [
        "#### À vous de jouer !"
      ],
      "id": "f9d0b5b9-e806-482b-840e-f7c3d8b6db3e"
    },
    {
      "cell_type": "code",
      "execution_count": null,
      "metadata": {},
      "outputs": [],
      "source": [
        "def get_age_pyramid_data(df, year):\n",
        "    # Votre code ici\n",
        "    return pyramide_data"
      ],
      "id": "902ceb89"
    },
    {
      "cell_type": "markdown",
      "metadata": {},
      "source": [
        "4.2- Définissez la fonction `plot_age_pyramid(df, year, ax=None)` qui\n",
        "représente la pyramide des âges de la France pour une année donnée. Vous\n",
        "pouvez vous inspirer de ce qui a été fait dans ce\n",
        "[blog](https://maciejtarsa.medium.com/plotting-a-population-pyramid-in-python-52be034968b0).\n",
        "\n",
        "#### Résultat attendu"
      ],
      "id": "7fba3ae8-03a6-4fc7-873e-cf9d3d5a7a2f"
    },
    {
      "cell_type": "code",
      "execution_count": null,
      "metadata": {},
      "outputs": [],
      "source": [
        "fig,(ax1,ax2) = plt.subplots(1,2,figsize=(15,6))\n",
        "\n",
        "solutions.plot_age_pyramid(df, 1975, ax=ax1)\n",
        "solutions.plot_age_pyramid(df, 2022, ax=ax2)"
      ],
      "id": "12904453"
    },
    {
      "cell_type": "markdown",
      "metadata": {},
      "source": [
        "#### À vous de jouer !"
      ],
      "id": "62a6c2b7-1293-443a-92fe-ca69be4a67f1"
    },
    {
      "cell_type": "code",
      "execution_count": null,
      "metadata": {},
      "outputs": [],
      "source": [
        "def plot_age_pyramid(df, year, ax=None):\n",
        "    if ax is None:\n",
        "        ax = plt.gca()\n",
        "    # Votre code ici\n",
        "    return df"
      ],
      "id": "1bc8f271"
    },
    {
      "cell_type": "markdown",
      "metadata": {},
      "source": [
        "## Partie 3 : Une introduction aux données géographiques\n",
        "\n",
        "Les données géographiques sont très utiles car elles permettent de\n",
        "visualiser et d’analyser des informations liées à des emplacements\n",
        "spécifiques sur la terre. Les données géographiques peuvent être\n",
        "utilisées pour créer des cartes, des visualisations en 3D et des\n",
        "analyses spatiales pour comprendre les tendances, les modèles et les\n",
        "relations dans les données. En utilisant des bibliothèques Python telles\n",
        "que `Geopandas` ou `Folium`, vous pouvez facilement manipuler et\n",
        "visualiser des données géographiques pour répondre à vos besoins\n",
        "analytiques.\n",
        "\n",
        "Afin de représenter graphiquement des données géographiques il est\n",
        "nécessaire d’obtenir les données des contours (*shapefile*) des zones\n",
        "que l’on souhaite représenter. L’objectif de cette partie est de créer\n",
        "une carte choropleth des régions en fonction de leur population\n",
        "respective.\n",
        "\n",
        "Les données que nous avons actuellement contiennent les informations par\n",
        "département et non par région. Avant toute chose il est nécessaire\n",
        "d’affecter à chaque département sa région correspondante. Pour cela,\n",
        "vous pourrez utiliser le fichier `.json` disponible à l’adresse suivante\n",
        ":\n",
        "<https://static.data.gouv.fr/resources/departements-et-leurs-regions/20190815-175403/departements-region.json>.\n",
        "\n",
        "### Question 5\n",
        "\n",
        "Créez un DataFrame à partir du fichier `.json` des départements et\n",
        "régions de France précédemment mentionné. Assurez-vous que les colonnes\n",
        "soient au bon format.\n",
        "\n",
        "#### Résultat attendu"
      ],
      "id": "bb354b97-647b-45c0-9bf8-17e7643fea54"
    },
    {
      "cell_type": "code",
      "execution_count": null,
      "metadata": {},
      "outputs": [],
      "source": [
        "df_matching = solutions.load_departements_regions(\"https://static.data.gouv.fr/resources/departements-et-leurs-regions/20190815-175403/departements-region.json\")\n",
        "df_matching"
      ],
      "id": "74819de5"
    },
    {
      "cell_type": "markdown",
      "metadata": {},
      "source": [
        "#### À vous de jouer !"
      ],
      "id": "c55f70a0-e246-41f9-94c4-2efd22680f26"
    },
    {
      "cell_type": "code",
      "execution_count": null,
      "metadata": {},
      "outputs": [],
      "source": [
        "def load_departements_regions(url):\n",
        "    # Votre code ici\n",
        "    return df_matching"
      ],
      "id": "af639927"
    },
    {
      "cell_type": "markdown",
      "metadata": {},
      "source": [
        "### Question 6\n",
        "\n",
        "Apparier le DataFrame contenant les données de population par\n",
        "département avec le DataFrame des régions de France.\n",
        "\n",
        "#### Résultat attendu"
      ],
      "id": "4d0f32ad-5a75-477c-ad02-19c9b014a026"
    },
    {
      "cell_type": "code",
      "execution_count": null,
      "metadata": {},
      "outputs": [],
      "source": [
        "df_regions = solutions.match_department_regions(df, df_matching)\n",
        "df_regions"
      ],
      "id": "059c5466"
    },
    {
      "cell_type": "markdown",
      "metadata": {},
      "source": [
        "#### À vous de jouer !"
      ],
      "id": "df7c7c94-e500-41f7-8ebb-bd6123e0d588"
    },
    {
      "cell_type": "code",
      "execution_count": null,
      "metadata": {},
      "outputs": [],
      "source": [
        "def match_department_regions(df, df_matching):\n",
        "    # Votre code ici\n",
        "    return df_regions"
      ],
      "id": "02dfd065"
    },
    {
      "cell_type": "markdown",
      "metadata": {},
      "source": [
        "### Question 7\n",
        "\n",
        "Téléchargez les données des contours géographiques des régions en\n",
        "utilisant le package `cartiflette` et la librairie `geopandas`. Les\n",
        "données sont accessibles à [cette\n",
        "adresse](https://minio.lab.sspcloud.fr/projet-cartiflette/diffusion/shapefiles-test1/year=2022/administrative_level=REGION/crs=4326/FRANCE_ENTIERE=metropole/vectorfile_format='geojson'/provider='IGN'/source='EXPRESS-COG-CARTO-TERRITOIRE'/raw.geojson).\n",
        "\n",
        "#### Résultat attendu"
      ],
      "id": "f8a32cbb-25fa-4831-9d07-5938abc56d17"
    },
    {
      "cell_type": "code",
      "execution_count": null,
      "metadata": {},
      "outputs": [],
      "source": [
        "geo = solutions.load_geo_data(\"https://minio.lab.sspcloud.fr/projet-cartiflette/diffusion/shapefiles-test1/year=2022/administrative_level=REGION/crs=4326/FRANCE_ENTIERE=metropole/vectorfile_format='geojson'/provider='IGN'/source='EXPRESS-COG-CARTO-TERRITOIRE'/raw.geojson\")\n",
        "geo"
      ],
      "id": "2d234246"
    },
    {
      "cell_type": "markdown",
      "metadata": {},
      "source": [
        "#### À vous de jouer !"
      ],
      "id": "bfb56f80-d58b-4b75-b0e9-3ed0b502b3ea"
    },
    {
      "cell_type": "code",
      "execution_count": null,
      "metadata": {},
      "outputs": [],
      "source": [
        "def load_geo_data(url):\n",
        "    # Votre code ici\n",
        "    return geo"
      ],
      "id": "74c3901d"
    },
    {
      "cell_type": "markdown",
      "metadata": {},
      "source": [
        "### Question 8\n",
        "\n",
        "Produire une carte choropleth de la population en 2022 des régions de\n",
        "France. Vous pouvez consulter la documentation de `geopandas`\n",
        "[ici](https://geopandas.org/en/stable/docs/user_guide/mapping.html).\n",
        "\n",
        "#### Résultat attendu"
      ],
      "id": "1e1cb449-8e82-4246-a750-fe38998d9c55"
    },
    {
      "cell_type": "code",
      "execution_count": null,
      "metadata": {},
      "outputs": [],
      "source": [
        "solutions.plot_population_by_regions(df_regions, geo, 2022)"
      ],
      "id": "f8193303"
    },
    {
      "cell_type": "markdown",
      "metadata": {},
      "source": [
        "#### À vous de jouer !"
      ],
      "id": "f54b32ea-c8f5-4570-963f-d7075ae5b0a7"
    },
    {
      "cell_type": "code",
      "execution_count": null,
      "metadata": {},
      "outputs": [],
      "source": [
        "def plot_population_by_regions(df, geo, year):\n",
        "    # Votre code ici"
      ],
      "id": "87c9f297"
    },
    {
      "cell_type": "markdown",
      "metadata": {},
      "source": [
        "### Question 9\n",
        "\n",
        "La population totale d’une région n’est pas suffisante pour analyser la\n",
        "démographie d’une région. Il peut être intéressant de s’intéresser à la\n",
        "croissance démographique.\n",
        "\n",
        "9.1- Ecrire une fonction `compute_population_growth_per_region(df)` qui\n",
        "calcule la croissance de la population en pourcentage par an pour chaque\n",
        "région.\n",
        "\n",
        "#### Résultat attendu"
      ],
      "id": "00dbd557-df88-4632-aff0-2a376e8c2ead"
    },
    {
      "cell_type": "code",
      "execution_count": null,
      "metadata": {},
      "outputs": [],
      "source": [
        "df_croissance = solutions.compute_population_growth_per_region(df_regions)\n",
        "df_croissance"
      ],
      "id": "6d7fe67f"
    },
    {
      "cell_type": "markdown",
      "metadata": {},
      "source": [
        "#### À vous de jouer !"
      ],
      "id": "1251af5d-3d1a-40b0-bd91-f4652dc68a19"
    },
    {
      "cell_type": "code",
      "execution_count": null,
      "metadata": {},
      "outputs": [],
      "source": [
        "def compute_population_growth_per_region(df_regions):\n",
        "    # Votre code ici\n",
        "    return df_croissance"
      ],
      "id": "fed6248e"
    },
    {
      "cell_type": "markdown",
      "metadata": {},
      "source": [
        "9.2- Ecrire une fonction\n",
        "`compute_mean_population_growth_per_region(df, min_year, max_year)` qui\n",
        "calcule la croissance moyenne de la population entre deux années\n",
        "données.\n",
        "\n",
        "#### Résultat attendu"
      ],
      "id": "f37acc79-3595-4d98-a5b3-515059707961"
    },
    {
      "cell_type": "code",
      "execution_count": null,
      "metadata": {},
      "outputs": [],
      "source": [
        "df_croissance = solutions.compute_mean_population_growth_per_region(df_regions, 2015, 2022)\n",
        "df_croissance"
      ],
      "id": "405002f3"
    },
    {
      "cell_type": "markdown",
      "metadata": {},
      "source": [
        "#### À vous de jouer !"
      ],
      "id": "3ad00d9f-3e98-474e-8b8b-574fed8c0469"
    },
    {
      "cell_type": "code",
      "execution_count": null,
      "metadata": {},
      "outputs": [],
      "source": [
        "def compute_mean_population_growth_per_region(df, geo, year):\n",
        "    # Votre code ici\n",
        "    return df_croissance"
      ],
      "id": "c0ec664c"
    },
    {
      "cell_type": "markdown",
      "metadata": {},
      "source": [
        "9.3- Ecrire une fonction\n",
        "`plot_growth_population_by_regions(df, geo, min_year, max_year)` qui\n",
        "représente la croissance moyenne de la population entre deux années\n",
        "données pour toutes les régions de France sur une carte choropleth.\n",
        "\n",
        "#### Résultat attendu"
      ],
      "id": "4cd33be7-5a5c-46ad-8666-74a8ff9629f7"
    },
    {
      "cell_type": "code",
      "execution_count": null,
      "metadata": {},
      "outputs": [],
      "source": [
        "solutions.plot_growth_population_by_regions(df_regions, geo, 2015, 2022)"
      ],
      "id": "b2959ac5"
    },
    {
      "cell_type": "markdown",
      "metadata": {},
      "source": [
        "#### À vous de jouer !"
      ],
      "id": "67b5ffe8-b7f4-4df5-b4be-eb75b5c6f770"
    },
    {
      "cell_type": "code",
      "execution_count": null,
      "metadata": {},
      "outputs": [],
      "source": [
        "def plot_growth_population_by_regions(df, geo, min_year, max_year):\n",
        "    # Votre code ici"
      ],
      "id": "96191541"
    }
  ],
  "nbformat": 4,
  "nbformat_minor": 5,
  "metadata": {
    "kernelspec": {
      "name": "python3",
      "display_name": "Python 3 (ipykernel)",
      "language": "python",
      "path": "/Users/gblin/opt/anaconda3/share/jupyter/kernels/python3"
    }
  }
}
