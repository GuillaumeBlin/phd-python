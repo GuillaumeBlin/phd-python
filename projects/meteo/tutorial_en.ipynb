{
  "cells": [
    {
      "cell_type": "markdown",
      "metadata": {},
      "source": [
        "# Project 2 - Weather Predictions\n",
        "\n",
        "## Project context\n",
        "\n",
        "There are some days when we would have been happy to stay teleworking. Among them\n",
        "those days, those days that are both wet and windy when it is impossible to\n",
        "maintain a decent hairstyle, despite all his efforts. Could one\n",
        "using `Python` to predict what the English call *bad\n",
        "hair day* (“bad hair day”)?\n",
        "\n",
        "The aim of the project is to build a *bad hair index*.\n",
        "bad hair day”) from weather and location data\n",
        "graphically represent the evolution of this index in order to determine\n",
        "in advance the days when we would do better to stay warm. In order\n",
        "to get the right data, we will request APIs.\n",
        "\n",
        "An API (Application Programming Interface) is a set of\n",
        "rules and specifications that applications follow for\n",
        "communicate with each other. It allows your code to **access\n",
        "external or data-based features**, such as those from databases\n",
        "weather data or location services. When talking about\n",
        "requesting an API, this is usually done via the **protocol\n",
        "HTTP**, which is the same protocol used to load web pages.\n",
        "In this tutorial we will use the package\n",
        "[requests](https://fr.python-requests.org/en/latest/), which simplifies the\n",
        "HTTP request and response handling process.\n",
        "\n",
        "The APIs we will use are:\n",
        "\n",
        "- [Nominatim](https://nominatim.org/release-docs/latest/api/Overview/)\n",
        ": a geocoding API offered by **OpenStreetMap** which allows us\n",
        "allows you to convert a place name into geographic coordinates.\n",
        "- [Open-Meteo Weather Forecast](https://open-meteo.com/en/docs) : a\n",
        "API that provides detailed weather forecasts.\n",
        "\n",
        "Let's start by importing the packages we will need during\n",
        "this project."
      ],
      "id": "e798f3df-f221-44cf-a266-38354eb3e19c"
    },
    {
      "cell_type": "code",
      "execution_count": null,
      "metadata": {},
      "outputs": [],
      "source": [
        "import requests\n",
        "import pandas\n",
        "import seaborn as sns\n",
        "import matplotlib.pyplot as plt\n",
        "\n",
        "import solutions"
      ],
      "id": "c0b45980"
    },
    {
      "cell_type": "markdown",
      "metadata": {},
      "source": [
        "## Part 1: Retrieving geographic coordinates for a given location\n",
        "\n",
        "The open-meteo prediction API takes coordinates as input\n",
        "geographical (latitude, longitude) of the place where the\n",
        "predictions. We could manually retrieve the coordinates of the location\n",
        "which interests us, but this would limit the reproducibility of our\n",
        "analyses with other locations than the one chosen. We will therefore use a\n",
        "second API, `Nominatim`, to get these coordinates for a location\n",
        "given.\n",
        "\n",
        "When working from an API, the first step is\n",
        "always read your documentation. It is this which indicates to what extent\n",
        "address we should send our requests, in what format, and what will\n",
        "the API answers us. In our case, the documentation of `Nominatim` is\n",
        "found at [this\n",
        "address](https://nominatim.org/release-docs/develop/api/Overview/).\n",
        "Do not hesitate to quickly browse it to assess the possibilities of\n",
        "the API.\n",
        "\n",
        "### Question 1\n",
        "\n",
        "The first essential characteristic of an API is the *endpoint*,\n",
        "that is, the URL to which we will send requests. In our\n",
        "case, we will use the *endpoint* `/search` to the extent that we want\n",
        "find a geographic object (coordinates) from a name\n",
        "location. The [page of\n",
        "documentation](%5B/search%5D(https://nominatim.org/release-docs/develop/api/Search/))\n",
        "associated with this *endpoint* gives us all the information we need\n",
        "we need:\n",
        "\n",
        "- the format of a query is\n",
        "`https://nominatim.openstreetmap.org/search?<params>` where `<params>`\n",
        "must be replaced by the query parameters, separated by the\n",
        "symbol `&`\n",
        "- in the [Structured] section\n",
        "Query](https://nominatim.org/release-docs/develop/api/Search/#structured-query),\n",
        "we see that the API accepts `country` and `city` as parameters\n",
        "(city), which we will use to configure our query.\n",
        "\n",
        "Define a function `build_request_nominatim` that builds the link\n",
        "of the query for a given country and city.\n",
        "\n",
        "#### Expected result"
      ],
      "id": "c78a98ac-cd86-4f08-81c6-ce4b799ee94d"
    },
    {
      "cell_type": "code",
      "execution_count": null,
      "metadata": {},
      "outputs": [],
      "source": [
        "url_request_nominatim = solutions.build_request_nominatim(\"France\", \"Montrouge\")\n",
        "url_request_nominatim"
      ],
      "id": "62b7b976"
    },
    {
      "cell_type": "markdown",
      "metadata": {},
      "source": [
        "#### Up to you !"
      ],
      "id": "ee6705fa-e2e5-4526-a154-032f77b8ffa9"
    },
    {
      "cell_type": "code",
      "execution_count": null,
      "metadata": {},
      "outputs": [],
      "source": [
        "def build_request_nominatim(country, city):\n",
        "    # Your code here\n",
        "    return url_request"
      ],
      "id": "0f6000f6"
    },
    {
      "cell_type": "code",
      "execution_count": null,
      "metadata": {},
      "outputs": [],
      "source": [
        "# Checking the result\n",
        "url_request_nominatim = build_request_nominatim(\"France\", \"Montrouge\")\n",
        "url_request_nominatim"
      ],
      "id": "e95320c4"
    },
    {
      "cell_type": "markdown",
      "metadata": {},
      "source": [
        "### Question 2\n",
        "\n",
        "The next step is to send our parameterized request to the API.\n",
        "To test it beforehand, you can simply put the address in a\n",
        "browser and see what the API returns to us. If the results look\n",
        "consistent, we can continue. If the API returns an error code, it\n",
        "There is surely an error to be found in the query.\n",
        "\n",
        "To perform this query from `Python` to retrieve\n",
        "the results, we use the `requests.get()` function to which we\n",
        "provides as the only parameter the URL of the request. In return we get\n",
        "a “response” object, from which the `JSON` content can be extracted in the form\n",
        "from a `Python` dictionary by applying the `.json()` method to it. It\n",
        "You must then browse the dictionary to extract the information.\n",
        "relevant; in our case: latitude and longitude.\n",
        "In order to fullfill the nominatim policy, one have to add a second parameter to the function :`headers={\"user-agent\": \"phd python\"}`\n",
        "Define a function `get_lat_long` that retrieves the latitude and longitude.\n",
        "(central) longitude for a given country and city.\n",
        "\n",
        "#### Expected result"
      ],
      "id": "dcbfa06a-7c5e-4bf4-b709-ac5caf5efd0a"
    },
    {
      "cell_type": "code",
      "execution_count": null,
      "metadata": {},
      "outputs": [],
      "source": [
        "lat, long = solutions.get_lat_long(query=url_request_nominatim)\n",
        "print(lat, long)\n",
        "print(type(lat))\n",
        "print(type(long))"
      ],
      "id": "89ccf271"
    },
    {
      "cell_type": "markdown",
      "metadata": {},
      "source": [
        "#### Up to you !"
      ],
      "id": "05a46987-c7c9-41e6-82cf-077531eb4cea"
    },
    {
      "cell_type": "code",
      "execution_count": null,
      "metadata": {},
      "outputs": [],
      "source": [
        "def get_lat_long(query):\n",
        "    # Your code here\n",
        "    return latitude, longitude"
      ],
      "id": "7e076ff7"
    },
    {
      "cell_type": "code",
      "execution_count": null,
      "metadata": {},
      "outputs": [],
      "source": [
        "# Checking the result\n",
        "lat, long = get_lat_long(query=url_request_nominatim)\n",
        "print(lat, long)\n",
        "print(type(lat))\n",
        "print(type(long))"
      ],
      "id": "a4c58447"
    },
    {
      "cell_type": "markdown",
      "metadata": {},
      "source": [
        "## Part 2: Retrieving Weather Forecasts\n",
        "\n",
        "Now that we can retrieve the coordinates associated with a\n",
        "Given location, we can query the `open-meteo.com` API for\n",
        "get the weather prediction data associated with these coordinates. There\n",
        "Again, the first step is to look at the documentation ([page\n",
        "homepage](https://open-meteo.com/),\n",
        "[doc](https://open-meteo.com/en/docs)), which provides us with several\n",
        "information:\n",
        "\n",
        "- the *endpoint* for the prediction API is\n",
        "`https://api.open-meteo.com/v1/forecast`\n",
        "- the API expects as input a `latitude` and a `latitude`, as well as\n",
        "the desired weather variables. For our problem,\n",
        "we will retrieve information about the humidity level\n",
        "(`relativehumidity_2m`) and wind speed (`windspeed_10m`)\n",
        "- by default, the API returns 7-day predictions\n",
        "\n",
        "### Question 3\n",
        "\n",
        "Knowing all this information and using the documentation,\n",
        "define a function `build_request_open_meteo` that builds the link\n",
        "of the query for a given latitude and longitude. Again, it\n",
        "It is possible to test the validity of the query by executing the link\n",
        "in a browser and checking that the results returned\n",
        "appear coherent.\n",
        "\n",
        "#### Expected result"
      ],
      "id": "099bff25-9a6b-47ac-b385-0ec77a182b6a"
    },
    {
      "cell_type": "code",
      "execution_count": null,
      "metadata": {},
      "outputs": [],
      "source": [
        "url_request_open_meteo = solutions.build_request_open_meteo(latitude=lat, longitude=long)\n",
        "url_request_open_meteo"
      ],
      "id": "af1e5e11"
    },
    {
      "cell_type": "markdown",
      "metadata": {},
      "source": [
        "#### Up to you !"
      ],
      "id": "199b99f4-d694-4926-b3d3-fe9483da17e9"
    },
    {
      "cell_type": "code",
      "execution_count": null,
      "metadata": {},
      "outputs": [],
      "source": [
        "def build_request_open_meteo(latitude, longitude):\n",
        "    # Your code here\n",
        "    return url_request"
      ],
      "id": "1bf25845"
    },
    {
      "cell_type": "code",
      "execution_count": null,
      "metadata": {},
      "outputs": [],
      "source": [
        "# Checking the result\n",
        "url_request_open_meteo = build_request_open_meteo(latitude=lat, longitude=long)\n",
        "url_request_open_meteo"
      ],
      "id": "013ecc39"
    },
    {
      "cell_type": "markdown",
      "metadata": {},
      "source": [
        "### Question 4\n",
        "\n",
        "Again, we use the `requests.get()` function to submit the\n",
        "request to the API. We get a “response” object in return, which we can\n",
        "extract the `JSON` content as a `Python` dictionary into it\n",
        "applying the `.json()` method.\n",
        "\n",
        "But what happens in case the submitted query is invalid?\n",
        "(typo, missing parameters, etc.)? In this case, the API\n",
        "returns an error. The response object of the request contains a\n",
        "`.status_code` attribute that gives the response code of a request. The\n",
        "code `200` indicates a successful request; any other code indicates\n",
        "an error.\n",
        "\n",
        "Define a function `get_meteo_data` that retrieves the dictionary\n",
        "full data returned by the API following our request. The\n",
        "behavior of the function must however depend on the response code\n",
        "of the request:\n",
        "\n",
        "- if the code is `200`, the function returns the dictionary of\n",
        "predictions;\n",
        "- if the code is different from `200`, the function displays the code\n",
        "error and returns `None`.\n",
        "\n",
        "#### Expected result"
      ],
      "id": "b4f6b1df-a4e1-4471-b503-0976e3d8a1e7"
    },
    {
      "cell_type": "code",
      "execution_count": null,
      "metadata": {},
      "outputs": [],
      "source": [
        "predictions = solutions.get_meteo_data(url_request_open_meteo)\n",
        "type(predictions)"
      ],
      "id": "de2af8e0"
    },
    {
      "cell_type": "code",
      "execution_count": null,
      "metadata": {},
      "outputs": [],
      "source": [
        "wrong_request = solutions.build_request_open_meteo(latitude=lat, longitude=\"dix-sept-virgule-quatre\")\n",
        "output = solutions.get_meteo_data(wrong_request)\n",
        "print(output)"
      ],
      "id": "225e9d71"
    },
    {
      "cell_type": "markdown",
      "metadata": {},
      "source": [
        "#### Up to you !"
      ],
      "id": "8a717f04-26e4-443f-83a4-186d18e88985"
    },
    {
      "cell_type": "code",
      "execution_count": null,
      "metadata": {},
      "outputs": [],
      "source": [
        "def get_meteo_data(query):\n",
        "    # Your code here\n",
        "    return response.json()"
      ],
      "id": "ad61618d"
    },
    {
      "cell_type": "code",
      "execution_count": null,
      "metadata": {},
      "outputs": [],
      "source": [
        "# Checking the result\n",
        "predictions = get_meteo_data(url_request_open_meteo)\n",
        "type(predictions)"
      ],
      "id": "cb8504c5"
    },
    {
      "cell_type": "code",
      "execution_count": null,
      "metadata": {},
      "outputs": [],
      "source": [
        "# Checking the result\n",
        "wrong_request = build_request_open_meteo(latitude=lat, longitude=\"dix-sept-virgule-quatre\")\n",
        "output = get_meteo_data(wrong_request)\n",
        "print(output)"
      ],
      "id": "0a386cf8"
    },
    {
      "cell_type": "markdown",
      "metadata": {},
      "source": [
        "### Question 5\n",
        "\n",
        "In order to fully understand the structure of the data we have\n",
        "retrieved, explore the dictionary of predictions returned by the API\n",
        "(keys, different levels, format of predictions, format of the\n",
        "variable indicating the dates/times of the predictions, etc.)"
      ],
      "id": "480f65c8-fb5e-4531-ba95-35f10d026875"
    },
    {
      "cell_type": "code",
      "execution_count": null,
      "metadata": {},
      "outputs": [],
      "source": [
        "# Data Exploration\n",
        "print(type(predictions))\n",
        "print(predictions.keys())\n",
        "print(type(predictions[\"hourly\"]))\n",
        "print(predictions[\"hourly\"].keys())\n",
        "print(type(predictions[\"hourly\"][\"time\"]))\n",
        "print()\n",
        "\n",
        "# Show data\n",
        "print(predictions['hourly'][\"time\"][:5])\n",
        "print(predictions['hourly'][\"time\"][-5:])\n",
        "print()\n",
        "print(predictions['hourly'][\"relativehumidity_2m\"][:5])\n",
        "print(predictions['hourly'][\"windspeed_10m\"][:5])"
      ],
      "id": "6b6c441d"
    },
    {
      "cell_type": "markdown",
      "metadata": {},
      "source": [
        "## Part 3: Building and visualizing a *bad hair index*\n",
        "\n",
        "The objective of this last part is to calculate and represent\n",
        "graphically the *bad hair index*. Let us recall that we define this index\n",
        "as the **product of relative humidity and wind speed**. It\n",
        "This is a fun measure of the probability of having a “bad”\n",
        "hairstyle” due to weather conditions.\n",
        "\n",
        "### Question 6\n",
        "\n",
        "Define a function `preprocess_predictions` that formats the\n",
        "predictions from the API as a `Pandas DataFrame` in view\n",
        "of a statistical analysis. The steps to implement are as follows:\n",
        "\n",
        "1. convert the predicted data into a 3-column `Pandas DataFrame`\n",
        "(date and time of observation, humidity, wind speed);\n",
        "2. convert time column to `datetime` format\n",
        "([documentation](https://pandas.pydata.org/docs/reference/api/pandas.to_datetime.html))\n",
        "3. add two new variables indicating the day of observation\n",
        "and the time of observation\n",
        "4. add a variable that calculates the *bad hair index*\n",
        "\n",
        "#### Expected result"
      ],
      "id": "1d8afda6-8b3c-4c1f-8511-7a04b3a3fad5"
    },
    {
      "cell_type": "code",
      "execution_count": null,
      "metadata": {},
      "outputs": [],
      "source": [
        "df_preds = solutions.preprocess_predictions(predictions)\n",
        "df_preds.head()"
      ],
      "id": "c5056529"
    },
    {
      "cell_type": "markdown",
      "metadata": {},
      "source": [
        "#### Up to you !"
      ],
      "id": "46099d71-540e-4617-92e6-97589befafc0"
    },
    {
      "cell_type": "code",
      "execution_count": null,
      "metadata": {},
      "outputs": [],
      "source": [
        "def preprocess_predictions(predictions):\n",
        "    # Your code here\n",
        "    return df"
      ],
      "id": "25e08c52"
    },
    {
      "cell_type": "code",
      "execution_count": null,
      "metadata": {},
      "outputs": [],
      "source": [
        "# Checking the result\n",
        "df_preds = preprocess_predictions(predictions)\n",
        "df_preds.head()"
      ],
      "id": "8271424f"
    },
    {
      "cell_type": "markdown",
      "metadata": {},
      "source": [
        "### Question 7\n",
        "\n",
        "For graphical representation purposes, we will represent the *bad\n",
        "hair index* aggregated at two levels:\n",
        "\n",
        "- average hour by hour. This will help answer the question:\n",
        "“What time will it generally be best to stay at home?”\n",
        "home next week?”\n",
        "- average day by day. This will help answer the question:\n",
        "“which day will it generally be better to stay home\n",
        "next week?”\n",
        "\n",
        "Define a function `plot_agg_avg_bhi` that calculates the aggregate index\n",
        "in each case, and represents the result in the form of a\n",
        "`lineplot`.\n",
        "\n",
        "#### Expected result"
      ],
      "id": "2e871eed-60fe-4fb8-aa78-2936c5da3833"
    },
    {
      "cell_type": "code",
      "execution_count": null,
      "metadata": {},
      "outputs": [],
      "source": [
        "solutions.plot_agg_avg_bhi(df_preds, agg_var=\"day\")"
      ],
      "id": "0cee193a"
    },
    {
      "cell_type": "code",
      "execution_count": null,
      "metadata": {},
      "outputs": [],
      "source": [
        "solutions.plot_agg_avg_bhi(df_preds, agg_var=\"hour\")"
      ],
      "id": "642e9608"
    },
    {
      "cell_type": "markdown",
      "metadata": {},
      "source": [
        "#### Up to you !"
      ],
      "id": "ba618b92-0941-46de-9ebb-ee6fd5a0528d"
    },
    {
      "cell_type": "code",
      "execution_count": null,
      "metadata": {},
      "outputs": [],
      "source": [
        "def plot_agg_avg_bhi(df_preds, agg_var=\"day\"):\n",
        "    # Your code here\n",
        "    return None"
      ],
      "id": "c0028fa3"
    },
    {
      "cell_type": "code",
      "execution_count": null,
      "metadata": {},
      "outputs": [],
      "source": [
        "# Checking the result\n",
        "plot_agg_avg_bhi(df_preds, agg_var=\"day\")"
      ],
      "id": "5c180183"
    },
    {
      "cell_type": "code",
      "execution_count": null,
      "metadata": {},
      "outputs": [],
      "source": [
        "# Checking the result\n",
        "plot_agg_avg_bhi(df_preds, agg_var=\"hour\")"
      ],
      "id": "23ae1928"
    },
    {
      "cell_type": "markdown",
      "metadata": {},
      "source": [
        "What do you conclude for the coming week?\n",
        "\n",
        "### Question 8\n",
        "\n",
        "Our bad hair day prediction tool works like a charm.\n",
        "But the holidays are coming soon, and a trip to Berlin is planned.\n",
        "Ideally, we would like to be able to use our tool for any\n",
        "what locality. Fortunately, functions have been defined at each stage,\n",
        "which will allow us to easily move to a “chief” function\n",
        "orchestra” which calls all the others for a given locality.\n",
        "\n",
        "Define a function `main` that represents the *bad hair index* for\n",
        "a given country, city and level of aggregation.\n",
        "\n",
        "#### Expected result"
      ],
      "id": "40de9217-41e9-4949-92cc-8077ef147ce2"
    },
    {
      "cell_type": "code",
      "execution_count": null,
      "metadata": {},
      "outputs": [],
      "source": [
        "solutions.main(country=\"Germany\", city=\"Berlin\", agg_var=\"day\")"
      ],
      "id": "0a491e1d"
    },
    {
      "cell_type": "code",
      "execution_count": null,
      "metadata": {},
      "outputs": [],
      "source": [
        "solutions.main(country=\"Germany\", city=\"Berlin\", agg_var=\"hour\")"
      ],
      "id": "3c89eb1e"
    },
    {
      "cell_type": "markdown",
      "metadata": {},
      "source": [
        "#### Up to you !"
      ],
      "id": "be5921d5-a66a-4a46-9400-283a2ad2e3e4"
    },
    {
      "cell_type": "code",
      "execution_count": null,
      "metadata": {},
      "outputs": [],
      "source": [
        "def main(country, city, agg_var=\"day\"):\n",
        "    # Your code here\n",
        "    return None"
      ],
      "id": "1fece396"
    },
    {
      "cell_type": "code",
      "execution_count": null,
      "metadata": {},
      "outputs": [],
      "source": [
        "# Checking the result\n",
        "main(country=\"Germany\", city=\"Berlin\", agg_var=\"day\")"
      ],
      "id": "9d815397"
    },
    {
      "cell_type": "code",
      "execution_count": null,
      "metadata": {},
      "outputs": [],
      "source": [
        "# Checking the result\n",
        "main(country=\"Germany\", city=\"Berlin\", agg_var=\"hour\")"
      ],
      "id": "09a004e3"
    }
  ],
  "nbformat": 4,
  "nbformat_minor": 5,
  "metadata": {
    "kernelspec": {
      "name": "python3",
      "display_name": "Python 3 (ipykernel)",
      "language": "python",
      "path": "/Users/gblin/opt/anaconda3/share/jupyter/kernels/python3"
    }
  }
}
