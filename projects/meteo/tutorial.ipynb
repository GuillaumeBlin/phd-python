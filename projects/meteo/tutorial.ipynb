{
  "cells": [
    {
      "cell_type": "markdown",
      "metadata": {},
      "source": [
        "# Projet 2 - Prédictions météorologiques\n",
        "\n",
        "## Contexte du projet\n",
        "\n",
        "Il y a certains jours où l’on serait bien resté en télétravail.. Parmi\n",
        "ceux-là, ces jours à la fois humides et venteux où il est impossible de\n",
        "maintenir une coiffure décente, malgré tous ses efforts. Pourrait-on\n",
        "utiliser `Python` pour prédire ce que les anglo-saxons nomment des *bad\n",
        "hair day* (“mauvais jour de cheveux”) ?\n",
        "\n",
        "L’objectif du projet est de construire un *bad hair index* (“indice de\n",
        "mauvais jour de cheveux”) à partir des données météorologiques et de\n",
        "représenter graphiquement l’évolution de cette indice afin de déterminer\n",
        "à l’avance les jours où l’on ferait mieux de rester bien au chaud. Afin\n",
        "d’obtenir les données adéquates, nous allons requêter des APIs.\n",
        "\n",
        "Une API (Interface de Programmation d’Application) est un ensemble de\n",
        "règles et de spécifications que les applications suivent pour\n",
        "communiquer entre elles. Elle permet à votre code d’**accéder à des\n",
        "fonctionnalités externes ou à des données**, comme celles de bases de\n",
        "données météorologiques ou de services de localisation. Lorsqu’on parle\n",
        "de requêtage d’une API, cela se fait généralement via le **protocole\n",
        "HTTP**, qui est le même protocole utilisé pour charger des pages web.\n",
        "Dans ce tutoriel, nous utiliserons le package\n",
        "[requests](https://fr.python-requests.org/en/latest/), qui simplifie le\n",
        "processus de requêtage et de gestion de réponses HTTP.\n",
        "\n",
        "Les APIs que nous allons utiliser sont :\n",
        "\n",
        "-   [Nominatim](https://nominatim.org/release-docs/latest/api/Overview/)\n",
        "    : une API de géocodage proposée par **OpenStreetMap** qui nous\n",
        "    permet de convertir un nom de lieu en coordonnées géographiques.\n",
        "-   [Open-Meteo Weather Forecast](https://open-meteo.com/en/docs) : une\n",
        "    API qui fournit des prévisions météorologiques détaillées.\n",
        "\n",
        "Commençons par importer les packages dont nous aurons besoin au cours de\n",
        "ce projet."
      ],
      "id": "e798f3df-f221-44cf-a266-38354eb3e19c"
    },
    {
      "cell_type": "code",
      "execution_count": null,
      "metadata": {},
      "outputs": [],
      "source": [
        "import requests\n",
        "import pandas\n",
        "import seaborn as sns\n",
        "import matplotlib.pyplot as plt\n",
        "\n",
        "import solutions"
      ],
      "id": "c0b45980"
    },
    {
      "cell_type": "markdown",
      "metadata": {},
      "source": [
        "## Partie 1 : récupération des coordonnées géographiques pour une localisation donnée\n",
        "\n",
        "L’API de prédiction d’open-meteo prend en entrée les coordonnées\n",
        "géographiques (latitude, longitude) du lieu où seront réalisées les\n",
        "prédictions. On pourrait récupérer manuellement les coordonnées du lieu\n",
        "qui nous intéresse, mais cela limiterait la reproductibilité de nos\n",
        "analyses avec d’autres lieux que celui choisi. On va donc utiliser une\n",
        "seconde API, `Nominatim`, pour obtenir ces coordonnées pour un lieu\n",
        "donné.\n",
        "\n",
        "Lorsque l’on travaille à partir d’une API, la première étape est\n",
        "toujours de lire sa documentation. C’est elle qui indique à quelle\n",
        "adresse nous devons envoyer nos requêtes, sous quel format, et ce que va\n",
        "nous répondre l’API. Dans notre cas, la docuemntation de `Nominatim` se\n",
        "trouve à [cette\n",
        "adresse](https://nominatim.org/release-docs/develop/api/Overview/).\n",
        "N’hésitez pas à la parcourir rapidement pour évaluer les possibilités de\n",
        "l’API.\n",
        "\n",
        "### Question 1\n",
        "\n",
        "La première caractéristique essentielle d’une API est le *endpoint*,\n",
        "c’est à dire l’URL à laquelle on va envoyer des requêtes. Dans notre\n",
        "cas, on va utiliser le *endpoint* `/search` dans la mesure où l’on veut\n",
        "trouver un objet géographique (des coordonnées) à partir d’un nom de\n",
        "localisation. La [page de\n",
        "documentation](%5B/search%5D(https://nominatim.org/release-docs/develop/api/Search/))\n",
        "associée à ce *endpoint* nous donne toutes les informations dont nous\n",
        "avons besoin :\n",
        "\n",
        "-   le format d’une requête est\n",
        "    `https://nominatim.openstreetmap.org/search?<params>` où `<params>`\n",
        "    doit être remplacé par les paramètres de la requête, séparés par le\n",
        "    symbole `&`\n",
        "-   dans la section [Structured\n",
        "    Query](https://nominatim.org/release-docs/develop/api/Search/#structured-query),\n",
        "    on voit que l’API admet comme paramètres `country` (pays) et `city`\n",
        "    (ville), que l’on va utiliser pour paramétrer notre requête.\n",
        "\n",
        "Définissez une fonction `build_request_nominatim` qui construit le lien\n",
        "de la requête pour un pays et une ville donnée.\n",
        "\n",
        "#### Résultat attendu"
      ],
      "id": "c78a98ac-cd86-4f08-81c6-ce4b799ee94d"
    },
    {
      "cell_type": "code",
      "execution_count": null,
      "metadata": {},
      "outputs": [],
      "source": [
        "url_request_nominatim = solutions.build_request_nominatim(\"France\", \"Montrouge\")\n",
        "url_request_nominatim"
      ],
      "id": "62b7b976"
    },
    {
      "cell_type": "markdown",
      "metadata": {},
      "source": [
        "#### À vous de jouer !"
      ],
      "id": "ee6705fa-e2e5-4526-a154-032f77b8ffa9"
    },
    {
      "cell_type": "code",
      "execution_count": null,
      "metadata": {},
      "outputs": [],
      "source": [
        "def build_request_nominatim(country, city):\n",
        "    # Votre code ici\n",
        "    return url_request"
      ],
      "id": "0f6000f6"
    },
    {
      "cell_type": "code",
      "execution_count": null,
      "metadata": {},
      "outputs": [],
      "source": [
        "# Vérification du résultat\n",
        "url_request_nominatim = build_request_nominatim(\"France\", \"Montrouge\")\n",
        "url_request_nominatim"
      ],
      "id": "e95320c4"
    },
    {
      "cell_type": "markdown",
      "metadata": {},
      "source": [
        "### Question 2\n",
        "\n",
        "La prochaine étape est d’envoyer notre requête paramétrisée à l’API.\n",
        "Pour la tester au préalable, on peut simplement mettre l’adresse dans un\n",
        "navigateur et voir ce que nous renvoie l’API. Si les résultats ont l’air\n",
        "cohérent, on peut continuer. Si l’API nous renvoie un code d’erreur, il\n",
        "y a sûrement une erreur à trouver dans la requête.\n",
        "\n",
        "Pour effectuer cette requête à partir de `Python` afin d’en récupérer\n",
        "les résultats, on utilise la fonction `requests.get()` à laquelle on\n",
        "fournit comme seul paramètre l’URL de la requête. On obtient en retour\n",
        "un objet “réponse”, dont on peut extraire le contenu `JSON` sous forme\n",
        "d’un dictionnaire `Python` en lui appliquant la méthode `.json()`. Il\n",
        "faut alors parcourir le dictionnaire pour en extraire les informations\n",
        "pertinentes ; dans notre cas : la latitude et la longitude.\n",
        "\n",
        "Définissez une fonction `get_lat_long` qui récupère la latitude et la\n",
        "longitude (centrale) pour un pays et une ville donnée.\n",
        "\n",
        "#### Résultat attendu"
      ],
      "id": "dcbfa06a-7c5e-4bf4-b709-ac5caf5efd0a"
    },
    {
      "cell_type": "code",
      "execution_count": null,
      "metadata": {},
      "outputs": [],
      "source": [
        "lat, long = solutions.get_lat_long(query=url_request_nominatim)\n",
        "print(lat, long)\n",
        "print(type(lat))\n",
        "print(type(long))"
      ],
      "id": "89ccf271"
    },
    {
      "cell_type": "markdown",
      "metadata": {},
      "source": [
        "#### À vous de jouer !"
      ],
      "id": "05a46987-c7c9-41e6-82cf-077531eb4cea"
    },
    {
      "cell_type": "code",
      "execution_count": null,
      "metadata": {},
      "outputs": [],
      "source": [
        "def get_lat_long(query):\n",
        "    # Votre code ici\n",
        "    return latitude, longitude"
      ],
      "id": "7e076ff7"
    },
    {
      "cell_type": "code",
      "execution_count": null,
      "metadata": {},
      "outputs": [],
      "source": [
        "# Vérification du résultat\n",
        "lat, long = get_lat_long(query=url_request_nominatim)\n",
        "print(lat, long)\n",
        "print(type(lat))\n",
        "print(type(long))"
      ],
      "id": "a4c58447"
    },
    {
      "cell_type": "markdown",
      "metadata": {},
      "source": [
        "## Partie 2 : récupération des prévisions météorologiques\n",
        "\n",
        "Maintenant que nous pouvons récupérer les coordonnées associées à une\n",
        "localisation donnée, nous pouvons requêter l’API `open-meteo.com` pour\n",
        "obtenir les données de prédiction météo associées à ces coordonnées. Là\n",
        "encore, la première étape est de s’intéresser à la documentation ([page\n",
        "d’accueil](https://open-meteo.com/),\n",
        "[doc](https://open-meteo.com/en/docs)), qui nous fournit plusieurs\n",
        "informations :\n",
        "\n",
        "-   le *endpoint* pour l’API de prédiction est\n",
        "    `https://api.open-meteo.com/v1/forecast`\n",
        "-   l’API attend en entrée une `latitude` et une `latitude`, ainsi que\n",
        "    les variables météorologiques souhaitées. Pour notre problématique,\n",
        "    nous allons récupérer des informations sur le taux d’humidité\n",
        "    (`relativehumidity_2m`) et la vitesse du vent (`windspeed_10m`)\n",
        "-   par défaut, l’API renvoie des prédictions à 7 jours\n",
        "\n",
        "### Question 3\n",
        "\n",
        "Sachant toutes ces informations et en vous aidant de la documentation,\n",
        "définissez une fonction `build_request_open_meteo` qui construit le lien\n",
        "de la requête pour une latitude et une longitude donnée. Là encore, il\n",
        "est possible de tester la validité de la requête en exécutant le lien\n",
        "dans un navigateur et en vérifiant que les résultats retournés\n",
        "paraissent cohérents.\n",
        "\n",
        "#### Résultat attendu"
      ],
      "id": "099bff25-9a6b-47ac-b385-0ec77a182b6a"
    },
    {
      "cell_type": "code",
      "execution_count": null,
      "metadata": {},
      "outputs": [],
      "source": [
        "url_request_open_meteo = solutions.build_request_open_meteo(latitude=lat, longitude=long)\n",
        "url_request_open_meteo"
      ],
      "id": "af1e5e11"
    },
    {
      "cell_type": "markdown",
      "metadata": {},
      "source": [
        "#### À vous de jouer !"
      ],
      "id": "199b99f4-d694-4926-b3d3-fe9483da17e9"
    },
    {
      "cell_type": "code",
      "execution_count": null,
      "metadata": {},
      "outputs": [],
      "source": [
        "def build_request_open_meteo(latitude, longitude):\n",
        "    # Votre code ici\n",
        "    return url_request"
      ],
      "id": "1bf25845"
    },
    {
      "cell_type": "code",
      "execution_count": null,
      "metadata": {},
      "outputs": [],
      "source": [
        "# Vérification du résultat\n",
        "url_request_open_meteo = build_request_open_meteo(latitude=lat, longitude=long)\n",
        "url_request_open_meteo"
      ],
      "id": "013ecc39"
    },
    {
      "cell_type": "markdown",
      "metadata": {},
      "source": [
        "### Question 4\n",
        "\n",
        "A nouveau, on utilise la fonction `requests.get()` pour soumettre la\n",
        "requête à l’API. On obtient en retour un objet “réponse”, dont on peut\n",
        "extraire le contenu `JSON` sous forme d’un dictionnaire `Python` en lui\n",
        "appliquant la méthode `.json()`.\n",
        "\n",
        "Mais que se passe-t-il dans le cas où la requête soumise est invalide\n",
        "(faute de frappe, paramètres inexistants, etc.) ? Dans ce cas, l’API\n",
        "nous renvoie une erreur. L’objet réponse de la requête contient un\n",
        "attribut `.status_code` qui donne le code de réponse d’une requête. Le\n",
        "code `200` indique la réussite d’une requête ; tout autre code indique\n",
        "une erreur.\n",
        "\n",
        "Définissez une fonction `get_meteo_data` qui récupère le dictionnaire\n",
        "complet de données retourné par l’API suite à notre requête. Le\n",
        "comportement de la fonction doit cependant dépendre du code de réponse\n",
        "de la requête :\n",
        "\n",
        "-   si le code vaut `200`, la fonction renvoie le dictionnaire des\n",
        "    prédictions ;\n",
        "-   si le code est différent de `200`, la fonction affiche le code\n",
        "    d’erreur et renvoie `None`.\n",
        "\n",
        "#### Résultat attendu"
      ],
      "id": "b4f6b1df-a4e1-4471-b503-0976e3d8a1e7"
    },
    {
      "cell_type": "code",
      "execution_count": null,
      "metadata": {},
      "outputs": [],
      "source": [
        "predictions = solutions.get_meteo_data(url_request_open_meteo)\n",
        "type(predictions)"
      ],
      "id": "de2af8e0"
    },
    {
      "cell_type": "code",
      "execution_count": null,
      "metadata": {},
      "outputs": [],
      "source": [
        "wrong_request = solutions.build_request_open_meteo(latitude=lat, longitude=\"dix-sept-virgule-quatre\")\n",
        "output = solutions.get_meteo_data(wrong_request)\n",
        "print(output)"
      ],
      "id": "225e9d71"
    },
    {
      "cell_type": "markdown",
      "metadata": {},
      "source": [
        "#### À vous de jouer !"
      ],
      "id": "8a717f04-26e4-443f-83a4-186d18e88985"
    },
    {
      "cell_type": "code",
      "execution_count": null,
      "metadata": {},
      "outputs": [],
      "source": [
        "def get_meteo_data(query):\n",
        "    # Votre code ici\n",
        "    return response.json()"
      ],
      "id": "ad61618d"
    },
    {
      "cell_type": "code",
      "execution_count": null,
      "metadata": {},
      "outputs": [],
      "source": [
        "# Vérification du résultat\n",
        "predictions = get_meteo_data(url_request_open_meteo)\n",
        "type(predictions)"
      ],
      "id": "cb8504c5"
    },
    {
      "cell_type": "code",
      "execution_count": null,
      "metadata": {},
      "outputs": [],
      "source": [
        "# Vérification du résultat\n",
        "wrong_request = build_request_open_meteo(latitude=lat, longitude=\"dix-sept-virgule-quatre\")\n",
        "output = get_meteo_data(wrong_request)\n",
        "print(output)"
      ],
      "id": "0a386cf8"
    },
    {
      "cell_type": "markdown",
      "metadata": {},
      "source": [
        "### Question 5\n",
        "\n",
        "Afin de bien comprendre la structure des données que nous avons\n",
        "récupérées, explorez le dictionnaire des prédictions retourné par l’API\n",
        "(clefs, différents niveaux, format des prédictions, format de la\n",
        "variable indiquant les dates/heures des prédictions, etc.)"
      ],
      "id": "480f65c8-fb5e-4531-ba95-35f10d026875"
    },
    {
      "cell_type": "code",
      "execution_count": null,
      "metadata": {},
      "outputs": [],
      "source": [
        "# Exploration des données\n",
        "print(type(predictions))\n",
        "print(predictions.keys())\n",
        "print(type(predictions[\"hourly\"]))\n",
        "print(predictions[\"hourly\"].keys())\n",
        "print(type(predictions[\"hourly\"][\"time\"]))\n",
        "print()\n",
        "\n",
        "# Afficher les données\n",
        "print(predictions['hourly'][\"time\"][:5])\n",
        "print(predictions['hourly'][\"time\"][-5:])\n",
        "print()\n",
        "print(predictions['hourly'][\"relativehumidity_2m\"][:5])\n",
        "print(predictions['hourly'][\"windspeed_10m\"][:5])"
      ],
      "id": "6b6c441d"
    },
    {
      "cell_type": "markdown",
      "metadata": {},
      "source": [
        "## Partie 3 : construction et visualisation d’un *bad hair index*\n",
        "\n",
        "L’objectif de cette dernière partie est de calculer et représenter\n",
        "graphiquement le *bad hair index*. Rappelons que l’on définit cet indice\n",
        "comme le **produit de l’humidité relative et de la vitesse du vent**. Il\n",
        "s’agit d’une mesure ludique de la probabilité d’avoir une “mauvaise\n",
        "coiffure” en raison des conditions météorologiques.\n",
        "\n",
        "### Question 6\n",
        "\n",
        "Définissez une fonction `preprocess_predictions` qui met en forme les\n",
        "prédictions issues de l’API sous forme d’un `DataFrame Pandas` en vue\n",
        "d’une analyse statistique. Les étapes à implémenter sont les suivantes :\n",
        "\n",
        "1.  convertir les données prédites en un `DataFrame Pandas` à 3 colonnes\n",
        "    (date et heure de l’observation, humidité, vitesse du vent) ;\n",
        "2.  convertir la colonne de temps au format `datetime`\n",
        "    ([documentation](https://pandas.pydata.org/docs/reference/api/pandas.to_datetime.html))\n",
        "3.  ajouter deux nouvelles variables indiquant le jour de l’observation\n",
        "    et l’heure de l’observation\n",
        "4.  ajouter une variable qui calcule le *bad hair index*\n",
        "\n",
        "#### Résultat attendu"
      ],
      "id": "1d8afda6-8b3c-4c1f-8511-7a04b3a3fad5"
    },
    {
      "cell_type": "code",
      "execution_count": null,
      "metadata": {},
      "outputs": [],
      "source": [
        "df_preds = solutions.preprocess_predictions(predictions)\n",
        "df_preds.head()"
      ],
      "id": "c5056529"
    },
    {
      "cell_type": "markdown",
      "metadata": {},
      "source": [
        "#### À vous de jouer !"
      ],
      "id": "46099d71-540e-4617-92e6-97589befafc0"
    },
    {
      "cell_type": "code",
      "execution_count": null,
      "metadata": {},
      "outputs": [],
      "source": [
        "def preprocess_predictions(predictions):\n",
        "    # Votre code ici\n",
        "    return df"
      ],
      "id": "25e08c52"
    },
    {
      "cell_type": "code",
      "execution_count": null,
      "metadata": {},
      "outputs": [],
      "source": [
        "# Vérification du résultat\n",
        "df_preds = preprocess_predictions(predictions)\n",
        "df_preds.head()"
      ],
      "id": "8271424f"
    },
    {
      "cell_type": "markdown",
      "metadata": {},
      "source": [
        "### Question 7\n",
        "\n",
        "A des fins de représentation graphique, nous allons représenter le *bad\n",
        "hair index* agrégé à deux niveaux :\n",
        "\n",
        "-   moyenne heure par heure. Cela permettra de répondre à la question :\n",
        "    “à quel heure sera-t-il généralement préférable de rester à la\n",
        "    maison la semaine prochaine ?”\n",
        "-   moyenne jour par jour. Cela permettra de répondre à la question :\n",
        "    “quel jour sera-t-il généralement préférable de rester à la maison\n",
        "    la semaine prochaine ?”\n",
        "\n",
        "Définissez une fonction `plot_agg_avg_bhi` qui calcule l’indice agrégé\n",
        "dans chaque cas, et représente le résultat sous la forme d’un\n",
        "`lineplot`.\n",
        "\n",
        "#### Résultat attendu"
      ],
      "id": "2e871eed-60fe-4fb8-aa78-2936c5da3833"
    },
    {
      "cell_type": "code",
      "execution_count": null,
      "metadata": {},
      "outputs": [],
      "source": [
        "solutions.plot_agg_avg_bhi(df_preds, agg_var=\"day\")"
      ],
      "id": "0cee193a"
    },
    {
      "cell_type": "code",
      "execution_count": null,
      "metadata": {},
      "outputs": [],
      "source": [
        "solutions.plot_agg_avg_bhi(df_preds, agg_var=\"hour\")"
      ],
      "id": "642e9608"
    },
    {
      "cell_type": "markdown",
      "metadata": {},
      "source": [
        "#### À vous de jouer !"
      ],
      "id": "ba618b92-0941-46de-9ebb-ee6fd5a0528d"
    },
    {
      "cell_type": "code",
      "execution_count": null,
      "metadata": {},
      "outputs": [],
      "source": [
        "def plot_agg_avg_bhi(df_preds, agg_var=\"day\"):\n",
        "    # Votre code ici\n",
        "    return None"
      ],
      "id": "c0028fa3"
    },
    {
      "cell_type": "code",
      "execution_count": null,
      "metadata": {},
      "outputs": [],
      "source": [
        "# Vérification du résultat\n",
        "plot_agg_avg_bhi(df_preds, agg_var=\"day\")"
      ],
      "id": "5c180183"
    },
    {
      "cell_type": "code",
      "execution_count": null,
      "metadata": {},
      "outputs": [],
      "source": [
        "# Vérification du résultat\n",
        "plot_agg_avg_bhi(df_preds, agg_var=\"hour\")"
      ],
      "id": "23ae1928"
    },
    {
      "cell_type": "markdown",
      "metadata": {},
      "source": [
        "Qu’en concluez-vous pour la semaine à venir ?\n",
        "\n",
        "### Question 8\n",
        "\n",
        "Notre outil de prévision des *bad hair days* fonctionne à merveille.\n",
        "Mais c’est bientôt les vacances, et un voyage à Berlin est prévu.\n",
        "Idéalement, on voudrait pouvoir utiliser notre outil pour n’importe\n",
        "quelle localité. Heureusement, on a défini à chaque étape des fonctions,\n",
        "ce qui va nous permettre de passer facilement à une fonction “chef\n",
        "d’orchestre” qui appelle toutes les autres pour une localité donnée.\n",
        "\n",
        "Définissez une fonction `main` qui représente le *bad hair index* pour\n",
        "un pays, une ville et un niveau d’agrégation donnés.\n",
        "\n",
        "#### Résultat attendu"
      ],
      "id": "40de9217-41e9-4949-92cc-8077ef147ce2"
    },
    {
      "cell_type": "code",
      "execution_count": null,
      "metadata": {},
      "outputs": [],
      "source": [
        "solutions.main(country=\"Germany\", city=\"Berlin\", agg_var=\"day\")"
      ],
      "id": "0a491e1d"
    },
    {
      "cell_type": "code",
      "execution_count": null,
      "metadata": {},
      "outputs": [],
      "source": [
        "solutions.main(country=\"Germany\", city=\"Berlin\", agg_var=\"hour\")"
      ],
      "id": "3c89eb1e"
    },
    {
      "cell_type": "markdown",
      "metadata": {},
      "source": [
        "#### À vous de jouer !"
      ],
      "id": "be5921d5-a66a-4a46-9400-283a2ad2e3e4"
    },
    {
      "cell_type": "code",
      "execution_count": null,
      "metadata": {},
      "outputs": [],
      "source": [
        "def main(country, city, agg_var=\"day\"):\n",
        "    # Votre code ici\n",
        "    return None"
      ],
      "id": "1fece396"
    },
    {
      "cell_type": "code",
      "execution_count": null,
      "metadata": {},
      "outputs": [],
      "source": [
        "# Vérification du résultat\n",
        "main(country=\"Germany\", city=\"Berlin\", agg_var=\"day\")"
      ],
      "id": "9d815397"
    },
    {
      "cell_type": "code",
      "execution_count": null,
      "metadata": {},
      "outputs": [],
      "source": [
        "# Vérification du résultat\n",
        "main(country=\"Germany\", city=\"Berlin\", agg_var=\"hour\")"
      ],
      "id": "09a004e3"
    }
  ],
  "nbformat": 4,
  "nbformat_minor": 5,
  "metadata": {
    "kernelspec": {
      "name": "python3",
      "display_name": "Python 3 (ipykernel)",
      "language": "python",
      "path": "/Users/gblin/opt/anaconda3/share/jupyter/kernels/python3"
    }
  }
}
