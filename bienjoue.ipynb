{
 "cells": [
  {
   "cell_type": "markdown",
   "metadata": {},
   "source": [
    "* Essayez d'exécuter le code ci-dessous en cliquant sur le bouton \"Play\" qui apparait quand vous survolez un code à exécuter.\n",
    "* On devrait vous demandez de \"Select a Kernel\"\n",
    "* Cliquer sur \"Install/Enable suggested extensions\"\n",
    "* Une fois installées, on vous demandera de selectionner l'environnement Python - cliquer sur \"Python Environments\" et choississez celui proposé \"Python 3.X.Y\" (où X, Y peuvent variés)\n",
    "* CodeSpace installera tout ce qu'il faut et vous serez prêt pour la formation.\n",
    "* Executer le code ci-dessous devrait afficher \"Nice Job\"\n",
    "* Une fois effectués, cela devrait être tout.\n",
    "* Vous pouvez maintenant continuer avec le [plan de formation](README.md)"
   ]
  },
  {
   "cell_type": "code",
   "execution_count": null,
   "metadata": {
    "vscode": {
     "languageId": "plaintext"
    }
   },
   "outputs": [],
   "source": [
    "print(\"Nice job\")"
   ]
  }
 ],
 "metadata": {
  "language_info": {
   "name": "python"
  }
 },
 "nbformat": 4,
 "nbformat_minor": 2
}
