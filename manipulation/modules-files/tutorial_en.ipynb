{
  "cells": [
    {
      "cell_type": "markdown",
      "id": "af103720-e0ef-440e-9ba6-aa96e90ac749",
      "metadata": {},
      "source": [
        "# File manipulation\n",
        "\n",
        "In previous tutorials, we have systematically used\n",
        "variables to store data and perform operations on it\n",
        "these. This way of doing things may be sufficient in the context of a session\n",
        "`Python` data, like here in a Jupyter notebook or in a\n",
        "program.\n",
        "\n",
        "But what happens, for example, if we want to keep the\n",
        "outputs of calculations carried out or of data transformed once\n",
        "session over? We then need to save these items in\n",
        "a file, in a location where this data will persist over time in\n",
        "for further use. In this tutorial we will see\n",
        "how to **read and write files with `Python`**.\n",
        "\n",
        "## Some notions about modules and *packages*\n",
        "\n",
        "Before we talk about file manipulation, we need to do a brief\n",
        "detour through the world of modules and ***packages*** (libraries).\n",
        "\n",
        "So far we have mainly used objects and\n",
        "standard `Python` instructions, which therefore did not require\n",
        "third-party import. In this tutorial and all those that follow, we\n",
        "will perform more complex operations (interact with a system\n",
        "files, do vector calculations, manipulate data\n",
        "tabular, etc.) that it would be very expensive, inefficient, and with a\n",
        "huge potential for error, of hand-coding using objects of\n",
        "base of `Python`.\n",
        "\n",
        "This is why we are going to use *packages*, a kind of boxes\n",
        "tools filled with **functions** and **classes** developed by\n",
        "others (often, in a community manner) and which allow\n",
        "carry out complex operations at lower cost.\n",
        "\n",
        "### Terminology\n",
        "\n",
        "Let's start with some brief terminology to get started.\n",
        "locate in the `Python` ecosystem:\n",
        "\n",
        "- a **module** is a text file (with the extension .py for\n",
        "mark the link to `Python`) containing a set of\n",
        "definitions (of **classes**, of **functions**) and instructions,\n",
        "that can be imported into a `Python` environment in order to\n",
        "to use.\n",
        "\n",
        "- a **package** is a set of modules gathered in the same\n",
        "directory\n",
        "\n",
        "For example, we will see in detail in the next part\n",
        "using `numpy`. `numpy` is a *package* that allows you to do\n",
        "scientific computing on multidimensional objects. To do this,\n",
        "`numpy` provides a huge number of functions and\n",
        "of tools. Putting them all in a single module would be\n",
        "frankly unreadable. Thus, `numpy` is structured in different\n",
        "modules that group functions performing similar operations:\n",
        "the random generating functions in the `random` module, those\n",
        "performing linear algebra in the `linalg` module, etc.\n",
        "\n",
        "### Module import\n",
        "\n",
        "To be able to use the functions of a module and the different\n",
        "modules that make up a *package*, we first need the\n",
        "import.\n",
        "\n",
        "The syntax is very simple, let's illustrate it with an example."
      ]
    },
    {
      "cell_type": "code",
      "execution_count": null,
      "id": "cc836f95",
      "metadata": {},
      "outputs": [],
      "source": [
        "import random\n",
        "random.randint(0, 100)"
      ]
    },
    {
      "cell_type": "markdown",
      "id": "fb2f4bf4-e69e-443c-8676-a70a6b7a59c7",
      "metadata": {},
      "source": [
        "We imported the `random` module (complete) from the standard library\n",
        "from `Python` via the `import` statement. Then we called\n",
        "the `randint` function contained in the `random` module, which returns a\n",
        "random number between `a` and `b` its parameters.\n",
        "\n",
        "We could also have imported *only* the `randint` function in\n",
        "using the `from module import function` syntax. It is then no longer\n",
        "necessary to specify the module name when calling the function."
      ]
    },
    {
      "cell_type": "code",
      "execution_count": null,
      "id": "b78f5d7e",
      "metadata": {},
      "outputs": [],
      "source": [
        "from random import randint\n",
        "randint(0, 100)"
      ]
    },
    {
      "cell_type": "markdown",
      "id": "360dbcd3-0668-4be5-b6f2-9e259848e142",
      "metadata": {},
      "source": [
        "Note that once an import is performed, the imported module is\n",
        "available for the entire duration of the `Python` session. So there is no\n",
        "need to import the module before each use of one of its\n",
        "functions, once at the beginning of your notebook or script is enough.\n",
        "\n",
        "> **Too many imports kill the import**\n",
        "> Sometimes you will see the syntax `from module import *` (`*`\n",
        "> is called the *wildcard*) which has the effect of importing into memory\n",
        "> *all* functions of the module. If it saves time,\n",
        "> this is not a good practice:\n",
        "> - on the one hand, it loads more code into memory than is\n",
        "> necessary for our application;\n",
        "> - on the other hand, this limits the readability of the code to the extent that\n",
        "> we do not see explicitly where the data were imported from\n",
        "> functions that are used in the code.\n",
        "\n",
        "### Import from *package*\n",
        "\n",
        "A *package* is simply a collection of modules, structured according to\n",
        "a tree. The syntax for importing a *package* is identical to\n",
        "the one to import a module.\n",
        "\n",
        "For example, let's look again at how to use the `randint` function,\n",
        "but this time the one from the `numpy` package (which does the same thing)."
      ]
    },
    {
      "cell_type": "code",
      "execution_count": null,
      "id": "649f8773",
      "metadata": {},
      "outputs": [],
      "source": [
        "import numpy"
      ]
    },
    {
      "cell_type": "code",
      "execution_count": null,
      "id": "942b059d",
      "metadata": {},
      "outputs": [],
      "source": [
        "numpy.random.randint(0, 100)"
      ]
    },
    {
      "cell_type": "markdown",
      "id": "00e08b41-dfee-4ec8-813b-380a98553f15",
      "metadata": {},
      "source": [
        "We imported the `numpy` package, which allowed us to access via its\n",
        "module `random` to the `randint` function. Again, we could have\n",
        "import the function directly."
      ]
    },
    {
      "cell_type": "code",
      "execution_count": null,
      "id": "89a8e821",
      "metadata": {},
      "outputs": [],
      "source": [
        "from numpy.random import randint"
      ]
    },
    {
      "cell_type": "code",
      "execution_count": null,
      "id": "3691607b",
      "metadata": {},
      "outputs": [],
      "source": [
        "randint(0, 100)"
      ]
    },
    {
      "cell_type": "markdown",
      "id": "c3e7be0a-7b4a-4e9b-95ac-3b683e28dbb6",
      "metadata": {},
      "source": [
        "In practice, the first syntax is preferable: it is always more\n",
        "readable to show explicitly where the function comes from\n",
        "calls. To reduce verbosity, it is common to give a\n",
        "***alias*** to the packages that we import. Here are the three most\n",
        "frequent, which we will encounter very often in the tutorials of the\n",
        "next chapter on data manipulation."
      ]
    },
    {
      "cell_type": "code",
      "execution_count": null,
      "id": "d9eeb787",
      "metadata": {},
      "outputs": [],
      "source": [
        "import numpy as np\n",
        "import pandas as pd\n",
        "import matplotlib.pyplot as plt"
      ]
    },
    {
      "cell_type": "markdown",
      "id": "c737aab3-5e35-454a-aaad-39bb0ee85adf",
      "metadata": {},
      "source": [
        "We can then use these *aliases* to call modules and\n",
        "functions."
      ]
    },
    {
      "cell_type": "code",
      "execution_count": null,
      "id": "eaf66cc6",
      "metadata": {},
      "outputs": [],
      "source": [
        "x = np.linspace(0, 10, 1000)\n",
        "plt.plot(x, np.sin(x))"
      ]
    },
    {
      "cell_type": "markdown",
      "id": "3d1e43cf-5ba4-44d7-bc90-bd4961118126",
      "metadata": {},
      "source": [
        "### Installing *packages*\n",
        "\n",
        "So far we have been able to import the various\n",
        "packages via the `import` statement. But how were they installed?\n",
        "? We must distinguish between two cases:\n",
        "\n",
        "- a number of packages are part of the **library\n",
        "standard**, which means they are installed at the same time as\n",
        "`Python`. This is for example the case of the `random` package used more\n",
        "high, but there are [many]\n",
        "others](https://docs.python.org/fr/3/library/);\n",
        "\n",
        "- other “third party” packages are developed by the community\n",
        "`Python` users, and must be installed to be able to\n",
        "be used. This is particularly the case for `numpy` and `pandas`. In\n",
        "In our case, we did not have to install them because the environment\n",
        "provided for training already contains all the packages\n",
        "necessary to execute the different chapters.\n",
        "\n",
        "Let's illustrate the package installation through the package\n",
        "[emoji](https://pypi.org/project/emoji/), which allows you to represent\n",
        "emoticons in `Python` output. This one is not\n",
        "not yet installed; trying to import it produces a\n",
        "`ModuleNotFoundError`."
      ]
    },
    {
      "cell_type": "code",
      "execution_count": null,
      "id": "99b42960",
      "metadata": {},
      "outputs": [],
      "source": [
        "import emoji"
      ]
    },
    {
      "cell_type": "markdown",
      "id": "d1b8734b-d6a9-49a6-83b5-d57872ebba57",
      "metadata": {},
      "source": [
        "To install a package, the command is simple:\n",
        "`pip install package_name`. Without going into details, `pip` is\n",
        "a package manager, installed with `Python`, which is used in\n",
        "command line (i.e. in a terminal). To be able to send a\n",
        "command to the terminal from a Jupyter notebook, we add a `!`\n",
        "in front of the order."
      ]
    },
    {
      "cell_type": "code",
      "execution_count": null,
      "id": "d0020d9b",
      "metadata": {},
      "outputs": [],
      "source": [
        "!pip install emoji"
      ]
    },
    {
      "cell_type": "markdown",
      "id": "8992c327-44a7-4cae-add0-780f4813c791",
      "metadata": {},
      "source": [
        "It is now possible to import the package and use its\n",
        "functions."
      ]
    },
    {
      "cell_type": "code",
      "execution_count": null,
      "id": "0c1926f7",
      "metadata": {},
      "outputs": [],
      "source": [
        "import emoji\n",
        "\n",
        "print(emoji.emojize('Python est :thumbs_up:'))"
      ]
    },
    {
      "cell_type": "markdown",
      "id": "ee8634b3-2013-4ea9-ac75-135ccc4ea46a",
      "metadata": {},
      "source": [
        "> **pip and PyPI**\n",
        "> `pip` is the standard package manager for `Python`. It allows\n",
        "> to install, update and remove `Python` packages\n",
        "> found in the `Python` Package Index (`PyPI`), a repository of\n",
        "> packages for programming in `Python`. This directory contains a\n",
        "> huge number of projects (around 500,000 at the time of writing)\n",
        "> of this tutorial), from the most amateur to the most essential.\n",
        "> Generally speaking, it is always better, before starting\n",
        "> in writing an application “by hand”, to verify that a\n",
        "> package doing the same thing or almost does not already exist. A simple\n",
        "> google search - preferably in English - containing the keywords\n",
        "> of what we are trying to do often allows us to be sure of it.\n",
        "\n",
        "## File Manipulation\n",
        "\n",
        "### Interacting with the local file system\n",
        "\n",
        "To be able to read and write files with `Python`, we need\n",
        "First understand how these are represented on the system of\n",
        "local files (*file system*), and how `Python` interacts with this\n",
        "last.\n",
        "\n",
        "**The `pathlib` module**\n",
        "\n",
        "To do this, we will repeatedly use the module\n",
        "`pathlib` and in particular the `Path` class. This module allows\n",
        "to interact with the file system in the form of objects,\n",
        "manipulating attributes and their methods. Don't panic, we have\n",
        "given everything we needed to know about this in the previous one\n",
        "tutorial."
      ]
    },
    {
      "cell_type": "code",
      "execution_count": null,
      "id": "d8e8effc",
      "metadata": {},
      "outputs": [],
      "source": [
        "from pathlib import Path"
      ]
    },
    {
      "cell_type": "markdown",
      "id": "8025c191-74ab-4def-897c-759a6f9b601a",
      "metadata": {},
      "source": [
        "**File Properties**\n",
        "\n",
        "A file has two properties:\n",
        "\n",
        "- a **file name**\n",
        "\n",
        "- a **path**, which specifies its location in the system\n",
        "of files.\n",
        "\n",
        "As an example, let's look at the files that are in our\n",
        "current directory (by default, the folder in which this\n",
        "The method to use is called `cwd`, ​​for *current working\n",
        "directory*."
      ]
    },
    {
      "cell_type": "code",
      "execution_count": null,
      "id": "bf4ba7c0",
      "metadata": {},
      "outputs": [],
      "source": [
        "Path.cwd()"
      ]
    },
    {
      "cell_type": "markdown",
      "id": "95bce23b-1cd5-4d11-a61b-5aac99ba9798",
      "metadata": {},
      "source": [
        "The path to our current directory is contained in an object\n",
        "`PosixPath`, which simply means that `pathlib` has figured out that we\n",
        "were on a Unix-type environment (the SSP Cloud servers are\n",
        "on Linux). If you were running this notebook locally on a computer\n",
        "Windows, the object would be `WindowsPath`. In concrete terms, this does not change\n",
        "big deal for you but it's actually quite important: the systems\n",
        "files do not use the same conventions between different\n",
        "environments (eg: separators between folders in a path do not\n",
        "are not the same), but `pathlib` allows you to interact with these\n",
        "different systems in a harmonized manner.\n",
        "\n",
        "Now let's list all the files in our directory\n",
        "current. For this we use a second `glob` method which will\n",
        "simply return all files whose name has a certain\n",
        "structure. For example, `.glob('*.txt')` will retrieve all files\n",
        "whose extension is `.txt` and `.glob('test.*')` will retrieve all the\n",
        "files with the name `test`, regardless of their extension. Here, we\n",
        "recovers all files using *wildcards* `*` at both\n",
        "positions.\n",
        "\n",
        "This method returns a somewhat special object (a *generator*). If you\n",
        "you remember well, we had already encountered the same case with the function\n",
        "`range`. Just call the `list` function on the whole thing to\n",
        "display the results in a readable manner."
      ]
    },
    {
      "cell_type": "code",
      "execution_count": null,
      "id": "8d4c3495",
      "metadata": {},
      "outputs": [],
      "source": [
        "Path.cwd().glob('*.*')"
      ]
    },
    {
      "cell_type": "code",
      "execution_count": null,
      "id": "1f01fb58",
      "metadata": {},
      "outputs": [],
      "source": [
        "list(Path.cwd().glob('*.*'))"
      ]
    },
    {
      "cell_type": "markdown",
      "id": "451e57a5-7683-447e-ac88-6ffde791ea9d",
      "metadata": {},
      "source": [
        "We find our notebook, a file that contains the solutions to the\n",
        "tutorial exercises, and a number of text files that will\n",
        "serve as examples in the rest of the tutorial. If we take the notebook\n",
        "for example, we can clearly distinguish:\n",
        "\n",
        "- its file name: `tutorial.ipynb`\n",
        "\n",
        "- its path: `/home/onyxia/work/`\n",
        "\n",
        "**Absolute paths and relative paths**\n",
        "\n",
        "There are two possible ways to specify the path of a file:\n",
        "\n",
        "- in an **absolute** way, the path then starts with the root (`/`\n",
        "in Unix, `C:\\` in Windows, etc.). The paths returned above\n",
        "are therefore absolute.\n",
        "\n",
        "- **relatively**, i.e. relative to the current directory of the\n",
        "`Python` program. Since a path does not start with the\n",
        "root, `pathlib` will consider it relative.\n",
        "\n",
        "This distinction will prove to be quite important later, when he\n",
        "will be about reading and writing files.\n",
        "\n",
        "**Forming paths**\n",
        "\n",
        "In practice, what interests us is being able to create our own\n",
        "paths – whether absolute or relative to the current directory – in order\n",
        "to specify where the files we want to read are located or\n",
        "well where the files you want to write should be located.\n",
        "\n",
        "`pathlib` offers a very intuitive syntax for building paths,\n",
        "very similar to the string concatenation we\n",
        "have already seen. Instead of a `+`, this time we will use a `/` to\n",
        "concatenate the different parts of a path.\n",
        "\n",
        "For example, let's try to reconstruct the full path of this notebook.\n",
        "We can start by finding the path to the *home* directory, which is the\n",
        "standard folder where all files are located\n",
        "the user."
      ]
    },
    {
      "cell_type": "code",
      "execution_count": null,
      "id": "a8941580",
      "metadata": {},
      "outputs": [],
      "source": [
        "Path.home()"
      ]
    },
    {
      "cell_type": "markdown",
      "id": "e6db1201-f0db-4e40-9b2b-7390a3a132f2",
      "metadata": {},
      "source": [
        "We can then concatenate the different subfolders and the name of\n",
        "notebook file to get the full path to it."
      ]
    },
    {
      "cell_type": "code",
      "execution_count": null,
      "id": "09a9c169",
      "metadata": {},
      "outputs": [],
      "source": [
        "path_nb = Path.home() / 'work' / 'tutorial.ipynb'\n",
        "path_nb"
      ]
    },
    {
      "cell_type": "markdown",
      "id": "72c8eff2-eedf-47a7-97db-7ad499001367",
      "metadata": {},
      "source": [
        "We find exactly the same path as that obtained by listing\n",
        "the files present in the current directory.\n",
        "\n",
        "**More on `pathlib`**\n",
        "\n",
        "We have only seen a glimpse of the tools offered by the `pathlib` module.\n",
        "to interact with the local file system. The [documentation\n",
        "official](https://docs.python.org/fr/3/library/pathlib.html) presents\n",
        "exhaustively these possibilities. We will present in this\n",
        "tutorial and in the following other methods from this\n",
        "bookstore, as the opportunity arises. For the time being, we\n",
        "know enough to read and write files on the system\n",
        "files.\n",
        "\n",
        "### Text files and binary files\n",
        "\n",
        "In programming, we are generally led to manipulate two major\n",
        "very different file families:\n",
        "\n",
        "- **text files**. They only contain characters\n",
        "standard textual – technically, which respect the standard\n",
        "[Unicode](https://fr.wikipedia.org/wiki/Unicode) – without information\n",
        "*formatting* (font, color, etc.). The *.txt* files or\n",
        "again `Python` scripts ending in *.py* are examples of\n",
        "text files. These files can be read with any\n",
        "text editor.\n",
        "\n",
        "- **binary files**. These are actually all other types of\n",
        "files: compressed files (*.zip*, *tar.gz*, etc.), documents\n",
        "PDFs, images, programs, etc. Open such a file with an editor\n",
        "text usually produces a large sequence of characters\n",
        "incomprehensible, because the textual representation is not suitable\n",
        "to this data.\n",
        "\n",
        "As you can imagine, these two file types are handled with\n",
        "different tools. Furthermore, due to the diversity of\n",
        "binary files, each of its files requires processing\n",
        "particular. In a programming context, however, we are\n",
        "mainly to manipulate code, which is textual data. We will\n",
        "so only be interested in **writing and reading files\n",
        "text** in this tutorial, but it is important to know how to recognize\n",
        "binary data when it is required to be processed.\n",
        "\n",
        "### Open a file\n",
        "\n",
        "Asking `Python` to open a file is the same as opening a connection.\n",
        "between the `Python` environment you are on and the file. As long as\n",
        "that this connection is open, it is possible to manipulate the\n",
        "file.\n",
        "\n",
        "To open a file, we use the `open` function. For example, we will\n",
        "open the file `gamme.txt` which was placed in the current directory."
      ]
    },
    {
      "cell_type": "code",
      "execution_count": null,
      "id": "2d7d804a",
      "metadata": {},
      "outputs": [],
      "source": [
        "path_gamme = Path.cwd() / 'gamme.txt'\n",
        "file_in = open(path_gamme, 'r')\n",
        "file_in"
      ]
    },
    {
      "cell_type": "markdown",
      "id": "28854a9f-2035-4169-85c8-d304e89e8d92",
      "metadata": {},
      "source": [
        "The `open` function returns an object of type `_io.TextIOWrapper`, which\n",
        "specifies the file's **encoding mode** and **opening mode**.\n",
        "\n",
        "Encoding and decoding are technical subjects, which we\n",
        "will not cover in this tutorial. Let's just remember that the mode\n",
        "default encoding is `UTF-8`, and there is never really a\n",
        "good reason to choose another mode.\n",
        "\n",
        "On the other hand, the **opening mode** is very important. There are three\n",
        "Main modes:\n",
        "\n",
        "- `r` : **read-only**. The file can only be read, but not\n",
        "modified. This is the default mode when no mode is specified.\n",
        "\n",
        "- `w`: **writing**. It is possible in this mode to write on a\n",
        "file. **Warning: If a file with the same name already exists,\n",
        "it will be automatically overwritten.**\n",
        "\n",
        "- `a` : **appending**. This mode only allows you to add lines to\n",
        "the end of an existing file.\n",
        "\n",
        "Once the file is open, operations can be performed on it\n",
        "file using methods attached to the object that represents it.\n",
        "will see in the next section what the `readlines` method does."
      ]
    },
    {
      "cell_type": "code",
      "execution_count": null,
      "id": "87411bb1",
      "metadata": {},
      "outputs": [],
      "source": [
        "file_in.readlines()"
      ]
    },
    {
      "cell_type": "markdown",
      "id": "f731cac4-17b9-4139-8540-e7ecd1be139e",
      "metadata": {},
      "source": [
        "Once the manipulations are completed, we close the connection with the\n",
        "`close` method. It is then no longer possible to manipulate the file."
      ]
    },
    {
      "cell_type": "code",
      "execution_count": null,
      "id": "976afbe5",
      "metadata": {},
      "outputs": [],
      "source": [
        "file_in.close()"
      ]
    },
    {
      "cell_type": "markdown",
      "id": "45a7821a-345c-48c4-892e-ed7665baf111",
      "metadata": {},
      "source": [
        "In practice, it is easy to forget to close the connection to a file,\n",
        "which can create annoying errors. There is a syntax that allows\n",
        "to avoid this problem by using a **context manager** which handles all\n",
        "the connection for us."
      ]
    },
    {
      "cell_type": "code",
      "execution_count": null,
      "id": "36dc01bb",
      "metadata": {},
      "outputs": [],
      "source": [
        "with open(path_gamme, 'r') as file_in:\n",
        "    lines = file_in.readlines()\n",
        "    \n",
        "lines"
      ]
    },
    {
      "cell_type": "markdown",
      "id": "b279f93a-d944-46bc-81e0-de637affc5bd",
      "metadata": {},
      "source": [
        "This syntax is much more readable: thanks to the indentation, we see\n",
        "clearly the operations that are performed while the file is\n",
        "open, and the latter is automatically closed as soon as one\n",
        "returns to the initial indentation level. It is always preferable to use\n",
        "this syntax if possible, it is good programming practice.\n",
        "\n",
        "### Read a file\n",
        "\n",
        "Once a file is opened, one may want to read its contents. There are\n",
        "different ways to do it. A simple and elegant method is to\n",
        "loop through the file, which is made possible\n",
        "by the fact that the `Python` object representing the file is\n",
        "**iterable**."
      ]
    },
    {
      "cell_type": "code",
      "execution_count": null,
      "id": "417e100e",
      "metadata": {},
      "outputs": [],
      "source": [
        "with open(path_gamme, 'r') as file_in:\n",
        "    for line in file_in:\n",
        "        print(line)"
      ]
    },
    {
      "cell_type": "markdown",
      "id": "e8cd90ea-f74b-468f-a52d-8ae3d597d899",
      "metadata": {},
      "source": [
        "In our example, we simply displayed the lines, but we\n",
        "can do many things from the data present in the\n",
        "text file: store them in a `Python` object, use them for\n",
        "make calculations, keep only the lines that meet a\n",
        "condition given via an `if` statement, etc.\n",
        "\n",
        "There are also ready-made methods for reading the contents of a\n",
        "file. The most basic is the `read` method, which returns the entire\n",
        "of the file as a (potentially very long) string."
      ]
    },
    {
      "cell_type": "code",
      "execution_count": null,
      "id": "153c38bf",
      "metadata": {},
      "outputs": [],
      "source": [
        "with open(path_gamme, 'r') as file_in:\n",
        "    txt = file_in.read()\n",
        "    \n",
        "txt"
      ]
    },
    {
      "cell_type": "markdown",
      "id": "9b1364c9-07cf-4d7f-b756-ec344169f492",
      "metadata": {},
      "source": [
        "This is rarely very useful: we generally prefer to recover\n",
        "individually the lines of a file. The `readlines` method\n",
        "iterates through the entire file, and returns a list whose elements are\n",
        "the lines of the file, in the order of appearance."
      ]
    },
    {
      "cell_type": "code",
      "execution_count": null,
      "id": "ee4cb870",
      "metadata": {},
      "outputs": [],
      "source": [
        "with open(path_gamme, 'r') as file_in:\n",
        "    l = file_in.readlines()\n",
        "    \n",
        "l"
      ]
    },
    {
      "cell_type": "markdown",
      "id": "0bfd6b2e-825f-4a53-ae4e-de5ba123094c",
      "metadata": {},
      "source": [
        "Note that each element of the list (except the last one) ends with\n",
        "the special character `\\n` (“line break”) which simply marks the\n",
        "end of each line in a text file. This is the (hidden) presence of\n",
        "this same character at the end of each call to the `print` function which\n",
        "makes it so that you return to the line every time you use a\n",
        "`print`.\n",
        "\n",
        "### Write to a file\n",
        "\n",
        "Writing to a file is very simple, it is done using\n",
        "the `write` method. For example, let's write to a file line by line\n",
        "the different elements contained in a list."
      ]
    },
    {
      "cell_type": "code",
      "execution_count": null,
      "id": "cdcb125a",
      "metadata": {},
      "outputs": [],
      "source": [
        "ex = [\"ceci\", \"est\", \"un\", \"exemple\", \"très\", \"original\"]\n",
        "\n",
        "with open(\"test.txt\", \"w\") as file_out:\n",
        "    for elem in ex:\n",
        "        file_out.write(elem)"
      ]
    },
    {
      "cell_type": "markdown",
      "id": "c4ceda4a-0e40-4675-ae86-2f3c6c18dcd5",
      "metadata": {},
      "source": [
        "Everything seems to have gone smoothly. We can verify that our\n",
        "file has been successfully created via the `Jupyter` file explorer (on\n",
        "left) or via the `ls` command in the terminal."
      ]
    },
    {
      "cell_type": "code",
      "execution_count": null,
      "id": "7fff63a3",
      "metadata": {},
      "outputs": [],
      "source": [
        "!ls"
      ]
    },
    {
      "cell_type": "markdown",
      "id": "df1c1bb4-0d41-4c07-8e4a-a2bf24847338",
      "metadata": {},
      "source": [
        "It is indeed there. Now let's check that its content is indeed what\n",
        "we wanted."
      ]
    },
    {
      "cell_type": "code",
      "execution_count": null,
      "id": "cac0906a",
      "metadata": {},
      "outputs": [],
      "source": [
        "with open(\"test.txt\", \"r\") as file_out:\n",
        "    print(file_out.read())"
      ]
    },
    {
      "cell_type": "markdown",
      "id": "14866398-ee9a-45b9-8213-ee49b1e25aef",
      "metadata": {},
      "source": [
        "The different elements of our list have merged into a single block\n",
        "of text! This is because, unlike the `print` function by\n",
        "example, the `write` function does not automatically add the character\n",
        "line break. You have to add it manually."
      ]
    },
    {
      "cell_type": "code",
      "execution_count": null,
      "id": "f2e4e261",
      "metadata": {},
      "outputs": [],
      "source": [
        "with open(\"test.txt\", \"w\") as file_out:\n",
        "    for elem in ex:\n",
        "        file_out.write(elem + \"\\n\")\n",
        "        \n",
        "with open(\"test.txt\", \"r\") as file_out:\n",
        "    print(file_out.read())"
      ]
    },
    {
      "cell_type": "markdown",
      "id": "5a7e3fe1-cd86-49fc-b4b9-b2fbdd87216d",
      "metadata": {},
      "source": [
        "It's much better.\n",
        "\n",
        "Some additional notes on writing files:\n",
        "\n",
        "- better to repeat: **use the `\\w` opening mode for a\n",
        "file completely overwrites its contents**. When we rewrote our\n",
        "file with line breaks, we completely overwrote the old one.\n",
        "\n",
        "- why could we just put the file name in the function?\n",
        "`open` and not a `Path` object including the full path to the\n",
        "file you wanted to create? That's because `Python` has it\n",
        "automatically interpreted as a **relative path** (to our\n",
        "current directory) due to the absence of root.\n",
        "\n",
        "- you can only write elements of type `str` in a file**\n",
        "(string). If one of the elements in the above list\n",
        "had been of type `int` or `float` for example, it would have been necessary\n",
        "convert via the `str()` function before writing it to the file.\n",
        "Otherwise, `Python` would have returned an error.\n",
        "\n",
        "## Running code from `.py` files\n",
        "\n",
        "So far in this tutorial we have explored the use of\n",
        "packages/modules, whether they come from the standard library of\n",
        "Python or are developed by third parties. We also discussed\n",
        "interaction with the local file system. Now, let’s find out\n",
        "how to combine these skills by writing and performing our own\n",
        "Python scripts and modules as `.py` files.\n",
        "\n",
        "### `Python` scripts\n",
        "\n",
        "In a `Jupyter` notebook environment (like the one in which\n",
        "you are located), the `Python` code is executed in a\n",
        "**interactive**, cell by cell. This is possible because a *kernel*\n",
        "(kernel) `Python` runs in the background throughout the\n",
        "notebook usage session. However, outside of `Jupyter`, the\n",
        "Code is usually written and executed as scripts. A script\n",
        "`Python` is simply a text file with the extension `.py` and\n",
        "which contains a series of `Python` instructions that will be executed\n",
        "linearly by the `Python` interpreter.\n",
        "\n",
        "The `write_list.py` file takes a code cell seen previously.\n",
        "Let's display its contents."
      ]
    },
    {
      "cell_type": "code",
      "execution_count": null,
      "id": "2681cbe5",
      "metadata": {},
      "outputs": [],
      "source": [
        "with open('write_list.py', 'r') as script:\n",
        "    print(script.read())"
      ]
    },
    {
      "cell_type": "markdown",
      "id": "5c0d7403-508b-4254-afd2-ddf3351d4c75",
      "metadata": {},
      "source": [
        "A `Python` script is run in a terminal via the command\n",
        "`python script_name.py`. To run it from a `Jupyter` notebook,\n",
        "we add another `!` at the beginning of the line."
      ]
    },
    {
      "cell_type": "code",
      "execution_count": null,
      "id": "ae49e707",
      "metadata": {},
      "outputs": [],
      "source": [
        "!python write_list.py"
      ]
    },
    {
      "cell_type": "markdown",
      "id": "5048285d-fbc9-4f23-a133-becedf64c6c6",
      "metadata": {},
      "source": [
        "The file `output_script.txt` has been successfully created locally (sometimes it is necessary\n",
        "wait a bit or refresh for it to appear) and the message\n",
        "expected was printed in the console output.\n",
        "\n",
        "> **Notebook vs. scripts**\n",
        "> Should we prefer the use of `Jupyter` notebooks, as in the\n",
        "> within the framework of this training, or prefer execution via scripts\n",
        "> ? There is no definitive answer to this question:\n",
        "> - notebooks allow **interactive** execution, very\n",
        "> convenient for experimentation;\n",
        "> - scripts make it easier to automate a procedure,\n",
        "> as long as they are executed linearly and without requiring\n",
        "> intermediate actions on the part of the user.\n",
        "> In short, notebooks are very useful during the phase of\n",
        "> development, but we will prefer scripts as soon as it is\n",
        "> question of automating treatments or producing code aimed at\n",
        "> turn into production.\n",
        "\n",
        "### Scripts and modules\n",
        "\n",
        "As we have seen, a **script** is a `.py` file intended to be\n",
        "executed directly. It usually contains a complete workflow\n",
        "or an automated task. A **module** is also a `.py` file,\n",
        "but which contains definitions of functions and/or classes\n",
        "intended to be used by other scripts or modules. It is not\n",
        "intended to be performed alone but imported elsewhere. At the beginning of this\n",
        "tutorial, we used modules from packages written by\n",
        "others. Now let's see how we can write our own modules\n",
        "and import them according to the same principles.\n",
        "\n",
        "Let's display the contents of the file `normalisation.py` which we will use\n",
        "example."
      ]
    },
    {
      "cell_type": "code",
      "execution_count": null,
      "id": "e62eed2f",
      "metadata": {},
      "outputs": [],
      "source": [
        "with open('normalisation.py', 'r') as module:\n",
        "    print(module.read())"
      ]
    },
    {
      "cell_type": "markdown",
      "id": "ceb3d36b-3141-44e5-b424-584cd6f50152",
      "metadata": {},
      "source": [
        "The function contained in this module can be imported as we\n",
        "we saw in this tutorial. Note that the module itself must import\n",
        "the packages/modules necessary for the proper functioning of the functions\n",
        "that it contains (in this case, `numpy`).\n",
        "\n",
        "To import a local module, use the `import` instruction followed\n",
        "of the file name, without the extension. All functions defined in\n",
        "the module can then be used via the syntax\n",
        "`module_name.function_name`."
      ]
    },
    {
      "cell_type": "code",
      "execution_count": null,
      "id": "4f5f19f9",
      "metadata": {},
      "outputs": [],
      "source": [
        "import normalisation\n",
        "\n",
        "x = [1, 2, 3, 4, 5]\n",
        "x_norm = normalisation.normalise(x)\n",
        "\n",
        "print(x_norm)"
      ]
    },
    {
      "cell_type": "markdown",
      "id": "91566207-a502-4e74-93c0-0d69db109906",
      "metadata": {},
      "source": [
        "As explained at the beginning of the chapter, we could also import the\n",
        "function directly so as not to have to recall the module name\n",
        "which contains it. This is particularly useful if this function is required to\n",
        "be used multiple times in the same notebook/script."
      ]
    },
    {
      "cell_type": "code",
      "execution_count": null,
      "id": "08ca8d7e",
      "metadata": {},
      "outputs": [],
      "source": [
        "from normalisation import normalise\n",
        "\n",
        "x = [1, 2, 3, 4, 5]\n",
        "x_norm = normalise(x)\n",
        "\n",
        "print(x_norm)"
      ]
    },
    {
      "cell_type": "markdown",
      "id": "7ee48398-ced2-4b79-9cae-19814dfd915b",
      "metadata": {},
      "source": [
        "> **The false good idea: import \\***\n",
        "> An essential good practice is to promote the readability of its\n",
        "> code. In both import variants presented above, the code\n",
        "> is readable: we can clearly see which module the function comes from\n",
        "> used.\n",
        "> On the other hand, it is not uncommon to see in Python code\n",
        "> the instruction `from my_module import *`, which allows you to import all\n",
        "> the functions defined in the file `my_module.py`. This is\n",
        "> prohibit as far as possible for two reasons:\n",
        "> - it becomes difficult to determine which module or package\n",
        "> where the functions used come from;\n",
        "> - if functions imported from different packages/modules\n",
        "> have the same name, they can replace each other and generate errors\n",
        "> painful to debug.\n",
        "> In order to limit the length of the instruction line in case of import\n",
        "> multiple functions, we can adopt the following syntax:\n"
      ]
    },
    {
      "cell_type": "code",
      "execution_count": null,
      "id": "f5833da9",
      "metadata": {
        "vscode": {
          "languageId": "plaintext"
        }
      },
      "outputs": [],
      "source": [
        "from mon_module import (\n",
        "     fonction1,\n",
        "     fonction2,\n",
        "     fonction3\n",
        " )"
      ]
    },
    {
      "cell_type": "markdown",
      "id": "cf18f85c",
      "metadata": {},
      "source": [
        "\n",
        "Finally, note that a `.py` file can serve as both a module and\n",
        "as a script. To differentiate the two uses, we use the variable\n",
        "`__name__`, which is defined by default by `Python` whenever we\n",
        "uses a `.py` file:\n",
        "\n",
        "- if the file is used as a **module** (eg:\n",
        "`import my_file`), the variable `__name__` is the name of the file\n",
        "(ex: `my_file`)\n",
        "\n",
        "- if the file is used as a **script** (eg:\n",
        "`python my_file.py`), the variable `__name__` is `__main__`\n",
        "\n",
        "In the previous cell, the file `normalisation.py` was imported\n",
        "as a module. In this case, the variable `__name__` is worth\n",
        "`normalization` and that is why the code under the `if` condition does not have\n",
        "was executed. When the file is executed as a script, this code is\n",
        "executed."
      ]
    },
    {
      "cell_type": "code",
      "execution_count": null,
      "id": "bb0c81f0",
      "metadata": {},
      "outputs": [],
      "source": [
        "!python normalisation.py"
      ]
    },
    {
      "cell_type": "markdown",
      "id": "78f774ec-86b2-4e60-b88c-04231dd861a9",
      "metadata": {},
      "source": [
        "It is therefore very common to come across the condition\n",
        "`if __name__ == \"__main__\"` in `Python` scripts, which distinguishes\n",
        "usage as a module and usage as a script.\n",
        "\n",
        "## Exercises\n",
        "\n",
        "### Comprehension questions\n",
        "\n",
        "- 1/ What is a module?\n",
        "\n",
        "- 2/ What is a package?\n",
        "\n",
        "- 3/ Why is it not a good practice to import all the\n",
        "functions of a module with the syntax `from module import *`\n",
        "\n",
        "- 4/ What are the advantages of the `pathlib` library?\n",
        "\n",
        "- 5/ What are the two properties of a file that allow\n",
        "locate its position in the file system?\n",
        "\n",
        "- 6/ What is the current directory?\n",
        "\n",
        "- 7/ What are the two ways to specify a path? How\n",
        "Does `Python` differentiate between the two?\n",
        "\n",
        "- 8/ What are the two main families of files that we are\n",
        "brought to manipulate in programming?\n",
        "\n",
        "- 9/ What are the different ways to open a file?\n",
        "\n",
        "- 10/ Why is it better to use syntax\n",
        "`with open(...) as ...` to open a file?\n",
        "\n",
        "- 11/ Why can we browse the lines of a file using\n",
        "of a loop?\n",
        "\n",
        "- 12/ What is the difference between a module and a script?"
      ]
    },
    {
      "cell_type": "markdown",
      "id": "1dd4c207-c431-47db-bf48-286ec2a65d74",
      "metadata": {},
      "source": [
        "<details>\n",
        "\n",
        "<summary>\n",
        "\n",
        "Show solution\n",
        "\n",
        "</summary>\n",
        "\n",
        "- 1/ a **module** is a text file (with the extension .py for\n",
        "mark the link to Python) containing a set of definitions\n",
        "(of **classes**, of **functions**) and of instructions\n",
        "\n",
        "- 2/ A package is a collection of modules.\n",
        "\n",
        "- 3/ It overloads the memory if you only need a few\n",
        "functions, and this reduces readability since we do not know\n",
        "directly from which module comes which function.\n",
        "\n",
        "- 4/ It allows you to interact with the file system with a\n",
        "unified OOP syntax, regardless of the environment on which it is used\n",
        "work.\n",
        "\n",
        "- 5/ File name and path of the folder that contains the file.\n",
        "\n",
        "- 6/ This is the directory in which the current Python session is\n",
        "open. In a Jupyter notebook, this is by default the\n",
        "folder that contains it.\n",
        "\n",
        "- 7/ Absolute path (complete) and relative path (relative to the directory\n",
        "An absolute path is recognizable because it always starts from the\n",
        "root of the file system.\n",
        "\n",
        "- 8/ Text files and binary files (anything that is not\n",
        "text).\n",
        "\n",
        "- 9/ r: reading. w: writing. a: appending\n",
        "\n",
        "- 10/ This syntax involves a context manager, which manages the\n",
        "file connection (opening and closing) for us.\n",
        "\n",
        "- 11/ Because the object representing the file in Python is an iterable.\n",
        "\n",
        "- 12/ As we have seen, a **script** is a `.py` file\n",
        "intended to be executed directly. It usually contains a stream\n",
        "complete work or an automated task. A **module** is\n",
        "also a `.py` file, but which contains definitions of\n",
        "functions and/or classes intended for use by others\n",
        "scripts or modules. It is not intended to be run alone but\n",
        "imported elsewhere.\n",
        "\n",
        "</details>"
      ]
    },
    {
      "cell_type": "markdown",
      "id": "df07bfc5-fde6-49da-82bc-28041fcbf490",
      "metadata": {},
      "source": [
        "### Mean and standard deviation of grades obtained on an exam\n",
        "\n",
        "*Exercise inspired by:\n",
        "[python.sdv.univ-paris-diderot.fr](https://python.sdv.univ-paris-diderot.fr/07_fichiers/)*\n",
        "\n",
        "The text file `notes.txt` is located in your current directory. It\n",
        "contains the marks obtained by 50 students in an exam. Problem: all\n",
        "The notes were written on the same line, with a space on each\n",
        "times. Open this file and calculate the mean and standard deviation of the\n",
        "notes.\n",
        "\n",
        "Clues:\n",
        "\n",
        "- strings have a `split` method which allows\n",
        "separate text by a given character\n",
        "\n",
        "- it will be necessary to convert the notes to digital format in order to be able to\n",
        "apply mathematical functions\n",
        "\n",
        "- you can use functions from the `numpy` package to calculate\n",
        "the requested statistics"
      ]
    },
    {
      "cell_type": "code",
      "execution_count": null,
      "id": "83f660a5",
      "metadata": {},
      "outputs": [],
      "source": [
        "# Test your answer in this cell"
      ]
    },
    {
      "cell_type": "markdown",
      "id": "d17e76d5-bb6b-43c6-ad5d-6f03e73b29e7",
      "metadata": {},
      "source": [
        "<details>\n",
        "\n",
        "<summary>\n",
        "\n",
        "Show solution\n",
        "\n",
        "</summary>\n",
        "\n",
        "``` python\n",
        "import numpy as np\n",
        "\n",
        "with open(\"notes.txt\", \"r\") as file_in:\n",
        "    notes = file_in.read()\n",
        "\n",
        "notes = notes.split()\n",
        "notes_num = []\n",
        "for n in notes:\n",
        "    notes_num.append(int(n))\n",
        "\n",
        "print(np.mean(notes_num))\n",
        "print(np.std(notes_num))\n",
        "```\n",
        "\n",
        "</details>"
      ]
    },
    {
      "cell_type": "markdown",
      "id": "70da9312-be9a-42ec-a3df-647e6b41e0d1",
      "metadata": {},
      "source": [
        "### Admitted or rejected\n",
        "\n",
        "*Exercise inspired by:\n",
        "[python.sdv.univ-paris-diderot.fr](https://python.sdv.univ-paris-diderot.fr/07_fichiers/)*\n",
        "\n",
        "The text file `notes_clean.txt` is located in your directory\n",
        "current. It contains the marks obtained by 50 students in an exam.\n",
        "Unlike the previous exercise, the grades this time are good\n",
        "written: one note per line.\n",
        "\n",
        "Write code that:\n",
        "\n",
        "- stores each note in `int` format in a list\n",
        "\n",
        "- rewrites the notes into a file `notes_mentions.txt` with on\n",
        "each line notes it, followed by a space, followed by the mention\n",
        "“Admitted” if the grade is greater than or equal to 10, and “Failed” otherwise.\n",
        "\n",
        "For example, the first three lines of this new file should\n",
        "be :\n",
        "\n",
        "5 failed\n",
        "5 failed\n",
        "18 admitted"
      ]
    },
    {
      "cell_type": "code",
      "execution_count": null,
      "id": "8a0cfb31",
      "metadata": {},
      "outputs": [],
      "source": [
        "# Test your answer in this cell"
      ]
    },
    {
      "cell_type": "markdown",
      "id": "7b6914b5-4635-48b3-aac6-c7be9ab26849",
      "metadata": {},
      "source": [
        "<details>\n",
        "\n",
        "<summary>\n",
        "\n",
        "Show solution\n",
        "\n",
        "</summary>\n",
        "\n",
        "``` python\n",
        "notes = []\n",
        "\n",
        "with open(\"notes_clean.txt\", \"r\") as file_in:\n",
        "    for n in file_in:\n",
        "        notes.append(int(n))\n",
        "        \n",
        "with open(\"notes_mentions.txt\", \"w\") as file_out:\n",
        "    for n in notes:\n",
        "        if n >= 10:\n",
        "            mention = \"admis\"\n",
        "        else:\n",
        "            mention = \"recalé\"\n",
        "        file_out.write(str(n) + \" \" + mention + \"\\n\")\n",
        "```\n",
        "\n",
        "</details>"
      ]
    },
    {
      "cell_type": "markdown",
      "id": "ec733816-939d-43cd-8c48-508c1db7dcc1",
      "metadata": {},
      "source": [
        "### Latecomers\n",
        "\n",
        "3 students did not submit their papers on time for the exam:\n",
        "\n",
        "- Miranda got 16 and handed in her assignment 3 days late.\n",
        "\n",
        "- Paolo got 11 and handed in his homework 1 day late\n",
        "\n",
        "- Isidore got a 3 and handed in his homework 5 days late.\n",
        "\n",
        "Each student will have a final grade equal to the grade obtained minus the\n",
        "number of days late. A rating cannot be negative, it will be\n",
        "replaced by 0.\n",
        "\n",
        "The necessary information has been placed in a list in the\n",
        "next cell. Using a loop over this list, **add**\n",
        "(without completely rewriting the file!). notes to the file\n",
        "`notes_clean.txt` (without the mention).\n",
        "\n",
        "NB: If you have overwritten the contents of a file by mistake, you can\n",
        "find the clean files on the [GitHub repository associated with the\n",
        "formation](https://github.com/InseeFrLab/formation-python-initiation/tree/main/source/manipulation/modules-files)."
      ]
    },
    {
      "cell_type": "code",
      "execution_count": null,
      "id": "09995605",
      "metadata": {},
      "outputs": [],
      "source": [
        "supp = [(16, 3), (11, 1), (3, 5)]"
      ]
    },
    {
      "cell_type": "code",
      "execution_count": null,
      "id": "ffa0c9f6",
      "metadata": {},
      "outputs": [],
      "source": [
        "# Test your answer in this cell"
      ]
    },
    {
      "cell_type": "markdown",
      "id": "e6dd9651-7945-4334-a1e5-53f7202f2970",
      "metadata": {},
      "source": [
        "<details>\n",
        "\n",
        "<summary>\n",
        "\n",
        "Show solution\n",
        "\n",
        "</summary>\n",
        "\n",
        "``` python\n",
        "supp = [(16, 3), (11, 1), (3, 5)]\n",
        "\n",
        "with open(\"notes_clean.txt\", \"a\") as file_out:\n",
        "    for elem in supp:\n",
        "        note_finale = elem[0] - elem[1]\n",
        "        note_finale = max(0, note_finale)\n",
        "        file_out.write(str(note_finale) + \"\\n\")\n",
        "```\n",
        "\n",
        "</details>"
      ]
    },
    {
      "cell_type": "markdown",
      "id": "b40edb9b-b45d-4a7c-bf6f-84808b658899",
      "metadata": {},
      "source": [
        "### Scan files\n",
        "\n",
        "Write a program that performs the following operations:\n",
        "\n",
        "- in the current directory, list the paths of the files whose\n",
        "the extension is `.txt` (the syntax was seen in the part on\n",
        "`pathlib`)\n",
        "\n",
        "- make a loop that goes through these paths and opens each file\n",
        "sequentially\n",
        "\n",
        "- for each file, do a membership test (reminder of the\n",
        "syntax: `if pattern in string: ...`) to test if the file\n",
        "contains the word “sol”. If so, print its absolute path\n",
        "in the console (only the path of the file `gamme.txt` should therefore\n",
        "appear)"
      ]
    },
    {
      "cell_type": "code",
      "execution_count": null,
      "id": "f972184f",
      "metadata": {},
      "outputs": [],
      "source": [
        "# Test your answer in this cell"
      ]
    },
    {
      "cell_type": "markdown",
      "id": "a4a9bead-8c76-4ff4-b180-f48ecb1bccff",
      "metadata": {},
      "source": [
        "<details>\n",
        "\n",
        "<summary>\n",
        "\n",
        "Show solution\n",
        "\n",
        "</summary>\n",
        "\n",
        "``` python\n",
        "from pathlib import Path\n",
        "\n",
        "txt_files_paths = list(Path.cwd().glob('*.txt'))\n",
        "\n",
        "for path in txt_files_paths:\n",
        "    with open(path, \"r\") as file_in:\n",
        "        content = file_in.read()\n",
        "        if \"sol\" in content:\n",
        "            print(path)\n",
        "```\n",
        "\n",
        "</details>"
      ]
    }
  ],
  "metadata": {
    "kernelspec": {
      "display_name": "Python 3 (ipykernel)",
      "language": "python",
      "name": "python3",
      "path": "/Users/gblin/opt/anaconda3/share/jupyter/kernels/python3"
    }
  },
  "nbformat": 4,
  "nbformat_minor": 5
}