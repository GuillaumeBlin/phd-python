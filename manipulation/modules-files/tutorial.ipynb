{
  "cells": [
    {
      "cell_type": "markdown",
      "metadata": {},
      "source": [
        "# Manipulation de fichiers\n",
        "\n",
        "Dans les tutoriels précédents, nous avons utilisé systématiquement des\n",
        "variables pour stocker des données et réaliser des opérations sur\n",
        "celles-ci. Cette façon de faire peut suffire dans le cadre d’une session\n",
        "`Python` donnée, comme ici dans un notebook Jupyter ou bien dans un\n",
        "programme.\n",
        "\n",
        "Mais que se passe-t-il par exemple si l’on souhaite conserver les\n",
        "sorties des calculs réalisés ou bien des données transformées une fois\n",
        "la session terminée ? Il nous faut alors sauvegarder ces éléments dans\n",
        "un fichier, à un endroit où ces données vont persister dans le temps en\n",
        "vue d’une utilisation ultérieure. Dans ce tutoriel, nous allons voir\n",
        "comment **lire et écrire des fichiers avec `Python`**.\n",
        "\n",
        "## Quelques notions sur les modules et les *packages*\n",
        "\n",
        "Avant de parler de manipulation de fichiers, nous devons faire un bref\n",
        "détour par le monde des modules et des ***packages*** (librairies).\n",
        "\n",
        "Jusqu’à maintenant, nous avons essentiellement utilisé des objets et des\n",
        "instructions standards de `Python`, qui ne nécessitaient donc pas\n",
        "d’import tiers. Dans ce tutoriel et tous ceux qui vont suivre, nous\n",
        "allons réaliser des opérations plus complexes (interagir avec un système\n",
        "de fichiers, faire du calcul vectoriel, manipuler des données\n",
        "tabulaires, etc.) qu’il serait très coûteux, inefficient, et avec un\n",
        "potentiel d’erreur énorme, de coder à la main en utilisant les objets de\n",
        "base de `Python`.\n",
        "\n",
        "C’est pourquoi nous allons utiliser des *packages*, sortes de boîtes à\n",
        "outils remplies de **fonctions** et de **classes** développées par\n",
        "d’autres (souvent, de manière communautaire) et qui permettent de\n",
        "réaliser des opérations complexes à moindre coût.\n",
        "\n",
        "### Terminologie\n",
        "\n",
        "Commençons par quelques brefs éléments de terminologie pour bien se\n",
        "repérer dans l’écosystème `Python` :\n",
        "\n",
        "-   un **module** est un fichier texte (portant l’extension .py pour\n",
        "    bien marquer le lien à `Python`) contenant un ensemble de\n",
        "    définitions (de **classes**, de **fonctions**) et d’instructions,\n",
        "    que l’on peut importer dans un environnement `Python` afin de les\n",
        "    utiliser.\n",
        "\n",
        "-   un **package** est un ensemble de modules réunis dans un même\n",
        "    répertoire\n",
        "\n",
        "Par exemple, nous allons voir en détails dans la prochaine partie\n",
        "l’utilisation de `numpy`. `numpy` est un *package* qui permet de faire\n",
        "du calcul scientifique sur des objets multidimensionnels. Pour ce faire,\n",
        "`numpy` met à disposition un nombre gigantesque de fonctions et\n",
        "d’outils. Toutes les mettre dans un seul et même module serait\n",
        "franchement illisible. Ainsi, `numpy` est structuré en différents\n",
        "modules qui groupent les fonctions réalisant des opérations similaires :\n",
        "les fonctions générant de l’aléatoire dans le module `random`, celles\n",
        "réalisant de l’algèbre linéaire dans le module `linalg`, etc.\n",
        "\n",
        "### Import de module\n",
        "\n",
        "Pour pouvoir exploiter les fonctions d’un module et les différents\n",
        "modules qui constituent un *package*, il nous faut en premier lieu les\n",
        "importer.\n",
        "\n",
        "La syntaxe est très simple, illustrons là à travers un exemple."
      ],
      "id": "af103720-e0ef-440e-9ba6-aa96e90ac749"
    },
    {
      "cell_type": "code",
      "execution_count": null,
      "metadata": {},
      "outputs": [],
      "source": [
        "import random\n",
        "random.randint(0, 100)"
      ],
      "id": "cc836f95"
    },
    {
      "cell_type": "markdown",
      "metadata": {},
      "source": [
        "Nous avons importé le module `random` (complet) de la librairie standard\n",
        "de `Python` via l’instruction `import`. Ensuite, nous avons fait appel à\n",
        "la fonction `randint` contenue dans le module `random`, qui renvoie un\n",
        "nombre aléatoire entre `a` et `b` ses paramètres.\n",
        "\n",
        "On aurait pu également importer *seulement* la fonction `randint` en\n",
        "utilisant la syntaxe `from module import fonction`. Il n’est alors plus\n",
        "nécessaire de spécifier le nom du module lorsqu’on appelle la fonction."
      ],
      "id": "fb2f4bf4-e69e-443c-8676-a70a6b7a59c7"
    },
    {
      "cell_type": "code",
      "execution_count": null,
      "metadata": {},
      "outputs": [],
      "source": [
        "from random import randint\n",
        "randint(0, 100)"
      ],
      "id": "b78f5d7e"
    },
    {
      "cell_type": "markdown",
      "metadata": {},
      "source": [
        "Notons qu’une fois qu’un import est effectué, le module importé est\n",
        "disponible pour toute la durée de la session `Python`. Il n’y a donc pas\n",
        "besoin d’importer le module avant chaque utilisation d’une de ses\n",
        "fonctions, une fois au début de son notebook ou script suffit.\n",
        "\n",
        "> **Trop d’imports tue l’import**\n",
        ">\n",
        "> Il arrive parfois de voir la syntaxe `from module import *` (`*`\n",
        "> s’appelle le *wildcard*) qui a pour effet d’importer en mémoire\n",
        "> *toutes* les fonctions du module. Si cela permet de gagner du temps,\n",
        "> ce n’est pourtant pas une bonne pratique :\n",
        ">\n",
        "> -   d’une part, cela charge plus de code en mémoire qu’il n’est\n",
        ">     nécessaire pour notre application ;\n",
        ">\n",
        "> -   d’autre part, cela limite la lisibilité du code dans la mesure où\n",
        ">     l’on ne voit pas explicitement d’où ont été importées les\n",
        ">     fonctions qui sont utilisées dans le code.\n",
        "\n",
        "### Import de *package*\n",
        "\n",
        "Un *package* est simplement une collection de modules, structurée selon\n",
        "une arborescence. La syntaxe pour importer un *package* est identique à\n",
        "celle pour importer un module.\n",
        "\n",
        "Par exemple, regardons à nouveau comment utiliser la fonction `randint`,\n",
        "mais cette fois celle du package `numpy` (qui fait la même chose)."
      ],
      "id": "360dbcd3-0668-4be5-b6f2-9e259848e142"
    },
    {
      "cell_type": "code",
      "execution_count": null,
      "metadata": {},
      "outputs": [],
      "source": [
        "import numpy"
      ],
      "id": "649f8773"
    },
    {
      "cell_type": "code",
      "execution_count": null,
      "metadata": {},
      "outputs": [],
      "source": [
        "numpy.random.randint(0, 100)"
      ],
      "id": "942b059d"
    },
    {
      "cell_type": "markdown",
      "metadata": {},
      "source": [
        "On a importé le package `numpy`, qui nous a permis d’accéder via son\n",
        "module `random` à la fonction `randint`. Là encore, on aurait pu\n",
        "importer directement la fonction."
      ],
      "id": "00e08b41-dfee-4ec8-813b-380a98553f15"
    },
    {
      "cell_type": "code",
      "execution_count": null,
      "metadata": {},
      "outputs": [],
      "source": [
        "from numpy.random import randint"
      ],
      "id": "89a8e821"
    },
    {
      "cell_type": "code",
      "execution_count": null,
      "metadata": {},
      "outputs": [],
      "source": [
        "randint(0, 100)"
      ],
      "id": "3691607b"
    },
    {
      "cell_type": "markdown",
      "metadata": {},
      "source": [
        "En pratique, la première syntaxe est préférable : il est toujours plus\n",
        "lisible de montrer explicitement d’où vient la fonction que l’on\n",
        "appelle. Pour réduire la verbosité, il est fréquent de donner un\n",
        "***alias*** aux packages que l’on importe. Voici les trois plus\n",
        "fréquents, que l’on rencontrera très souvent dans les tutoriels du\n",
        "prochain chapitre sur la manipulation de données."
      ],
      "id": "c3e7be0a-7b4a-4e9b-95ac-3b683e28dbb6"
    },
    {
      "cell_type": "code",
      "execution_count": null,
      "metadata": {},
      "outputs": [],
      "source": [
        "import numpy as np\n",
        "import pandas as pd\n",
        "import matplotlib.pyplot as plt"
      ],
      "id": "d9eeb787"
    },
    {
      "cell_type": "markdown",
      "metadata": {},
      "source": [
        "On peut alors utiliser ces *alias* pour appeler des modules et des\n",
        "fonctions."
      ],
      "id": "c737aab3-5e35-454a-aaad-39bb0ee85adf"
    },
    {
      "cell_type": "code",
      "execution_count": null,
      "metadata": {},
      "outputs": [],
      "source": [
        "x = np.linspace(0, 10, 1000)\n",
        "plt.plot(x, np.sin(x))"
      ],
      "id": "eaf66cc6"
    },
    {
      "cell_type": "markdown",
      "metadata": {},
      "source": [
        "### Installation de *packages*\n",
        "\n",
        "Jusqu’à maintenant, nous avons pu importer sans problème les différents\n",
        "packages via l’instruction `import`. Mais comment ont-ils été installés\n",
        "? Il faut distinguer deux cas de figure :\n",
        "\n",
        "-   un certain nombre de packages font partie de la **bibilothèque\n",
        "    standard**, ce qui signifie qu’ils sont installés en même temps que\n",
        "    `Python`. C’est par exemple le cas du package `random` utilisé plus\n",
        "    haut, mais il en existe [beaucoup\n",
        "    d’autres](https://docs.python.org/fr/3/library/) ;\n",
        "\n",
        "-   les autres packages “tiers” sont développés par la communauté des\n",
        "    utilisateurs de `Python`, et doivent être installés pour pouvoir\n",
        "    être utilisés. C’est notamment le cas de `numpy` et `pandas`. Dans\n",
        "    notre cas, nous n’avons pas eu à les installer car l’environnement\n",
        "    fourni pour la formation contient déjà l’ensemble des packages\n",
        "    nécessaires pour exécuter les différents chapitres.\n",
        "\n",
        "Illustrons l’installation de package à travers le package\n",
        "[emoji](https://pypi.org/project/emoji/), qui permet de représenter des\n",
        "émoticônes dans les sorties de `Python`. Pour le coup, celui-ci n’est\n",
        "pas encore installé ; essayer de l’importer produit une\n",
        "`ModuleNotFoundError`."
      ],
      "id": "3d1e43cf-5ba4-44d7-bc90-bd4961118126"
    },
    {
      "cell_type": "code",
      "execution_count": null,
      "metadata": {},
      "outputs": [],
      "source": [
        "import emoji"
      ],
      "id": "99b42960"
    },
    {
      "cell_type": "markdown",
      "metadata": {},
      "source": [
        "Pour installer un package, la commande est simple :\n",
        "`pip install nom_du_package`. Sans rentrer dans les détails, `pip` est\n",
        "un gestionnaire de packages, installé avec `Python`, qui s’utilise en\n",
        "ligne de commande (i.e. dans un terminal). Pour pouvoir envoyer une\n",
        "commande au terminal depuis un notebook Jupyter, on rajoute un `!`\n",
        "devant la commande."
      ],
      "id": "d1b8734b-d6a9-49a6-83b5-d57872ebba57"
    },
    {
      "cell_type": "code",
      "execution_count": null,
      "metadata": {},
      "outputs": [],
      "source": [
        "!pip install emoji"
      ],
      "id": "d0020d9b"
    },
    {
      "cell_type": "markdown",
      "metadata": {},
      "source": [
        "Il est à présent possible d’importer le package et d’utiliser ses\n",
        "fonctions."
      ],
      "id": "8992c327-44a7-4cae-add0-780f4813c791"
    },
    {
      "cell_type": "code",
      "execution_count": null,
      "metadata": {},
      "outputs": [],
      "source": [
        "import emoji\n",
        "\n",
        "print(emoji.emojize('Python est :thumbs_up:'))"
      ],
      "id": "0c1926f7"
    },
    {
      "cell_type": "markdown",
      "metadata": {},
      "source": [
        "> **pip et PyPI**\n",
        ">\n",
        "> `pip` est le gestionnaire de paquets standard pour `Python`. Il permet\n",
        "> d’installer, de mettre à jour et de supprimer des packages `Python`\n",
        "> trouvés dans le `Python` Package Index (`PyPI`), un répertoire de\n",
        "> packages pour la programmation en `Python`. Ce répertoire contient un\n",
        "> nombre gigantesque de projets (environ 500,000 à l’heure de l’écriture\n",
        "> de ce tutoriel), des plus amateurs aux plus essentiels.\n",
        ">\n",
        "> De manière générale, il est toujours préférable, avant de se lancer\n",
        "> dans l’écriture d’une application “à la main”, de vérifier qu’un\n",
        "> package faisant la même chose ou presque n’existe pas déjà. Une simple\n",
        "> recherche google - de préférence en Anglais - contenant les mots-clés\n",
        "> de ce que l’on cherche à faire permet souvent de s’en assurer.\n",
        "\n",
        "## Manipulation de fichiers\n",
        "\n",
        "### Interagir avec le système de fichiers local\n",
        "\n",
        "Pour pouvoir lire et écrire des fichiers avec `Python`, il nous faut\n",
        "d’abord comprendre comment ceux-ci sont représentés sur le système de\n",
        "fichiers (*file system*) local, et comment `Python` interagit avec ce\n",
        "dernier.\n",
        "\n",
        "**Le module `pathlib`**\n",
        "\n",
        "Pour ce faire, nous allons utiliser de manière répétée le module\n",
        "`pathlib` et en particulier la classe `Path`. Ce module permet\n",
        "d’interagir avec le système de fichiers sous forme d’objets, en\n",
        "manipulant des attributs et leurs méthodes. Pas de panique, nous avons\n",
        "vu tout ce qu’il nous fallait savoir à ce propos dans le précédent\n",
        "tutoriel."
      ],
      "id": "ee8634b3-2013-4ea9-ac75-135ccc4ea46a"
    },
    {
      "cell_type": "code",
      "execution_count": null,
      "metadata": {},
      "outputs": [],
      "source": [
        "from pathlib import Path"
      ],
      "id": "d8e8effc"
    },
    {
      "cell_type": "markdown",
      "metadata": {},
      "source": [
        "**Propriétés d’un fichier**\n",
        "\n",
        "Un fichier a deux propriétés :\n",
        "\n",
        "-   un **nom de fichier**\n",
        "\n",
        "-   un **chemin** (*path*), qui spécifie sa localisation dans le système\n",
        "    de fichiers.\n",
        "\n",
        "A titre d’exemple, regardons les fichiers qui se trouvent dans notre\n",
        "répertoire courant (par défaut, le dossier dans lequel se trouve ce\n",
        "notebook). La méthode à utiliser s’appelle `cwd`, pour *current working\n",
        "directory*."
      ],
      "id": "8025c191-74ab-4def-897c-759a6f9b601a"
    },
    {
      "cell_type": "code",
      "execution_count": null,
      "metadata": {},
      "outputs": [],
      "source": [
        "Path.cwd()"
      ],
      "id": "bf4ba7c0"
    },
    {
      "cell_type": "markdown",
      "metadata": {},
      "source": [
        "Le chemin de notre répertoire courant est contenu dans un objet\n",
        "`PosixPath`, ce qui signifie simplement que `pathlib` a compris que nous\n",
        "étions sur un environnement de type Unix (les serveurs du SSP Cloud sont\n",
        "sous Linux). Si vous exécutiez ce notebook en local sur un ordinateur\n",
        "Windows, l’objet serait `WindowsPath`. Concrètement, cela ne change pas\n",
        "grand chose pour vous mais c’est en fait assez important : les systèmes\n",
        "de fichiers n’utilisent pas les mêmes conventions entre les différents\n",
        "environnements (ex : les séparateurs entre dossiers dans un chemin ne\n",
        "sont pas les mêmes), mais `pathlib` vous permet d’interagir avec ces\n",
        "différents systèmes de manière harmonisée.\n",
        "\n",
        "Maintenant, listons tous les fichiers contenus dans notre répertoire\n",
        "courant. On utilise pour cela une seconde méthode `glob` qui va\n",
        "simplement renvoyer tous les fichiers dont le nom a une certaine\n",
        "structure. Par exemple, `.glob('*.txt')` va récupérer tous les fichiers\n",
        "dont l’extension est `.txt` et `.glob('test.*')` va récupérer tous les\n",
        "fichiers dont le nom est `test`, quelle que soit leur extension. Ici, on\n",
        "récupère tous les fichiers en utilisant des *wildcards* `*` aux deux\n",
        "positions.\n",
        "\n",
        "Cette méthode renvoie un objet un peu spécial (un *générateur*). Si vous\n",
        "vous rappelez bien, on avait déjà rencontré le même cas avec la fonction\n",
        "`range`. Il suffit d’appeler la fonction `list` sur le tout pour\n",
        "afficher les résultats de manière lisible."
      ],
      "id": "95bce23b-1cd5-4d11-a61b-5aac99ba9798"
    },
    {
      "cell_type": "code",
      "execution_count": null,
      "metadata": {},
      "outputs": [],
      "source": [
        "Path.cwd().glob('*.*')"
      ],
      "id": "8d4c3495"
    },
    {
      "cell_type": "code",
      "execution_count": null,
      "metadata": {},
      "outputs": [],
      "source": [
        "list(Path.cwd().glob('*.*'))"
      ],
      "id": "1f01fb58"
    },
    {
      "cell_type": "markdown",
      "metadata": {},
      "source": [
        "On retrouve notre notebook, un fichier qui contient les solutions des\n",
        "exercices du tutoriel, et un certain nombre de fichiers texte qui vont\n",
        "servir d’exemples dans la suite du tutoriel. Si l’on prend le notebook\n",
        "par exemple, on distingue bien :\n",
        "\n",
        "-   son nom de fichier : `tutorial.ipynb`\n",
        "\n",
        "-   son chemin : `/home/onyxia/work/`\n",
        "\n",
        "**Chemins absolus et chemins relatifs**\n",
        "\n",
        "Il y a deux manières possibles de spécifier le chemin d’un fichier :\n",
        "\n",
        "-   de manière **absolue**, le chemin commence alors par la racine (`/`\n",
        "    en Unix, `C:\\` en Windows, etc.). Les chemins renvoyés ci-dessus\n",
        "    sont donc absolus.\n",
        "\n",
        "-   de manière **relative**, i.e. relativement au répertoire courant du\n",
        "    programme `Python`. Dès lors qu’un chemin ne commence pas par la\n",
        "    racine, `pathlib` va le considérer relatif.\n",
        "\n",
        "Cette distinction va s’avérer assez importante par la suite, lorsqu’il\n",
        "sera question de lire et d’écrire des fichiers.\n",
        "\n",
        "**Former des chemins**\n",
        "\n",
        "En pratique, ce qui nous intéresse est de pouvoir constituer nos propres\n",
        "chemins – qu’ils soient absolus ou relatifs au répertoire courant – afin\n",
        "de spécifier où se trouvent les fichiers que nous souhaitons lire ou\n",
        "bien où doivent se trouver les fichiers que l’on souhaite écrire.\n",
        "\n",
        "`pathlib` offre une syntaxe très intuitive pour constituer des chemins,\n",
        "très similaire à la concaténation des chaînes de caractères que nous\n",
        "avons déjà vue. Au lieu d’un `+`, on va cette fois utiliser un `/` pour\n",
        "concaténer les différentes parties d’un chemin.\n",
        "\n",
        "Par exemple, essayons de reconstruire le chemin complet de ce notebook.\n",
        "On peut commencer par trouver le chemin du *home* directory, qui est le\n",
        "dossier standard dans lequel se trouvent tous les fichiers de\n",
        "l’utilisateur."
      ],
      "id": "451e57a5-7683-447e-ac88-6ffde791ea9d"
    },
    {
      "cell_type": "code",
      "execution_count": null,
      "metadata": {},
      "outputs": [],
      "source": [
        "Path.home()"
      ],
      "id": "a8941580"
    },
    {
      "cell_type": "markdown",
      "metadata": {},
      "source": [
        "On peut alors concaténer les différents sous-dossier et le nom de\n",
        "fichier du notebook pour obtenir le chemin complet vers celui-ci."
      ],
      "id": "e6db1201-f0db-4e40-9b2b-7390a3a132f2"
    },
    {
      "cell_type": "code",
      "execution_count": null,
      "metadata": {},
      "outputs": [],
      "source": [
        "path_nb = Path.home() / 'work' / 'tutorial.ipynb'\n",
        "path_nb"
      ],
      "id": "09a9c169"
    },
    {
      "cell_type": "markdown",
      "metadata": {},
      "source": [
        "On retrouve bien exactement le même chemin que celui obtenu en listant\n",
        "les fichiers présents dans le répertoire courant.\n",
        "\n",
        "**Plus sur `pathlib`**\n",
        "\n",
        "Nous n’avons vu qu’un aperçu des outils qu’offre le module `pathlib`\n",
        "pour interagir avec le système de fichiers local. La [documentation\n",
        "officielle](https://docs.python.org/fr/3/library/pathlib.html) présente\n",
        "de manière exhaustive ces possibilités. Nous présenterons dans ce\n",
        "tutoriel et dans les suivants d’autres méthodes issues de cette\n",
        "librairie, à mesure que l’occasion se présente. Pour l’heure, nous en\n",
        "savons suffisamment pour lire et écrire des fichiers sur le système de\n",
        "fichiers.\n",
        "\n",
        "### Fichiers texte et fichiers binaires\n",
        "\n",
        "En programmation, on est généralement amenés à manipuler deux grandes\n",
        "familles de fichiers bien différentes :\n",
        "\n",
        "-   les **fichiers texte**. Ils ne contiennent que des caractères\n",
        "    textuels standards – techniquement, qui respectent le standard\n",
        "    [Unicode](https://fr.wikipedia.org/wiki/Unicode) – sans informations\n",
        "    de *formatting* (police, couleur, etc.). Les fichiers *.txt* ou\n",
        "    encore les scripts `Python` finissant en *.py* sont des exemples de\n",
        "    fichiers texte. Ces fichiers peuvent être lus avec n’importe quel\n",
        "    éditeur de texte.\n",
        "\n",
        "-   les **fichiers binaires**. Ce sont en fait tous les autres types de\n",
        "    fichiers : fichiers compressés (*.zip*, *tar.gz*, etc.), documents\n",
        "    PDFs, images, programmes, etc. Ouvrir un tel fichier avec un éditeur\n",
        "    de texte produit généralement une grande suite de caractères\n",
        "    incompréhensibles, car la représentation textuelle n’est pas adaptée\n",
        "    à ces données.\n",
        "\n",
        "Comme vous pouvez l’imaginer, ces deux types de fichier se traitent avec\n",
        "des outils différents. Par ailleurs, du fait de la diversité des\n",
        "fichiers binaires, chacun de ses fichiers nécessite un traitement\n",
        "particulier. Dans un contexte de programmation, on est cependant\n",
        "principalement à manipuler du code, qui est une donnée textuelle. On va\n",
        "donc s’intéresser uniquement à l’**écriture et à la lecture de fichiers\n",
        "texte** dans ce tutoriel, mais il est important de savoir reconnaître\n",
        "des données binaires lorsqu’on est amené à en traiter.\n",
        "\n",
        "### Ouvrir un fichier\n",
        "\n",
        "Demander à `Python` d’ouvrir un fichier revient à ouvrir une connexion\n",
        "entre l’environnement `Python` sur lequel vous êtes et le fichier. Tant\n",
        "que cette connexion est ouverte, il est possible de manipuler le\n",
        "fichier.\n",
        "\n",
        "Pour ouvrir un fichier, on utilise la fonction `open`. On va par exemple\n",
        "ouvrir le fichier `gamme.txt` qui a été mis dans le répertoire courant."
      ],
      "id": "72c8eff2-eedf-47a7-97db-7ad499001367"
    },
    {
      "cell_type": "code",
      "execution_count": null,
      "metadata": {},
      "outputs": [],
      "source": [
        "path_gamme = Path.cwd() / 'gamme.txt'\n",
        "file_in = open(path_gamme, 'r')\n",
        "file_in"
      ],
      "id": "2d7d804a"
    },
    {
      "cell_type": "markdown",
      "metadata": {},
      "source": [
        "La fonction `open` renvoie un objet de type `_io.TextIOWrapper`, qui\n",
        "spécifie le **mode d’encodage** du fichier et le **mode d’ouverture**.\n",
        "\n",
        "L’encodage et le décodage sont des sujets techniques, que nous\n",
        "n’aborderons pas dans ce tutoriel. Retenons simplement que le mode\n",
        "d’encodage par défaut est l’`UTF-8`, et qu’il n’y a jamais vraiment de\n",
        "bonne raison de choisir un autre mode.\n",
        "\n",
        "En revanche, le **mode d’ouverture** est très important. Il y a trois\n",
        "modes principaux :\n",
        "\n",
        "-   `r` : **lecture seule**. Le fichier ne peut qu’être lu, mais pas\n",
        "    modifié. C’est le mode par défaut lorsqu’on ne spécifie aucun mode.\n",
        "\n",
        "-   `w` : **écriture**. Il est possible dans ce mode d’écrire sur un\n",
        "    fichier. **Attention : si un fichier avec le même nom existe déjà,\n",
        "    il sera automatiquement écrasé.**\n",
        "\n",
        "-   `a` : **appending**. Ce mode ne permet que de rajouter des lignes à\n",
        "    la fin d’un fichier existant.\n",
        "\n",
        "Une fois le fichier ouvert, on peut réaliser des opérations sur ce\n",
        "fichier à l’aide de méthodes attachées à l’objet qui le représente. On\n",
        "verra dans la section suivante ce que fait la méthode `readlines`."
      ],
      "id": "28854a9f-2035-4169-85c8-d304e89e8d92"
    },
    {
      "cell_type": "code",
      "execution_count": null,
      "metadata": {},
      "outputs": [],
      "source": [
        "file_in.readlines()"
      ],
      "id": "87411bb1"
    },
    {
      "cell_type": "markdown",
      "metadata": {},
      "source": [
        "Une fois les manipulations terminées, on ferme la connexion avec la\n",
        "méthode `close`. Il n’est alors plus possible de manipuler le fichier."
      ],
      "id": "f731cac4-17b9-4139-8540-e7ecd1be139e"
    },
    {
      "cell_type": "code",
      "execution_count": null,
      "metadata": {},
      "outputs": [],
      "source": [
        "file_in.close()"
      ],
      "id": "976afbe5"
    },
    {
      "cell_type": "markdown",
      "metadata": {},
      "source": [
        "En pratique, on oublie facilement de fermer la connexion à un fichier,\n",
        "ce qui peut créer des erreurs pénibles. Il existe une syntaxe qui permet\n",
        "d’éviter ce problème en utilisant un **context manager** qui gère toute\n",
        "la connexion pour nous."
      ],
      "id": "45a7821a-345c-48c4-892e-ed7665baf111"
    },
    {
      "cell_type": "code",
      "execution_count": null,
      "metadata": {},
      "outputs": [],
      "source": [
        "with open(path_gamme, 'r') as file_in:\n",
        "    lines = file_in.readlines()\n",
        "    \n",
        "lines"
      ],
      "id": "36dc01bb"
    },
    {
      "cell_type": "markdown",
      "metadata": {},
      "source": [
        "Cette syntaxe est beaucoup plus lisible : grâce à l’indentation, on voit\n",
        "clairement les opérations qui sont effectuées tant que le fichier est\n",
        "ouvert, et ce dernier est automatiquement fermé dès lors que l’on\n",
        "revient au niveau initial d’indentation. On préférera toujours utiliser\n",
        "cette syntaxe si possible, c’est une bonne pratique de programmation.\n",
        "\n",
        "### Lire un fichier\n",
        "\n",
        "Une fois un fichier ouvert, on peut vouloir lire son contenu. Il existe\n",
        "différentes manières de faire. Une méthode simple et élégante est de\n",
        "parcourir le fichier à l’aide d’une boucle, ce qui est rendu possible\n",
        "par le fait que l’objet `Python` représentant le fichier est\n",
        "**itérable**."
      ],
      "id": "b279f93a-d944-46bc-81e0-de637affc5bd"
    },
    {
      "cell_type": "code",
      "execution_count": null,
      "metadata": {},
      "outputs": [],
      "source": [
        "with open(path_gamme, 'r') as file_in:\n",
        "    for line in file_in:\n",
        "        print(line)"
      ],
      "id": "417e100e"
    },
    {
      "cell_type": "markdown",
      "metadata": {},
      "source": [
        "Dans notre exemple, nous avons simplement affiché les lignes, mais on\n",
        "peut faire de nombreuses choses à partir des données présentes dans le\n",
        "fichier texte : les stocker dans un objet `Python`, les utiliser pour\n",
        "faire des calculs, ne conserver que les lignes qui répondent à une\n",
        "condition donnée via une instruction `if`, etc.\n",
        "\n",
        "Il existe également des méthodes toutes faites pour lire le contenu d’un\n",
        "fichier. La plus basique est la méthode `read`, qui retourne l’ensemble\n",
        "du fichier comme une (potentiellement très longue) chaîne de caractères."
      ],
      "id": "e8cd90ea-f74b-468f-a52d-8ae3d597d899"
    },
    {
      "cell_type": "code",
      "execution_count": null,
      "metadata": {},
      "outputs": [],
      "source": [
        "with open(path_gamme, 'r') as file_in:\n",
        "    txt = file_in.read()\n",
        "    \n",
        "txt"
      ],
      "id": "153c38bf"
    },
    {
      "cell_type": "markdown",
      "metadata": {},
      "source": [
        "C’est rarement très utile : on préfère en général récupérer\n",
        "individuellement les lignes d’un fichier. La méthode `readlines`\n",
        "parcourt le fichier complet, et renvoie une liste dont les éléments sont\n",
        "les lignes du fichier, dans l’ordre d’apparition."
      ],
      "id": "9b1364c9-07cf-4d7f-b756-ec344169f492"
    },
    {
      "cell_type": "code",
      "execution_count": null,
      "metadata": {},
      "outputs": [],
      "source": [
        "with open(path_gamme, 'r') as file_in:\n",
        "    l = file_in.readlines()\n",
        "    \n",
        "l"
      ],
      "id": "ee4cb870"
    },
    {
      "cell_type": "markdown",
      "metadata": {},
      "source": [
        "Notons que chaque élément de la liste (sauf le dernier) se termine par\n",
        "le caractère spécial `\\n` (“retour à la ligne”) qui marque simplement la\n",
        "fin de chaque ligne dans un fichier texte. C’est la présence (cachée) de\n",
        "ce même caractère à la fin de chaque appel à la fonction `print` qui\n",
        "fait que l’on revient à la ligne à chaque fois que l’on utilise un\n",
        "`print`.\n",
        "\n",
        "### Écrire dans un fichier\n",
        "\n",
        "L’écriture dans un fichier est très simple, elle s’effectue à l’aide de\n",
        "la méthode `write`. Par exemple, écrivons dans un fichier ligne à ligne\n",
        "les différents éléments contenus dans une liste."
      ],
      "id": "0bfd6b2e-825f-4a53-ae4e-de5ba123094c"
    },
    {
      "cell_type": "code",
      "execution_count": null,
      "metadata": {},
      "outputs": [],
      "source": [
        "ex = [\"ceci\", \"est\", \"un\", \"exemple\", \"très\", \"original\"]\n",
        "\n",
        "with open(\"test.txt\", \"w\") as file_out:\n",
        "    for elem in ex:\n",
        "        file_out.write(elem)"
      ],
      "id": "cdcb125a"
    },
    {
      "cell_type": "markdown",
      "metadata": {},
      "source": [
        "Tout semble s’être passé sans encombre. On peut vérifier que notre\n",
        "fichier a bien été crée via l’explorateur de fichier de `Jupyter` (sur\n",
        "la gauche) ou bien via la commande `ls` dans le terminal."
      ],
      "id": "c4ceda4a-0e40-4675-ae86-2f3c6c18dcd5"
    },
    {
      "cell_type": "code",
      "execution_count": null,
      "metadata": {},
      "outputs": [],
      "source": [
        "!ls"
      ],
      "id": "7fff63a3"
    },
    {
      "cell_type": "markdown",
      "metadata": {},
      "source": [
        "Il est bien là. Vérifions maintenant que son contenu est bien celui que\n",
        "l’on souhaitait."
      ],
      "id": "df1c1bb4-0d41-4c07-8e4a-a2bf24847338"
    },
    {
      "cell_type": "code",
      "execution_count": null,
      "metadata": {},
      "outputs": [],
      "source": [
        "with open(\"test.txt\", \"r\") as file_out:\n",
        "    print(file_out.read())"
      ],
      "id": "cac0906a"
    },
    {
      "cell_type": "markdown",
      "metadata": {},
      "source": [
        "Les différents éléments de notre liste se sont fusionnés en un seul bloc\n",
        "de texte ! C’est parce que, contrairement à la fonction `print` par\n",
        "exemple, la fonction `write` n’ajoute pas automatiquement le caractère\n",
        "de retour à la ligne. Il faut l’ajouter manuellement."
      ],
      "id": "14866398-ee9a-45b9-8213-ee49b1e25aef"
    },
    {
      "cell_type": "code",
      "execution_count": null,
      "metadata": {},
      "outputs": [],
      "source": [
        "with open(\"test.txt\", \"w\") as file_out:\n",
        "    for elem in ex:\n",
        "        file_out.write(elem + \"\\n\")\n",
        "        \n",
        "with open(\"test.txt\", \"r\") as file_out:\n",
        "    print(file_out.read())"
      ],
      "id": "f2e4e261"
    },
    {
      "cell_type": "markdown",
      "metadata": {},
      "source": [
        "C’est beaucoup mieux.\n",
        "\n",
        "Quelques remarques supplémentaires sur l’écriture de fichiers :\n",
        "\n",
        "-   mieux vaut le répéter : **utiliser le mode d’ouverture `\\w` pour un\n",
        "    fichier écrase complètement son contenu**. Lorsqu’on a réécrit notre\n",
        "    fichier avec les sauts de ligne, on a complètement écrasé l’ancien.\n",
        "\n",
        "-   pourquoi a-t-on pu mettre juste le nom du fichier dans la fonction\n",
        "    `open` et pas un objet `Path` comprenant le chemin complet vers le\n",
        "    fichier que l’on souhaitait créer ? C’est parce que `Python` l’a\n",
        "    automatiquement interprété comme un **chemin relatif** (à notre\n",
        "    répertoire courant) du fait de l’absence de racine.\n",
        "\n",
        "-   on ne peut écrire dans un fichier **que des éléments de type `str`**\n",
        "    (chaîne de caractère). Si un des éléments de la liste ci-dessus\n",
        "    avait été de type `int` ou `float` par exemple, il aurait fallu le\n",
        "    convertir via la fonction `str()` avant de l’écrire dans le fichier.\n",
        "    Sinon, `Python` aurait renvoyé une erreur.\n",
        "\n",
        "## Exécuter du code depuis des fichiers `.py`\n",
        "\n",
        "Jusqu’à présent dans ce tutoriel, nous avons exploré l’utilisation de\n",
        "packages/modules, qu’ils proviennent de la bibliothèque standard de\n",
        "Python ou soient développés par des tiers. Nous avons également abordé\n",
        "l’interaction avec le système de fichiers local. À présent, découvrons\n",
        "comment combiner ces compétences en écrivant et exécutant nos propres\n",
        "scripts et modules Python sous forme de fichiers `.py`.\n",
        "\n",
        "### Les scripts `Python`\n",
        "\n",
        "Dans un environnement de notebook `Jupyter` (comme celui dans lequel\n",
        "vous vous trouvez), le code `Python` est exécuté de manière\n",
        "**interactive**, cellule par cellule. Cela est possible car un *kernel*\n",
        "(noyau) `Python` tourne en arrière-plan pendant tout le long de la\n",
        "session d’utilisation du notebook. Cependant, en dehors de `Jupyter`, le\n",
        "code est généralement écrit et exécuté sous forme de scripts. Un script\n",
        "`Python` est simplement un fichier texte portant l’extension `.py` et\n",
        "qui contient une série d’instructions `Python` qui vont être exécutées\n",
        "linéairement par l’interpréteur `Python`.\n",
        "\n",
        "Le fichier `write_list.py` reprend une cellule de code vue précédemment.\n",
        "Affichons son contenu."
      ],
      "id": "5a7e3fe1-cd86-49fc-b4b9-b2fbdd87216d"
    },
    {
      "cell_type": "code",
      "execution_count": null,
      "metadata": {},
      "outputs": [],
      "source": [
        "with open('write_list.py', 'r') as script:\n",
        "    print(script.read())"
      ],
      "id": "2681cbe5"
    },
    {
      "cell_type": "markdown",
      "metadata": {},
      "source": [
        "Un script `Python` s’exécute dans un terminal via la commande\n",
        "`python nom_du_script.py`. Pour l’exécuter depuis un notebook `Jupyter`,\n",
        "on rajoute là encore un `!` en début de ligne."
      ],
      "id": "5c0d7403-508b-4254-afd2-ddf3351d4c75"
    },
    {
      "cell_type": "code",
      "execution_count": null,
      "metadata": {},
      "outputs": [],
      "source": [
        "!python write_list.py"
      ],
      "id": "ae49e707"
    },
    {
      "cell_type": "markdown",
      "metadata": {},
      "source": [
        "Le fichier `output_script.txt` a bien été créé en local (il faut parfois\n",
        "attendre un peu ou actualiser pour qu’il s’affiche) et le message\n",
        "attendu a été imprimé dans la sortie de la console.\n",
        "\n",
        "> **Notebook vs. scripts**\n",
        ">\n",
        "> Faut-il préférer l’utilisation de notebooks `Jupyter`, comme dans le\n",
        "> cadre de cette formation, ou bien préférer l’exécution via des scripts\n",
        "> ? Il n’y a pas de réponse définitive à cette question :\n",
        ">\n",
        "> -   les notebooks permettent une exécution **interactive**, très\n",
        ">     pratique pour l’expérimentation ;\n",
        ">\n",
        "> -   les scripts rendent plus facile l’automatisation d’une procédure,\n",
        ">     dans la mesure où ils sont exécutés linéairement et sans requérir\n",
        ">     d’actions intermédiaires de la part de l’utilisateur.\n",
        ">\n",
        "> En somme, les notebooks sont très utiles durant la phase de\n",
        "> développement, mais on préfèrera les script dès lors qu’il est\n",
        "> question d’automatiser des traitements ou de produire du code visant à\n",
        "> tourner en production.\n",
        "\n",
        "### Scripts et modules\n",
        "\n",
        "Comme nous l’avons vu, un **script** est un fichier `.py` destiné à être\n",
        "exécuté directement. Il contient généralement un flux de travail complet\n",
        "ou une tâche automatisée. Un **module** est également un fichier `.py`,\n",
        "mais qui contient des définitions de fonctions et/ou de classes\n",
        "destinées à être utilisées par d’autres scripts ou modules. Il n’est pas\n",
        "destiné à être exécuté seul mais importé ailleurs. Au début de ce\n",
        "tutoriel, nous avons utilisé des modules issus de packages écrits par\n",
        "d’autres. Voyons maintenant comment l’on peut écrire nos propres modules\n",
        "et les importer selon les mêmes principes.\n",
        "\n",
        "Affichons le contenu du fichier `normalisation.py` qui nous servira\n",
        "d’exemple."
      ],
      "id": "5048285d-fbc9-4f23-a133-becedf64c6c6"
    },
    {
      "cell_type": "code",
      "execution_count": null,
      "metadata": {},
      "outputs": [],
      "source": [
        "with open('normalisation.py', 'r') as module:\n",
        "    print(module.read())"
      ],
      "id": "e62eed2f"
    },
    {
      "cell_type": "markdown",
      "metadata": {},
      "source": [
        "La fonction contenue dans ce module peut être importée comme nous\n",
        "l’avons vu dans ce tutoriel. Notons que le module doit lui même importer\n",
        "les packages/modules nécessaires au bon fonctionnement des fonctions\n",
        "qu’il contient (en l’occurence, `numpy`).\n",
        "\n",
        "Pour importer un module local, on utilise l’instruction `import` suivie\n",
        "du nom du fichier, sans l’extension. Toutes les fonctions définies dans\n",
        "le module peuvent alors être utilisées via la syntaxe\n",
        "`nom_du_module.nom_de_la_fonction`."
      ],
      "id": "ceb3d36b-3141-44e5-b424-584cd6f50152"
    },
    {
      "cell_type": "code",
      "execution_count": null,
      "metadata": {},
      "outputs": [],
      "source": [
        "import normalisation\n",
        "\n",
        "x = [1, 2, 3, 4, 5]\n",
        "x_norm = normalisation.normalise(x)\n",
        "\n",
        "print(x_norm)"
      ],
      "id": "4f5f19f9"
    },
    {
      "cell_type": "markdown",
      "metadata": {},
      "source": [
        "Comme expliqué en début de chapitre, on pourrait également importer la\n",
        "fonction directement afin de ne pas avoir à rappeler le nom du module\n",
        "qui la contient. C’est notamment pratique si cette fonction est amenée à\n",
        "être utilisée plusieurs fois dans un même notebook/script."
      ],
      "id": "91566207-a502-4e74-93c0-0d69db109906"
    },
    {
      "cell_type": "code",
      "execution_count": null,
      "metadata": {},
      "outputs": [],
      "source": [
        "from normalisation import normalise\n",
        "\n",
        "x = [1, 2, 3, 4, 5]\n",
        "x_norm = normalise(x)\n",
        "\n",
        "print(x_norm)"
      ],
      "id": "08ca8d7e"
    },
    {
      "cell_type": "markdown",
      "metadata": {},
      "source": [
        "> **La fausse bonne idée : import \\***\n",
        ">\n",
        "> Une bonne pratique essentielle est de favoriser la lisibilité de son\n",
        "> code. Dans les deux variantes d’import présentées ci-dessus, le code\n",
        "> est lisible : on voit bien de quel module provient la fonction\n",
        "> utilisée.\n",
        ">\n",
        "> En revance, il n’est pas rare de voir dans du code Python\n",
        "> l’instruction `from mon_module import *`, qui permet d’importer toutes\n",
        "> les fonctions définies dans le fichier `mon_module.py`. C’est à\n",
        "> proscrire dans la mesure du possible pour deux raisons :\n",
        ">\n",
        "> -   il devient difficile de déterminer de quel module ou package\n",
        ">     proviennent les fonctions utilisées ;\n",
        "> -   si des fonctions importées à partir de différents packages/modules\n",
        ">     ont le même nom, elles peuvent se remplacer et générer des erreurs\n",
        ">     pénibles à débugger.\n",
        ">\n",
        "> Afin de limiter la longueur de la ligne d’instruction en cas d’import\n",
        "> de multiples fonctions, on peut adopter la syntaxe suivante :\n",
        ">\n",
        "> ``` python\n",
        "> from mon_module import (\n",
        ">     fonction1,\n",
        ">     fonction2,\n",
        ">     fonction3\n",
        "> )\n",
        "> ```\n",
        "\n",
        "Enfin, notons qu’un fichier `.py` peut à la fois servir comme module et\n",
        "comme script. Pour différencier les deux usages, on utilise la variable\n",
        "`__name__`, qui est définie par défaut par `Python` dès lors que l’on\n",
        "utilise un fichier `.py` :\n",
        "\n",
        "-   si le fichier est utilisé comme un **module** (ex :\n",
        "    `import mon_fichier`), la variable `__name__` vaut le nom du fichier\n",
        "    (ex : `mon_fichier`)\n",
        "\n",
        "-   si le fichier est utilisé comme un **script** (ex :\n",
        "    `python mon_fichier.py`), la variable `__name__` vaut `__main__`\n",
        "\n",
        "Dans la cellule précédente, le fichier `normalisation.py` était importé\n",
        "comme un module. Dans ce cas, la variable `__name__` vaut\n",
        "`normalisation` et c’est pourquoi le code sous la condition `if` n’a pas\n",
        "été exécuté. Lorsque le fichier est exécuté comme script, ce code est\n",
        "exécuté."
      ],
      "id": "7ee48398-ced2-4b79-9cae-19814dfd915b"
    },
    {
      "cell_type": "code",
      "execution_count": null,
      "metadata": {},
      "outputs": [],
      "source": [
        "!python normalisation.py"
      ],
      "id": "bb0c81f0"
    },
    {
      "cell_type": "markdown",
      "metadata": {},
      "source": [
        "Il est dont très fréquent de croiser la condition\n",
        "`if __name__ == \"__main__\"` dans les scripts `Python`, qui distingue\n",
        "l’usage comme module et l’usage comme script.\n",
        "\n",
        "## Exercices\n",
        "\n",
        "### Questions de compréhension\n",
        "\n",
        "-   1/ Qu’est-ce qu’un module ?\n",
        "\n",
        "-   2/ Qu’est ce qu’un package ?\n",
        "\n",
        "-   3/ Pourquoi n’est-ce pas une bonne pratique d’importer toutes les\n",
        "    fonctions d’un module avec la syntaxe `from module import *`\n",
        "\n",
        "-   4/ Quels sont les avantages de la librairie `pathlib` ?\n",
        "\n",
        "-   5/ Quelles sont les deux propriétés d’un fichier qui permettent de\n",
        "    repérer sa position dans le système de fichiers ?\n",
        "\n",
        "-   6/ Qu’est-ce que le répertoire courant ?\n",
        "\n",
        "-   7/ Quelles sont les deux manières de spécifier un chemin ? Comment\n",
        "    `Python` fait-il la différence entre les deux ?\n",
        "\n",
        "-   8/ Quels sont les deux grandes familles de fichiers que l’on est\n",
        "    amenés à manipuler en programmation ?\n",
        "\n",
        "-   9/ Quels sont les différents modes d’ouverture d’un fichier ?\n",
        "\n",
        "-   10/ Pourquoi est-il préférable d’utiliser la syntaxe\n",
        "    `with open(...) as ...` pour ouvrir un fichier ?\n",
        "\n",
        "-   11/ Pourquoi peut-on parcourir les lignes d’un fichier à l’aide\n",
        "    d’une boucle ?\n",
        "\n",
        "-   12/ Quelle est la différence entre un module et un script ?"
      ],
      "id": "78f774ec-86b2-4e60-b88c-04231dd861a9"
    },
    {
      "cell_type": "markdown",
      "metadata": {},
      "source": [
        "<details>\n",
        "\n",
        "<summary>\n",
        "\n",
        "Afficher la solution\n",
        "\n",
        "</summary>\n",
        "\n",
        "-   1/ un **module** est un fichier texte (portant l’extension .py pour\n",
        "    bien marquer le lien à Python) contenant un ensemble de définitions\n",
        "    (de **classes**, de **fonctions**) et d’instructions\n",
        "\n",
        "-   2/ Un package est une collection de modules.\n",
        "\n",
        "-   3/ Cela surcharge la mémoire si l’on a besoin que de quelques\n",
        "    fonctions, et cela réduit la lisibilité puisqu’on ne sait pas\n",
        "    directement de quel module provient quelle fonction.\n",
        "\n",
        "-   4/ Elle permet d’interagir avec le système de fichiers avec une\n",
        "    syntaxe de POO unifiée, quel que soit l’environnement sur lequel on\n",
        "    travaille.\n",
        "\n",
        "-   5/ Nom de fichier et chemin du dossier qui contient le fichier.\n",
        "\n",
        "-   6/ C’est le répertoire dans lequel la session Python courante est\n",
        "    ouverte. Dans le cadre d’un notebook Jupyter, c’est par défaut le\n",
        "    dossier qui le contient.\n",
        "\n",
        "-   7/ Chemin absolu (complet) et chemin relatif (relatif au répertoire\n",
        "    courant). Un chemin absolu se reconnaît car il part toujours de la\n",
        "    racine du système de fichiers.\n",
        "\n",
        "-   8/ Fichiers textes et fichiers binaires (tout ce qui n’est pas du\n",
        "    texte).\n",
        "\n",
        "-   9/ r : lecture. w : écriture. a : appending\n",
        "\n",
        "-   10/ Cette syntaxe fait intervenir un context manager, qui gère la\n",
        "    connexion au fichier (ouverture et fermeture) pour nous.\n",
        "\n",
        "-   11/ Car l’objet représentant le fichier en Python est un itérable.\n",
        "\n",
        "-   12/ Comme nous l’avons vu, un **script** est un fichier `.py`\n",
        "    destiné à être exécuté directement. Il contient généralement un flux\n",
        "    de travail complet ou une tâche automatisée. Un **module** est\n",
        "    également un fichier `.py`, mais qui contient des définitions de\n",
        "    fonctions et/ou de classes destinées à être utilisées par d’autres\n",
        "    scripts ou modules. Il n’est pas destiné à être exécuté seul mais\n",
        "    importé ailleurs.\n",
        "\n",
        "</details>"
      ],
      "id": "1dd4c207-c431-47db-bf48-286ec2a65d74"
    },
    {
      "cell_type": "markdown",
      "metadata": {},
      "source": [
        "### Moyenne et écart-type des notes obtenues à un examen\n",
        "\n",
        "*Exercice inspiré de :\n",
        "[python.sdv.univ-paris-diderot.fr](https://python.sdv.univ-paris-diderot.fr/07_fichiers/)*\n",
        "\n",
        "Le fichier texte `notes.txt` se trouve dans votre répertoire courant. Il\n",
        "contient les notes obtenues par 50 élèves à un examen. Problème : toutes\n",
        "les notes ont été écrites sur une même ligne, avec un espace à chaque\n",
        "fois. Ouvrez ce fichier et calculez la moyenne et l’écart-type des\n",
        "notes.\n",
        "\n",
        "Indices :\n",
        "\n",
        "-   les chaînes de caractère ont une méthode `split` qui permet de\n",
        "    séparer du texte selon un caractère donné\n",
        "\n",
        "-   il faudra convertir les notes au format numérique pour pouvoir leur\n",
        "    appliquer des fonctions mathématiques\n",
        "\n",
        "-   vous pouvez utiliser les fonctions du package `numpy` pour calculer\n",
        "    les statistiques demandées"
      ],
      "id": "df07bfc5-fde6-49da-82bc-28041fcbf490"
    },
    {
      "cell_type": "code",
      "execution_count": null,
      "metadata": {},
      "outputs": [],
      "source": [
        "# Testez votre réponse dans cette cellule"
      ],
      "id": "83f660a5"
    },
    {
      "cell_type": "markdown",
      "metadata": {},
      "source": [
        "<details>\n",
        "\n",
        "<summary>\n",
        "\n",
        "Afficher la solution\n",
        "\n",
        "</summary>\n",
        "\n",
        "``` python\n",
        "import numpy as np\n",
        "\n",
        "with open(\"notes.txt\", \"r\") as file_in:\n",
        "    notes = file_in.read()\n",
        "\n",
        "notes = notes.split()\n",
        "notes_num = []\n",
        "for n in notes:\n",
        "    notes_num.append(int(n))\n",
        "\n",
        "print(np.mean(notes_num))\n",
        "print(np.std(notes_num))\n",
        "```\n",
        "\n",
        "</details>"
      ],
      "id": "d17e76d5-bb6b-43c6-ad5d-6f03e73b29e7"
    },
    {
      "cell_type": "markdown",
      "metadata": {},
      "source": [
        "### Admis ou recalé\n",
        "\n",
        "*Exercice inspiré de :\n",
        "[python.sdv.univ-paris-diderot.fr](https://python.sdv.univ-paris-diderot.fr/07_fichiers/)*\n",
        "\n",
        "Le fichier texte `notes_clean.txt` se trouve dans votre répertoire\n",
        "courant. Il contient les notes obtenues par 50 élèves à un examen.\n",
        "Contrairement à l’exercice précédent, les notes sont cette fois bien\n",
        "écrites : une note par ligne.\n",
        "\n",
        "Écrire un code qui :\n",
        "\n",
        "-   stocke chaque note au format `int` dans une liste\n",
        "\n",
        "-   réécrit les notes dans un fichier `notes_mentions.txt` avec sur\n",
        "    chaque ligne la note, suivie d’un espace, suivi de la mention\n",
        "    “admis” si la note est supérieure ou égale à 10, et “recalé” sinon.\n",
        "\n",
        "Par exemple, les trois premières lignes de ce nouveau fichier devraient\n",
        "être :\n",
        "\n",
        "    5 recalé\n",
        "    5 recalé\n",
        "    18 admis"
      ],
      "id": "70da9312-be9a-42ec-a3df-647e6b41e0d1"
    },
    {
      "cell_type": "code",
      "execution_count": null,
      "metadata": {},
      "outputs": [],
      "source": [
        "# Testez votre réponse dans cette cellule"
      ],
      "id": "8a0cfb31"
    },
    {
      "cell_type": "markdown",
      "metadata": {},
      "source": [
        "<details>\n",
        "\n",
        "<summary>\n",
        "\n",
        "Afficher la solution\n",
        "\n",
        "</summary>\n",
        "\n",
        "``` python\n",
        "notes = []\n",
        "\n",
        "with open(\"notes_clean.txt\", \"r\") as file_in:\n",
        "    for n in file_in:\n",
        "        notes.append(int(n))\n",
        "        \n",
        "with open(\"notes_mentions.txt\", \"w\") as file_out:\n",
        "    for n in notes:\n",
        "        if n >= 10:\n",
        "            mention = \"admis\"\n",
        "        else:\n",
        "            mention = \"recalé\"\n",
        "        file_out.write(str(n) + \" \" + mention + \"\\n\")\n",
        "```\n",
        "\n",
        "</details>"
      ],
      "id": "7b6914b5-4635-48b3-aac6-c7be9ab26849"
    },
    {
      "cell_type": "markdown",
      "metadata": {},
      "source": [
        "### Retardataires\n",
        "\n",
        "3 élèves n’avaient pas rendu leur copie dans les temps pour l’examen :\n",
        "\n",
        "-   Miranda a obtenu 16 et a rendu son devoir avec 3 jours de retard\n",
        "\n",
        "-   Paolo a obtenu 11 et a rendu son devoir avec 1 jour de retard\n",
        "\n",
        "-   Isidore a obtenu 3 et a rendu son devoir avec 5 jours de retard.\n",
        "\n",
        "Chaque élève aura une note finale égale à la note obtenue moins le\n",
        "nombre de jours de retard. Une note ne pouvant être négative, elle sera\n",
        "remplacée par 0.\n",
        "\n",
        "Les informations nécessaires ont été placées dans une liste dans la\n",
        "cellule suivante. A l’aide d’une boucle sur cette liste, **ajouter**\n",
        "(sans réécrire complètement le fichier !). les notes au fichier\n",
        "`notes_clean.txt` (sans la mention).\n",
        "\n",
        "NB : si vous avez écrasé le contenu d’un fichier par erreur, vous pouvez\n",
        "retrouver les fichiers propres sur le [dépôt GitHub associé à la\n",
        "formation](https://github.com/InseeFrLab/formation-python-initiation/tree/main/source/manipulation/modules-files)."
      ],
      "id": "ec733816-939d-43cd-8c48-508c1db7dcc1"
    },
    {
      "cell_type": "code",
      "execution_count": null,
      "metadata": {},
      "outputs": [],
      "source": [
        "supp = [(16, 3), (11, 1), (3, 5)]"
      ],
      "id": "09995605"
    },
    {
      "cell_type": "code",
      "execution_count": null,
      "metadata": {},
      "outputs": [],
      "source": [
        "# Testez votre réponse dans cette cellule"
      ],
      "id": "ffa0c9f6"
    },
    {
      "cell_type": "markdown",
      "metadata": {},
      "source": [
        "<details>\n",
        "\n",
        "<summary>\n",
        "\n",
        "Afficher la solution\n",
        "\n",
        "</summary>\n",
        "\n",
        "``` python\n",
        "supp = [(16, 3), (11, 1), (3, 5)]\n",
        "\n",
        "with open(\"notes_clean.txt\", \"a\") as file_out:\n",
        "    for elem in supp:\n",
        "        note_finale = elem[0] - elem[1]\n",
        "        note_finale = max(0, note_finale)\n",
        "        file_out.write(str(note_finale) + \"\\n\")\n",
        "```\n",
        "\n",
        "</details>"
      ],
      "id": "e6dd9651-7945-4334-a1e5-53f7202f2970"
    },
    {
      "cell_type": "markdown",
      "metadata": {},
      "source": [
        "### Scanner des fichiers\n",
        "\n",
        "Écrire un programme qui réalise les opérations suivantes :\n",
        "\n",
        "-   dans le répertoire courant, lister les chemins des fichiers dont\n",
        "    l’extension est `.txt` (la syntaxe a été vue dans la partie sur\n",
        "    `pathlib`)\n",
        "\n",
        "-   faire une boucle qui parcourt ces chemins et ouvre chaque fichier\n",
        "    séquentiellement\n",
        "\n",
        "-   pour chaque fichier, faire un test d’appartenance (rappel de la\n",
        "    syntaxe : `if pattern in string: ...`) pour tester si le fichier\n",
        "    contient le mot “sol”. Si c’est le cas, imprimer son chemin absolu\n",
        "    dans la console (seul le chemin du fichier `gamme.txt` devrait donc\n",
        "    apparaître)"
      ],
      "id": "b40edb9b-b45d-4a7c-bf6f-84808b658899"
    },
    {
      "cell_type": "code",
      "execution_count": null,
      "metadata": {},
      "outputs": [],
      "source": [
        "# Testez votre réponse dans cette cellule"
      ],
      "id": "f972184f"
    },
    {
      "cell_type": "markdown",
      "metadata": {},
      "source": [
        "<details>\n",
        "\n",
        "<summary>\n",
        "\n",
        "Afficher la solution\n",
        "\n",
        "</summary>\n",
        "\n",
        "``` python\n",
        "from pathlib import Path\n",
        "\n",
        "txt_files_paths = list(Path.cwd().glob('*.txt'))\n",
        "\n",
        "for path in txt_files_paths:\n",
        "    with open(path, \"r\") as file_in:\n",
        "        content = file_in.read()\n",
        "        if \"sol\" in content:\n",
        "            print(path)\n",
        "```\n",
        "\n",
        "</details>"
      ],
      "id": "a4a9bead-8c76-4ff4-b180-f48ecb1bccff"
    }
  ],
  "nbformat": 4,
  "nbformat_minor": 5,
  "metadata": {
    "kernelspec": {
      "name": "python3",
      "display_name": "Python 3 (ipykernel)",
      "language": "python",
      "path": "/Users/gblin/opt/anaconda3/share/jupyter/kernels/python3"
    }
  }
}
