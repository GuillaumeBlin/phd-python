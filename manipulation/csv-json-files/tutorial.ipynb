{
  "cells": [
    {
      "cell_type": "markdown",
      "metadata": {},
      "source": [
        "# Travailler avec des fichiers CSV et JSON\n",
        "\n",
        "Dans le précédent tutoriel, nous avons vu comment utiliser des fonctions\n",
        "provenant de modules, ainsi que comment lire et écrire des fichiers\n",
        "texte. Dans ce tutoriel, nous allons mettre à profit ces nouvelles\n",
        "compétences en nous intéressant à **deux types de fichiers texte très\n",
        "fréquemment utilisés pour stocker et diffuser des données : les fichiers\n",
        "CSV et les fichiers JSON**. Nous allons apprendre à manipuler ces deux\n",
        "types de fichiers grâce aux modules Python dédiés à leur traitement\n",
        "respectif : **le module `csv` et le module `json`**.\n",
        "\n",
        "## Manipuler des fichiers CSV\n",
        "\n",
        "### Les fichiers CSV\n",
        "\n",
        "CSV signifie ***comma-separated values***, soit en bon français “valeurs\n",
        "séparées par des virgules”. Les fichiers CSV visent à reproduire la\n",
        "**structure des données issues de tableurs** type Excel de Microsoft ou\n",
        "Calc de LibreOffice, réduite à la stricte donnée textuelle (plus de\n",
        "formatage, plus de types de colonne, etc.).\n",
        "\n",
        "Nous allons prendre pour exemple le fichier CSV qui contient la liste\n",
        "des départements en 2021, issue du Code Officiel Géographique (COG).\n",
        "Regardons les premières lignes de ce fichier à l’aide d’une commande\n",
        "`shell` pour avoir bien en tête la structure d’un tel fichier."
      ],
      "id": "744c13c4-8dbb-48db-9053-3792045944e6"
    },
    {
      "cell_type": "code",
      "execution_count": null,
      "metadata": {},
      "outputs": [],
      "source": [
        "!head -n 5 departement2021.csv"
      ],
      "id": "580e2125"
    },
    {
      "cell_type": "markdown",
      "metadata": {},
      "source": [
        "Pour reprendre l’analogie avec un fichier issu d’un tableur, chaque\n",
        "ligne du fichier représente une ligne du tableur, et les cellules d’une\n",
        "ligne sont séparées par des virgules. La première ligne peut contenir un\n",
        "`header` (en-tête), c’est à dire le nom des colonnes, mais ce n’est pas\n",
        "toujours le cas.\n",
        "\n",
        "Les principaux avantages des fichiers CSV sont :\n",
        "\n",
        "-   leur **simplicité** : ils contiennent des données textuelles brutes,\n",
        "    donc très légères et qui peuvent être éditées facilement via\n",
        "    n’importe quel éditeur de texte ou langage de programmation\n",
        "\n",
        "-   leur **universalité** : ils sont très largement utilisés comme un\n",
        "    format standard d’échanges de données\n",
        "\n",
        "### Le module `csv`\n",
        "\n",
        "Les données contenues dans un CSV étant des données textuelles, on peut\n",
        "se demander pourquoi l’on a besoin d’un module particulier pour les\n",
        "manipuler, et pourquoi les outils que l’on a vus dans le tutoriel\n",
        "précédent ne seraient pas suffisants. La raison principale est que les\n",
        "fichiers CSV ont tout de même quelques subtilités et normes, souvent\n",
        "invisibles à l’utilisateur, mais très importantes en pratique. Par\n",
        "exemple : si l’on veut séparer les différentes données selon les\n",
        "virgules, que se passe-t-il si les données textuelles elles-même\n",
        "contiennent des virgules ?\n",
        "\n",
        "C’est pour cette raison qu’on utilise le **module `csv`** pour interagir\n",
        "avec ce type de fichiers, afin de capitaliser sur le fait que d’autres\n",
        "se sont posés toutes ces questions, et donc de ne pas avoir à réinventer\n",
        "la roue à chaque import de fichier CSV.\n",
        "\n",
        "Notons qu’en pratique, on a plutôt tendance à manipuler ce type de\n",
        "données sous la forme de DataFrames (comme en `R`), afin de tirer parti\n",
        "de leur **structure tabulaire**. On étudiera dans un prochain tutoriel\n",
        "le ***package* `Pandas`** qui permet précisément de faire cela en\n",
        "Python. Néanmoins, il est toujours utile de savoir bien manipuler les\n",
        "données d’un CSV comme des données textuelles, et donc de connaître le\n",
        "module `csv`.\n",
        "\n",
        "### Lecture"
      ],
      "id": "af26959b-827d-472c-9dc2-70f27cb5a274"
    },
    {
      "cell_type": "code",
      "execution_count": null,
      "metadata": {},
      "outputs": [],
      "source": [
        "import csv"
      ],
      "id": "af71533f"
    },
    {
      "cell_type": "markdown",
      "metadata": {},
      "source": [
        "La syntaxe permettant de lire et manipuler des fichiers CSV en Python\n",
        "est très proche de celle pour les fichiers texte simples. La seule\n",
        "différence est que l’on doit créer un objet `reader` à partir de l’objet\n",
        "fichier pour pouvoir itérer sur les lignes."
      ],
      "id": "eb778544-76f6-4361-83a6-c4b47a515373"
    },
    {
      "cell_type": "code",
      "execution_count": null,
      "metadata": {},
      "outputs": [],
      "source": [
        "rows = []\n",
        "\n",
        "with open(\"departement2021.csv\") as file_in:\n",
        "    csv_reader = csv.reader(file_in)\n",
        "    for row in csv_reader:\n",
        "        rows.append(row)\n",
        "\n",
        "rows[:4]"
      ],
      "id": "caf07cbe"
    },
    {
      "cell_type": "markdown",
      "metadata": {},
      "source": [
        "On retrouve bien la même syntaxe que pour les fichiers texte simples :\n",
        "une fois le `reader` créé, on peut itérer sur les lignes et réaliser des\n",
        "opérations avec celles-ci ; par exemple, les stocker dans une liste\n",
        "comme ci-dessus.\n",
        "\n",
        "Lorsqu’on a un fichier CSV avec des noms de colonne comme dans notre\n",
        "cas, il est intéressant de les utiliser pour manipuler la donnée nommée,\n",
        "plutôt que par position en utilisant une liste simple. On utilise pour\n",
        "cela un `DictReader` au lieu du `reader`. A présent, lorsqu’on itère sur\n",
        "l’objet `DictReader` créé, chaque ligne est un dictionnaire, donc la clé\n",
        "est le nom de la colonne et la valeur la donnée de la cellule.\n",
        "\n",
        "Pour illustrer son intérêt, affichons les noms des départements donc le\n",
        "numéro de département est compris entre 20 et 29."
      ],
      "id": "14351a0c-6c6a-41bf-98c1-019f8a5dd003"
    },
    {
      "cell_type": "code",
      "execution_count": null,
      "metadata": {},
      "outputs": [],
      "source": [
        "with open(\"departement2021.csv\") as file_in:\n",
        "    dict_reader = csv.DictReader(file_in)\n",
        "    for row in dict_reader:\n",
        "        if row[\"DEP\"].startswith(\"2\"):\n",
        "            print(row[\"LIBELLE\"])"
      ],
      "id": "a57f7186"
    },
    {
      "cell_type": "markdown",
      "metadata": {},
      "source": [
        "Le code est beaucoup plus lisible : on comprend facilement quelles\n",
        "données sont manipulées et de quelle manière.\n",
        "\n",
        "### Écriture\n",
        "\n",
        "La syntaxe pour l’écriture est là encore assez proche de celle pour les\n",
        "fichiers texte. La différence est que l’on traite des données en 2D\n",
        "(ligne x colonne), on ne peut donc plus passer seulement une chaîne de\n",
        "caractère à l’écriture, il faut **passer une liste d’éléments**."
      ],
      "id": "6f7d36dc-ffc1-4db0-83f7-25bcd8f2d4af"
    },
    {
      "cell_type": "code",
      "execution_count": null,
      "metadata": {},
      "outputs": [],
      "source": [
        "header = [\"nom\", \"classe\", \"age\"]\n",
        "row1 = [\"Maurice\", \"5èmeB\", 12]\n",
        "row2 = [\"Manuela\", \"6èmeA\", 11]\n",
        "\n",
        "with open(\"test.csv\", \"w\") as file_out:\n",
        "    csv_writer = csv.writer(file_out)\n",
        "    csv_writer.writerow(header)\n",
        "    csv_writer.writerow(row1)\n",
        "    csv_writer.writerow(row2)"
      ],
      "id": "81247965"
    },
    {
      "cell_type": "markdown",
      "metadata": {},
      "source": [
        "Vérifions que notre fichier CSV brut ressemble bien à ce que nous\n",
        "attendions."
      ],
      "id": "c81f1085-9050-438c-92e6-18cd6d1c9da2"
    },
    {
      "cell_type": "code",
      "execution_count": null,
      "metadata": {},
      "outputs": [],
      "source": [
        "# Commande shell pour afficher le contenu d'un fichier\n",
        "!cat test.csv"
      ],
      "id": "d19bba0a"
    },
    {
      "cell_type": "markdown",
      "metadata": {},
      "source": [
        "### Le *header*\n",
        "\n",
        "Comme dans un document de type tableur, la première ligne d’un fichier\n",
        "CSV contient généralement les **noms des variables** (colonnes). On\n",
        "appelle cette ligne le ***header***. Cette ligne n’est pas obligatoire\n",
        "en théorie, mais elle est quand même bien pratique pour comprendre\n",
        "rapidement la nature des données qui se trouvent dans un fichier CSV.\n",
        "C’est donc une bonne pratique d’inclure un *header* lorsqu’on génère un\n",
        "fichier CSV.\n",
        "\n",
        "Nous avons vu dans l’exemple précédent que l’écriture du *header* se\n",
        "faisait comme celle de n’importe quelle autre ligne de donnée. C’est\n",
        "lors de la lecture que les choses se compliquent, puisqu’il faut\n",
        "récupérer le *header* séparément des autres données si le fichier CSV en\n",
        "contient un. Utilisons le CSV généré à l’étape précédente pour illustrer\n",
        "cela."
      ],
      "id": "79863430-ca4b-4132-887c-d7b538bc564e"
    },
    {
      "cell_type": "code",
      "execution_count": null,
      "metadata": {},
      "outputs": [],
      "source": [
        "data = []\n",
        "with open(\"test.csv\", \"r\") as file_in:\n",
        "    csv_reader = csv.reader(file_in)\n",
        "    header = next(csv_reader)\n",
        "    for row in csv_reader:\n",
        "        data.append(row)"
      ],
      "id": "2b1fde8a"
    },
    {
      "cell_type": "code",
      "execution_count": null,
      "metadata": {},
      "outputs": [],
      "source": [
        "print(header)"
      ],
      "id": "acae611e"
    },
    {
      "cell_type": "code",
      "execution_count": null,
      "metadata": {},
      "outputs": [],
      "source": [
        "print(data)"
      ],
      "id": "481ff4e0"
    },
    {
      "cell_type": "markdown",
      "metadata": {},
      "source": [
        "Pour récupérer le *header*, on utilise la fonction `next`. C’est une\n",
        "fonction *built-in* qui va appeler la méthode `__next__` de l’objet\n",
        "`reader`, qui permet d’itérer d’un pas sur le `reader`. Le premier appel\n",
        "à la fonction `next` renvoie donc la première ligne du document. Si un\n",
        "*header* est présent dans le fichier (ce dont il faut s’assurer),\n",
        "l’élément renvoyé est le *header*. On récupère ensuite classiquement le\n",
        "reste des données via une boucle sur l’objet `reader`, que l’on stocke\n",
        "dans une liste de listes (une liste par ligne).\n",
        "\n",
        "### Importance du délimiteur\n",
        "\n",
        "Le **délimiteur** correspond au caractère qui est utilisé pour délimiter\n",
        "les valeurs successives d’une ligne dans un fichier CSV.\n",
        "\n",
        "Le standard CSV utilise — comme son nom l’indique — la virgule comme\n",
        "délimiteur, mais cela est modifiable, et **il n’est pas rare de tomber\n",
        "sur des fichiers CSV qui ont un autre délimiteur**. Il faut dans ce cas\n",
        "aller regarder directement dans le texte brut quel est le délimiteur\n",
        "utilisé. On trouve par exemple souvent une délimitation par des `tabs`\n",
        "(le caractère est `\\t`), i.e. un nombre d’espaces donné, auquel cas le\n",
        "fichier peut avoir pour extension `.tsv` pour *tab-separated value*. Il\n",
        "faut alors spécifier le délimiteur avec le paramètre `delimiter`\n",
        "lorsqu’on crée le `reader`.\n",
        "\n",
        "En pratique, comme pour l’encodage d’un fichier texte, **il y a peu de\n",
        "raison valable pour changer de délimiteur**. Même si des virgules\n",
        "apparaissent dans des valeurs du fichier — par exemple, dans une adresse\n",
        "— ces valeurs sont alors entourées par des guillemets, ce qui permet à\n",
        "la séparation des valeurs de se faire correctement dans la grande\n",
        "majorité des cas.\n",
        "\n",
        "## Manipuler des fichiers JSON\n",
        "\n",
        "### Les fichiers JSON\n",
        "\n",
        "Le JSON (*JavaScript Object Notation*) est un format de fichier très\n",
        "populaire pour écrire et échanger de la donnée sous la forme d’une\n",
        "chaîne de caractères unique et lisible par l’humain (*human-readable*) —\n",
        "du moins en théorie.\n",
        "\n",
        "Comme son nom le suggère, le JSON est lié au langage *JavaScript* dans\n",
        "la mesure où il constitue un dérivé de la notation des objets dans ce\n",
        "langage. Le format est cependant désormais indépendant de tout langage\n",
        "de programmation, mais est très fréquemment utilisé dans différents\n",
        "langages.\n",
        "\n",
        "Le format JSON est particulièrement important pour les statisticiens et\n",
        "data scientists car il constitue le **format quasi-standard de réponse\n",
        "des [API](https://fr.wikipedia.org/wiki/Interface_de_programmation)**.\n",
        "Le dialogue avec les API va au delà du programme de ce cours\n",
        "d’introduction. Cependant, les API tendant à se généraliser comme mode\n",
        "de communication standard pour l’échange de données, il est important de\n",
        "maîtriser les bases du format JSON afin de manipuler les réponses des\n",
        "API lorsqu’on doit interagir avec celles-ci.\n",
        "\n",
        "Le JSON stockant les objets sous forme de **paires clé-valeur** et où\n",
        "les valeurs peuvent être des ***arrays*** — un concept assez large en\n",
        "informatique qui inclut notamment les listes que nous connaissons — il\n",
        "ressemble fortement aux dictionnaires Python. Il constitue ainsi un\n",
        "format de fichier assez naturel pour ***sérialiser*** ces derniers,\n",
        "c’est à dire passer d’une structure de données en mémoire (ici, un\n",
        "dictionnaire) à une séquence d’octets qui peut être universellement lue\n",
        "par tout ordinateur. Regardons à titre d’exemple la représentation JSON\n",
        "d’un dictionnaire Python."
      ],
      "id": "753d9a60-7623-4f61-bf76-f9fea261e143"
    },
    {
      "cell_type": "code",
      "execution_count": null,
      "metadata": {},
      "outputs": [],
      "source": [
        "cv = {\n",
        "    \"marc\": {\"poste\": \"manager\", \"experience\": 7, \"hobbies\": [\"couture\", \"frisbee\"]},\n",
        "    \"miranda\": {\"poste\": \"ingénieure\", \"experience\": 5, \"hobbies\": [\"trekking\"]}\n",
        "}\n",
        "\n",
        "print(cv)"
      ],
      "id": "9d2c22a5"
    },
    {
      "cell_type": "code",
      "execution_count": null,
      "metadata": {},
      "outputs": [],
      "source": [
        "import json\n",
        "\n",
        "print(json.dumps(cv))"
      ],
      "id": "18a825ec"
    },
    {
      "cell_type": "markdown",
      "metadata": {},
      "source": [
        "On le voit : la représentation JSON est assez proche de celle du\n",
        "dictionnaire Python, avec **quelques particularités**. Dans ce cas par\n",
        "exemple, les caractères spéciaux comme les accents sont automatiquement\n",
        "encodés en *Unicode*.\n",
        "\n",
        "### Le module `json`\n",
        "\n",
        "Le module `json` gère l’import de fichiers JSON et l’export d’objets\n",
        "Python au format JSON. Il s’occupe notamment de gérer les contraintes de\n",
        "conversion en JSON évoquées précédemment, comme celle des accents.\n",
        "\n",
        "En particulier, **le JSON peut stocker la majorité des types d’objets\n",
        "*built-in* de Python** que nous avons vus jusqu’à présent (*strings*,\n",
        "valeurs numériques, Booléens, listes, dictionnaires, `NoneType`) et bien\n",
        "d’autres, mais il ne peut pas représenter des objets Python créés\n",
        "manuellement via des classes par exemple.\n",
        "\n",
        "### Écriture\n",
        "\n",
        "Commençons cette fois par l’écriture. Comme nous l’avons vu dans\n",
        "l’exemple précédent, la fonction `dumps` (pour *dump string*) convertit\n",
        "une valeur Python **sérialisable** en sa représentation JSON sous forme\n",
        "de chaîne de caractères."
      ],
      "id": "88b34eb9-4a60-4a8d-9945-0ff473bf5c46"
    },
    {
      "cell_type": "code",
      "execution_count": null,
      "metadata": {},
      "outputs": [],
      "source": [
        "x = \"test\"\n",
        "json.dumps(x)"
      ],
      "id": "a47326c5"
    },
    {
      "cell_type": "code",
      "execution_count": null,
      "metadata": {},
      "outputs": [],
      "source": [
        "x = [1, 2, 3]\n",
        "json.dumps(x)"
      ],
      "id": "ec2ac60a"
    },
    {
      "cell_type": "markdown",
      "metadata": {},
      "source": [
        "Ecrire un fichier JSON à partir de Python revient simplement à écrire\n",
        "cette représentation dans un fichier texte, auquel on donnera\n",
        "l’extension `.json` pour bien marquer qu’il s’agit d’un fichier texte\n",
        "particulier. Comme cette opération est très fréquente, il existe une\n",
        "fonction très proche, `dump`, qui effectue à la fois la conversion et\n",
        "l’écriture."
      ],
      "id": "bceadfde-673d-413d-b36f-5cd7268ce7dc"
    },
    {
      "cell_type": "code",
      "execution_count": null,
      "metadata": {},
      "outputs": [],
      "source": [
        "with open(\"cv.json\", \"w\") as file_out:\n",
        "    json.dump(cv, file_out)"
      ],
      "id": "1ec69e8a"
    },
    {
      "cell_type": "code",
      "execution_count": null,
      "metadata": {},
      "outputs": [],
      "source": [
        "!cat cv.json"
      ],
      "id": "bc5d641a"
    },
    {
      "cell_type": "markdown",
      "metadata": {},
      "source": [
        "En une seule opération, on a sérialisé un dictionnaire Python (l’objet\n",
        "`cv`) dans un fichier JSON.\n",
        "\n",
        "### Lecture\n",
        "\n",
        "Le module `json` propose les fonctions `load` et `loads`, qui réalisent\n",
        "respectivement les opérations opposées des fonctions `dump` et `dumps` :\n",
        "\n",
        "-   la fonction `load` permet d’importer du contenu JSON présent dans un\n",
        "    fichier texte et de le convertir en un dictionnaire\n",
        "\n",
        "-   la fonction `loads` permet de convertir du contenu JSON présent dans\n",
        "    une chaîne de caractères en un dictionnaire\n",
        "\n",
        "Reprenons le CV que nous avons sérialisé précédemment au format JSON\n",
        "pour illustrer la lecture à partir d’un fichier."
      ],
      "id": "095da7f0-fde8-409e-8d5c-0fb4da4aa881"
    },
    {
      "cell_type": "code",
      "execution_count": null,
      "metadata": {},
      "outputs": [],
      "source": [
        "with open(\"cv.json\", \"r\") as file_in:\n",
        "    data = json.load(file_in)\n",
        "    \n",
        "data"
      ],
      "id": "46f7d347"
    },
    {
      "cell_type": "markdown",
      "metadata": {},
      "source": [
        "Nous allons illustrer la lecture de contenu JSON à partir d’une chaîne\n",
        "de caractères à partir d’un exemple réaliste : celui du requêtage d’une\n",
        "API. Pour l’exemple, nous allons requêter la Base Adresse Nationale\n",
        "(BAN), qui permet de géolocaliser n’importe quelle adresse nationale.\n",
        "\n",
        "Le requêtage d’API en Python se fait très simplement grâce à la\n",
        "librairie `requests`. Regardons par exemple comment l’on peut récupérer\n",
        "en seulement deux lignes de code les informations géographiques sur\n",
        "toutes les voies qui contiennent le nom “comédie” en France."
      ],
      "id": "85024c4c-1abf-4058-86b9-077df77e3acc"
    },
    {
      "cell_type": "code",
      "execution_count": null,
      "metadata": {},
      "outputs": [],
      "source": [
        "import requests"
      ],
      "id": "49e3f7ec"
    },
    {
      "cell_type": "code",
      "execution_count": null,
      "metadata": {},
      "outputs": [],
      "source": [
        "response = requests.get(\"https://api-adresse.data.gouv.fr/search/?q=comedie&type=street\")\n",
        "r_text = response.text\n",
        "print(r_text[:150])"
      ],
      "id": "898b2650"
    },
    {
      "cell_type": "markdown",
      "metadata": {},
      "source": [
        "L’API nous renvoie une réponse, dont on extrait le contenu textuel.\n",
        "Comme pour la très grande majorité des API, ce contenu est du JSON. On\n",
        "peut alors l’importer dans un dictionnaire Python via la fonction\n",
        "`loads` (pour *load string*) pour pouvoir manipuler la donnée qu’il\n",
        "contient."
      ],
      "id": "5b4028c5-e123-4254-94d4-8856760edd40"
    },
    {
      "cell_type": "code",
      "execution_count": null,
      "metadata": {},
      "outputs": [],
      "source": [
        "r_dict = json.loads(r_text)"
      ],
      "id": "466e30b5"
    },
    {
      "cell_type": "code",
      "execution_count": null,
      "metadata": {},
      "outputs": [],
      "source": [
        "r_dict.keys()"
      ],
      "id": "46b9397d"
    },
    {
      "cell_type": "code",
      "execution_count": null,
      "metadata": {},
      "outputs": [],
      "source": [
        "type(r_dict[\"features\"])"
      ],
      "id": "cb3465ca"
    },
    {
      "cell_type": "markdown",
      "metadata": {},
      "source": [
        "Les résultats qui nous intéressent sont contenues dans la valeur du\n",
        "dictionnaire associée à la clé `features`, qui est une liste de\n",
        "dictionnaires, un par résultat."
      ],
      "id": "0d6527e8-d759-46c8-a98f-71e7bcef80b1"
    },
    {
      "cell_type": "code",
      "execution_count": null,
      "metadata": {},
      "outputs": [],
      "source": [
        "r_dict[\"features\"][0]"
      ],
      "id": "7deb9b58"
    },
    {
      "cell_type": "code",
      "execution_count": null,
      "metadata": {},
      "outputs": [],
      "source": [
        "r_dict[\"features\"][1]"
      ],
      "id": "b286362d"
    },
    {
      "cell_type": "markdown",
      "metadata": {},
      "source": [
        "## Exercices\n",
        "\n",
        "### Questions de compréhension\n",
        "\n",
        "-   1/ Qu’est ce qu’un fichier CSV ?\n",
        "\n",
        "-   2/ Quel sont les avantages du format CSV ?\n",
        "\n",
        "-   3/ Pourquoi utilise-t-on le module `csv` pour lire et écrire des\n",
        "    fichiers CSV ?\n",
        "\n",
        "-   4/ Les données d’un fichier CSV sont-elles forcément séparées par\n",
        "    des virgules ?\n",
        "\n",
        "-   5/ Qu’est-ce que le *header* d’un fichier CSV ? Existe-t-il\n",
        "    nécessairement ?\n",
        "\n",
        "-   6/ Pourquoi le format JSON est très utilisé dans la manipulation de\n",
        "    données ?\n",
        "\n",
        "-   7/ A quel objet Python ressemble du contenu au format JSON ?\n",
        "\n",
        "-   8/ Quels types d’objets Python peuvent être convertis en JSON ?\n",
        "\n",
        "-   9/ Qu’est ce que la sérialisation d’un objet Python ?\n",
        "\n",
        "-   10/ Quel est le principal point commun entre les fichiers CSV et les\n",
        "    fichiers JSON ?\n",
        "\n",
        "-   11/ Un fichier dont l’extension est .json contient-il nécessairement\n",
        "    du JSON ?"
      ],
      "id": "d3971911-d844-44d0-bebd-72e9a1a034cf"
    },
    {
      "cell_type": "markdown",
      "metadata": {},
      "source": [
        "<details>\n",
        "\n",
        "<summary>\n",
        "\n",
        "Afficher la solution\n",
        "\n",
        "</summary>\n",
        "\n",
        "-   1/ Un CSV est un fichier texte qui représente l’information brute\n",
        "    d’un document type tableur. Chaque ligne du fichier représente une\n",
        "    ligne du tableur, et les cellules d’une ligne sont séparées par des\n",
        "    virgules. La première ligne peut contenir un `header` (en-tête),\n",
        "    c’est à dire le nom des colonnes, mais ce n’est pas toujours le cas.\n",
        "\n",
        "-   2/ Simplicité de lecture et d’édition, universalité.\n",
        "\n",
        "-   3/ Même si le format CSV est très simple, il présente certaines\n",
        "    caractéristiques (délimiteur, caractère de fin de ligne, etc.) dont\n",
        "    il faut tenir compte lorsqu’on lit ou édite du CSV. Le module csv\n",
        "    fournit des fonctions qui tiennent compte de ces particularités.\n",
        "\n",
        "-   4/ Non, on peut en théorie séparer les données par n’importe quel\n",
        "    caractère ou suite de caractères. En pratique, il faut suivre la\n",
        "    convention dans la majorité des cas, qui est d’utiliser une virgule.\n",
        "\n",
        "-   5/ C’est la première ligne du fichier CSV, qui contient normalement\n",
        "    les noms de variables, mais ce n’est pas toujours le cas.\n",
        "\n",
        "-   6/ C’est le format majoritaire de réponse des API, qui sont très\n",
        "    utilisées pour la diffusion et l’échange de données.\n",
        "\n",
        "-   7/ Aux dictionnaires.\n",
        "\n",
        "-   8/ Tous les objets dits sérialisables, ce qui inclut la plupart des\n",
        "    objets de base que l’on a vus, mais pas les objets créés\n",
        "    manuellement via des classes.\n",
        "\n",
        "-   9/ La sérialisation d’un objet Python (sérialisable) consiste à\n",
        "    convertir la donnée contenue dans cet objet en une séquence\n",
        "    d’octets, c’est à dire en un message qui peut être compris par\n",
        "    n’importe quel ordinateur.\n",
        "\n",
        "-   10/ Ce sont des fichiers texte.\n",
        "\n",
        "-   11/ Non, les fichiers JSON comme les fichiers CSV sont des fichiers\n",
        "    texte. L’extension est une convention qui permet dans la grande\n",
        "    majorité des cas de savoir ce que contient le fichier, mais elle ne\n",
        "    peut pas le garantir.\n",
        "\n",
        "</details>"
      ],
      "id": "445eab17-9e69-4561-a69e-6b31f88f7e52"
    },
    {
      "cell_type": "markdown",
      "metadata": {},
      "source": [
        "### Trier les clés lors de l’écriture d’un JSON\n",
        "\n",
        "La cellule suivante contient un dictionnaire. Le but de l’exercice est\n",
        "d’écrire ces données dans un fichier JSON, en triant les clés du\n",
        "dictionnaire par ordre alphabétique.\n",
        "\n",
        "Indice : la fonction `dump` du module `json` contient un paramètre\n",
        "permettant de trier les clés. Lisez la [documentation de la\n",
        "fonction](https://docs.python.org/fr/3/library/json.html#json.dump) pour\n",
        "le déterminer."
      ],
      "id": "425fde7d-2078-4b4d-a229-c45277591a5b"
    },
    {
      "cell_type": "code",
      "execution_count": null,
      "metadata": {},
      "outputs": [],
      "source": [
        "data = {\"id\": 1, \"nom\": \"Isidore\", \"age\": 29}"
      ],
      "id": "2c0e177e"
    },
    {
      "cell_type": "code",
      "execution_count": null,
      "metadata": {},
      "outputs": [],
      "source": [
        "# Testez votre réponse dans cette cellule"
      ],
      "id": "53d36ecc"
    },
    {
      "cell_type": "markdown",
      "metadata": {},
      "source": [
        "<details>\n",
        "\n",
        "<summary>\n",
        "\n",
        "Afficher la solution\n",
        "\n",
        "</summary>\n",
        "\n",
        "``` python\n",
        "import json\n",
        "\n",
        "data = {\"id\": 1, \"nom\": \"Isidore\", \"age\": 29}\n",
        "\n",
        "with open(\"data_sorted.json\", \"w\") as file_out:\n",
        "    json.dump(data, file_out, sort_keys=True)\n",
        "```\n",
        "\n",
        "</details>"
      ],
      "id": "2a3c8136-0814-4237-9ee8-04de2215ceae"
    },
    {
      "cell_type": "markdown",
      "metadata": {},
      "source": [
        "### Convertir un objet non-sérialisable en JSON\n",
        "\n",
        "Nous avons vu que les objets que l’on crée manuellement via des classes\n",
        "ne sont généralement pas sérialisables. La cellule suivante en montre un\n",
        "exemple avec notre objet `Citron` utilisé dans le tutoriel sur la POO.\n",
        "Essayer de convertir directement l’objet en JSON renvoie une erreur.\n",
        "\n",
        "Vous devez modifier le code suivant afin de pouvoir sérialiser l’objet.\n",
        "Pour cela, vous devez :\n",
        "\n",
        "-   convertir l’instance `mon_citron` en utilisant la méthode *built-in*\n",
        "    `__dict__` que possèdent tous les objets Python\n",
        "\n",
        "-   convertir le dictionnaire obtenu en JSON sous forme de chaîne de\n",
        "    caractères"
      ],
      "id": "eab5bd1c-2edd-452f-b4ba-ff7d1cf16c79"
    },
    {
      "cell_type": "code",
      "execution_count": null,
      "metadata": {},
      "outputs": [],
      "source": [
        "import json\n",
        "\n",
        "class Citron:\n",
        "\n",
        "    def __init__(self, couleur, qte_jus):\n",
        "        self.saveur = \"acide\"\n",
        "        self.couleur = couleur\n",
        "        self.jus = qte_jus\n",
        "        \n",
        "mon_citron = Citron(couleur=\"jaune\", qte_jus=45)\n",
        "json.dumps(mon_citron)"
      ],
      "id": "3677e7ca"
    },
    {
      "cell_type": "code",
      "execution_count": null,
      "metadata": {},
      "outputs": [],
      "source": [
        "# Testez votre réponse dans cette cellule"
      ],
      "id": "d4edf317"
    },
    {
      "cell_type": "markdown",
      "metadata": {},
      "source": [
        "<details>\n",
        "\n",
        "<summary>\n",
        "\n",
        "Afficher la solution\n",
        "\n",
        "</summary>\n",
        "\n",
        "``` python\n",
        "import json\n",
        "\n",
        "class Citron:\n",
        "\n",
        "    def __init__(self, couleur, qte_jus):\n",
        "        self.saveur = \"acide\"\n",
        "        self.couleur = couleur\n",
        "        self.jus = qte_jus\n",
        "        \n",
        "mon_citron = Citron(couleur=\"jaune\", qte_jus=45)\n",
        "mon_citron_dict = mon_citron.__dict__\n",
        "\n",
        "json.dumps(mon_citron_dict)\n",
        "```\n",
        "\n",
        "</details>"
      ],
      "id": "4a70570e-2542-4e03-8b13-906cc97c0361"
    },
    {
      "cell_type": "markdown",
      "metadata": {},
      "source": [
        "### Changer le délimiteur d’un fichier CSV\n",
        "\n",
        "Votre répertoire courant contient le fichier `nat2020.csv`. Il s’agit du\n",
        "fichier des prénoms diffusé par l’Insee : il contient des données sur\n",
        "les prénoms attribués aux enfants nés en France entre 1900 et 2020.\n",
        "\n",
        "Problème : contrairement au standard CSV, le délimiteur utilisé n’est\n",
        "pas la virgule. Vous devez donc :\n",
        "\n",
        "-   trouver le séparateur utilisé (via l’éditeur de texte Jupyter, via\n",
        "    une commande shell, en testant avec le module `csv` en Python..)\n",
        "    pour lire correctement le fichier\n",
        "\n",
        "-   générer un nouveau fichier CSV `nat2020_corr.csv` contenant les\n",
        "    mêmes données, mais cette fois avec la virgule comme séparateur."
      ],
      "id": "64edf73f-87d9-4c02-9b61-57aa08b51dc0"
    },
    {
      "cell_type": "code",
      "execution_count": null,
      "metadata": {},
      "outputs": [],
      "source": [
        "# Testez votre réponse dans cette cellule"
      ],
      "id": "7e535466"
    },
    {
      "cell_type": "markdown",
      "metadata": {},
      "source": [
        "<details>\n",
        "\n",
        "<summary>\n",
        "\n",
        "Afficher la solution\n",
        "\n",
        "</summary>\n",
        "\n",
        "``` python\n",
        "# Trouvons à l'aide d'une commande shell le séparateur utilisé\n",
        "!head -n 3 nat2020.csv\n",
        "\n",
        "with open('nat2020.csv', 'r') as file_in:\n",
        "    # Lecture du fichier CSV existant\n",
        "    reader = csv.reader(file_in, delimiter=';')\n",
        "    with open('nat2020_corr.csv', 'w') as file_out:\n",
        "        # Ecriture dans le nouveau fichier CSV\n",
        "        writer = csv.writer(file_out)  # Par défaut, le délimiteur est la virgule\n",
        "        for row in reader:\n",
        "            writer.writerow(row)\n",
        "            \n",
        "# Vérification à l'aide d'une commande shell\n",
        "!head -n 3 nat2020_corr.csv\n",
        "```\n",
        "\n",
        "</details>"
      ],
      "id": "2f45d782-1063-4c5e-9278-dfce976f2a49"
    },
    {
      "cell_type": "markdown",
      "metadata": {},
      "source": [
        "### Extraire et sauvegarder des données issues d’une API\n",
        "\n",
        "L’exercice consiste à effectuer une requête à l’API de la Base Adresse\n",
        "Nationale, et sauvegarder les résultats dans un fichier CSV. Voici les\n",
        "étapes à implémenter :\n",
        "\n",
        "-   effectuer une requête de nom de rue avec un mot clé comme dans le\n",
        "    tutoriel (si vous souhaitez faire une requête plus complexe, vous\n",
        "    pouvez regarder la [documentation de\n",
        "    l’API](https://adresse.data.gouv.fr/api-doc/adresse)) et stocker les\n",
        "    résultats dans un dictionnaire\n",
        "\n",
        "-   créer un fichier CSV `resultats_ban.csv` dans lequel on va stocker\n",
        "    les informations suivantes : ‘nom’, ‘ville’, ‘code_commune’,\n",
        "    ‘longitude’, ‘latitude’\n",
        "\n",
        "-   à l’aide d’un objet `writer` et d’une boucle sur les résultats\n",
        "    renvoyés par l’API, écrivez chaque ligne dans le CSV\n",
        "\n",
        "Par exemple, pour la requête de voie contenant le mot “comedie”, voici\n",
        "le CSV à obtenir :\n",
        "\n",
        "    nom,ville,code_commune,longitude,latitude\n",
        "    Rue de la Vieille Comedie,Lille,59350,3.063832,50.635192\n",
        "    Place de la Comédie,Montpellier,34172,3.879638,43.608525\n",
        "    Rue de la Comédie,Cherbourg-en-Cotentin,50129,-1.629732,49.641574\n",
        "    Allee de la Comedie,Villeneuve-d'Ascq,59009,3.162808,50.64628\n",
        "    Rue de l’Ancienne Comedie,Poitiers,86194,0.342649,46.580457"
      ],
      "id": "32461e85-43f5-4d6a-80cd-e10183d0d552"
    },
    {
      "cell_type": "code",
      "execution_count": null,
      "metadata": {},
      "outputs": [],
      "source": [
        "# Testez votre réponse dans cette cellule"
      ],
      "id": "ec73cdfe"
    },
    {
      "cell_type": "markdown",
      "metadata": {},
      "source": [
        "<details>\n",
        "\n",
        "<summary>\n",
        "\n",
        "Afficher la solution\n",
        "\n",
        "</summary>\n",
        "\n",
        "``` python\n",
        "response = requests.get(\"https://api-adresse.data.gouv.fr/search/?q=comedie&type=street\")\n",
        "r_text = response.text\n",
        "r_dict = json.loads(r_text)\n",
        "\n",
        "with open('resultats_ban.csv', 'w') as file_out:\n",
        "    header = ['nom', 'ville', 'code_commune', 'longitude', 'latitude']\n",
        "    csv_writer = csv.writer(file_out)\n",
        "    csv_writer.writerow(header)\n",
        "    for result in r_dict['features']:\n",
        "        nom = result['properties']['name']\n",
        "        commune = result['properties']['city']\n",
        "        code_commune = result['properties']['citycode']\n",
        "        long, lat = result['geometry']['coordinates']\n",
        "        row = [nom, commune, code_commune, long, lat]\n",
        "        csv_writer.writerow(row)\n",
        "```\n",
        "\n",
        "</details>"
      ],
      "id": "adfe7148-7d1a-47a1-947a-97b3ff70ec11"
    },
    {
      "cell_type": "markdown",
      "metadata": {},
      "source": [
        "### Découper la base des départements par régions\n",
        "\n",
        "L’objectif de cet exercice est de découper le fichier CSV des\n",
        "départements que nous avons utilisé dans le tutoriel en plusieurs petits\n",
        "CSV, un par région. Ce type d’opération peut être utile par exemple\n",
        "lorsqu’on travaille avec un fichier de très grande taille, qui ne passe\n",
        "pas en mémoire ; le découper en plusieurs fichiers que l’on traite\n",
        "indépendamment, lorsque cela est possible, permet de réduire la\n",
        "volumétrie.\n",
        "\n",
        "Voici la liste des opérations à effectuer :\n",
        "\n",
        "-   créer un dossier `dep` dans le répertoire courant à l’aide du module\n",
        "    `pathlib` (cf. tutoriel précédent)\n",
        "\n",
        "-   avec un objet `reader` du module `csv`, faire une boucle sur les\n",
        "    lignes du fichier CSV des départements. Attention à ne pas inclure\n",
        "    le *header*, en utilisant la fonction `next` pour passer la première\n",
        "    ligne. Pour chaque ligne suivante :\n",
        "\n",
        "    -   récupérer le code région (variable `REG`)\n",
        "\n",
        "    -   générer le chemin du fichier CSV `dep/{REG}.csv` où {REG} est à\n",
        "        remplacer par le code région de la ligne\n",
        "\n",
        "    -   ouvrir ce fichier CSV en mode `append` pour écrire la ligne à la\n",
        "        fin du fichier"
      ],
      "id": "84b67f8d-313e-40ae-b51d-1f7790759bdb"
    },
    {
      "cell_type": "code",
      "execution_count": null,
      "metadata": {},
      "outputs": [],
      "source": [
        "# Testez votre réponse dans cette cellule"
      ],
      "id": "f692c7e0"
    },
    {
      "cell_type": "markdown",
      "metadata": {},
      "source": [
        "<details>\n",
        "\n",
        "<summary>\n",
        "\n",
        "Afficher la solution\n",
        "\n",
        "</summary>\n",
        "\n",
        "``` python\n",
        "from pathlib import Path\n",
        "\n",
        "path_dep = Path(\"dep/\")\n",
        "path_dep.mkdir(exist_ok=True)\n",
        "\n",
        "with open('departement2021.csv', 'r') as file_in:\n",
        "    csv_reader = csv.reader(file_in)\n",
        "    next(csv_reader)  # Passe le header\n",
        "    for row in csv_reader:\n",
        "        reg = row[1]\n",
        "        filename = reg + '.csv'\n",
        "        path_reg_file = path_dep / filename  # Chemin du fichier csv region\n",
        "        with open(path_reg_file, 'a') as file_reg_in:\n",
        "                writer = csv.writer(file_reg_in)\n",
        "                writer.writerow(row)\n",
        "```\n",
        "\n",
        "</details>"
      ],
      "id": "1fb76165-3553-4c58-837f-371445ad18fb"
    },
    {
      "cell_type": "markdown",
      "metadata": {},
      "source": [
        "### Rajouter des *headers* manquants\n",
        "\n",
        "Dans l’exercice précédent, nous avons découpé le fichier CSV des\n",
        "départements français en plusieurs fichiers CSV, un par région. Mais\n",
        "nous n’avons pas inclus dans les différents fichiers le *header*,\n",
        "i.e. la première ligne qui contient les noms de colonnes. On va donc\n",
        "l’ajouter manuellement à chacun des fichiers CSV créés lors de\n",
        "l’exercice précédent.\n",
        "\n",
        "Voici la liste des opérations à effectuer :\n",
        "\n",
        "-   lire le fichier des départements complet et récupérer le `header`\n",
        "    dans une liste avec la fonction `next`\n",
        "\n",
        "-   enregistrer dans une liste les chemins des différents fichiers CSV\n",
        "    contenus dans le dossier `dep` avec la méthode `glob` de `pathlib`\n",
        "    (cf. tutoriel précédent)\n",
        "\n",
        "-   pour chaque chemin :\n",
        "\n",
        "    -   ouvrir le fichier CSV déjà existant, et récupérer les données\n",
        "        sous forme d’une liste de listes (une liste par ligne)\n",
        "\n",
        "    -   ouvrir le fichier CSV en écriture pour le réinitialiser, écrire\n",
        "        le header en premier lieu, puis écrire les données que l’on a au\n",
        "        préalable sauvegardées dans une liste de liste"
      ],
      "id": "891f79ae-9ab9-43b3-950d-06dd241fff05"
    },
    {
      "cell_type": "code",
      "execution_count": null,
      "metadata": {},
      "outputs": [],
      "source": [
        "# Testez votre réponse dans cette cellule"
      ],
      "id": "560743ef"
    },
    {
      "cell_type": "markdown",
      "metadata": {},
      "source": [
        "<details>\n",
        "\n",
        "<summary>\n",
        "\n",
        "Afficher la solution\n",
        "\n",
        "</summary>\n",
        "\n",
        "``` python\n",
        "from pathlib import Path\n",
        "\n",
        "with open('departement2021.csv', 'r') as file_in:\n",
        "    csv_reader = csv.reader(file_in)\n",
        "    header = next(csv_reader)\n",
        "\n",
        "dep_files_paths = list(Path(\"dep/\").glob('*.csv'))\n",
        "\n",
        "for path in dep_files_paths:\n",
        "    # Lecture du fichier existant, dont on stocke les lignes dans une liste\n",
        "    with open(path, 'r') as file_dep_in:\n",
        "        reader = csv.reader(file_dep_in)\n",
        "        dep_rows = []\n",
        "        for row in reader:\n",
        "            dep_rows.append(row)\n",
        "    # On réécrit le fichier de sortie, en rajoutant au préalable le header\n",
        "    with open(path, 'w') as file_dep_out:\n",
        "        writer = csv.writer(file_dep_out)\n",
        "        writer.writerow(header)\n",
        "        for row in dep_rows:\n",
        "            writer.writerow(row)\n",
        "```\n",
        "\n",
        "</details>"
      ],
      "id": "ed1314dc-5ded-43b8-932d-ac1fd88ec13f"
    }
  ],
  "nbformat": 4,
  "nbformat_minor": 5,
  "metadata": {
    "kernelspec": {
      "name": "python3",
      "display_name": "Python 3 (ipykernel)",
      "language": "python",
      "path": "/Users/gblin/opt/anaconda3/share/jupyter/kernels/python3"
    }
  }
}
