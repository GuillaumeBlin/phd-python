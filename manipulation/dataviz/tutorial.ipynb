{
  "cells": [
    {
      "cell_type": "markdown",
      "metadata": {},
      "source": [
        "# Introduction à la visualisation de données\n",
        "\n",
        "La visualisation de données (ou *dataviz*) est un outil indispensable\n",
        "pour faciliter la compréhension des données et mettre en lumière des\n",
        "phénomènes à partir de celles-ci, ainsi que pour favoriser une\n",
        "communication efficace des résultats des analyses. C’est néanmoins un\n",
        "domaine qui dépasse largement la seule compétence technique : les\n",
        "meilleures visualisations sont celles qui sont adaptées à la donnée\n",
        "qu’elles représentent, et qui parviennent à raconter une histoire à\n",
        "partir de celles-ci (*data storytelling*). Ce tutoriel ne vise donc pas\n",
        "à présenter en détails le sujet, mais propose une introduction aux\n",
        "principaux outils existants en `Python` pour produire des visualisations\n",
        "de données.\n",
        "\n",
        "Nous commencerons notre exploration par les graphiques intégrés dans\n",
        "`Pandas`, très simples et donc parfaits pour une analyse rapide des\n",
        "données. Puis, nous découvrirons `Seaborn`, une librairie qui permet de\n",
        "créer des visualisations attrayantes en très peu de lignes de code. Ces\n",
        "deux librairies sont basées sur `Matplotlib`, la très complète librairie\n",
        "de référence pour la visualisation en `Python`, qui permet des niveaux\n",
        "de personnalisation très avancés mais dont l’utilisation s’avère plus\n",
        "complexe, et ne sera donc pas directement abordée dans ce TP.\n",
        "\n",
        "## Pandas\n",
        "\n",
        "Comme nous l’avons vu dans le TP consacré, la librairie Pandas offre des\n",
        "outils nombreux et puissants pour manipuler les données tabulaires. Mais\n",
        "il est également équipé d’outils intégrés pour les visualiser. En\n",
        "particulier, la méthode `.plot()` permet de produire simplement des\n",
        "visualisations rapides des données analysées.\n",
        "\n",
        "### La méthode `.plot()`\n",
        "\n",
        "La méthode\n",
        "[.plot()](https://pandas.pydata.org/docs/reference/api/pandas.DataFrame.plot.html),\n",
        "intégrée aux Series et aux DataFrames, simplifie le processus de\n",
        "création de graphiques en permettant de générer des visualisations\n",
        "standards avec une ligne de code, directement à partir de la structure\n",
        "de donnée. En coulisse, `.plot()` fait appel à Matplotlib pour le rendu\n",
        "graphique, ce qui signifie que tout graphique généré par Pandas peut\n",
        "être personnalisé davantage avec les fonctions de Matplotlib. Cette\n",
        "intégration offre un équilibre entre la commodité pour des tâches de\n",
        "visualisation rapides et la puissance de Matplotlib pour des besoins de\n",
        "personnalisation plus poussés, faisant de `.plot()` le point de départ\n",
        "idéal pour la visualisation de données en Python.\n",
        "\n",
        "### Exemples de graphiques\n",
        "\n",
        "Même si la méthode `.plot()` permet de produire simplement et rapidement\n",
        "des graphiques, les possibilités sont très nombreuses et dépendent des\n",
        "données en entrée. Dans cette section, nous proposons quelques exemples\n",
        "standards pour comprendre le fonctionnement de la méthode. Pour\n",
        "découvrir plus de possibilités, on pourra s’inspirer des nombreux\n",
        "exemples de la [documentation\n",
        "officielle](https://pandas.pydata.org/pandas-docs/stable/user_guide/visualization.html).\n",
        "\n",
        "Générons des données de synthèse imitant les données de caisse, qu’on\n",
        "utilisera comme base des graphiques."
      ],
      "id": "b4771f1d-b3e8-45b1-ad6e-81a5488b1cee"
    },
    {
      "cell_type": "code",
      "execution_count": null,
      "metadata": {},
      "outputs": [],
      "source": [
        "import pandas as pd\n",
        "import numpy as np"
      ],
      "id": "c28c6935"
    },
    {
      "cell_type": "code",
      "execution_count": null,
      "metadata": {},
      "outputs": [],
      "source": [
        "# Configuration pour la reproductibilité\n",
        "np.random.seed(0)\n",
        "\n",
        "# Générer une plage de dates sur un mois\n",
        "dates = pd.date_range(start='2023-01-01', end='2023-01-31', freq='D')\n",
        "\n",
        "# Simuler des données de caisse pour le mois\n",
        "N_POINTS = 1000\n",
        "mean_price = 10\n",
        "std_dev_price = 4\n",
        "prices = np.random.normal(mean_price, std_dev_price, N_POINTS)\n",
        "quantities = 10 - 0.5 * prices + np.random.normal(0, 1.5, N_POINTS)\n",
        "data = {\n",
        "    'Date': np.random.choice(dates, N_POINTS),\n",
        "    'Transaction_ID': np.arange(N_POINTS) + 1,\n",
        "    'COICOP': np.random.choice(['01.1.1', '02.1.1', '03.1.1', '04.1.1'], N_POINTS),\n",
        "    'Enseigne': np.random.choice(['Carrefour', 'Casino', 'Lidl', 'Monoprix'], N_POINTS),\n",
        "    'Prix': prices,\n",
        "    'Quantité': quantities\n",
        "}\n",
        "\n",
        "# Créer le DataFrame\n",
        "df_caisse = pd.DataFrame(data)\n",
        "\n",
        "# Trier par date pour la cohérence\n",
        "df_caisse = df_caisse.sort_values(by='Date').reset_index(drop=True)\n",
        "\n",
        "# Afficher les premières lignes des données de caisse\n",
        "print(df_caisse.head())"
      ],
      "id": "47c45de8"
    },
    {
      "cell_type": "markdown",
      "metadata": {},
      "source": [
        "#### Nuage de points (*scatter plot*)\n",
        "\n",
        "Les nuages de point permettent de visualiser la relation entre deux\n",
        "variables numériques continues. Illustrons cela à travers la relation\n",
        "entre le prix et les quantités des transactions."
      ],
      "id": "79d3ec09-32d0-40d3-94a7-a0c01f7b6110"
    },
    {
      "cell_type": "code",
      "execution_count": null,
      "metadata": {},
      "outputs": [],
      "source": [
        "df_caisse.plot(x='Quantité', y='Prix', kind='scatter')"
      ],
      "id": "b78d36d3"
    },
    {
      "cell_type": "markdown",
      "metadata": {},
      "source": [
        "#### Diagrammes à barres (*bar chart*)\n",
        "\n",
        "Les diagrammes en bâtons sont idéaux pour la comparaison visuelle de\n",
        "différentes catégories. Ici, on utilise la méthode `.value_counts()`\n",
        "pour récupérer les fréquences de chaque modalité dans une `Series`, à\n",
        "laquelle on applique la méthode `.plot()` pour visualiser un diagramme à\n",
        "barres."
      ],
      "id": "6c58f469-3e89-4aa2-a3af-194db449b151"
    },
    {
      "cell_type": "code",
      "execution_count": null,
      "metadata": {},
      "outputs": [],
      "source": [
        "df_caisse['Enseigne'].value_counts().plot(kind='bar')"
      ],
      "id": "9383d3a2"
    },
    {
      "cell_type": "markdown",
      "metadata": {},
      "source": [
        "#### Boîte à moustaches\n",
        "\n",
        "La boîte à moustache permet de visualiser rapidement les statistiques de\n",
        "dispersion d’une série statistique (médiane, quartiles, min, max) ainsi\n",
        "que la présence éventuelle de valeurs aberrantes"
      ],
      "id": "86abd953-b571-45e1-b852-32d0bae64a66"
    },
    {
      "cell_type": "code",
      "execution_count": null,
      "metadata": {},
      "outputs": [],
      "source": [
        "df_caisse['Prix'].plot(kind=\"box\")"
      ],
      "id": "e82e8fc1"
    },
    {
      "cell_type": "markdown",
      "metadata": {},
      "source": [
        "#### Histogrammes (*histogram*)\n",
        "\n",
        "Les histogrammes aident à comprendre la distribution d’une variable\n",
        "numérique. Calculons l’histogramme des prix des transactions sur la\n",
        "période étudiée."
      ],
      "id": "83b95753-b35d-4de1-8f45-6becaa5631b7"
    },
    {
      "cell_type": "code",
      "execution_count": null,
      "metadata": {},
      "outputs": [],
      "source": [
        "df_caisse['Prix'].plot(kind='hist', bins=20)"
      ],
      "id": "bfc027e7"
    },
    {
      "cell_type": "markdown",
      "metadata": {},
      "source": [
        "#### Graphique linéaire (*lineplot*)"
      ],
      "id": "5f0b3233-31c3-4a04-80fc-af6755269592"
    },
    {
      "cell_type": "code",
      "execution_count": null,
      "metadata": {},
      "outputs": [],
      "source": [
        "df_caisse.groupby('Date')['Quantité'].sum().plot(kind='line')"
      ],
      "id": "a4bd8803"
    },
    {
      "cell_type": "markdown",
      "metadata": {},
      "source": [
        "### Personnalisation\n",
        "\n",
        "Comme évoqué précédemment, la fonctionnalité de graphiques intégrée à\n",
        "Pandas repose en fait sur la librairie Matplotlib, dans la mesure où la\n",
        "méthode `.plot()` de Pandas n’est qu’une surcouche (*wrapper*) autour de\n",
        "la fonction\n",
        "[plot()](https://matplotlib.org/stable/api/_as_gen/matplotlib.pyplot.plot.html)\n",
        "de Matplotlib. En théorie, toutes les possibilités de personnalisation\n",
        "permises par Matplotlib le sont avec les graphiques créés par ce biais\n",
        "en Pandas. Pour y accéder, il faut importer Matplotlib en plus de\n",
        "Pandas."
      ],
      "id": "00fb859f-5fb2-4e8d-bbda-378a2e60e873"
    },
    {
      "cell_type": "code",
      "execution_count": null,
      "metadata": {},
      "outputs": [],
      "source": [
        "import matplotlib.pyplot as plt"
      ],
      "id": "458a3e48"
    },
    {
      "cell_type": "markdown",
      "metadata": {},
      "source": [
        "Illustrons quelques possibilités de personnalisation en reprenant un des\n",
        "graphiques précédents."
      ],
      "id": "e355a49a-50df-42db-9750-9c0d7ef2dbd9"
    },
    {
      "cell_type": "code",
      "execution_count": null,
      "metadata": {},
      "outputs": [],
      "source": [
        "df_caisse.plot(x='Quantité', y='Prix', kind='scatter', color=\"green\", alpha=0.6)\n",
        "plt.title('Relation entre le prix et la quantité des produits')\n",
        "plt.xlabel('Quantité vendue')\n",
        "plt.xlabel('Prix (en €)')"
      ],
      "id": "68b9d7a8"
    },
    {
      "cell_type": "markdown",
      "metadata": {},
      "source": [
        "### Aller plus loin\n",
        "\n",
        "Là encore, de nombreuses autres possibilités sont décrites dans la\n",
        "[documentation](https://pandas.pydata.org/docs/user_guide/visualization.html#basic-plotting-plot).\n",
        "Néanmoins, les fonctionnalités graphiques intégrées à Pandas restent\n",
        "avant tout faites pour de la visualisation rapide des données analysées.\n",
        "Pour des visualisations plus attrayantes sans avoir besoin de produire\n",
        "beaucoup plus de code, on préférera la librairie `Seaborn`.\n",
        "\n",
        "## Seaborn\n",
        "\n",
        "Seaborn est une bibliothèque de visualisation de données qui offre une\n",
        "interface de haut niveau pour créer des graphiques statistiques\n",
        "esthétiques. Elle est également construite sur Matplotlib et s’intègre\n",
        "bien avec les structures de données Pandas, permettant des\n",
        "visualisations plus élaborées que celles proposées nativement par Pandas\n",
        "sans pour autant exiger une quantité de code significative. Cela en fait\n",
        "un excellent choix pour aller au-delà des capacités graphiques de Pandas\n",
        "tout en évitant la complexité de Matplotlib.\n",
        "\n",
        "Importons le package Seaborn. L’usage courant est de lui donner l’alias\n",
        "`sns` pour éviter les redondances de code."
      ],
      "id": "f98694fa-ae77-422a-a5f9-ac1a49c69d4f"
    },
    {
      "cell_type": "code",
      "execution_count": null,
      "metadata": {},
      "outputs": [],
      "source": [
        "import seaborn as sns"
      ],
      "id": "75a71d5f"
    },
    {
      "cell_type": "markdown",
      "metadata": {},
      "source": [
        "### Exemples de graphiques\n",
        "\n",
        "Pour les mêmes graphiques que ceux réalisés précédemment avec Pandas,\n",
        "Seaborn offre des représentations beaucoup plus agréables à l’oeil. On\n",
        "en présente quelques unes dans la suite de ce tutoriel.\n",
        "\n",
        "#### Nuage de points\n",
        "\n",
        "On peut facilement ajouter de l’information à un nuage de point, par\n",
        "exemple via la couleur des points ou leur style (taille, marqueur..).\n",
        "Analysons le nuage de points des prix en fonction de la quantité selon\n",
        "l’enseigne dans laquelle a eu lieu la transaction."
      ],
      "id": "84993318-b205-4f02-8e86-ee9291028617"
    },
    {
      "cell_type": "code",
      "execution_count": null,
      "metadata": {},
      "outputs": [],
      "source": [
        "sns.scatterplot(data=df_caisse, x='Prix', y='Quantité', hue='Enseigne', alpha=0.6)"
      ],
      "id": "e84a9ee8"
    },
    {
      "cell_type": "markdown",
      "metadata": {},
      "source": [
        "#### Histogramme\n",
        "\n",
        "Avec Seaborn, on peut facilement ajouter une courbe d’estimation de\n",
        "densité à un histogramme. Cela permet de vérifier visuellement la\n",
        "normalité des données."
      ],
      "id": "c06b2275-1bbb-4336-9392-84ed66a49234"
    },
    {
      "cell_type": "code",
      "execution_count": null,
      "metadata": {},
      "outputs": [],
      "source": [
        "sns.histplot(df_caisse['Prix'], kde=True, color='skyblue')"
      ],
      "id": "1125936f"
    },
    {
      "cell_type": "markdown",
      "metadata": {},
      "source": [
        "#### Pair plot\n",
        "\n",
        "Le *pair plot* permet d’analyser les relations entre deux variables\n",
        "continues en couplant un nuage de points et des courbes de densité."
      ],
      "id": "deebb62e-5421-431b-867e-d6ed22e09093"
    },
    {
      "cell_type": "code",
      "execution_count": null,
      "metadata": {},
      "outputs": [],
      "source": [
        "subset = df_caisse[['Prix', 'Quantité', 'Enseigne']]\n",
        "sns.pairplot(subset, hue='Enseigne')"
      ],
      "id": "6e28a26c"
    },
    {
      "cell_type": "markdown",
      "metadata": {},
      "source": [
        "#### Violin plot\n",
        "\n",
        "Similaire à la boîte à moustache, le *violin plot* ajoute une courbe\n",
        "d’estimation de densité afin de mieux visualiser les masses de la\n",
        "distribution."
      ],
      "id": "cde6ab43-a626-40a1-995d-93d974ff5150"
    },
    {
      "cell_type": "code",
      "execution_count": null,
      "metadata": {},
      "outputs": [],
      "source": [
        "sns.violinplot(data=df_caisse, x='Enseigne', y='Prix', hue=\"Enseigne\")"
      ],
      "id": "a7134e1c"
    },
    {
      "cell_type": "markdown",
      "metadata": {},
      "source": [
        "### Personnalisation\n",
        "\n",
        "Comme Pandas, les fonctionnalités graphiques de Seaborn sont basées sur\n",
        "celles de Matplotlib. Là encore, on peut donc personnaliser les\n",
        "graphiques en faisant appel aux fonctions `plt.xxx` de Matplotlib."
      ],
      "id": "f5669e1f-abea-468b-8303-1591888e54c8"
    },
    {
      "cell_type": "code",
      "execution_count": null,
      "metadata": {},
      "outputs": [],
      "source": [
        "sns.scatterplot(data=df_caisse, x='Prix', y='Quantité', hue='Enseigne', alpha=0.6)\n",
        "plt.title('Relation entre prix et quantité selon les enseignes')"
      ],
      "id": "7d0ae214"
    },
    {
      "cell_type": "markdown",
      "metadata": {},
      "source": [
        "### Aller plus loin\n",
        "\n",
        "Les possibilités de Seaborn sont vraiment larges, et la\n",
        "[gallerie](https://seaborn.pydata.org/examples/index.html) d’exemples de\n",
        "Seaborn illustre de nombreuses possibilités visuellement agréables et\n",
        "faciles à reproduire. Pour des besoins plus avancés, on pourra\n",
        "s’orienter selon les cas vers d’autres librairies graphiques :\n",
        "\n",
        "-   pour des possibilités de personnalisation maximales (au prix d’un\n",
        "    certain coût d’apprentissage) :\n",
        "    [Matplotlib](https://matplotlib.org/stable/tutorials/pyplot.html),\n",
        "    la librairie fondamentale de visualisation en Python ;\n",
        "\n",
        "-   pour les utilisateurs de R :\n",
        "    [plotnine](https://plotnine.readthedocs.io/en/v0.12.4/), une\n",
        "    librairie qui implémente la “grammaire graphique” propre à\n",
        "    [ggplot2](https://ggplot2.tidyverse.org/) ;\n",
        "\n",
        "-   pour de la visualisation interactive : [plotly](https://plotly.com/)\n",
        "    et [bokeh](http://bokeh.org/) sont les plus utilisées."
      ],
      "id": "868dfa8e-0f83-4d3c-aae5-091410b4e0bc"
    }
  ],
  "nbformat": 4,
  "nbformat_minor": 5,
  "metadata": {
    "kernelspec": {
      "name": "python3",
      "display_name": "Python 3 (ipykernel)",
      "language": "python",
      "path": "/Users/gblin/opt/anaconda3/share/jupyter/kernels/python3"
    }
  }
}
