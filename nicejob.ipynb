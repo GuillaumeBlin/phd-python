{
 "cells": [
  {
   "cell_type": "markdown",
   "metadata": {},
   "source": [
    "* Try to execute the code below by pressing the \"Play\" button which appears when you are above the code to be ran\n",
    "* You should be asked to \"Select a Kernel\"\n",
    "* Click on \"Install/Enable suggested extensions\"\n",
    "* Once installed, you will be asked to select the Python Environment - click on \"Python Environments\" and select the one proposed \"Python 3.X.Y\" (where X, Y may vary)\n",
    "* CodeSpace will install everything that is needed and you should be all set.\n",
    "* Running the code below should display \"Nice Job\"\n",
    "* Once this has been done once, it should be it for all the training sessions\n",
    "* If so, you can proceed with the [training plan](README.md)"
   ]
  },
  {
   "cell_type": "code",
   "execution_count": null,
   "metadata": {
    "vscode": {
     "languageId": "plaintext"
    }
   },
   "outputs": [],
   "source": [
    "print(\"Nice job\")"
   ]
  }
 ],
 "metadata": {
  "language_info": {
   "name": "python"
  }
 },
 "nbformat": 4,
 "nbformat_minor": 2
}
