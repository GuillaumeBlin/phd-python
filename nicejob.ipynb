{
 "cells": [
  {
   "cell_type": "markdown",
   "metadata": {},
   "source": [
    "* Try to execute the code below by pressing the \"Play\" button\n",
    "* You should be asked to \"Select a Kernel\"\n",
    "* Click on \"Install/Enable suggested extensions\"\n",
    "* CodeSpace will install everything that is needed and you should be all set.\n",
    "* Running the code below should display \"Nice Job\"\n",
    "* If so, you can proceed with the [training plan](README.md)"
   ]
  },
  {
   "cell_type": "code",
   "execution_count": null,
   "metadata": {
    "vscode": {
     "languageId": "plaintext"
    }
   },
   "outputs": [],
   "source": [
    "print(\"Nice job\")"
   ]
  }
 ],
 "metadata": {
  "language_info": {
   "name": "python"
  }
 },
 "nbformat": 4,
 "nbformat_minor": 2
}
